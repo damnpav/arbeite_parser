{
 "cells": [
  {
   "cell_type": "code",
   "execution_count": 1,
   "metadata": {
    "collapsed": true,
    "pycharm": {
     "name": "#%%\n"
    }
   },
   "outputs": [],
   "source": [
    "import pandas as pd\n",
    "import sqlite3"
   ]
  },
  {
   "cell_type": "code",
   "execution_count": 24,
   "outputs": [],
   "source": [
    "import ast"
   ],
   "metadata": {
    "collapsed": false,
    "pycharm": {
     "name": "#%%\n"
    }
   }
  },
  {
   "cell_type": "code",
   "execution_count": 2,
   "outputs": [],
   "source": [
    "db_path = '../data_dumps/de_jobs_mydatabase.db'"
   ],
   "metadata": {
    "collapsed": false,
    "pycharm": {
     "name": "#%%\n"
    }
   }
  },
  {
   "cell_type": "code",
   "execution_count": 3,
   "outputs": [],
   "source": [
    "conn = sqlite3.connect(db_path)\n",
    "content_df = pd.read_sql(\"\"\"\n",
    "                    SELECT * FROM job_content\n",
    "                    \"\"\", conn)"
   ],
   "metadata": {
    "collapsed": false,
    "pycharm": {
     "name": "#%%\n"
    }
   }
  },
  {
   "cell_type": "code",
   "execution_count": 16,
   "outputs": [],
   "source": [
    "content_df = content_df.loc[~((content_df['titles'].str.contains('attention', na=False, case=False)) |\n",
    "               (content_df['descr_list'].str.contains('This website is using', na=False, case=False)))].copy()"
   ],
   "metadata": {
    "collapsed": false,
    "pycharm": {
     "name": "#%%\n"
    }
   }
  },
  {
   "cell_type": "code",
   "execution_count": 23,
   "outputs": [
    {
     "data": {
      "text/plain": "\"{'@type': 'Organization', 'name': 'Lionstep'}\""
     },
     "execution_count": 23,
     "metadata": {},
     "output_type": "execute_result"
    }
   ],
   "source": [
    "content_df['hiring_orgnization'][456]"
   ],
   "metadata": {
    "collapsed": false,
    "pycharm": {
     "name": "#%%\n"
    }
   }
  },
  {
   "cell_type": "code",
   "execution_count": 20,
   "outputs": [
    {
     "data": {
      "text/plain": "                                                job_id  \\\n0                                     0053e5f78b135d5a   \n1                                     00ef1c15bf5b5939   \n2                                     0176a1dc54841716   \n3                                     028876104a6b2d26   \n4                                     034b31000a95988c   \n..                                                 ...   \n965  https://de.indeed.com/viewjob?jk=fdd8d81f544bf511   \n966  https://de.indeed.com/viewjob?jk=fe322edbe2225eb6   \n967  https://de.indeed.com/viewjob?jk=fef83104f3acd912   \n968  https://de.indeed.com/viewjob?jk=ff0d468c9afc7eb4   \n969  https://de.indeed.com/viewjob?jk=ff6ccdbc95261d47   \n\n                                             job_title  \\\n0                                Web Developer (m/w/d)   \n1              (Junior) Data Engineer - Python (w/m/d)   \n2                                 BI Developer (w/m/d)   \n3        (Junior) Softwareentwickler*in Python (w/m/d)   \n4     Software Test Engineer (m/w/d) Python oder C/C++   \n..                                                 ...   \n965  Masterarbeit / Praxissemester im Bereich Entwi...   \n966  Mathematiker/Physiker Testing und Entwicklung ...   \n967                  Junior Software Developer (d/f/m)   \n968  Lead Analyst Monitoring &amp; Screening (d/m/w...   \n969                             Data Scientist (d/f/m)   \n\n                                                titles  \\\n0    ['Web Developer (m/w/d) - Home Office - Indeed...   \n1    ['(Junior) Data Engineer - Python (w/m/d) - 10...   \n2    ['BI Developer (w/m/d) - Home Office - Indeed....   \n3    ['(Junior) Softwareentwickler*in Python (w/m/d...   \n4    ['Software Test Engineer (m/w/d) Python oder C...   \n..                                                 ...   \n965  ['Masterarbeit / Praxissemester im Bereich Ent...   \n966  ['Mathematiker/Physiker Testing und Entwicklun...   \n967  ['Junior Software Developer (d/f/m) - 85077 Ma...   \n968  ['Lead Analyst Monitoring & Screening (d/m/w) ...   \n969  ['Data Scientist (d/f/m) - Berlin - Indeed.com...   \n\n                                            descr_list  \\\n0    ['Mit einem Team von 25 Mitarbeiterinnen und M...   \n1    ['', 'Location: Hamburg, Berlin, Köln, Düsseld...   \n2    ['Wir, in der BI Domain Logistics Management, ...   \n3    [' Bochum ', ' Unbefristet Vollzeit ', ' IT', ...   \n4    ['', ' In diesem Video geben wir persönliche E...   \n..                                                 ...   \n965  ['Wir verwenden Cookies, um Inhalte und Anzeig...   \n966  ['Du suchst das Besondere, das Spezielle, das ...   \n967  ['Job Description: ', 'In order to take our En...   \n968  ['', '***English version below*** ', '', 'Die ...   \n969  ['Why Scout24? Scout24 is home of ImmoScout24,...   \n\n                                    hiring_orgnization                city  \n0    {'@type': 'Organization', 'name': 'coreweb – G...  84347 Pfarrkirchen  \n1    {'@type': 'Organization', 'name': 'smartclip E...              255462  \n2    {'@type': 'Organization', 'name': 'Otto (GmbH ...                      \n3    {'@type': 'Organization', 'name': 'TÜV Rheinla...           Not found  \n4    {'@type': 'Organization', 'name': 'ROHDE & SCH...           Not found  \n..                                                 ...                 ...  \n965   {'@type': 'Organization', 'name': 'ZEISS Group'}           Not found  \n966     {'@type': 'Organization', 'name': 'Accenture'}           Not found  \n967        {'@type': 'Organization', 'name': 'Airbus'}           Not found  \n968  {'@type': 'Organization', 'name': 'Deutsche Ba...           Not found  \n969   {'@type': 'Organization', 'name': 'ImmoScout24'}           Not found  \n\n[960 rows x 6 columns]",
      "text/html": "<div>\n<style scoped>\n    .dataframe tbody tr th:only-of-type {\n        vertical-align: middle;\n    }\n\n    .dataframe tbody tr th {\n        vertical-align: top;\n    }\n\n    .dataframe thead th {\n        text-align: right;\n    }\n</style>\n<table border=\"1\" class=\"dataframe\">\n  <thead>\n    <tr style=\"text-align: right;\">\n      <th></th>\n      <th>job_id</th>\n      <th>job_title</th>\n      <th>titles</th>\n      <th>descr_list</th>\n      <th>hiring_orgnization</th>\n      <th>city</th>\n    </tr>\n  </thead>\n  <tbody>\n    <tr>\n      <th>0</th>\n      <td>0053e5f78b135d5a</td>\n      <td>Web Developer (m/w/d)</td>\n      <td>['Web Developer (m/w/d) - Home Office - Indeed...</td>\n      <td>['Mit einem Team von 25 Mitarbeiterinnen und M...</td>\n      <td>{'@type': 'Organization', 'name': 'coreweb – G...</td>\n      <td>84347 Pfarrkirchen</td>\n    </tr>\n    <tr>\n      <th>1</th>\n      <td>00ef1c15bf5b5939</td>\n      <td>(Junior) Data Engineer - Python (w/m/d)</td>\n      <td>['(Junior) Data Engineer - Python (w/m/d) - 10...</td>\n      <td>['', 'Location: Hamburg, Berlin, Köln, Düsseld...</td>\n      <td>{'@type': 'Organization', 'name': 'smartclip E...</td>\n      <td>255462</td>\n    </tr>\n    <tr>\n      <th>2</th>\n      <td>0176a1dc54841716</td>\n      <td>BI Developer (w/m/d)</td>\n      <td>['BI Developer (w/m/d) - Home Office - Indeed....</td>\n      <td>['Wir, in der BI Domain Logistics Management, ...</td>\n      <td>{'@type': 'Organization', 'name': 'Otto (GmbH ...</td>\n      <td></td>\n    </tr>\n    <tr>\n      <th>3</th>\n      <td>028876104a6b2d26</td>\n      <td>(Junior) Softwareentwickler*in Python (w/m/d)</td>\n      <td>['(Junior) Softwareentwickler*in Python (w/m/d...</td>\n      <td>[' Bochum ', ' Unbefristet Vollzeit ', ' IT', ...</td>\n      <td>{'@type': 'Organization', 'name': 'TÜV Rheinla...</td>\n      <td>Not found</td>\n    </tr>\n    <tr>\n      <th>4</th>\n      <td>034b31000a95988c</td>\n      <td>Software Test Engineer (m/w/d) Python oder C/C++</td>\n      <td>['Software Test Engineer (m/w/d) Python oder C...</td>\n      <td>['', ' In diesem Video geben wir persönliche E...</td>\n      <td>{'@type': 'Organization', 'name': 'ROHDE &amp; SCH...</td>\n      <td>Not found</td>\n    </tr>\n    <tr>\n      <th>...</th>\n      <td>...</td>\n      <td>...</td>\n      <td>...</td>\n      <td>...</td>\n      <td>...</td>\n      <td>...</td>\n    </tr>\n    <tr>\n      <th>965</th>\n      <td>https://de.indeed.com/viewjob?jk=fdd8d81f544bf511</td>\n      <td>Masterarbeit / Praxissemester im Bereich Entwi...</td>\n      <td>['Masterarbeit / Praxissemester im Bereich Ent...</td>\n      <td>['Wir verwenden Cookies, um Inhalte und Anzeig...</td>\n      <td>{'@type': 'Organization', 'name': 'ZEISS Group'}</td>\n      <td>Not found</td>\n    </tr>\n    <tr>\n      <th>966</th>\n      <td>https://de.indeed.com/viewjob?jk=fe322edbe2225eb6</td>\n      <td>Mathematiker/Physiker Testing und Entwicklung ...</td>\n      <td>['Mathematiker/Physiker Testing und Entwicklun...</td>\n      <td>['Du suchst das Besondere, das Spezielle, das ...</td>\n      <td>{'@type': 'Organization', 'name': 'Accenture'}</td>\n      <td>Not found</td>\n    </tr>\n    <tr>\n      <th>967</th>\n      <td>https://de.indeed.com/viewjob?jk=fef83104f3acd912</td>\n      <td>Junior Software Developer (d/f/m)</td>\n      <td>['Junior Software Developer (d/f/m) - 85077 Ma...</td>\n      <td>['Job Description: ', 'In order to take our En...</td>\n      <td>{'@type': 'Organization', 'name': 'Airbus'}</td>\n      <td>Not found</td>\n    </tr>\n    <tr>\n      <th>968</th>\n      <td>https://de.indeed.com/viewjob?jk=ff0d468c9afc7eb4</td>\n      <td>Lead Analyst Monitoring &amp;amp; Screening (d/m/w...</td>\n      <td>['Lead Analyst Monitoring &amp; Screening (d/m/w) ...</td>\n      <td>['', '***English version below*** ', '', 'Die ...</td>\n      <td>{'@type': 'Organization', 'name': 'Deutsche Ba...</td>\n      <td>Not found</td>\n    </tr>\n    <tr>\n      <th>969</th>\n      <td>https://de.indeed.com/viewjob?jk=ff6ccdbc95261d47</td>\n      <td>Data Scientist (d/f/m)</td>\n      <td>['Data Scientist (d/f/m) - Berlin - Indeed.com...</td>\n      <td>['Why Scout24? Scout24 is home of ImmoScout24,...</td>\n      <td>{'@type': 'Organization', 'name': 'ImmoScout24'}</td>\n      <td>Not found</td>\n    </tr>\n  </tbody>\n</table>\n<p>960 rows × 6 columns</p>\n</div>"
     },
     "execution_count": 20,
     "metadata": {},
     "output_type": "execute_result"
    }
   ],
   "source": [
    "content"
   ],
   "metadata": {
    "collapsed": false,
    "pycharm": {
     "name": "#%%\n"
    }
   }
  },
  {
   "cell_type": "code",
   "execution_count": 25,
   "outputs": [
    {
     "data": {
      "text/plain": "{'@type': 'Organization', 'name': 'Lionstep'}"
     },
     "execution_count": 25,
     "metadata": {},
     "output_type": "execute_result"
    }
   ],
   "source": [
    "ast.literal_eval(content_df['hiring_orgnization'][456])"
   ],
   "metadata": {
    "collapsed": false,
    "pycharm": {
     "name": "#%%\n"
    }
   }
  },
  {
   "cell_type": "code",
   "execution_count": null,
   "outputs": [],
   "source": [],
   "metadata": {
    "collapsed": false,
    "pycharm": {
     "name": "#%%\n",
     "is_executing": true
    }
   }
  },
  {
   "cell_type": "code",
   "execution_count": 26,
   "outputs": [],
   "source": [
    "def retrieve_company(row):\n",
    "    if 'name' in str(row):\n",
    "        try:\n",
    "            job_dict = ast.literal_eval(row)\n",
    "            return job_dict['name']\n",
    "        except:\n",
    "            pass\n",
    "    return 'Not found'"
   ],
   "metadata": {
    "collapsed": false,
    "pycharm": {
     "name": "#%%\n"
    }
   }
  },
  {
   "cell_type": "code",
   "execution_count": 27,
   "outputs": [],
   "source": [
    "content_df['Company'] = content_df['hiring_orgnization'].apply(retrieve_company)"
   ],
   "metadata": {
    "collapsed": false,
    "pycharm": {
     "name": "#%%\n"
    }
   }
  },
  {
   "cell_type": "code",
   "execution_count": 29,
   "outputs": [
    {
     "data": {
      "text/plain": "\"['Data Scientist (m/w/d) - Berlin - Indeed.com']\""
     },
     "execution_count": 29,
     "metadata": {},
     "output_type": "execute_result"
    }
   ],
   "source": [
    "content_df['titles'][56]"
   ],
   "metadata": {
    "collapsed": false,
    "pycharm": {
     "name": "#%%\n"
    }
   }
  },
  {
   "cell_type": "code",
   "execution_count": 32,
   "outputs": [],
   "source": [
    "content_df['titles'] = content_df['titles'].str.replace(\"['\", '').replace(\"]\", '')"
   ],
   "metadata": {
    "collapsed": false,
    "pycharm": {
     "name": "#%%\n"
    }
   }
  },
  {
   "cell_type": "code",
   "execution_count": 34,
   "outputs": [],
   "source": [
    "content_df['descr_list'] = content_df['descr_list'].str.replace(\"['\", '').replace(\"]\", '')"
   ],
   "metadata": {
    "collapsed": false,
    "pycharm": {
     "name": "#%%\n"
    }
   }
  },
  {
   "cell_type": "code",
   "execution_count": 36,
   "outputs": [],
   "source": [
    "content_df['descr_list'] = content_df['descr_list'].str.replace(\"', '\", '')"
   ],
   "metadata": {
    "collapsed": false,
    "pycharm": {
     "name": "#%%\n"
    }
   }
  },
  {
   "cell_type": "code",
   "execution_count": 38,
   "outputs": [],
   "source": [
    "content_df_cleaned = content_df[['job_id', 'job_title', 'titles', 'descr_list', 'city', 'Company']]"
   ],
   "metadata": {
    "collapsed": false,
    "pycharm": {
     "name": "#%%\n"
    }
   }
  },
  {
   "cell_type": "code",
   "execution_count": 41,
   "outputs": [],
   "source": [
    "content_df_cleaned.to_excel('de_python_jobs_cleaned.xlsx', index=False)"
   ],
   "metadata": {
    "collapsed": false,
    "pycharm": {
     "name": "#%%\n"
    }
   }
  },
  {
   "cell_type": "code",
   "execution_count": null,
   "outputs": [],
   "source": [],
   "metadata": {
    "collapsed": false,
    "pycharm": {
     "name": "#%%\n",
     "is_executing": true
    }
   }
  },
  {
   "cell_type": "code",
   "execution_count": null,
   "outputs": [],
   "source": [],
   "metadata": {
    "collapsed": false,
    "pycharm": {
     "name": "#%%\n",
     "is_executing": true
    }
   }
  },
  {
   "cell_type": "code",
   "execution_count": null,
   "outputs": [],
   "source": [],
   "metadata": {
    "collapsed": false,
    "pycharm": {
     "name": "#%%\n",
     "is_executing": true
    }
   }
  },
  {
   "cell_type": "code",
   "execution_count": 41,
   "outputs": [],
   "source": [],
   "metadata": {
    "collapsed": false,
    "pycharm": {
     "name": "#%%\n"
    }
   }
  }
 ],
 "metadata": {
  "kernelspec": {
   "name": "arbeite_parser",
   "language": "python",
   "display_name": "arbeite_parser"
  },
  "language_info": {
   "codemirror_mode": {
    "name": "ipython",
    "version": 2
   },
   "file_extension": ".py",
   "mimetype": "text/x-python",
   "name": "python",
   "nbconvert_exporter": "python",
   "pygments_lexer": "ipython2",
   "version": "2.7.6"
  }
 },
 "nbformat": 4,
 "nbformat_minor": 0
}