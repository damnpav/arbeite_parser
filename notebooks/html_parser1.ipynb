{
 "cells": [
  {
   "cell_type": "code",
   "execution_count": 8,
   "metadata": {
    "collapsed": true,
    "pycharm": {
     "name": "#%%\n"
    }
   },
   "outputs": [],
   "source": [
    "import requests\n",
    "import pandas as pd"
   ]
  },
  {
   "cell_type": "code",
   "execution_count": 45,
   "outputs": [],
   "source": [
    "import urllib.parse"
   ],
   "metadata": {
    "collapsed": false,
    "pycharm": {
     "name": "#%%\n"
    }
   }
  },
  {
   "cell_type": "code",
   "execution_count": 39,
   "outputs": [],
   "source": [
    "cookies = {\n",
    "    \"indeed_rcc\": \"LOCALE:cmppmeta:LV:CTK:CO:UD:RQ\"}"
   ],
   "metadata": {
    "collapsed": false,
    "pycharm": {
     "name": "#%%\n"
    }
   }
  },
  {
   "cell_type": "code",
   "execution_count": null,
   "outputs": [],
   "source": [],
   "metadata": {
    "collapsed": false,
    "pycharm": {
     "name": "#%%\n"
    }
   }
  },
  {
   "cell_type": "code",
   "execution_count": null,
   "outputs": [],
   "source": [],
   "metadata": {
    "collapsed": false,
    "pycharm": {
     "name": "#%%\n"
    }
   }
  },
  {
   "cell_type": "code",
   "execution_count": 58,
   "outputs": [],
   "source": [
    "cookie_string = \"\"\"JSESSIONID=A9AF37D5114E528574607C588E279ECC; indeed_rcc=\"LOCALE:cmppmeta:LV:CTK:CO:UD:RQ\"; bvcmpgn=mobvjcmp; cmppmeta=\"eNoBSAC3/xmdwDBVu/sE4BLpsjjZGXFSb0ugppnPFst028wUnNSNz1wNE8+TFEL69z4ejbdkJVefgKD3OHLGLx2YuIWtOsWhGqqQoJ1lcCJgJBM=\"; CMP_VISITED=1; cmpsmeta=\"eNoBOADH/zyGFNTVKW6zsJVQDXOcSc8W8MZF5MoBf1pibOKzD3/Iu+AephwoIgxRUs7puIe6npqJB7yPCLdgBygbOw==\"; __cf_bm=prJ9CeX7eGVuKM90VG5X5xKLYidXzAQ5VkbHm1HIMz0-1687206174-0-AVCvfwGExNm1R6W/VFL0s3pi49GbzrcXcffgCDExcp9uHQ8l/K+ahGQYZCLPpe1S2vEqqJUCN2pBmPk46f4rmqc=; SURF=eb2EXvrn61b2J1qfa8qACncRnTeRkIZg; SHARED_INDEED_CSRF_TOKEN=2uvwsvwyu1riAwk8oPcJSL8x86onHQmy; _cfuvid=_Tctfa8w4t_6rhiXKNMtPTaO0D1uzzIbfCetLLyAS6U-1687192171402-0-604800000; INDEED_CSRF_TOKEN=Se3twCrcorYheWfhrlhE0iQE4q1cYpKB; cf_clearance=atMwjJMlZF6RM4JDbrndmOUpdQkXLqWOOkE.iBaQMik-1686945943-0-250; LV=\"LA=1686921206:LV=1686764821:CV=1686919898:TS=1686750409\"; UD=\"LA=1686921206:LV=1686764821:CV=1686919898:TS=1686750409\"; hpnode=1; CTK=1h2t2hce2j9ih800; RQ=\"q=python&l=&ts=1686921206677&pts=1686765673100:q=python+russia&l=&ts=1686750686574:q=python+russian&l=&ts=1686750652294:q=python+finance&l=&ts=1686750548919\"; g_state={\"i_p\":1687524668628,\"i_l\":3}; ROJC=415cab0c9afd537a:53fbdce58056d0b0:c304577d93c11c9f:e23e7240564a1393; LC=\"co=US\"; CO=DE; LOCALE=de; CO=DE; LOCALE=de; PPID=\"\"; loctip=1; OptanonAlertBoxClosed=2023-06-14T13:47:03.827Z\"\"\""
   ],
   "metadata": {
    "collapsed": false,
    "pycharm": {
     "name": "#%%\n"
    }
   }
  },
  {
   "cell_type": "code",
   "execution_count": 54,
   "outputs": [
    {
     "data": {
      "text/plain": "b'B0300+'"
     },
     "execution_count": 54,
     "metadata": {},
     "output_type": "execute_result"
    }
   ],
   "source": [
    "cookie_string[74:80]"
   ],
   "metadata": {
    "collapsed": false,
    "pycharm": {
     "name": "#%%\n"
    }
   }
  },
  {
   "cell_type": "code",
   "execution_count": 59,
   "outputs": [],
   "source": [
    "# Decode the string\n",
    "decoded_string = urllib.parse.unquote(cookie_string)\n",
    "\n",
    "# Split into key-value pairs\n",
    "key_value_pairs = decoded_string.split('&')\n",
    "\n",
    "# Convert to dictionary\n",
    "optanon_consent_dict = {pair.split('=')[0]: pair.split('=')[1] for pair in key_value_pairs}"
   ],
   "metadata": {
    "collapsed": false,
    "pycharm": {
     "name": "#%%\n"
    }
   }
  },
  {
   "cell_type": "code",
   "execution_count": null,
   "outputs": [],
   "source": [],
   "metadata": {
    "collapsed": false,
    "pycharm": {
     "name": "#%%\n"
    }
   }
  },
  {
   "cell_type": "code",
   "execution_count": 60,
   "outputs": [],
   "source": [
    "html_page = requests.post('https://de.indeed.com/viewjob?jk=0a34c6921742a18d', headers=headers, cookies=optanon_consent_dict)"
   ],
   "metadata": {
    "collapsed": false,
    "pycharm": {
     "name": "#%%\n"
    }
   }
  },
  {
   "cell_type": "code",
   "execution_count": 31,
   "outputs": [],
   "source": [
    "headers = {'User-Agent': 'Mozilla/5.0 (Macintosh; Intel Mac OS X 10_10_1) AppleWebKit/537.36 (KHTML, like Gecko) Chrome/39.0.2171.95 Safari/537.36'}"
   ],
   "metadata": {
    "collapsed": false,
    "pycharm": {
     "name": "#%%\n"
    }
   }
  },
  {
   "cell_type": "code",
   "execution_count": 61,
   "outputs": [
    {
     "data": {
      "text/plain": "b'<!DOCTYPE html>\\n<html lang=\"en-US\">\\n<head>\\n    <title>Just a moment...</title>\\n    <meta http-equiv=\"Content-Type\" content=\"text/html; charset=UTF-8\">\\n    <meta http-equiv=\"X-UA-Compatible\" content=\"IE=Edge\">\\n    <meta name=\"robots\" content=\"noindex,nofollow\">\\n    <meta name=\"viewport\" content=\"width=device-width,initial-scale=1\">\\n    <link href=\"/cdn-cgi/styles/challenges.css\" rel=\"stylesheet\">\\n    \\n\\n</head>\\n<body class=\"no-js\">\\n    <div class=\"main-wrapper\" role=\"main\">\\n    <div class=\"main-content\">\\n        <noscript>\\n            <div id=\"challenge-error-title\">\\n                <div class=\"h2\">\\n                    <span class=\"icon-wrapper\">\\n                        <div class=\"heading-icon warning-icon\"></div>\\n                    </span>\\n                    <span id=\"challenge-error-text\">\\n                        Enable JavaScript and cookies to continue\\n                    </span>\\n                </div>\\n            </div>\\n        </noscript>\\n        <div id=\"trk_jschal_js\" style=\"display:none;background-image:url(\\'/cdn-cgi/images/trace/managed/nojs/transparent.gif?ray=7d9e971d3afc2d6d\\')\"></div>\\n        <form id=\"challenge-form\" action=\"/viewjob?jk=0a34c6921742a18d&amp;__cf_chl_f_tk=_qwf5AUE3HBsU58MXM8gGMQEPGx8RLIVXeKA0TZyLA0-1687207259-0-gaNycGzNC1A\" method=\"POST\" enctype=\"application/x-www-form-urlencoded\">\\n            <input type=\"hidden\" name=\"md\" value=\"W_6.zjKeoxkEI89qoe9D8jSvKZL9WJTbYSbodvdTVSs-1687207259-0-ATy6PsrhN2VFbosf4wX0Ay8RS8S-M4abB0o9XkjIbN8yfieMxafodXWMsC4RIF44z4BohwSmgRLAbsglyCZlWfVUTNhfOqkPRV1i-LcNamua7_F0hTjOxytw_quWh3lmOzQLrAwe_eyzAWYJmDSA30zhe1IvYDoJAAOemurBl8mi5-XIZ_yVbXwR36x0sV4SwJNiG4L4nfGfId1st6zWJ2Qa1oq_AwPswWao6T1n0-APdwwPCgk_0A-SgXWe3zxgEiX93pGRrLCjhXR2jERXdQbslXNl8Q5cthWR-2CZuvMv_5YxloJIm1CMzfvHpjKE9_CFb-4HYVwfvIRTzQRwhTtvPs6TQg9ZnXUg03MDr4aWXnOjL-RPHe1otSvPGuLXLhf3V7QTKxkKwfNA_qIaQKim4gWGrsCvcYR3_lzNAsRFXzDre1Kv_xk8xP0CJOL6VwSZBMSnCWnh4VEBVKSqiIziaQLm7dMH1-qVnOL_VJTliFSupgWjKygiP5KRmMiac1J1HMdiPVh9b4YyyBV-QCiJ9yvd2upmilRI9dXCwLpup7K1HMIyXl4piQ4CUmKxXDZpuIHWwKnrvE36cEqMEBznYSJL5ya5_SdIR4S75m_ijB6vPzQo070JfE5UEVavY3uaVxBEbNMmDr4qhv7cgJy6OZ0ctF6G5ouYZkT7_S4tOUBTzRDLlD-tnPwIGTjyhp64-MEcNVngugIh5BIGAe3miPvzJ-LdCWpMmpDHlUz1Ld4_b0xWPBjh8KaZJU4zfAcJINLhfG70Vy0zBYZh3EdqxNivF1s6Ozw2o3oSxR8btpAGWQfEH2TYWfZHc68Go8xKaYyhl2Y8WpqbsNCFlVs1JdeaHv9jE0cEAyRp8VjkEoHWTwTdZDMvbJuIALByM9scdqG4NsBrs8GHBngM5ehwTAS1oRK99yQV1VJp13K9JXd5LYTjbriuU-nxbZHCIP2CmHwBeRxIsxV7MvMW3e_KHnjdSPj5jGlDwLeKo6Xw_vcGTP6ntyskPBzaPaKRwlGwi99GtoWsKhR5gYuF0j0A7KTNlBh4S642LZYBH8DKRBprMe8UwxzP_yuVCWSqC2PTgKBStqXjHSnOiSer6KTwUxJVlMmuIc7smdC7lmHJEHRz0_HYuyU1MxzPf1X8Vqhw-mpbutcWrYp4Sw4I3HzZbaE2PjkBpy41tpP-qvaYcq_byJk1ss1mNLaJYfLjmV1tNS-Dsn5ERMnmiJ86YE3OT41BWk7PBYeoHmikj117wdr3PVPfmKXHyelIi55TdIzFuumP0d7rFrjjTS9NkrR2izH0QliTv0x8I8etwPPevTJJdaAcUoq16w2rpnsx2fzgZZTMbwsDjBkaHkxljKmwgSsKcd9P2SeAyexSW11OiS68AzJXSRs9ZCzjEQEW9YAWqmoWujmHbjG1oj4O3WRjmxcnoalMZ284WNtd008oOG3uSiRvDqPVQgI9C5trE42h8h5BCudAPk-b9AyXVraTNgkcicU6-ry4g4AmnivWKZ0BGEPsSD7npWyhqRxg6tnp0PZTi-i6pAv9Zg62-2eQMKl6XIMya1g1I-aDB9tCmZw9aQNUi8B6wSUMo4Ir4h7CGsU1vKwEf6Wspb3s1Pr6DljhGVMudRLlvJPP5aDWQfjdPnYREqRBn12O8QnOOXHJ0iF_zw75Blgj3ZkdrSHKKqCYgJe6L3C-cP988dlR-S1ivX6fbZUeu7IQXA1eRayNEIYccFK9L62bYT85xP8bi5p6PzaxVDIzQf4FaNogwMTvk784AF928xhEjU-Q4SKxrxLmd9OiZtAZpRnRpjastMLmJhp7gY9jXk8n5fVmEvmplCPV5fZPzsdL0HNLz0sKh96Ki-CS7QfxZ_IPHt0FPESXjbxmiDy49dqD9Kxc52HcEa38n9YJ5fGimqGpuLufo6s24H0XK7C2X8QCZPmNTmURfVJcHsuqvReeC4yuazylZzps47sG2hXMTyS7TGPBIO4xueRx3W7DsP0ADSyy5D4gY2liF4sbgspNXAKf8fTgZPEYqSReF8v_3lJG5G1NnudTbzwm7Vd07OiGQQtFnWoYhzIuxGqBn68hgUs60GKICyaSNNU55jQu3NIZQ5Irpu08G1JAJgihTLJxEsjQNAruhno8tkh-kSvb_tgg7bDligdYQ5oKdolKhDA1FZu2STJBNgQPpZA-_Q4gSkx5UtMcFi1lyjEx10PSNp6Y6qYuLLbhqORk7kWYh2d7wpKV__jd-15ykYmZ0hu438XeDogiPH0mwydKQS1F857c2WzSLj6FzGvoB-wmZR1NEtzxY70Mp3q-uD_CBE44zDfihj_hamstn4fXqD7gtvdhVeRi7znLnFcXMgfsx9W2wpFPcBl_KArK_-kqPTIxQEmpcaoa8gt-ov1mhEFdUqWaL7pDzjzu7dPmkEC7Vzxh6v-LkYs057aVBLiqvvg9Q7OsUNC0ixoKeZEp7dcf44yWXFj-nI0Mt9RLBj_-C3R7M1b5NrjYGbAygJrLsmGmO-2b24Sh_nUFgxGU1XWKdJVfLxNo3oyL_PYZ2iqABAv0nwipU3ET4TM_tDM5YMlxil-SICMWjX9A0MvgccwYjoVWx6AjIOtXLL6R_gB3LOKME72SPx667HAJKu3-taXQkl-pVS9wABv9p-uuPBGzNTkLPqrO1s9Gw9QnD2NeJDYBnhUHD01OAqupi73OUMRcOVX4g6M1Ed1opPa4q8GGJ3rtJIcs7NRYJsdz0q2tReHvjXoLL3C5a4BaptCx1mINkECKLRA7pVWcgFvKGmVP4rMt5FKTSPSDtfWekiKVsfwn2LMOPGEWOVf293m09XIp1CI\">\\n        </form>\\n    </div>\\n</div>\\n<script>\\n    (function(){\\n        window._cf_chl_opt={\\n            cvId: \\'2\\',\\n            cZone: \\'de.indeed.com\\',\\n            cType: \\'managed\\',\\n            cNounce: \\'95881\\',\\n            cRay: \\'7d9e971d3afc2d6d\\',\\n            cHash: \\'e74f8f7259ba427\\',\\n            cUPMDTk: \"\\\\/viewjob?jk=0a34c6921742a18d&__cf_chl_tk=_qwf5AUE3HBsU58MXM8gGMQEPGx8RLIVXeKA0TZyLA0-1687207259-0-gaNycGzNC1A\",\\n            cFPWv: \\'g\\',\\n            cTTimeMs: \\'1000\\',\\n            cMTimeMs: \\'0\\',\\n            cTplV: 5,\\n            cTplB: \\'cf\\',\\n            cK: \"\",\\n            cRq: {\\n                ru: \\'aHR0cHM6Ly9kZS5pbmRlZWQuY29tL3ZpZXdqb2I/ams9MGEzNGM2OTIxNzQyYTE4ZA==\\',\\n                ra: \\'TW96aWxsYS81LjAgKE1hY2ludG9zaDsgSW50ZWwgTWFjIE9TIFggMTBfMTBfMSkgQXBwbGVXZWJLaXQvNTM3LjM2IChLSFRNTCwgbGlrZSBHZWNrbykgQ2hyb21lLzM5LjAuMjE3MS45NSBTYWZhcmkvNTM3LjM2\\',\\n                rm: \\'UE9TVA==\\',\\n                d: \\'wDxnUDPRSU3n64kqgIQShKBea6YLU0Q5sZzxYnJ8+0rRFVumOo9D+mbSjgYEZdIrtDZ/t5185tL0SthlLp2bd/rO4X8Vwh6cGr3eWOF9vEwTjYOKdPo8K5zOkNO+hUDwfhWQmdZ3gP1rLLbqz2gAub8YZ7/5CtFR2+wGRCT0alQp0vrKZSnpqtCcFhp4TBGiH9ufQIcbePoAcNPWlHgOJrYHpzr5iR/rvME7qQQnu1rMXcCZHFKJxFQ3v8uJjOpwo5N/OAHvqLbfERbJTq32zPM3DhHlowgYMI0AYVYkS2PdjTcXil5Gq9VdkXGCkOMIGGqRcBI1gQP7X1ov2Jiv/CWKkHN0oMJy22MYTtrD81LVB+YEQEEhvgC5rstp+dIfhp8tGAWIfByoBOXVWT2Ve1J4+skIGmK55yeagb12lIuFGJx1jTKyIEd0bffZYVDNepCznHg1Fd34CEM6GA7NSK0gkKRC8OqHBGC++30I2STzWCj1ezkHhJzVFDDVsNoPQerVydDrs+gz094eav8VXNt+yFi3ViN63zxkAz2xqc5roB3o4fshuSj8JSEEccT2IofPOikajrI31Bxc3dQcXw0gUbyXKlyXd/UskcgjahCACXiU/tMuGFK9DEyrBeVL\\',\\n                t: \\'MTY4NzIwNzI1OS43MjcwMDA=\\',\\n                cT: Math.floor(Date.now() / 1000),\\n                m: \\'Wg/KiO0ZJ/ZIxCfJWvjnUrEZQBEKqBoyypVS4iEDbNY=\\',\\n                i1: \\'WQSWlK9IwwaFtC2N0V6rdw==\\',\\n                i2: \\'BxG78O6a0skgBPFxsyyA7g==\\',\\n                zh: \\'2kfjrLYfAVNem19Lin3oP+VKo7ladb55se1eVtiLLnQ=\\',\\n                uh: \\'6TWpFOs5yA2kqHBUkRC7Q3BxuZXDS2ZiQqpfVqqMVlI=\\',\\n                hh: \\'duBzhYBbvqxSyiy1fxodihGSwnDR/UBKr0ppYffbXk8=\\',\\n            }\\n        };\\n        var trkjs = document.createElement(\\'img\\');\\n        trkjs.setAttribute(\\'src\\', \\'/cdn-cgi/images/trace/managed/js/transparent.gif?ray=7d9e971d3afc2d6d\\');\\n        trkjs.setAttribute(\\'alt\\', \\'\\');\\n        trkjs.setAttribute(\\'style\\', \\'display: none\\');\\n        document.body.appendChild(trkjs);\\n        var cpo = document.createElement(\\'script\\');\\n        cpo.src = \\'/cdn-cgi/challenge-platform/h/g/orchestrate/managed/v1?ray=7d9e971d3afc2d6d\\';\\n        window._cf_chl_opt.cOgUHash = location.hash === \\'\\' && location.href.indexOf(\\'#\\') !== -1 ? \\'#\\' : location.hash;\\n        window._cf_chl_opt.cOgUQuery = location.search === \\'\\' && location.href.slice(0, location.href.length - window._cf_chl_opt.cOgUHash.length).indexOf(\\'?\\') !== -1 ? \\'?\\' : location.search;\\n        if (window.history && window.history.replaceState) {\\n            var ogU = location.pathname + window._cf_chl_opt.cOgUQuery + window._cf_chl_opt.cOgUHash;\\n            history.replaceState(null, null, \"\\\\/viewjob?jk=0a34c6921742a18d&__cf_chl_rt_tk=_qwf5AUE3HBsU58MXM8gGMQEPGx8RLIVXeKA0TZyLA0-1687207259-0-gaNycGzNC1A\" + window._cf_chl_opt.cOgUHash);\\n            cpo.onload = function() {\\n                history.replaceState(null, null, ogU);\\n            };\\n        }\\n        document.getElementsByTagName(\\'head\\')[0].appendChild(cpo);\\n    }());\\n</script>\\n\\n\\n</body>\\n</html>\\n'"
     },
     "execution_count": 61,
     "metadata": {},
     "output_type": "execute_result"
    }
   ],
   "source": [
    "html_page.content  # request not able to go through security, need to use playwright for parse links too"
   ],
   "metadata": {
    "collapsed": false,
    "pycharm": {
     "name": "#%%\n"
    }
   }
  },
  {
   "cell_type": "code",
   "execution_count": null,
   "outputs": [],
   "source": [
    "# success!! need to automize it"
   ],
   "metadata": {
    "collapsed": false,
    "pycharm": {
     "name": "#%%\n"
    }
   }
  },
  {
   "cell_type": "code",
   "execution_count": 2,
   "outputs": [],
   "source": [
    "from fake_headers import Headers"
   ],
   "metadata": {
    "collapsed": false,
    "pycharm": {
     "name": "#%%\n"
    }
   }
  },
  {
   "cell_type": "code",
   "execution_count": 5,
   "outputs": [],
   "source": [
    "headers = Headers(headers=True, browser=\"chrome\",  # Generate only Chrome UA\n",
    "        os=\"mac\",).generate()"
   ],
   "metadata": {
    "collapsed": false,
    "pycharm": {
     "name": "#%%\n"
    }
   }
  },
  {
   "cell_type": "code",
   "execution_count": 6,
   "outputs": [
    {
     "data": {
      "text/plain": "{'Accept': '*/*',\n 'Connection': 'keep-alive',\n 'User-Agent': 'Mozilla/5.0 (Macintosh; Intel Mac OS X 10_10_2) AppleWebKit/537.36 (KHTML, like Gecko) Chrome/70.0.3538.110 Safari/537.36',\n 'Accept-Language': 'en-US;q=0.5,en;q=0.3',\n 'Referer': 'https://google.com',\n 'Pragma': 'no-cache'}"
     },
     "execution_count": 6,
     "metadata": {},
     "output_type": "execute_result"
    }
   ],
   "source": [
    "headers"
   ],
   "metadata": {
    "collapsed": false,
    "pycharm": {
     "name": "#%%\n"
    }
   }
  },
  {
   "cell_type": "code",
   "execution_count": null,
   "outputs": [],
   "source": [],
   "metadata": {
    "collapsed": false,
    "pycharm": {
     "name": "#%%\n"
    }
   }
  },
  {
   "cell_type": "code",
   "execution_count": 18,
   "outputs": [],
   "source": [
    "headers = {'User-Agent': 'Mozilla/5.0 (Macintosh; Intel Mac OS X 10_15_7) AppleWebKit/605.1.15 (KHTML, like Gecko) Version/16.5 Safari/605.1.15'}"
   ],
   "metadata": {
    "collapsed": false,
    "pycharm": {
     "name": "#%%\n"
    }
   }
  },
  {
   "cell_type": "code",
   "execution_count": 16,
   "outputs": [],
   "source": [
    "html_page = requests.post('https://de.indeed.com/viewjob?jk=0a34c6921742a18d', headers=headers)"
   ],
   "metadata": {
    "collapsed": false,
    "pycharm": {
     "name": "#%%\n"
    }
   }
  },
  {
   "cell_type": "code",
   "execution_count": 17,
   "outputs": [
    {
     "data": {
      "text/plain": "b'<!DOCTYPE html>\\n<html lang=\"en-US\">\\n<head>\\n    <title>Just a moment...</title>\\n    <meta http-equiv=\"Content-Type\" content=\"text/html; charset=UTF-8\">\\n    <meta http-equiv=\"X-UA-Compatible\" content=\"IE=Edge\">\\n    <meta name=\"robots\" content=\"noindex,nofollow\">\\n    <meta name=\"viewport\" content=\"width=device-width,initial-scale=1\">\\n    <link href=\"/cdn-cgi/styles/challenges.css\" rel=\"stylesheet\">\\n    \\n\\n</head>\\n<body class=\"no-js\">\\n    <div class=\"main-wrapper\" role=\"main\">\\n    <div class=\"main-content\">\\n        <noscript>\\n            <div id=\"challenge-error-title\">\\n                <div class=\"h2\">\\n                    <span class=\"icon-wrapper\">\\n                        <div class=\"heading-icon warning-icon\"></div>\\n                    </span>\\n                    <span id=\"challenge-error-text\">\\n                        Enable JavaScript and cookies to continue\\n                    </span>\\n                </div>\\n            </div>\\n        </noscript>\\n        <div id=\"trk_jschal_js\" style=\"display:none;background-image:url(\\'/cdn-cgi/images/trace/captcha/nojs/transparent.gif?ray=7d9e46c049c275a3\\')\"></div>\\n        <form id=\"challenge-form\" action=\"/viewjob?jk=0a34c6921742a18d&amp;__cf_chl_f_tk=RkcR8DC_n9ITzJBfyUqSVv3OS_J3f4QRREld3sRir0I-1687203968-0-gaNycGzNCpA\" method=\"POST\" enctype=\"application/x-www-form-urlencoded\">\\n            <input type=\"hidden\" name=\"md\" value=\"neEi_p.nrRfJIXOfGYv4PMrmmNBDul_bAAPm1uLEIXs-1687203968-0-AdIEZVt9hx5TajpuYRJJHvYM5CQnG1UYKNvSw1fRR8HkEp71CKKxjI8BWA3G_cpqYEBe6hXt3Hb7IzQXpNl8TcD9sSKepNxiGPPfSG9m274UQq-4GcWUVmczX7WvIlvh8fvbCrrgjIYboNrbLMOOh3kQMmpU9JFvieGbbL1SkZNrgwBaDQWCLOmlMDlhc-mZhErINrT0CphtTHTLzMAmQMMNKQGRNN-FqwaUVwvT6nFew2LykzYq06-SYw5sRGlgXNMdGadRmHuo9dKiicFWckfX08Yd2IWMIrTSVusEHxItCr4MSOI-OpYOSBbXnAUtWMUs6Zd-6-P-L0KVCOEy9uegF-9iDa7g2OuzH0MWmvURiY_P-sYiayS7SYlBlx3OyJV3XOFX6-XhwQ2pzGzgQ5xk0xtd5fIM3mTdstc0MuujBFJvHqWeUHlQ2O_ahX8FHrHNlAtDdvlVkmeTN0dZGsw4KpyBT3nvG1_qzJlqTmntD9RrbSFi0IqGijvQcj60kb7HsLLaFbcJwMNEvQILlS7Ou4nAI_t6yz1sdlREIyU4Z8MBakEs7PwOb1pm_wxf1agHDHN-KsNznCIN0Vd_A6gKX1sTv82XTjy5t25sUyeaGXv9k3_6Awqap77y0aBCjF0xzX3WlYJ6iSWEsMbVmaFwgmn36MEPPMaayrtaFc6j_tHxvxyxlRMBdgZJUkyPFyK90j-r6d0j1hCVOYWUTT7pIyeruRArdvbbIdU0dsle-nRKI2WZMh9nIlwPQuG5nBlIXlPnkNJfWTEuL3PSk_1tY08h1woxAj5egGaRlwXFXycorT3vxVZRh0zu5cSsp5LyoY0NoNyA6S1BxGjtNhAPCNjOxxV4QyvTSiVCzc2iq5IdtnsVhrsT-2VyCvI8ujtY2TefsB6F5UaCunban64DUlFSAf0vrMYD5udKwmBOREvHXlpW-ugg19qazovfcQJ2kHcOCETYDuDrh9ecQnnMuWOiYrKf4SuNhqIekgC6RRHLA6oz53cEp1jPmbvSekt2tmb6Sbr7TakRxsITtwOlVLhtfVIfilI7ZtKia9_eEqDyeP8Kps_9oMd3yJCDVUGZiFDDwn5OfJ9QHqExEt6cmnTmYUaQNXGVqFyXpC3vLBbGTLeycB2Bz2FcgHb4uNI4XICNt8tKaGkrxWfTZHdVnGyziESrVYjlKNT1LC5Mokc8Xn9LDKr5OjXXsaQZvMiq5mDiMlHNygC91pJbIZMTWGnKkVM94-Rn7Tr_RHQJ-UjnjbkhDXQ6s207EOnXIn9TYTEl8CKFPtq_4avzb-0mYBTX7MvaR9UKJLU1xJyvBrCMXdCZ55nPFMUSGuBDeN8gosMxv5CpCifzRzHgiowPtMYTVPcs0tLpFPl60vU4PUxKBeMT8Q-Z9bB0IJLvpq10EmvQmJCAVsmntUpo3El8z7Opbu8OJoBlsipqG6IswELIURtiMrnsaeMBcoTRZve53F1Tq_lJ8Pq5W53Mw8HL6zIpYIeIxPE4Xq3uqikJy5sxjsXPW6VJ-_ezo0MO0MSMBpGX-mk6Xdv_EwAihTKjjlfxkJr8W8UtLQMhjYaGuxp-71RmIl1xtH5h3MBJjIO2qSLvCLzt0pxZSd0azKytBb5C0kdNg_Kk9Q0fQDZBjjjVHbDyoyUHafnjsHZjS9p0d3oi3XiqGK0Rcbq-YLGG33Kamm67AOq9hZKrUcqIWQ71KPbeu75PhSB_AyIlMEm-QYJU0JpbWZ4ZWr7uN6W_w3qiklaCW0ZU-H5pUle2w8n_OdQ955VYFoscENAgWE_8kj1B_m5i4kfd1NDfmqFQ-4ZNzvW1FO9AsfhiGUdLfAkI6L1UKa18nrK2FrHKXtuzG0XXyVWGY4Jyk7PgHzX_KCPsCwtDrCTHNjRK9Z6JyPyqTuYrKyumLowIFmLvsTyfeb7giocL7xXu3o6OoC4geVloyIIvjVFDSiCdBsn0kYckgBr2Gq6uyzwHK_PwchLNob9YcwbfqcUUH01fg1Y4_fv_9pBnT3Am-CKlSj1oYqrZd-8A9VVib4F5v-9P3TyhFc0AV7jOwxj2ncR5-i8J1r8tPxkmRuZz1jPavtOBtt_AEQ5JsCKs7LUUPgmn0QFiFQb8hQE_ZrAGG0K-Ua2GbYjAeFCs433L_CzHo7U1ncLnD6Tf1y_kTiGsOXyv5Ax98N1KzWLqEE9qM9W53kKOS5edH_OxM75xw33rN3Fq_WL7nfTNp7bsTdSBxnTyNF2Foz-17zcoUYg1WR4b_SM4ibk2iltepXQhiFup2eE5YL0y_8yA3OXLbUEJUdPpBJViRosByGQG9AjkwsJeyAkyP0VO8GfmBlOB2v5sF06SF9UK57SrZWy3R5i6a-TF9AuteT9BzW3ELDESDyDuXaRdR1kbMO9D8jcik9JMwbKrcxdx4o4aUEYA64wsMijNxgixpFz_tZHNMd9CTbrDfJam3RT-TxhAT7tkqgsGWkNBzSJTVIvafwjehQd1bhSJ75515FefsL1Nb7ieBDZYehLWaV7MqBlojIZad7tuq4U5nBj6vzu9cxpz58F5Cp6joJYl7v1gVEuW5uhIY2iVdpYikG4GwuVU2i-pfJ4lW-R2LxRxHot9sWYOVnP92_0mJLXblNj558Y_kB3C32B5Gxo\">\\n        </form>\\n    </div>\\n</div>\\n<script>\\n    (function(){\\n        window._cf_chl_opt={\\n            cvId: \\'2\\',\\n            cZone: \\'de.indeed.com\\',\\n            cType: \\'interactive\\',\\n            cNounce: \\'53318\\',\\n            cRay: \\'7d9e46c049c275a3\\',\\n            cHash: \\'d60259a40b959e6\\',\\n            cUPMDTk: \"\\\\/viewjob?jk=0a34c6921742a18d&__cf_chl_tk=RkcR8DC_n9ITzJBfyUqSVv3OS_J3f4QRREld3sRir0I-1687203968-0-gaNycGzNCpA\",\\n            cFPWv: \\'g\\',\\n            cTTimeMs: \\'1000\\',\\n            cMTimeMs: \\'0\\',\\n            cTplV: 5,\\n            cTplB: \\'cf\\',\\n            cK: \"\",\\n            cRq: {\\n                ru: \\'aHR0cHM6Ly9kZS5pbmRlZWQuY29tL3ZpZXdqb2I/ams9MGEzNGM2OTIxNzQyYTE4ZA==\\',\\n                ra: \\'TW96aWxsYS81LjAgKE1hY2ludG9zaDsgSW50ZWwgTWFjIE9TIFggMTBfMTBfMikgQXBwbGVXZWJLaXQvNTM3LjM2IChLSFRNTCwgbGlrZSBHZWNrbykgQ2hyb21lLzcwLjAuMzUzOC4xMTAgU2FmYXJpLzUzNy4zNg==\\',\\n                rm: \\'UE9TVA==\\',\\n                d: \\'RLZcZESK3DFl1/k2PA4hMQVMCN4UBOXcK4oR84pgO7yny6Dp6opbzRlMkLsljVaEKxD+aMpGq2Ph9GTfEGoxnFvBr427hFX3gMlA5dwPbRqB0GzP5/ULgzd5tQ0evOAA3p7ji37tAG4yN2MoVAErteFI6AjUGnO8KAHV7AUS5uRUrdI3MxEHVuG+tFHyqDd17h70KnpNpuI9tD3Jt4WDMLZQI/jeR3uCn7M/5unu+nw4icnXehN9IXoLNXw+mekfykHlCHWnxgmxlxHLRuLZutKzdjAcNvYWW3YvxFzzX0k6gPXMT9jjw2oquWTboS7GFHJHrJxoUQkO9dMXIetQ28G0KK+eKRnPJjxDxOJLhnTCzq64k7Cd1uIYGhMIsf05DXycutQm5fd4sCz0xMN4wUw+y+iFemASgINqbH2BAOfD/9cKCPFlUP5Oemda/EREJhpwNMs4TcowxJQ1dVuNseftZNboxjalJa4t2UxaiOfkHgxIgW/2VW9vc7kiPmRnnBBqumv44vWR1aqZMKNYe1gkjB9LuWkWqw/UTNXrhrBEnVYhUewrfHF9DEgT/fQHAiHeouxRKf1LlrnXlQvMvytlObW4gW50xcWkNF5TFfs=\\',\\n                t: \\'MTY4NzIwMzk2OC4wNjcwMDA=\\',\\n                cT: Math.floor(Date.now() / 1000),\\n                m: \\'MToTLzU3gG/Ktpwy9tLeligtxgnPCXQn3P54sQlVnSg=\\',\\n                i1: \\'5rPH0Z99k0pwXlNAAGypSw==\\',\\n                i2: \\'hOvzNCY0jF5/IFSyuOpZ1g==\\',\\n                zh: \\'2kfjrLYfAVNem19Lin3oP+VKo7ladb55se1eVtiLLnQ=\\',\\n                uh: \\'D0A9QP410KSUJxspTvoHgMJ5cshvEC6VF/BqDX/1/OI=\\',\\n                hh: \\'duBzhYBbvqxSyiy1fxodihGSwnDR/UBKr0ppYffbXk8=\\',\\n            }\\n        };\\n        var trkjs = document.createElement(\\'img\\');\\n        trkjs.setAttribute(\\'src\\', \\'/cdn-cgi/images/trace/captcha/js/transparent.gif?ray=7d9e46c049c275a3\\');\\n        trkjs.setAttribute(\\'alt\\', \\'\\');\\n        trkjs.setAttribute(\\'style\\', \\'display: none\\');\\n        document.body.appendChild(trkjs);\\n        var cpo = document.createElement(\\'script\\');\\n        cpo.src = \\'/cdn-cgi/challenge-platform/h/g/orchestrate/captcha/v1?ray=7d9e46c049c275a3\\';\\n        window._cf_chl_opt.cOgUHash = location.hash === \\'\\' && location.href.indexOf(\\'#\\') !== -1 ? \\'#\\' : location.hash;\\n        window._cf_chl_opt.cOgUQuery = location.search === \\'\\' && location.href.slice(0, location.href.length - window._cf_chl_opt.cOgUHash.length).indexOf(\\'?\\') !== -1 ? \\'?\\' : location.search;\\n        if (window.history && window.history.replaceState) {\\n            var ogU = location.pathname + window._cf_chl_opt.cOgUQuery + window._cf_chl_opt.cOgUHash;\\n            history.replaceState(null, null, \"\\\\/viewjob?jk=0a34c6921742a18d&__cf_chl_rt_tk=RkcR8DC_n9ITzJBfyUqSVv3OS_J3f4QRREld3sRir0I-1687203968-0-gaNycGzNCpA\" + window._cf_chl_opt.cOgUHash);\\n            cpo.onload = function() {\\n                history.replaceState(null, null, ogU);\\n            };\\n        }\\n        document.getElementsByTagName(\\'head\\')[0].appendChild(cpo);\\n    }());\\n</script>\\n\\n\\n</body>\\n</html>\\n'"
     },
     "execution_count": 17,
     "metadata": {},
     "output_type": "execute_result"
    }
   ],
   "source": [
    "html_page.content"
   ],
   "metadata": {
    "collapsed": false,
    "pycharm": {
     "name": "#%%\n"
    }
   }
  },
  {
   "cell_type": "code",
   "execution_count": 18,
   "outputs": [],
   "source": [
    "with open('another_exmpl.html', 'wb') as html_file:\n",
    "    html_file.write(html_page.content)"
   ],
   "metadata": {
    "collapsed": false,
    "pycharm": {
     "name": "#%%\n"
    }
   }
  },
  {
   "cell_type": "code",
   "execution_count": 1,
   "outputs": [],
   "source": [],
   "metadata": {
    "collapsed": false,
    "pycharm": {
     "name": "#%%\n"
    }
   }
  },
  {
   "cell_type": "code",
   "execution_count": 1,
   "outputs": [],
   "source": [],
   "metadata": {
    "collapsed": false,
    "pycharm": {
     "name": "#%%\n"
    }
   }
  }
 ],
 "metadata": {
  "kernelspec": {
   "name": "arbeite_parser",
   "language": "python",
   "display_name": "arbeite_parser"
  },
  "language_info": {
   "codemirror_mode": {
    "name": "ipython",
    "version": 2
   },
   "file_extension": ".py",
   "mimetype": "text/x-python",
   "name": "python",
   "nbconvert_exporter": "python",
   "pygments_lexer": "ipython2",
   "version": "2.7.6"
  }
 },
 "nbformat": 4,
 "nbformat_minor": 0
}