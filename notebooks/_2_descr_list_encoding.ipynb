{
 "cells": [
  {
   "cell_type": "code",
   "execution_count": 1,
   "metadata": {
    "collapsed": true,
    "pycharm": {
     "name": "#%%\n"
    }
   },
   "outputs": [],
   "source": [
    "import pandas as pd"
   ]
  },
  {
   "cell_type": "code",
   "execution_count": 31,
   "outputs": [],
   "source": [
    "from tqdm import tqdm"
   ],
   "metadata": {
    "collapsed": false,
    "pycharm": {
     "name": "#%%\n"
    }
   }
  },
  {
   "cell_type": "code",
   "execution_count": 2,
   "outputs": [],
   "source": [
    "jobs_df = pd.read_excel('de_jobs_with_clusters.xlsx')"
   ],
   "metadata": {
    "collapsed": false,
    "pycharm": {
     "name": "#%%\n"
    }
   }
  },
  {
   "cell_type": "code",
   "execution_count": 14,
   "outputs": [],
   "source": [
    "titles_df = jobs_df[['job_id', 'cluster', 'descr_list']].copy()"
   ],
   "metadata": {
    "collapsed": false,
    "pycharm": {
     "name": "#%%\n"
    }
   }
  },
  {
   "cell_type": "code",
   "execution_count": 15,
   "outputs": [
    {
     "data": {
      "text/plain": "                                                job_id  cluster  \\\n0                                     0053e5f78b135d5a        4   \n1                                     00ef1c15bf5b5939        1   \n2                                     0176a1dc54841716        4   \n3                                     028876104a6b2d26        2   \n4                                     034b31000a95988c        1   \n..                                                 ...      ...   \n940  https://de.indeed.com/viewjob?jk=fdd8d81f544bf511        2   \n941  https://de.indeed.com/viewjob?jk=fe322edbe2225eb6        2   \n942  https://de.indeed.com/viewjob?jk=fef83104f3acd912        4   \n943  https://de.indeed.com/viewjob?jk=ff0d468c9afc7eb4        2   \n944  https://de.indeed.com/viewjob?jk=ff6ccdbc95261d47        3   \n\n                                            descr_list  \n0    mit einem team von  mitarbeiterinnen und mitar...  \n1    location hamburg berlin kln dsseldorf gtersloh...  \n2    wir in der bi domain logistics management setz...  \n3     bochum  unbefristet vollzeit  it wir freuen u...  \n4     in diesem video geben wir persnliche einblick...  \n..                                                 ...  \n940  wir verwenden cookies um inhalte und anzeigen ...  \n941  du suchst das besondere das spezielle das wowd...  \n942  job description in order to take our engineeri...  \n943  english version below die deutsche bank db kan...  \n944  why scout scout is home of immoscout germanys ...  \n\n[945 rows x 3 columns]",
      "text/html": "<div>\n<style scoped>\n    .dataframe tbody tr th:only-of-type {\n        vertical-align: middle;\n    }\n\n    .dataframe tbody tr th {\n        vertical-align: top;\n    }\n\n    .dataframe thead th {\n        text-align: right;\n    }\n</style>\n<table border=\"1\" class=\"dataframe\">\n  <thead>\n    <tr style=\"text-align: right;\">\n      <th></th>\n      <th>job_id</th>\n      <th>cluster</th>\n      <th>descr_list</th>\n    </tr>\n  </thead>\n  <tbody>\n    <tr>\n      <th>0</th>\n      <td>0053e5f78b135d5a</td>\n      <td>4</td>\n      <td>mit einem team von  mitarbeiterinnen und mitar...</td>\n    </tr>\n    <tr>\n      <th>1</th>\n      <td>00ef1c15bf5b5939</td>\n      <td>1</td>\n      <td>location hamburg berlin kln dsseldorf gtersloh...</td>\n    </tr>\n    <tr>\n      <th>2</th>\n      <td>0176a1dc54841716</td>\n      <td>4</td>\n      <td>wir in der bi domain logistics management setz...</td>\n    </tr>\n    <tr>\n      <th>3</th>\n      <td>028876104a6b2d26</td>\n      <td>2</td>\n      <td>bochum  unbefristet vollzeit  it wir freuen u...</td>\n    </tr>\n    <tr>\n      <th>4</th>\n      <td>034b31000a95988c</td>\n      <td>1</td>\n      <td>in diesem video geben wir persnliche einblick...</td>\n    </tr>\n    <tr>\n      <th>...</th>\n      <td>...</td>\n      <td>...</td>\n      <td>...</td>\n    </tr>\n    <tr>\n      <th>940</th>\n      <td>https://de.indeed.com/viewjob?jk=fdd8d81f544bf511</td>\n      <td>2</td>\n      <td>wir verwenden cookies um inhalte und anzeigen ...</td>\n    </tr>\n    <tr>\n      <th>941</th>\n      <td>https://de.indeed.com/viewjob?jk=fe322edbe2225eb6</td>\n      <td>2</td>\n      <td>du suchst das besondere das spezielle das wowd...</td>\n    </tr>\n    <tr>\n      <th>942</th>\n      <td>https://de.indeed.com/viewjob?jk=fef83104f3acd912</td>\n      <td>4</td>\n      <td>job description in order to take our engineeri...</td>\n    </tr>\n    <tr>\n      <th>943</th>\n      <td>https://de.indeed.com/viewjob?jk=ff0d468c9afc7eb4</td>\n      <td>2</td>\n      <td>english version below die deutsche bank db kan...</td>\n    </tr>\n    <tr>\n      <th>944</th>\n      <td>https://de.indeed.com/viewjob?jk=ff6ccdbc95261d47</td>\n      <td>3</td>\n      <td>why scout scout is home of immoscout germanys ...</td>\n    </tr>\n  </tbody>\n</table>\n<p>945 rows × 3 columns</p>\n</div>"
     },
     "execution_count": 15,
     "metadata": {},
     "output_type": "execute_result"
    }
   ],
   "source": [
    "titles_df"
   ],
   "metadata": {
    "collapsed": false,
    "pycharm": {
     "name": "#%%\n"
    }
   }
  },
  {
   "cell_type": "code",
   "execution_count": 16,
   "outputs": [
    {
     "data": {
      "text/plain": "'mit einem team von  mitarbeiterinnen und mitarbeitern arbeiten wir an digitalen consumer marketing projekten in den bereichen consulting content user experience  design und analytics und natrlich im front und backenddevelopment du magst herausfordernde projekte in interdisziplinrer zusammenarbeit du hast sowohl ein auge frs detail als auch den blick fr das groe ganze dann suchen wir genau dich kontaktiere uns damit wir uns kennen lernen knnen nicht nur digital sondern ganz persnlich wir freuen uns daraufwir verwenden cookies um inhalte und anzeigen zu personalisieren den traffic zu analysierennsowie um unsere dienstleistungen zu verbessern darber hinaus verwenden wir notwendigencookies um arbeitgeber darber zu informieren wie viele klicks ihre stellenanzeigen erhaltennhaben sie erkennen an dass ihre nutzung von indeed unseren richtlinien zur verwendung von cookies unterliegt und empfehlen ihnen diese zu lesen'"
     },
     "execution_count": 16,
     "metadata": {},
     "output_type": "execute_result"
    }
   ],
   "source": [
    "titles_df['descr_list'][0]"
   ],
   "metadata": {
    "collapsed": false,
    "pycharm": {
     "name": "#%%\n"
    }
   }
  },
  {
   "cell_type": "code",
   "execution_count": 17,
   "outputs": [],
   "source": [
    "titles_df['words_count'] = titles_df['descr_list'].apply(lambda x: len(str(x).split()))"
   ],
   "metadata": {
    "collapsed": false,
    "pycharm": {
     "name": "#%%\n"
    }
   }
  },
  {
   "cell_type": "code",
   "execution_count": 18,
   "outputs": [
    {
     "data": {
      "text/plain": "228.3820105820106"
     },
     "execution_count": 18,
     "metadata": {},
     "output_type": "execute_result"
    }
   ],
   "source": [
    "titles_df['words_count'].mean()"
   ],
   "metadata": {
    "collapsed": false,
    "pycharm": {
     "name": "#%%\n"
    }
   }
  },
  {
   "cell_type": "code",
   "execution_count": 19,
   "outputs": [
    {
     "data": {
      "text/plain": "174.0"
     },
     "execution_count": 19,
     "metadata": {},
     "output_type": "execute_result"
    }
   ],
   "source": [
    "titles_df['words_count'].median()"
   ],
   "metadata": {
    "collapsed": false,
    "pycharm": {
     "name": "#%%\n"
    }
   }
  },
  {
   "cell_type": "code",
   "execution_count": null,
   "outputs": [],
   "source": [],
   "metadata": {
    "collapsed": false,
    "pycharm": {
     "name": "#%%\n"
    }
   }
  },
  {
   "cell_type": "markdown",
   "source": [
    "# Lemmatizations"
   ],
   "metadata": {
    "collapsed": false,
    "pycharm": {
     "name": "#%% md\n"
    }
   }
  },
  {
   "cell_type": "code",
   "execution_count": 66,
   "outputs": [],
   "source": [
    "import spacy"
   ],
   "metadata": {
    "collapsed": false,
    "pycharm": {
     "name": "#%%\n"
    }
   }
  },
  {
   "cell_type": "code",
   "execution_count": 67,
   "outputs": [],
   "source": [
    "nlp_en = spacy.load('en_core_web_sm')\n",
    "nlp_de = spacy.load('de_core_news_sm')"
   ],
   "metadata": {
    "collapsed": false,
    "pycharm": {
     "name": "#%%\n"
    }
   }
  },
  {
   "cell_type": "code",
   "execution_count": 230,
   "outputs": [],
   "source": [
    "# Assuming 'tokens' is your list of tokens\n",
    "lemmatized_tokens = [nlp(token)[0].lemma_ for token in selected_tokens1]  # not bad"
   ],
   "metadata": {
    "collapsed": false,
    "pycharm": {
     "name": "#%%\n"
    }
   }
  },
  {
   "cell_type": "code",
   "execution_count": null,
   "outputs": [],
   "source": [
    "nlp = spacy.load('de_core_news_sm')\n",
    "lemmatized_tokens1 = [nlp(token)[0].lemma_ for token in lemmatized_tokens]"
   ],
   "metadata": {
    "collapsed": false,
    "pycharm": {
     "name": "#%%\n"
    }
   }
  },
  {
   "cell_type": "code",
   "execution_count": null,
   "outputs": [],
   "source": [],
   "metadata": {
    "collapsed": false,
    "pycharm": {
     "name": "#%%\n"
    }
   }
  },
  {
   "cell_type": "code",
   "execution_count": 20,
   "outputs": [],
   "source": [
    "import numpy as np\n",
    "from nltk.corpus import stopwords\n",
    "from string import punctuation"
   ],
   "metadata": {
    "collapsed": false,
    "pycharm": {
     "name": "#%%\n"
    }
   }
  },
  {
   "cell_type": "code",
   "execution_count": 34,
   "outputs": [],
   "source": [
    "from sklearn.feature_extraction.text import TfidfVectorizer"
   ],
   "metadata": {
    "collapsed": false,
    "pycharm": {
     "name": "#%%\n"
    }
   }
  },
  {
   "cell_type": "code",
   "execution_count": 21,
   "outputs": [],
   "source": [
    "german_stop_words = stopwords.words('german')"
   ],
   "metadata": {
    "collapsed": false,
    "pycharm": {
     "name": "#%%\n"
    }
   }
  },
  {
   "cell_type": "code",
   "execution_count": 68,
   "outputs": [],
   "source": [
    "english_stop_words = stopwords.words('english')"
   ],
   "metadata": {
    "collapsed": false,
    "pycharm": {
     "name": "#%%\n"
    }
   }
  },
  {
   "cell_type": "code",
   "execution_count": 87,
   "outputs": [],
   "source": [
    "tqdm.pandas()"
   ],
   "metadata": {
    "collapsed": false,
    "pycharm": {
     "name": "#%%\n"
    }
   }
  },
  {
   "cell_type": "code",
   "execution_count": 22,
   "outputs": [],
   "source": [
    "gender_labels = ['mfx', 'mfd', 'wmd', 'mwd', 'fmd', 'fmx', 'dfm']"
   ],
   "metadata": {
    "collapsed": false,
    "pycharm": {
     "name": "#%%\n"
    }
   }
  },
  {
   "cell_type": "code",
   "execution_count": 90,
   "outputs": [],
   "source": [
    "def token_processing(text):\n",
    "    tokens = str(text).split()\n",
    "    tokens = [token for token in tokens if token not in german_stop_words\\\n",
    "              and token != \" \"\n",
    "              and token.strip() not in punctuation\n",
    "              and token not in gender_labels\n",
    "              and token not in english_stop_words\n",
    "              ]\n",
    "    # Assuming 'tokens' is your list of tokens\n",
    "    tokens = [nlp_de(nlp_en(token)[0].lemma_)[0].lemma_ for token in tokens]\n",
    "    tokens = list(set(tokens))\n",
    "\n",
    "    text = \" \".join(tokens)\n",
    "    return text"
   ],
   "metadata": {
    "collapsed": false,
    "pycharm": {
     "name": "#%%\n"
    }
   }
  },
  {
   "cell_type": "code",
   "execution_count": 91,
   "outputs": [
    {
     "name": "stderr",
     "output_type": "stream",
     "text": [
      "100%|██████████| 945/945 [09:31<00:00,  1.65it/s]\n"
     ]
    }
   ],
   "source": [
    "titles_df['cleaned_text'] = titles_df['descr_list'].progress_apply(token_processing)"
   ],
   "metadata": {
    "collapsed": false,
    "pycharm": {
     "name": "#%%\n"
    }
   }
  },
  {
   "cell_type": "code",
   "execution_count": 92,
   "outputs": [],
   "source": [
    "titles_df['cleaned_text'] = titles_df['cleaned_text'].str.lower()\n",
    "titles_df['cleaned_text'] = titles_df['cleaned_text'].str.replace('[','').replace(']', '')\n",
    "titles_df['cleaned_text']  = titles_df['cleaned_text'].str.replace('[^a-zA-Z ]', '', regex=True)  # replace all non Latin symbols"
   ],
   "metadata": {
    "collapsed": false,
    "pycharm": {
     "name": "#%%\n"
    }
   }
  },
  {
   "cell_type": "code",
   "execution_count": 93,
   "outputs": [],
   "source": [
    "titles_df1 = titles_df[['cleaned_text', 'job_id']].copy()"
   ],
   "metadata": {
    "collapsed": false,
    "pycharm": {
     "name": "#%%\n"
    }
   }
  },
  {
   "cell_type": "code",
   "execution_count": 94,
   "outputs": [
    {
     "data": {
      "text/plain": "                                          cleaned_text  \\\n0    analytic kontaktiern arbeitgeber knn hinaus ve...   \n1    unabhngig datum groen tag verwenden deutschlan...   \n2    bei gemeinsaman arbeitgeber excellence unterwe...   \n3    wohlfhlen uninitiativen gesamt sicherheit verw...   \n4    urlaub geburtsbeihilfe arbeitgeber tag verwend...   \n..                                                 ...   \n940  arbeitgeber hinaus verwenden cookie informiere...   \n941  nachhaltigkeit softwareentwicklung sicherheit ...   \n942  writen worry act submit fidelity easy north cy...   \n943  beachten lear datum oral operation schrifen ge...   \n944  act value lear datum interesting operation ev ...   \n\n                                                job_id  \n0                                     0053e5f78b135d5a  \n1                                     00ef1c15bf5b5939  \n2                                     0176a1dc54841716  \n3                                     028876104a6b2d26  \n4                                     034b31000a95988c  \n..                                                 ...  \n940  https://de.indeed.com/viewjob?jk=fdd8d81f544bf511  \n941  https://de.indeed.com/viewjob?jk=fe322edbe2225eb6  \n942  https://de.indeed.com/viewjob?jk=fef83104f3acd912  \n943  https://de.indeed.com/viewjob?jk=ff0d468c9afc7eb4  \n944  https://de.indeed.com/viewjob?jk=ff6ccdbc95261d47  \n\n[945 rows x 2 columns]",
      "text/html": "<div>\n<style scoped>\n    .dataframe tbody tr th:only-of-type {\n        vertical-align: middle;\n    }\n\n    .dataframe tbody tr th {\n        vertical-align: top;\n    }\n\n    .dataframe thead th {\n        text-align: right;\n    }\n</style>\n<table border=\"1\" class=\"dataframe\">\n  <thead>\n    <tr style=\"text-align: right;\">\n      <th></th>\n      <th>cleaned_text</th>\n      <th>job_id</th>\n    </tr>\n  </thead>\n  <tbody>\n    <tr>\n      <th>0</th>\n      <td>analytic kontaktiern arbeitgeber knn hinaus ve...</td>\n      <td>0053e5f78b135d5a</td>\n    </tr>\n    <tr>\n      <th>1</th>\n      <td>unabhngig datum groen tag verwenden deutschlan...</td>\n      <td>00ef1c15bf5b5939</td>\n    </tr>\n    <tr>\n      <th>2</th>\n      <td>bei gemeinsaman arbeitgeber excellence unterwe...</td>\n      <td>0176a1dc54841716</td>\n    </tr>\n    <tr>\n      <th>3</th>\n      <td>wohlfhlen uninitiativen gesamt sicherheit verw...</td>\n      <td>028876104a6b2d26</td>\n    </tr>\n    <tr>\n      <th>4</th>\n      <td>urlaub geburtsbeihilfe arbeitgeber tag verwend...</td>\n      <td>034b31000a95988c</td>\n    </tr>\n    <tr>\n      <th>...</th>\n      <td>...</td>\n      <td>...</td>\n    </tr>\n    <tr>\n      <th>940</th>\n      <td>arbeitgeber hinaus verwenden cookie informiere...</td>\n      <td>https://de.indeed.com/viewjob?jk=fdd8d81f544bf511</td>\n    </tr>\n    <tr>\n      <th>941</th>\n      <td>nachhaltigkeit softwareentwicklung sicherheit ...</td>\n      <td>https://de.indeed.com/viewjob?jk=fe322edbe2225eb6</td>\n    </tr>\n    <tr>\n      <th>942</th>\n      <td>writen worry act submit fidelity easy north cy...</td>\n      <td>https://de.indeed.com/viewjob?jk=fef83104f3acd912</td>\n    </tr>\n    <tr>\n      <th>943</th>\n      <td>beachten lear datum oral operation schrifen ge...</td>\n      <td>https://de.indeed.com/viewjob?jk=ff0d468c9afc7eb4</td>\n    </tr>\n    <tr>\n      <th>944</th>\n      <td>act value lear datum interesting operation ev ...</td>\n      <td>https://de.indeed.com/viewjob?jk=ff6ccdbc95261d47</td>\n    </tr>\n  </tbody>\n</table>\n<p>945 rows × 2 columns</p>\n</div>"
     },
     "execution_count": 94,
     "metadata": {},
     "output_type": "execute_result"
    }
   ],
   "source": [
    "titles_df1.dropna()"
   ],
   "metadata": {
    "collapsed": false,
    "pycharm": {
     "name": "#%%\n"
    }
   }
  },
  {
   "cell_type": "code",
   "execution_count": null,
   "outputs": [],
   "source": [],
   "metadata": {
    "collapsed": false,
    "pycharm": {
     "name": "#%%\n"
    }
   }
  },
  {
   "cell_type": "code",
   "execution_count": 95,
   "outputs": [],
   "source": [
    "vectorizer = TfidfVectorizer()\n",
    "X = vectorizer.fit_transform(titles_df1['cleaned_text'])"
   ],
   "metadata": {
    "collapsed": false,
    "pycharm": {
     "name": "#%%\n"
    }
   }
  },
  {
   "cell_type": "code",
   "execution_count": 96,
   "outputs": [],
   "source": [
    "# Convert the matrix into a DataFrame\n",
    "tfidf_df = pd.DataFrame(X.toarray(), columns=vectorizer.get_feature_names_out())"
   ],
   "metadata": {
    "collapsed": false,
    "pycharm": {
     "name": "#%%\n"
    }
   }
  },
  {
   "cell_type": "code",
   "execution_count": 97,
   "outputs": [
    {
     "data": {
      "text/plain": "usw                    0.061858\nschriftlichen          0.061858\numsetzbare             0.061858\nausfhrungsstandard     0.061858\nmaschinellem           0.061858\n                        ...    \nnotwendigencookie     45.962586\ninformieren           45.962586\nindeedn               45.962586\nunterliegen           45.962586\nanalysierennsowie     45.962586\nLength: 14564, dtype: float64"
     },
     "execution_count": 97,
     "metadata": {},
     "output_type": "execute_result"
    }
   ],
   "source": [
    "tfidf_df.sum().sort_values()"
   ],
   "metadata": {
    "collapsed": false,
    "pycharm": {
     "name": "#%%\n"
    }
   }
  },
  {
   "cell_type": "code",
   "execution_count": null,
   "outputs": [],
   "source": [],
   "metadata": {
    "collapsed": false,
    "pycharm": {
     "name": "#%%\n",
     "is_executing": true
    }
   }
  },
  {
   "cell_type": "code",
   "execution_count": null,
   "outputs": [],
   "source": [],
   "metadata": {
    "collapsed": false,
    "pycharm": {
     "name": "#%%\n"
    }
   }
  },
  {
   "cell_type": "code",
   "execution_count": null,
   "outputs": [],
   "source": [],
   "metadata": {
    "collapsed": false,
    "pycharm": {
     "name": "#%%\n"
    }
   }
  },
  {
   "cell_type": "code",
   "execution_count": 52,
   "outputs": [],
   "source": [
    "import seaborn as sns"
   ],
   "metadata": {
    "collapsed": false,
    "pycharm": {
     "name": "#%%\n"
    }
   }
  },
  {
   "cell_type": "code",
   "execution_count": 53,
   "outputs": [],
   "source": [
    "from matplotlib import pyplot as plt"
   ],
   "metadata": {
    "collapsed": false,
    "pycharm": {
     "name": "#%%\n"
    }
   }
  },
  {
   "cell_type": "code",
   "execution_count": 54,
   "outputs": [
    {
     "data": {
      "text/plain": "                       0\naa              0.033010\naachen          0.523654\naasap           0.061241\nab              3.336843\nabaqus          0.038354\n...                  ...\nzwei            0.449456\nzweimal         0.063131\nzweites         0.131335\nzwingend        0.237594\nzwinscherhuman  0.055243\n\n[17521 rows x 1 columns]",
      "text/html": "<div>\n<style scoped>\n    .dataframe tbody tr th:only-of-type {\n        vertical-align: middle;\n    }\n\n    .dataframe tbody tr th {\n        vertical-align: top;\n    }\n\n    .dataframe thead th {\n        text-align: right;\n    }\n</style>\n<table border=\"1\" class=\"dataframe\">\n  <thead>\n    <tr style=\"text-align: right;\">\n      <th></th>\n      <th>0</th>\n    </tr>\n  </thead>\n  <tbody>\n    <tr>\n      <th>aa</th>\n      <td>0.033010</td>\n    </tr>\n    <tr>\n      <th>aachen</th>\n      <td>0.523654</td>\n    </tr>\n    <tr>\n      <th>aasap</th>\n      <td>0.061241</td>\n    </tr>\n    <tr>\n      <th>ab</th>\n      <td>3.336843</td>\n    </tr>\n    <tr>\n      <th>abaqus</th>\n      <td>0.038354</td>\n    </tr>\n    <tr>\n      <th>...</th>\n      <td>...</td>\n    </tr>\n    <tr>\n      <th>zwei</th>\n      <td>0.449456</td>\n    </tr>\n    <tr>\n      <th>zweimal</th>\n      <td>0.063131</td>\n    </tr>\n    <tr>\n      <th>zweites</th>\n      <td>0.131335</td>\n    </tr>\n    <tr>\n      <th>zwingend</th>\n      <td>0.237594</td>\n    </tr>\n    <tr>\n      <th>zwinscherhuman</th>\n      <td>0.055243</td>\n    </tr>\n  </tbody>\n</table>\n<p>17521 rows × 1 columns</p>\n</div>"
     },
     "execution_count": 54,
     "metadata": {},
     "output_type": "execute_result"
    }
   ],
   "source": [
    "tfidf_df.sum().to_frame()"
   ],
   "metadata": {
    "collapsed": false,
    "pycharm": {
     "name": "#%%\n"
    }
   }
  },
  {
   "cell_type": "code",
   "execution_count": 98,
   "outputs": [],
   "source": [
    "token_freq = pd.DataFrame(tfidf_df.sum(), columns=['freq'])"
   ],
   "metadata": {
    "collapsed": false,
    "pycharm": {
     "name": "#%%\n"
    }
   }
  },
  {
   "cell_type": "code",
   "execution_count": 82,
   "outputs": [],
   "source": [
    "token_list = token_freq.reset_index()['index'].to_list()"
   ],
   "metadata": {
    "collapsed": false,
    "pycharm": {
     "name": "#%%\n"
    }
   }
  },
  {
   "cell_type": "code",
   "execution_count": null,
   "outputs": [],
   "source": [],
   "metadata": {
    "collapsed": false,
    "pycharm": {
     "name": "#%%\n"
    }
   }
  },
  {
   "cell_type": "code",
   "execution_count": 84,
   "outputs": [
    {
     "name": "stderr",
     "output_type": "stream",
     "text": [
      "100%|██████████| 17521/17521 [01:21<00:00, 215.65it/s]\n"
     ]
    }
   ],
   "source": [
    "tokens = [nlp_de(nlp_en(token)[0].lemma_)[0].lemma_ for token in tqdm(token_list)]"
   ],
   "metadata": {
    "collapsed": false,
    "pycharm": {
     "name": "#%%\n"
    }
   }
  },
  {
   "cell_type": "code",
   "execution_count": 85,
   "outputs": [],
   "source": [
    "tokens = set(list(tokens))"
   ],
   "metadata": {
    "collapsed": false,
    "pycharm": {
     "name": "#%%\n"
    }
   }
  },
  {
   "cell_type": "code",
   "execution_count": 86,
   "outputs": [
    {
     "data": {
      "text/plain": "14747"
     },
     "execution_count": 86,
     "metadata": {},
     "output_type": "execute_result"
    }
   ],
   "source": [
    "len(tokens)"
   ],
   "metadata": {
    "collapsed": false,
    "pycharm": {
     "name": "#%%\n"
    }
   }
  },
  {
   "cell_type": "code",
   "execution_count": null,
   "outputs": [],
   "source": [],
   "metadata": {
    "collapsed": false,
    "pycharm": {
     "name": "#%%\n"
    }
   }
  },
  {
   "cell_type": "code",
   "execution_count": 99,
   "outputs": [
    {
     "name": "stdout",
     "output_type": "stream",
     "text": [
      "25th percentile (Q1): 0.10782296361261831\n",
      "50th percentile (Q2, Median): 0.16574391238009817\n",
      "75th percentile (Q3): 0.37879139055590877\n"
     ]
    }
   ],
   "source": [
    "q1 = token_freq['freq'].quantile(0.25)\n",
    "q2 = token_freq['freq'].quantile(0.5)\n",
    "q3 = token_freq['freq'].quantile(0.75)\n",
    "\n",
    "# Print quantiles\n",
    "print(f\"25th percentile (Q1): {q1}\")\n",
    "print(f\"50th percentile (Q2, Median): {q2}\")\n",
    "print(f\"75th percentile (Q3): {q3}\")"
   ],
   "metadata": {
    "collapsed": false,
    "pycharm": {
     "name": "#%%\n"
    }
   }
  },
  {
   "cell_type": "code",
   "execution_count": null,
   "outputs": [],
   "source": [],
   "metadata": {
    "collapsed": false,
    "pycharm": {
     "name": "#%%\n"
    }
   }
  },
  {
   "cell_type": "code",
   "execution_count": 118,
   "outputs": [
    {
     "data": {
      "text/plain": "1.5057778216755073"
     },
     "execution_count": 118,
     "metadata": {},
     "output_type": "execute_result"
    }
   ],
   "source": [
    "token_freq['freq'].quantile(0.925)"
   ],
   "metadata": {
    "collapsed": false,
    "pycharm": {
     "name": "#%%\n"
    }
   }
  },
  {
   "cell_type": "code",
   "execution_count": 120,
   "outputs": [],
   "source": [
    "token_freq.loc[token_freq['freq']>token_freq['freq'].quantile(0.925)].to_excel('tfidf_tokens.xlsx')"
   ],
   "metadata": {
    "collapsed": false,
    "pycharm": {
     "name": "#%%\n"
    }
   }
  },
  {
   "cell_type": "code",
   "execution_count": 105,
   "outputs": [],
   "source": [
    "token_freq1 = token_freq.reset_index()"
   ],
   "metadata": {
    "collapsed": false,
    "pycharm": {
     "name": "#%%\n"
    }
   }
  },
  {
   "cell_type": "code",
   "execution_count": 107,
   "outputs": [
    {
     "data": {
      "text/plain": "     index      freq\n6868  java  1.545396",
      "text/html": "<div>\n<style scoped>\n    .dataframe tbody tr th:only-of-type {\n        vertical-align: middle;\n    }\n\n    .dataframe tbody tr th {\n        vertical-align: top;\n    }\n\n    .dataframe thead th {\n        text-align: right;\n    }\n</style>\n<table border=\"1\" class=\"dataframe\">\n  <thead>\n    <tr style=\"text-align: right;\">\n      <th></th>\n      <th>index</th>\n      <th>freq</th>\n    </tr>\n  </thead>\n  <tbody>\n    <tr>\n      <th>6868</th>\n      <td>java</td>\n      <td>1.545396</td>\n    </tr>\n  </tbody>\n</table>\n</div>"
     },
     "execution_count": 107,
     "metadata": {},
     "output_type": "execute_result"
    }
   ],
   "source": [
    "token_freq1.loc[token_freq1['index']=='java']"
   ],
   "metadata": {
    "collapsed": false,
    "pycharm": {
     "name": "#%%\n"
    }
   }
  },
  {
   "cell_type": "code",
   "execution_count": null,
   "outputs": [],
   "source": [],
   "metadata": {
    "collapsed": false,
    "pycharm": {
     "name": "#%%\n",
     "is_executing": true
    }
   }
  },
  {
   "cell_type": "markdown",
   "source": [
    "# Selected Tokens"
   ],
   "metadata": {
    "collapsed": false,
    "pycharm": {
     "name": "#%% md\n"
    }
   }
  },
  {
   "cell_type": "code",
   "execution_count": 122,
   "outputs": [],
   "source": [
    "selected_tokens = pd.read_excel('tfidf_tokens.xlsx')"
   ],
   "metadata": {
    "collapsed": false,
    "pycharm": {
     "name": "#%%\n"
    }
   }
  },
  {
   "cell_type": "code",
   "execution_count": 123,
   "outputs": [
    {
     "data": {
      "text/plain": "                  token       freq\n0     analysierennsowie  45.962586\n1              anzeigen  45.962586\n2                cookie  45.962586\n3             empfehlen  45.962586\n4        erhaltennhaben  45.962586\n...                 ...        ...\n1085             komman   1.512492\n1086          bernehman   1.509167\n1087             werden   1.507841\n1088            leipzig   1.507704\n1089        educational   1.505926\n\n[1090 rows x 2 columns]",
      "text/html": "<div>\n<style scoped>\n    .dataframe tbody tr th:only-of-type {\n        vertical-align: middle;\n    }\n\n    .dataframe tbody tr th {\n        vertical-align: top;\n    }\n\n    .dataframe thead th {\n        text-align: right;\n    }\n</style>\n<table border=\"1\" class=\"dataframe\">\n  <thead>\n    <tr style=\"text-align: right;\">\n      <th></th>\n      <th>token</th>\n      <th>freq</th>\n    </tr>\n  </thead>\n  <tbody>\n    <tr>\n      <th>0</th>\n      <td>analysierennsowie</td>\n      <td>45.962586</td>\n    </tr>\n    <tr>\n      <th>1</th>\n      <td>anzeigen</td>\n      <td>45.962586</td>\n    </tr>\n    <tr>\n      <th>2</th>\n      <td>cookie</td>\n      <td>45.962586</td>\n    </tr>\n    <tr>\n      <th>3</th>\n      <td>empfehlen</td>\n      <td>45.962586</td>\n    </tr>\n    <tr>\n      <th>4</th>\n      <td>erhaltennhaben</td>\n      <td>45.962586</td>\n    </tr>\n    <tr>\n      <th>...</th>\n      <td>...</td>\n      <td>...</td>\n    </tr>\n    <tr>\n      <th>1085</th>\n      <td>komman</td>\n      <td>1.512492</td>\n    </tr>\n    <tr>\n      <th>1086</th>\n      <td>bernehman</td>\n      <td>1.509167</td>\n    </tr>\n    <tr>\n      <th>1087</th>\n      <td>werden</td>\n      <td>1.507841</td>\n    </tr>\n    <tr>\n      <th>1088</th>\n      <td>leipzig</td>\n      <td>1.507704</td>\n    </tr>\n    <tr>\n      <th>1089</th>\n      <td>educational</td>\n      <td>1.505926</td>\n    </tr>\n  </tbody>\n</table>\n<p>1090 rows × 2 columns</p>\n</div>"
     },
     "execution_count": 123,
     "metadata": {},
     "output_type": "execute_result"
    }
   ],
   "source": [
    "selected_tokens"
   ],
   "metadata": {
    "collapsed": false,
    "pycharm": {
     "name": "#%%\n"
    }
   }
  },
  {
   "cell_type": "code",
   "execution_count": 126,
   "outputs": [],
   "source": [
    "tfidf_df1 = tfidf_df[selected_tokens['token'].to_list()].copy()"
   ],
   "metadata": {
    "collapsed": false,
    "pycharm": {
     "name": "#%%\n"
    }
   }
  },
  {
   "cell_type": "code",
   "execution_count": null,
   "outputs": [],
   "source": [],
   "metadata": {
    "collapsed": false,
    "pycharm": {
     "name": "#%%\n",
     "is_executing": true
    }
   }
  },
  {
   "cell_type": "markdown",
   "source": [
    "# Clusterization"
   ],
   "metadata": {
    "collapsed": false,
    "pycharm": {
     "name": "#%% md\n"
    }
   }
  },
  {
   "cell_type": "code",
   "execution_count": 128,
   "outputs": [
    {
     "name": "stderr",
     "output_type": "stream",
     "text": [
      "/Users/dp_user/PycharmProjects/arbeite_parser/venv/lib/python3.11/site-packages/sklearn/cluster/_kmeans.py:1412: FutureWarning: The default value of `n_init` will change from 10 to 'auto' in 1.4. Set the value of `n_init` explicitly to suppress the warning\n",
      "  super()._check_params_vs_input(X, default_n_init=10)\n"
     ]
    }
   ],
   "source": [
    "from sklearn.cluster import KMeans\n",
    "\n",
    "n_clusters = 5  # replace with the number of clusters you want\n",
    "\n",
    "# Prepare the data for clustering\n",
    "X = tfidf_df1\n",
    "\n",
    "# Initialize the KMeans object\n",
    "kmeans = KMeans(n_clusters=n_clusters, random_state=0)\n",
    "\n",
    "# Perform clustering\n",
    "tfidf_df1['cluster'] = kmeans.fit_predict(X)"
   ],
   "metadata": {
    "collapsed": false,
    "pycharm": {
     "name": "#%%\n"
    }
   }
  },
  {
   "cell_type": "code",
   "execution_count": 130,
   "outputs": [],
   "source": [
    "tfidf_df1['job_id'] = titles_df['job_id']"
   ],
   "metadata": {
    "collapsed": false,
    "pycharm": {
     "name": "#%%\n"
    }
   }
  },
  {
   "cell_type": "code",
   "execution_count": 134,
   "outputs": [],
   "source": [
    "jobs_df['cluster_descr'] = tfidf_df1['cluster']"
   ],
   "metadata": {
    "collapsed": false,
    "pycharm": {
     "name": "#%%\n"
    }
   }
  },
  {
   "cell_type": "code",
   "execution_count": 136,
   "outputs": [
    {
     "data": {
      "text/plain": "               job_id\ncluster_descr        \n0                 148\n1                  53\n2                  11\n3                 299\n4                 434",
      "text/html": "<div>\n<style scoped>\n    .dataframe tbody tr th:only-of-type {\n        vertical-align: middle;\n    }\n\n    .dataframe tbody tr th {\n        vertical-align: top;\n    }\n\n    .dataframe thead th {\n        text-align: right;\n    }\n</style>\n<table border=\"1\" class=\"dataframe\">\n  <thead>\n    <tr style=\"text-align: right;\">\n      <th></th>\n      <th>job_id</th>\n    </tr>\n    <tr>\n      <th>cluster_descr</th>\n      <th></th>\n    </tr>\n  </thead>\n  <tbody>\n    <tr>\n      <th>0</th>\n      <td>148</td>\n    </tr>\n    <tr>\n      <th>1</th>\n      <td>53</td>\n    </tr>\n    <tr>\n      <th>2</th>\n      <td>11</td>\n    </tr>\n    <tr>\n      <th>3</th>\n      <td>299</td>\n    </tr>\n    <tr>\n      <th>4</th>\n      <td>434</td>\n    </tr>\n  </tbody>\n</table>\n</div>"
     },
     "execution_count": 136,
     "metadata": {},
     "output_type": "execute_result"
    }
   ],
   "source": [
    "jobs_df[['cluster_descr', 'job_id']].groupby('cluster_descr').count()"
   ],
   "metadata": {
    "collapsed": false,
    "pycharm": {
     "name": "#%%\n"
    }
   }
  },
  {
   "cell_type": "code",
   "execution_count": 137,
   "outputs": [],
   "source": [
    "jobs_df.to_excel('clustered_de_jobs.xlsx', index=False)"
   ],
   "metadata": {
    "collapsed": false,
    "pycharm": {
     "name": "#%%\n"
    }
   }
  },
  {
   "cell_type": "code",
   "execution_count": 138,
   "outputs": [],
   "source": [
    "## data is too messed, need to clean better"
   ],
   "metadata": {
    "collapsed": false,
    "pycharm": {
     "name": "#%%\n"
    }
   }
  },
  {
   "cell_type": "code",
   "execution_count": null,
   "outputs": [],
   "source": [],
   "metadata": {
    "collapsed": false,
    "pycharm": {
     "name": "#%%\n"
    }
   }
  }
 ],
 "metadata": {
  "kernelspec": {
   "name": "arbeite_parser",
   "language": "python",
   "display_name": "arbeite_parser"
  },
  "language_info": {
   "codemirror_mode": {
    "name": "ipython",
    "version": 2
   },
   "file_extension": ".py",
   "mimetype": "text/x-python",
   "name": "python",
   "nbconvert_exporter": "python",
   "pygments_lexer": "ipython2",
   "version": "2.7.6"
  }
 },
 "nbformat": 4,
 "nbformat_minor": 0
}