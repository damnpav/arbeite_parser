{
 "cells": [
  {
   "cell_type": "code",
   "execution_count": 1,
   "metadata": {
    "collapsed": true,
    "pycharm": {
     "name": "#%%\n"
    }
   },
   "outputs": [],
   "source": [
    "import pandas as pd"
   ]
  },
  {
   "cell_type": "code",
   "execution_count": 2,
   "outputs": [],
   "source": [
    "from ydata_profiling import ProfileReport"
   ],
   "metadata": {
    "collapsed": false,
    "pycharm": {
     "name": "#%%\n"
    }
   }
  },
  {
   "cell_type": "code",
   "execution_count": 3,
   "outputs": [],
   "source": [
    "jobs_df = pd.read_excel('de_python_jobs_cleaned.xlsx')"
   ],
   "metadata": {
    "collapsed": false,
    "pycharm": {
     "name": "#%%\n"
    }
   }
  },
  {
   "cell_type": "code",
   "execution_count": 4,
   "outputs": [
    {
     "data": {
      "text/plain": "                                                job_id  \\\n0                                     0053e5f78b135d5a   \n1                                     00ef1c15bf5b5939   \n2                                     0176a1dc54841716   \n3                                     028876104a6b2d26   \n4                                     034b31000a95988c   \n..                                                 ...   \n955  https://de.indeed.com/viewjob?jk=fdd8d81f544bf511   \n956  https://de.indeed.com/viewjob?jk=fe322edbe2225eb6   \n957  https://de.indeed.com/viewjob?jk=fef83104f3acd912   \n958  https://de.indeed.com/viewjob?jk=ff0d468c9afc7eb4   \n959  https://de.indeed.com/viewjob?jk=ff6ccdbc95261d47   \n\n                                             job_title  \\\n0                                Web Developer (m/w/d)   \n1              (Junior) Data Engineer - Python (w/m/d)   \n2                                 BI Developer (w/m/d)   \n3        (Junior) Softwareentwickler*in Python (w/m/d)   \n4     Software Test Engineer (m/w/d) Python oder C/C++   \n..                                                 ...   \n955  Masterarbeit / Praxissemester im Bereich Entwi...   \n956  Mathematiker/Physiker Testing und Entwicklung ...   \n957                  Junior Software Developer (d/f/m)   \n958  Lead Analyst Monitoring &amp; Screening (d/m/w...   \n959                             Data Scientist (d/f/m)   \n\n                                                titles  \\\n0    Web Developer (m/w/d) - Home Office - Indeed.c...   \n1    (Junior) Data Engineer - Python (w/m/d) - 1040...   \n2    BI Developer (w/m/d) - Home Office - Indeed.co...   \n3    (Junior) Softwareentwickler*in Python (w/m/d) ...   \n4    Software Test Engineer (m/w/d) Python oder C/C...   \n..                                                 ...   \n955  Masterarbeit / Praxissemester im Bereich Entwi...   \n956  Mathematiker/Physiker Testing und Entwicklung ...   \n957  Junior Software Developer (d/f/m) - 85077 Manc...   \n958  Lead Analyst Monitoring & Screening (d/m/w) An...   \n959  Data Scientist (d/f/m) - Berlin - Indeed.com',...   \n\n                                            descr_list                city  \\\n0    Mit einem Team von 25 Mitarbeiterinnen und Mit...  84347 Pfarrkirchen   \n1    Location: Hamburg, Berlin, Köln, Düsseldorf, G...              255462   \n2    Wir, in der BI Domain Logistics Management, se...                 NaN   \n3     Bochum  Unbefristet Vollzeit  IT 5848Wir freu...           Not found   \n4     In diesem Video geben wir persönliche Einblic...           Not found   \n..                                                 ...                 ...   \n955  Wir verwenden Cookies, um Inhalte und Anzeigen...           Not found   \n956  Du suchst das Besondere, das Spezielle, das Wo...           Not found   \n957  Job Description: In order to take our Engineer...           Not found   \n958  ***English version below*** Die Deutsche Bank ...           Not found   \n959  Why Scout24? Scout24 is home of ImmoScout24, G...           Not found   \n\n                                               Company  \n0    coreweb – Gesellschaft für consumer relevant w...  \n1                                smartclip Europe GmbH  \n2                                  Otto (GmbH & Co KG)  \n3                                  TÜV Rheinland Group  \n4                        ROHDE & SCHWARZ GmbH & Co. KG  \n..                                                 ...  \n955                                        ZEISS Group  \n956                                          Accenture  \n957                                             Airbus  \n958                                      Deutsche Bank  \n959                                        ImmoScout24  \n\n[960 rows x 6 columns]",
      "text/html": "<div>\n<style scoped>\n    .dataframe tbody tr th:only-of-type {\n        vertical-align: middle;\n    }\n\n    .dataframe tbody tr th {\n        vertical-align: top;\n    }\n\n    .dataframe thead th {\n        text-align: right;\n    }\n</style>\n<table border=\"1\" class=\"dataframe\">\n  <thead>\n    <tr style=\"text-align: right;\">\n      <th></th>\n      <th>job_id</th>\n      <th>job_title</th>\n      <th>titles</th>\n      <th>descr_list</th>\n      <th>city</th>\n      <th>Company</th>\n    </tr>\n  </thead>\n  <tbody>\n    <tr>\n      <th>0</th>\n      <td>0053e5f78b135d5a</td>\n      <td>Web Developer (m/w/d)</td>\n      <td>Web Developer (m/w/d) - Home Office - Indeed.c...</td>\n      <td>Mit einem Team von 25 Mitarbeiterinnen und Mit...</td>\n      <td>84347 Pfarrkirchen</td>\n      <td>coreweb – Gesellschaft für consumer relevant w...</td>\n    </tr>\n    <tr>\n      <th>1</th>\n      <td>00ef1c15bf5b5939</td>\n      <td>(Junior) Data Engineer - Python (w/m/d)</td>\n      <td>(Junior) Data Engineer - Python (w/m/d) - 1040...</td>\n      <td>Location: Hamburg, Berlin, Köln, Düsseldorf, G...</td>\n      <td>255462</td>\n      <td>smartclip Europe GmbH</td>\n    </tr>\n    <tr>\n      <th>2</th>\n      <td>0176a1dc54841716</td>\n      <td>BI Developer (w/m/d)</td>\n      <td>BI Developer (w/m/d) - Home Office - Indeed.co...</td>\n      <td>Wir, in der BI Domain Logistics Management, se...</td>\n      <td>NaN</td>\n      <td>Otto (GmbH &amp; Co KG)</td>\n    </tr>\n    <tr>\n      <th>3</th>\n      <td>028876104a6b2d26</td>\n      <td>(Junior) Softwareentwickler*in Python (w/m/d)</td>\n      <td>(Junior) Softwareentwickler*in Python (w/m/d) ...</td>\n      <td>Bochum  Unbefristet Vollzeit  IT 5848Wir freu...</td>\n      <td>Not found</td>\n      <td>TÜV Rheinland Group</td>\n    </tr>\n    <tr>\n      <th>4</th>\n      <td>034b31000a95988c</td>\n      <td>Software Test Engineer (m/w/d) Python oder C/C++</td>\n      <td>Software Test Engineer (m/w/d) Python oder C/C...</td>\n      <td>In diesem Video geben wir persönliche Einblic...</td>\n      <td>Not found</td>\n      <td>ROHDE &amp; SCHWARZ GmbH &amp; Co. KG</td>\n    </tr>\n    <tr>\n      <th>...</th>\n      <td>...</td>\n      <td>...</td>\n      <td>...</td>\n      <td>...</td>\n      <td>...</td>\n      <td>...</td>\n    </tr>\n    <tr>\n      <th>955</th>\n      <td>https://de.indeed.com/viewjob?jk=fdd8d81f544bf511</td>\n      <td>Masterarbeit / Praxissemester im Bereich Entwi...</td>\n      <td>Masterarbeit / Praxissemester im Bereich Entwi...</td>\n      <td>Wir verwenden Cookies, um Inhalte und Anzeigen...</td>\n      <td>Not found</td>\n      <td>ZEISS Group</td>\n    </tr>\n    <tr>\n      <th>956</th>\n      <td>https://de.indeed.com/viewjob?jk=fe322edbe2225eb6</td>\n      <td>Mathematiker/Physiker Testing und Entwicklung ...</td>\n      <td>Mathematiker/Physiker Testing und Entwicklung ...</td>\n      <td>Du suchst das Besondere, das Spezielle, das Wo...</td>\n      <td>Not found</td>\n      <td>Accenture</td>\n    </tr>\n    <tr>\n      <th>957</th>\n      <td>https://de.indeed.com/viewjob?jk=fef83104f3acd912</td>\n      <td>Junior Software Developer (d/f/m)</td>\n      <td>Junior Software Developer (d/f/m) - 85077 Manc...</td>\n      <td>Job Description: In order to take our Engineer...</td>\n      <td>Not found</td>\n      <td>Airbus</td>\n    </tr>\n    <tr>\n      <th>958</th>\n      <td>https://de.indeed.com/viewjob?jk=ff0d468c9afc7eb4</td>\n      <td>Lead Analyst Monitoring &amp;amp; Screening (d/m/w...</td>\n      <td>Lead Analyst Monitoring &amp; Screening (d/m/w) An...</td>\n      <td>***English version below*** Die Deutsche Bank ...</td>\n      <td>Not found</td>\n      <td>Deutsche Bank</td>\n    </tr>\n    <tr>\n      <th>959</th>\n      <td>https://de.indeed.com/viewjob?jk=ff6ccdbc95261d47</td>\n      <td>Data Scientist (d/f/m)</td>\n      <td>Data Scientist (d/f/m) - Berlin - Indeed.com',...</td>\n      <td>Why Scout24? Scout24 is home of ImmoScout24, G...</td>\n      <td>Not found</td>\n      <td>ImmoScout24</td>\n    </tr>\n  </tbody>\n</table>\n<p>960 rows × 6 columns</p>\n</div>"
     },
     "execution_count": 4,
     "metadata": {},
     "output_type": "execute_result"
    }
   ],
   "source": [
    "jobs_df['job_id']"
   ],
   "metadata": {
    "collapsed": false,
    "pycharm": {
     "name": "#%%\n"
    }
   }
  },
  {
   "cell_type": "code",
   "execution_count": 5,
   "outputs": [
    {
     "data": {
      "text/plain": "910"
     },
     "execution_count": 5,
     "metadata": {},
     "output_type": "execute_result"
    }
   ],
   "source": [
    "jobs_df['job_id'].nunique()  # есть дубликаты"
   ],
   "metadata": {
    "collapsed": false,
    "pycharm": {
     "name": "#%%\n"
    }
   }
  },
  {
   "cell_type": "code",
   "execution_count": 7,
   "outputs": [
    {
     "data": {
      "text/plain": "Empty DataFrame\nColumns: []\nIndex: [0053e5f78b135d5a, 00ef1c15bf5b5939, 0176a1dc54841716, 028876104a6b2d26, 034b31000a95988c, 061e5335094f000d, 0995d50707a6ed2b, 0a27943e6c73e9c7, 0a34c6921742a18d, 0b2db6752c84460a, https://de.indeed.com/viewjob?jk=0007e563ee6b7554, https://de.indeed.com/viewjob?jk=00113912ed755fed, https://de.indeed.com/viewjob?jk=0053e5f78b135d5a, https://de.indeed.com/viewjob?jk=00a2d82c2102d54c, https://de.indeed.com/viewjob?jk=00ef1c15bf5b5939, https://de.indeed.com/viewjob?jk=00f6541c28cdfa86, https://de.indeed.com/viewjob?jk=01244dbd10076268, https://de.indeed.com/viewjob?jk=0176a1dc54841716, https://de.indeed.com/viewjob?jk=019bd8ff3f87bb4a, https://de.indeed.com/viewjob?jk=01aa72a90a444468, https://de.indeed.com/viewjob?jk=0265a7c5faa8a099, https://de.indeed.com/viewjob?jk=0278b944002a3984, https://de.indeed.com/viewjob?jk=028876104a6b2d26, https://de.indeed.com/viewjob?jk=0313220d009eb400, https://de.indeed.com/viewjob?jk=031eb7571509115e, https://de.indeed.com/viewjob?jk=032c86130bb62cfa, https://de.indeed.com/viewjob?jk=034b31000a95988c, https://de.indeed.com/viewjob?jk=0380d05ad0935b31, https://de.indeed.com/viewjob?jk=0386edf89d26c36e, https://de.indeed.com/viewjob?jk=039280ada5f00ce5, https://de.indeed.com/viewjob?jk=03a67d5bf9834ed2, https://de.indeed.com/viewjob?jk=04069f2c32fefe19, https://de.indeed.com/viewjob?jk=04ee157117a530c7, https://de.indeed.com/viewjob?jk=04f5a757aeb46b73, https://de.indeed.com/viewjob?jk=05b881cc95ba7742, https://de.indeed.com/viewjob?jk=05d72b73f839a22e, https://de.indeed.com/viewjob?jk=061e5335094f000d, https://de.indeed.com/viewjob?jk=06bcdaa94e593625, https://de.indeed.com/viewjob?jk=06d86295f509f9c4, https://de.indeed.com/viewjob?jk=070c93d347cce60a, https://de.indeed.com/viewjob?jk=075c14b740eaec73, https://de.indeed.com/viewjob?jk=0774dc88f424905e, https://de.indeed.com/viewjob?jk=0793c90aa063abbb, https://de.indeed.com/viewjob?jk=07d22057967b8582, https://de.indeed.com/viewjob?jk=085d9996433fac93, https://de.indeed.com/viewjob?jk=08be975f1f5ff41e, https://de.indeed.com/viewjob?jk=08cafc0a446acc82, https://de.indeed.com/viewjob?jk=08d84374873500a4, https://de.indeed.com/viewjob?jk=094c31f3df3bd182, https://de.indeed.com/viewjob?jk=0995d50707a6ed2b, https://de.indeed.com/viewjob?jk=09a89538c2dfa570, https://de.indeed.com/viewjob?jk=09ab6c98256973fd, https://de.indeed.com/viewjob?jk=09f15a845955cfd5, https://de.indeed.com/viewjob?jk=0a11cac2389cf73a, https://de.indeed.com/viewjob?jk=0a27943e6c73e9c7, https://de.indeed.com/viewjob?jk=0a34c6921742a18d, https://de.indeed.com/viewjob?jk=0a37247c0c3d5b55, https://de.indeed.com/viewjob?jk=0a3a39bbbcd887d3, https://de.indeed.com/viewjob?jk=0a51baa9899c4adb, https://de.indeed.com/viewjob?jk=0a6a76f46f7f3fc3, https://de.indeed.com/viewjob?jk=0b2db6752c84460a, https://de.indeed.com/viewjob?jk=0bc950ba76cdc0b3, https://de.indeed.com/viewjob?jk=0c2354d5d6006c16, https://de.indeed.com/viewjob?jk=0c514823e340ef83, https://de.indeed.com/viewjob?jk=0df9a5bd011b4e6e, https://de.indeed.com/viewjob?jk=0ea313757ebb0d44, https://de.indeed.com/viewjob?jk=0f9655cd6558486d, https://de.indeed.com/viewjob?jk=0f9cc893fba20fc8, https://de.indeed.com/viewjob?jk=0ff2c9cfb135e2cd, https://de.indeed.com/viewjob?jk=10260688ac0b40d5, https://de.indeed.com/viewjob?jk=10a2545f17b3c018, https://de.indeed.com/viewjob?jk=10e8d5766a146f00, https://de.indeed.com/viewjob?jk=119d7313f67aba23, https://de.indeed.com/viewjob?jk=11dd066dde271b4e, https://de.indeed.com/viewjob?jk=11ec4a8bf6c5137b, https://de.indeed.com/viewjob?jk=11f8e40fd38c773a, https://de.indeed.com/viewjob?jk=121a7bbf78a8940e, https://de.indeed.com/viewjob?jk=121e2eea36340373, https://de.indeed.com/viewjob?jk=126586c447f9e032, https://de.indeed.com/viewjob?jk=1285523f07dad6bc, https://de.indeed.com/viewjob?jk=12b830880cd695e8, https://de.indeed.com/viewjob?jk=12bd17ca05c89f5a, https://de.indeed.com/viewjob?jk=130ba38bff7ad892, https://de.indeed.com/viewjob?jk=134c1b4691b17615, https://de.indeed.com/viewjob?jk=13a74cec84db0006, https://de.indeed.com/viewjob?jk=13bcaba721606c7e, https://de.indeed.com/viewjob?jk=13fd345621f4c2d6, https://de.indeed.com/viewjob?jk=143b8121edfcc7e8, https://de.indeed.com/viewjob?jk=14bf27d3664574c5, https://de.indeed.com/viewjob?jk=14e6d90f6ad90cee, https://de.indeed.com/viewjob?jk=14f40fcfaa8c4caa, https://de.indeed.com/viewjob?jk=152534eb338e9b3b, https://de.indeed.com/viewjob?jk=1531bd3a98e8f51c, https://de.indeed.com/viewjob?jk=1537ed5497d5a5cb, https://de.indeed.com/viewjob?jk=15555fc81b3aa82f, https://de.indeed.com/viewjob?jk=15c2d0d9de58981d, https://de.indeed.com/viewjob?jk=16501610fe1c2893, https://de.indeed.com/viewjob?jk=1682020d3db455ff, https://de.indeed.com/viewjob?jk=16bed987683e652e, https://de.indeed.com/viewjob?jk=1714f4cd0eb8ec78, ...]\n\n[910 rows x 0 columns]",
      "text/html": "<div>\n<style scoped>\n    .dataframe tbody tr th:only-of-type {\n        vertical-align: middle;\n    }\n\n    .dataframe tbody tr th {\n        vertical-align: top;\n    }\n\n    .dataframe thead th {\n        text-align: right;\n    }\n</style>\n<table border=\"1\" class=\"dataframe\">\n  <thead>\n    <tr style=\"text-align: right;\">\n      <th></th>\n    </tr>\n    <tr>\n      <th>job_id</th>\n    </tr>\n  </thead>\n  <tbody>\n    <tr>\n      <th>0053e5f78b135d5a</th>\n    </tr>\n    <tr>\n      <th>00ef1c15bf5b5939</th>\n    </tr>\n    <tr>\n      <th>0176a1dc54841716</th>\n    </tr>\n    <tr>\n      <th>028876104a6b2d26</th>\n    </tr>\n    <tr>\n      <th>034b31000a95988c</th>\n    </tr>\n    <tr>\n      <th>...</th>\n    </tr>\n    <tr>\n      <th>https://de.indeed.com/viewjob?jk=fe322edbe2225eb6</th>\n    </tr>\n    <tr>\n      <th>https://de.indeed.com/viewjob?jk=fef5756de6cba848</th>\n    </tr>\n    <tr>\n      <th>https://de.indeed.com/viewjob?jk=fef83104f3acd912</th>\n    </tr>\n    <tr>\n      <th>https://de.indeed.com/viewjob?jk=ff0d468c9afc7eb4</th>\n    </tr>\n    <tr>\n      <th>https://de.indeed.com/viewjob?jk=ff6ccdbc95261d47</th>\n    </tr>\n  </tbody>\n</table>\n<p>910 rows × 0 columns</p>\n</div>"
     },
     "execution_count": 7,
     "metadata": {},
     "output_type": "execute_result"
    }
   ],
   "source": [
    "jobs_df[['job_id']].groupby('job_id').agg('count')"
   ],
   "metadata": {
    "collapsed": false,
    "pycharm": {
     "name": "#%%\n"
    }
   }
  },
  {
   "cell_type": "code",
   "execution_count": 10,
   "outputs": [
    {
     "data": {
      "text/plain": "                                                   job_id\njob_id                                                   \n0053e5f78b135d5a                                        6\n00ef1c15bf5b5939                                        6\n0176a1dc54841716                                        6\n028876104a6b2d26                                        6\n034b31000a95988c                                        6\n...                                                   ...\nhttps://de.indeed.com/viewjob?jk=fe322edbe2225eb6       1\nhttps://de.indeed.com/viewjob?jk=fef5756de6cba848       1\nhttps://de.indeed.com/viewjob?jk=fef83104f3acd912       1\nhttps://de.indeed.com/viewjob?jk=ff0d468c9afc7eb4       1\nhttps://de.indeed.com/viewjob?jk=ff6ccdbc95261d47       1\n\n[910 rows x 1 columns]",
      "text/html": "<div>\n<style scoped>\n    .dataframe tbody tr th:only-of-type {\n        vertical-align: middle;\n    }\n\n    .dataframe tbody tr th {\n        vertical-align: top;\n    }\n\n    .dataframe thead th {\n        text-align: right;\n    }\n</style>\n<table border=\"1\" class=\"dataframe\">\n  <thead>\n    <tr style=\"text-align: right;\">\n      <th></th>\n      <th>job_id</th>\n    </tr>\n    <tr>\n      <th>job_id</th>\n      <th></th>\n    </tr>\n  </thead>\n  <tbody>\n    <tr>\n      <th>0053e5f78b135d5a</th>\n      <td>6</td>\n    </tr>\n    <tr>\n      <th>00ef1c15bf5b5939</th>\n      <td>6</td>\n    </tr>\n    <tr>\n      <th>0176a1dc54841716</th>\n      <td>6</td>\n    </tr>\n    <tr>\n      <th>028876104a6b2d26</th>\n      <td>6</td>\n    </tr>\n    <tr>\n      <th>034b31000a95988c</th>\n      <td>6</td>\n    </tr>\n    <tr>\n      <th>...</th>\n      <td>...</td>\n    </tr>\n    <tr>\n      <th>https://de.indeed.com/viewjob?jk=fe322edbe2225eb6</th>\n      <td>1</td>\n    </tr>\n    <tr>\n      <th>https://de.indeed.com/viewjob?jk=fef5756de6cba848</th>\n      <td>1</td>\n    </tr>\n    <tr>\n      <th>https://de.indeed.com/viewjob?jk=fef83104f3acd912</th>\n      <td>1</td>\n    </tr>\n    <tr>\n      <th>https://de.indeed.com/viewjob?jk=ff0d468c9afc7eb4</th>\n      <td>1</td>\n    </tr>\n    <tr>\n      <th>https://de.indeed.com/viewjob?jk=ff6ccdbc95261d47</th>\n      <td>1</td>\n    </tr>\n  </tbody>\n</table>\n<p>910 rows × 1 columns</p>\n</div>"
     },
     "execution_count": 10,
     "metadata": {},
     "output_type": "execute_result"
    }
   ],
   "source": [
    "jobs_df[['job_id']].groupby('job_id').agg({'job_id': 'count'})"
   ],
   "metadata": {
    "collapsed": false,
    "pycharm": {
     "name": "#%%\n"
    }
   }
  },
  {
   "cell_type": "code",
   "execution_count": 12,
   "outputs": [
    {
     "data": {
      "text/plain": "              job_id              job_title  \\\n0   0053e5f78b135d5a  Web Developer (m/w/d)   \n10  0053e5f78b135d5a  Web Developer (m/w/d)   \n20  0053e5f78b135d5a  Web Developer (m/w/d)   \n30  0053e5f78b135d5a  Web Developer (m/w/d)   \n40  0053e5f78b135d5a  Web Developer (m/w/d)   \n50  0053e5f78b135d5a  Web Developer (m/w/d)   \n\n                                               titles  \\\n0   Web Developer (m/w/d) - Home Office - Indeed.c...   \n10  Web Developer (m/w/d) - Home Office - Indeed.c...   \n20  Web Developer (m/w/d) - Home Office - Indeed.c...   \n30  Web Developer (m/w/d) - Home Office - Indeed.c...   \n40  Web Developer (m/w/d) - Home Office - Indeed.c...   \n50  Web Developer (m/w/d) - Home Office - Indeed.c...   \n\n                                           descr_list                city  \\\n0   Mit einem Team von 25 Mitarbeiterinnen und Mit...  84347 Pfarrkirchen   \n10  Mit einem Team von 25 Mitarbeiterinnen und Mit...  84347 Pfarrkirchen   \n20  Mit einem Team von 25 Mitarbeiterinnen und Mit...  84347 Pfarrkirchen   \n30  Mit einem Team von 25 Mitarbeiterinnen und Mit...  84347 Pfarrkirchen   \n40  Mit einem Team von 25 Mitarbeiterinnen und Mit...  84347 Pfarrkirchen   \n50  Mit einem Team von 25 Mitarbeiterinnen und Mit...  84347 Pfarrkirchen   \n\n                                              Company  \n0   coreweb – Gesellschaft für consumer relevant w...  \n10  coreweb – Gesellschaft für consumer relevant w...  \n20  coreweb – Gesellschaft für consumer relevant w...  \n30  coreweb – Gesellschaft für consumer relevant w...  \n40  coreweb – Gesellschaft für consumer relevant w...  \n50  coreweb – Gesellschaft für consumer relevant w...  ",
      "text/html": "<div>\n<style scoped>\n    .dataframe tbody tr th:only-of-type {\n        vertical-align: middle;\n    }\n\n    .dataframe tbody tr th {\n        vertical-align: top;\n    }\n\n    .dataframe thead th {\n        text-align: right;\n    }\n</style>\n<table border=\"1\" class=\"dataframe\">\n  <thead>\n    <tr style=\"text-align: right;\">\n      <th></th>\n      <th>job_id</th>\n      <th>job_title</th>\n      <th>titles</th>\n      <th>descr_list</th>\n      <th>city</th>\n      <th>Company</th>\n    </tr>\n  </thead>\n  <tbody>\n    <tr>\n      <th>0</th>\n      <td>0053e5f78b135d5a</td>\n      <td>Web Developer (m/w/d)</td>\n      <td>Web Developer (m/w/d) - Home Office - Indeed.c...</td>\n      <td>Mit einem Team von 25 Mitarbeiterinnen und Mit...</td>\n      <td>84347 Pfarrkirchen</td>\n      <td>coreweb – Gesellschaft für consumer relevant w...</td>\n    </tr>\n    <tr>\n      <th>10</th>\n      <td>0053e5f78b135d5a</td>\n      <td>Web Developer (m/w/d)</td>\n      <td>Web Developer (m/w/d) - Home Office - Indeed.c...</td>\n      <td>Mit einem Team von 25 Mitarbeiterinnen und Mit...</td>\n      <td>84347 Pfarrkirchen</td>\n      <td>coreweb – Gesellschaft für consumer relevant w...</td>\n    </tr>\n    <tr>\n      <th>20</th>\n      <td>0053e5f78b135d5a</td>\n      <td>Web Developer (m/w/d)</td>\n      <td>Web Developer (m/w/d) - Home Office - Indeed.c...</td>\n      <td>Mit einem Team von 25 Mitarbeiterinnen und Mit...</td>\n      <td>84347 Pfarrkirchen</td>\n      <td>coreweb – Gesellschaft für consumer relevant w...</td>\n    </tr>\n    <tr>\n      <th>30</th>\n      <td>0053e5f78b135d5a</td>\n      <td>Web Developer (m/w/d)</td>\n      <td>Web Developer (m/w/d) - Home Office - Indeed.c...</td>\n      <td>Mit einem Team von 25 Mitarbeiterinnen und Mit...</td>\n      <td>84347 Pfarrkirchen</td>\n      <td>coreweb – Gesellschaft für consumer relevant w...</td>\n    </tr>\n    <tr>\n      <th>40</th>\n      <td>0053e5f78b135d5a</td>\n      <td>Web Developer (m/w/d)</td>\n      <td>Web Developer (m/w/d) - Home Office - Indeed.c...</td>\n      <td>Mit einem Team von 25 Mitarbeiterinnen und Mit...</td>\n      <td>84347 Pfarrkirchen</td>\n      <td>coreweb – Gesellschaft für consumer relevant w...</td>\n    </tr>\n    <tr>\n      <th>50</th>\n      <td>0053e5f78b135d5a</td>\n      <td>Web Developer (m/w/d)</td>\n      <td>Web Developer (m/w/d) - Home Office - Indeed.c...</td>\n      <td>Mit einem Team von 25 Mitarbeiterinnen und Mit...</td>\n      <td>84347 Pfarrkirchen</td>\n      <td>coreweb – Gesellschaft für consumer relevant w...</td>\n    </tr>\n  </tbody>\n</table>\n</div>"
     },
     "execution_count": 12,
     "metadata": {},
     "output_type": "execute_result"
    }
   ],
   "source": [
    "jobs_df.loc[jobs_df['job_id']=='0053e5f78b135d5a']  # да есть дубликаты"
   ],
   "metadata": {
    "collapsed": false,
    "pycharm": {
     "name": "#%%\n"
    }
   }
  },
  {
   "cell_type": "code",
   "execution_count": 15,
   "outputs": [],
   "source": [
    "jobs_df = jobs_df.drop_duplicates().copy()"
   ],
   "metadata": {
    "collapsed": false,
    "pycharm": {
     "name": "#%%\n"
    }
   }
  },
  {
   "cell_type": "code",
   "execution_count": 21,
   "outputs": [],
   "source": [
    "jobs_df.to_excel('de_python_jobs_cleaned.xlsx', index=False)"
   ],
   "metadata": {
    "collapsed": false,
    "pycharm": {
     "name": "#%%\n"
    }
   }
  },
  {
   "cell_type": "code",
   "execution_count": null,
   "outputs": [],
   "source": [],
   "metadata": {
    "collapsed": false,
    "pycharm": {
     "name": "#%%\n"
    }
   }
  },
  {
   "cell_type": "code",
   "execution_count": null,
   "outputs": [],
   "source": [],
   "metadata": {
    "collapsed": false,
    "pycharm": {
     "name": "#%%\n"
    }
   }
  },
  {
   "cell_type": "code",
   "execution_count": 4,
   "outputs": [],
   "source": [
    "report = ProfileReport(jobs_df)"
   ],
   "metadata": {
    "collapsed": false,
    "pycharm": {
     "name": "#%%\n"
    }
   }
  },
  {
   "cell_type": "code",
   "execution_count": 5,
   "outputs": [
    {
     "data": {
      "text/plain": "Summarize dataset:   0%|          | 0/5 [00:00<?, ?it/s]",
      "application/vnd.jupyter.widget-view+json": {
       "version_major": 2,
       "version_minor": 0,
       "model_id": "32dea266ca7c4be29a78bde9529f626a"
      }
     },
     "metadata": {},
     "output_type": "display_data"
    },
    {
     "data": {
      "text/plain": "Generate report structure:   0%|          | 0/1 [00:00<?, ?it/s]",
      "application/vnd.jupyter.widget-view+json": {
       "version_major": 2,
       "version_minor": 0,
       "model_id": "7f5d6eccf84b415e9b70136c11a295bb"
      }
     },
     "metadata": {},
     "output_type": "display_data"
    },
    {
     "data": {
      "text/plain": "Render HTML:   0%|          | 0/1 [00:00<?, ?it/s]",
      "application/vnd.jupyter.widget-view+json": {
       "version_major": 2,
       "version_minor": 0,
       "model_id": "ad77c423ad7040639f9f531d0ad1713d"
      }
     },
     "metadata": {},
     "output_type": "display_data"
    },
    {
     "data": {
      "text/plain": "Export report to file:   0%|          | 0/1 [00:00<?, ?it/s]",
      "application/vnd.jupyter.widget-view+json": {
       "version_major": 2,
       "version_minor": 0,
       "model_id": "8990b40b36b64b739e0f8a444190675d"
      }
     },
     "metadata": {},
     "output_type": "display_data"
    }
   ],
   "source": [
    "report.to_file('pd_report.html')"
   ],
   "metadata": {
    "collapsed": false,
    "pycharm": {
     "name": "#%%\n"
    }
   }
  },
  {
   "cell_type": "code",
   "execution_count": 5,
   "outputs": [],
   "source": [],
   "metadata": {
    "collapsed": false,
    "pycharm": {
     "name": "#%%\n"
    }
   }
  },
  {
   "cell_type": "code",
   "execution_count": 6,
   "outputs": [
    {
     "data": {
      "text/plain": "                                                job_id  \\\n0                                     0053e5f78b135d5a   \n1                                     00ef1c15bf5b5939   \n2                                     0176a1dc54841716   \n3                                     028876104a6b2d26   \n4                                     034b31000a95988c   \n..                                                 ...   \n910  https://de.indeed.com/viewjob?jk=fdd8d81f544bf511   \n911  https://de.indeed.com/viewjob?jk=fe322edbe2225eb6   \n912  https://de.indeed.com/viewjob?jk=fef83104f3acd912   \n913  https://de.indeed.com/viewjob?jk=ff0d468c9afc7eb4   \n914  https://de.indeed.com/viewjob?jk=ff6ccdbc95261d47   \n\n                                             job_title  \\\n0                                Web Developer (m/w/d)   \n1              (Junior) Data Engineer - Python (w/m/d)   \n2                                 BI Developer (w/m/d)   \n3        (Junior) Softwareentwickler*in Python (w/m/d)   \n4     Software Test Engineer (m/w/d) Python oder C/C++   \n..                                                 ...   \n910  Masterarbeit / Praxissemester im Bereich Entwi...   \n911  Mathematiker/Physiker Testing und Entwicklung ...   \n912                  Junior Software Developer (d/f/m)   \n913  Lead Analyst Monitoring &amp; Screening (d/m/w...   \n914                             Data Scientist (d/f/m)   \n\n                                                titles  \\\n0    Web Developer (m/w/d) - Home Office - Indeed.c...   \n1    (Junior) Data Engineer - Python (w/m/d) - 1040...   \n2    BI Developer (w/m/d) - Home Office - Indeed.co...   \n3    (Junior) Softwareentwickler*in Python (w/m/d) ...   \n4    Software Test Engineer (m/w/d) Python oder C/C...   \n..                                                 ...   \n910  Masterarbeit / Praxissemester im Bereich Entwi...   \n911  Mathematiker/Physiker Testing und Entwicklung ...   \n912  Junior Software Developer (d/f/m) - 85077 Manc...   \n913  Lead Analyst Monitoring & Screening (d/m/w) An...   \n914  Data Scientist (d/f/m) - Berlin - Indeed.com',...   \n\n                                            descr_list                city  \\\n0    Mit einem Team von 25 Mitarbeiterinnen und Mit...  84347 Pfarrkirchen   \n1    Location: Hamburg, Berlin, Köln, Düsseldorf, G...              255462   \n2    Wir, in der BI Domain Logistics Management, se...                 NaN   \n3     Bochum  Unbefristet Vollzeit  IT 5848Wir freu...           Not found   \n4     In diesem Video geben wir persönliche Einblic...           Not found   \n..                                                 ...                 ...   \n910  Wir verwenden Cookies, um Inhalte und Anzeigen...           Not found   \n911  Du suchst das Besondere, das Spezielle, das Wo...           Not found   \n912  Job Description: In order to take our Engineer...           Not found   \n913  ***English version below*** Die Deutsche Bank ...           Not found   \n914  Why Scout24? Scout24 is home of ImmoScout24, G...           Not found   \n\n                                               Company  \n0    coreweb – Gesellschaft für consumer relevant w...  \n1                                smartclip Europe GmbH  \n2                                  Otto (GmbH & Co KG)  \n3                                  TÜV Rheinland Group  \n4                        ROHDE & SCHWARZ GmbH & Co. KG  \n..                                                 ...  \n910                                        ZEISS Group  \n911                                          Accenture  \n912                                             Airbus  \n913                                      Deutsche Bank  \n914                                        ImmoScout24  \n\n[915 rows x 6 columns]",
      "text/html": "<div>\n<style scoped>\n    .dataframe tbody tr th:only-of-type {\n        vertical-align: middle;\n    }\n\n    .dataframe tbody tr th {\n        vertical-align: top;\n    }\n\n    .dataframe thead th {\n        text-align: right;\n    }\n</style>\n<table border=\"1\" class=\"dataframe\">\n  <thead>\n    <tr style=\"text-align: right;\">\n      <th></th>\n      <th>job_id</th>\n      <th>job_title</th>\n      <th>titles</th>\n      <th>descr_list</th>\n      <th>city</th>\n      <th>Company</th>\n    </tr>\n  </thead>\n  <tbody>\n    <tr>\n      <th>0</th>\n      <td>0053e5f78b135d5a</td>\n      <td>Web Developer (m/w/d)</td>\n      <td>Web Developer (m/w/d) - Home Office - Indeed.c...</td>\n      <td>Mit einem Team von 25 Mitarbeiterinnen und Mit...</td>\n      <td>84347 Pfarrkirchen</td>\n      <td>coreweb – Gesellschaft für consumer relevant w...</td>\n    </tr>\n    <tr>\n      <th>1</th>\n      <td>00ef1c15bf5b5939</td>\n      <td>(Junior) Data Engineer - Python (w/m/d)</td>\n      <td>(Junior) Data Engineer - Python (w/m/d) - 1040...</td>\n      <td>Location: Hamburg, Berlin, Köln, Düsseldorf, G...</td>\n      <td>255462</td>\n      <td>smartclip Europe GmbH</td>\n    </tr>\n    <tr>\n      <th>2</th>\n      <td>0176a1dc54841716</td>\n      <td>BI Developer (w/m/d)</td>\n      <td>BI Developer (w/m/d) - Home Office - Indeed.co...</td>\n      <td>Wir, in der BI Domain Logistics Management, se...</td>\n      <td>NaN</td>\n      <td>Otto (GmbH &amp; Co KG)</td>\n    </tr>\n    <tr>\n      <th>3</th>\n      <td>028876104a6b2d26</td>\n      <td>(Junior) Softwareentwickler*in Python (w/m/d)</td>\n      <td>(Junior) Softwareentwickler*in Python (w/m/d) ...</td>\n      <td>Bochum  Unbefristet Vollzeit  IT 5848Wir freu...</td>\n      <td>Not found</td>\n      <td>TÜV Rheinland Group</td>\n    </tr>\n    <tr>\n      <th>4</th>\n      <td>034b31000a95988c</td>\n      <td>Software Test Engineer (m/w/d) Python oder C/C++</td>\n      <td>Software Test Engineer (m/w/d) Python oder C/C...</td>\n      <td>In diesem Video geben wir persönliche Einblic...</td>\n      <td>Not found</td>\n      <td>ROHDE &amp; SCHWARZ GmbH &amp; Co. KG</td>\n    </tr>\n    <tr>\n      <th>...</th>\n      <td>...</td>\n      <td>...</td>\n      <td>...</td>\n      <td>...</td>\n      <td>...</td>\n      <td>...</td>\n    </tr>\n    <tr>\n      <th>910</th>\n      <td>https://de.indeed.com/viewjob?jk=fdd8d81f544bf511</td>\n      <td>Masterarbeit / Praxissemester im Bereich Entwi...</td>\n      <td>Masterarbeit / Praxissemester im Bereich Entwi...</td>\n      <td>Wir verwenden Cookies, um Inhalte und Anzeigen...</td>\n      <td>Not found</td>\n      <td>ZEISS Group</td>\n    </tr>\n    <tr>\n      <th>911</th>\n      <td>https://de.indeed.com/viewjob?jk=fe322edbe2225eb6</td>\n      <td>Mathematiker/Physiker Testing und Entwicklung ...</td>\n      <td>Mathematiker/Physiker Testing und Entwicklung ...</td>\n      <td>Du suchst das Besondere, das Spezielle, das Wo...</td>\n      <td>Not found</td>\n      <td>Accenture</td>\n    </tr>\n    <tr>\n      <th>912</th>\n      <td>https://de.indeed.com/viewjob?jk=fef83104f3acd912</td>\n      <td>Junior Software Developer (d/f/m)</td>\n      <td>Junior Software Developer (d/f/m) - 85077 Manc...</td>\n      <td>Job Description: In order to take our Engineer...</td>\n      <td>Not found</td>\n      <td>Airbus</td>\n    </tr>\n    <tr>\n      <th>913</th>\n      <td>https://de.indeed.com/viewjob?jk=ff0d468c9afc7eb4</td>\n      <td>Lead Analyst Monitoring &amp;amp; Screening (d/m/w...</td>\n      <td>Lead Analyst Monitoring &amp; Screening (d/m/w) An...</td>\n      <td>***English version below*** Die Deutsche Bank ...</td>\n      <td>Not found</td>\n      <td>Deutsche Bank</td>\n    </tr>\n    <tr>\n      <th>914</th>\n      <td>https://de.indeed.com/viewjob?jk=ff6ccdbc95261d47</td>\n      <td>Data Scientist (d/f/m)</td>\n      <td>Data Scientist (d/f/m) - Berlin - Indeed.com',...</td>\n      <td>Why Scout24? Scout24 is home of ImmoScout24, G...</td>\n      <td>Not found</td>\n      <td>ImmoScout24</td>\n    </tr>\n  </tbody>\n</table>\n<p>915 rows × 6 columns</p>\n</div>"
     },
     "execution_count": 6,
     "metadata": {},
     "output_type": "execute_result"
    }
   ],
   "source": [
    "jobs_df"
   ],
   "metadata": {
    "collapsed": false,
    "pycharm": {
     "name": "#%%\n"
    }
   }
  },
  {
   "cell_type": "code",
   "execution_count": 10,
   "outputs": [],
   "source": [
    "jobs_df[['city', 'job_id']].groupby('city').agg({'job_id': 'count'}).sort_values(by='job_id', ascending=False).to_csv('cities.csv')"
   ],
   "metadata": {
    "collapsed": false,
    "pycharm": {
     "name": "#%%\n"
    }
   }
  },
  {
   "cell_type": "code",
   "execution_count": null,
   "outputs": [],
   "source": [],
   "metadata": {
    "collapsed": false,
    "pycharm": {
     "name": "#%%\n",
     "is_executing": true
    }
   }
  },
  {
   "cell_type": "code",
   "execution_count": 14,
   "outputs": [],
   "source": [
    "jobs_df[['Company', 'job_id']].groupby('Company').agg({'job_id': 'count'}).sort_values(by='job_id', ascending=False).to_excel('companies.xlsx')"
   ],
   "metadata": {
    "collapsed": false,
    "pycharm": {
     "name": "#%%\n"
    }
   }
  },
  {
   "cell_type": "code",
   "execution_count": 15,
   "outputs": [],
   "source": [
    "# todo токенизация, кластеризация"
   ],
   "metadata": {
    "collapsed": false,
    "pycharm": {
     "name": "#%%\n"
    }
   }
  },
  {
   "cell_type": "code",
   "execution_count": null,
   "outputs": [],
   "source": [],
   "metadata": {
    "collapsed": false,
    "pycharm": {
     "name": "#%%\n",
     "is_executing": true
    }
   }
  },
  {
   "cell_type": "code",
   "execution_count": 10,
   "outputs": [],
   "source": [],
   "metadata": {
    "collapsed": false,
    "pycharm": {
     "name": "#%%\n"
    }
   }
  }
 ],
 "metadata": {
  "kernelspec": {
   "name": "arbeite_parser",
   "language": "python",
   "display_name": "arbeite_parser"
  },
  "language_info": {
   "codemirror_mode": {
    "name": "ipython",
    "version": 2
   },
   "file_extension": ".py",
   "mimetype": "text/x-python",
   "name": "python",
   "nbconvert_exporter": "python",
   "pygments_lexer": "ipython2",
   "version": "2.7.6"
  }
 },
 "nbformat": 4,
 "nbformat_minor": 0
}