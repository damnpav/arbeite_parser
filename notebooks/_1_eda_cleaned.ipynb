{
 "cells": [
  {
   "cell_type": "code",
   "execution_count": 33,
   "metadata": {
    "collapsed": true,
    "pycharm": {
     "name": "#%%\n"
    }
   },
   "outputs": [],
   "source": [
    "import pandas as pd"
   ]
  },
  {
   "cell_type": "code",
   "execution_count": 34,
   "outputs": [],
   "source": [
    "from tqdm import tqdm"
   ],
   "metadata": {
    "collapsed": false,
    "pycharm": {
     "name": "#%%\n"
    }
   }
  },
  {
   "cell_type": "code",
   "execution_count": 2,
   "outputs": [],
   "source": [
    "from ydata_profiling import ProfileReport"
   ],
   "metadata": {
    "collapsed": false,
    "pycharm": {
     "name": "#%%\n"
    }
   }
  },
  {
   "cell_type": "code",
   "execution_count": 36,
   "outputs": [],
   "source": [
    "jobs_df = pd.read_excel('de_python_jobs_cleaned.xlsx')"
   ],
   "metadata": {
    "collapsed": false,
    "pycharm": {
     "name": "#%%\n"
    }
   }
  },
  {
   "cell_type": "code",
   "execution_count": 289,
   "outputs": [
    {
     "data": {
      "text/plain": "0                                       0053e5f78b135d5a\n1                                       00ef1c15bf5b5939\n2                                       0176a1dc54841716\n3                                       028876104a6b2d26\n4                                       034b31000a95988c\n                             ...                        \n910    https://de.indeed.com/viewjob?jk=fdd8d81f544bf511\n911    https://de.indeed.com/viewjob?jk=fe322edbe2225eb6\n912    https://de.indeed.com/viewjob?jk=fef83104f3acd912\n913    https://de.indeed.com/viewjob?jk=ff0d468c9afc7eb4\n914    https://de.indeed.com/viewjob?jk=ff6ccdbc95261d47\nName: job_id, Length: 915, dtype: object"
     },
     "execution_count": 289,
     "metadata": {},
     "output_type": "execute_result"
    }
   ],
   "source": [
    "jobs_df['job_id']"
   ],
   "metadata": {
    "collapsed": false,
    "pycharm": {
     "name": "#%%\n"
    }
   }
  },
  {
   "cell_type": "code",
   "execution_count": 5,
   "outputs": [
    {
     "data": {
      "text/plain": "910"
     },
     "execution_count": 5,
     "metadata": {},
     "output_type": "execute_result"
    }
   ],
   "source": [
    "jobs_df['job_id'].nunique()  # есть дубликаты"
   ],
   "metadata": {
    "collapsed": false,
    "pycharm": {
     "name": "#%%\n"
    }
   }
  },
  {
   "cell_type": "code",
   "execution_count": 7,
   "outputs": [
    {
     "data": {
      "text/plain": "Empty DataFrame\nColumns: []\nIndex: [0053e5f78b135d5a, 00ef1c15bf5b5939, 0176a1dc54841716, 028876104a6b2d26, 034b31000a95988c, 061e5335094f000d, 0995d50707a6ed2b, 0a27943e6c73e9c7, 0a34c6921742a18d, 0b2db6752c84460a, https://de.indeed.com/viewjob?jk=0007e563ee6b7554, https://de.indeed.com/viewjob?jk=00113912ed755fed, https://de.indeed.com/viewjob?jk=0053e5f78b135d5a, https://de.indeed.com/viewjob?jk=00a2d82c2102d54c, https://de.indeed.com/viewjob?jk=00ef1c15bf5b5939, https://de.indeed.com/viewjob?jk=00f6541c28cdfa86, https://de.indeed.com/viewjob?jk=01244dbd10076268, https://de.indeed.com/viewjob?jk=0176a1dc54841716, https://de.indeed.com/viewjob?jk=019bd8ff3f87bb4a, https://de.indeed.com/viewjob?jk=01aa72a90a444468, https://de.indeed.com/viewjob?jk=0265a7c5faa8a099, https://de.indeed.com/viewjob?jk=0278b944002a3984, https://de.indeed.com/viewjob?jk=028876104a6b2d26, https://de.indeed.com/viewjob?jk=0313220d009eb400, https://de.indeed.com/viewjob?jk=031eb7571509115e, https://de.indeed.com/viewjob?jk=032c86130bb62cfa, https://de.indeed.com/viewjob?jk=034b31000a95988c, https://de.indeed.com/viewjob?jk=0380d05ad0935b31, https://de.indeed.com/viewjob?jk=0386edf89d26c36e, https://de.indeed.com/viewjob?jk=039280ada5f00ce5, https://de.indeed.com/viewjob?jk=03a67d5bf9834ed2, https://de.indeed.com/viewjob?jk=04069f2c32fefe19, https://de.indeed.com/viewjob?jk=04ee157117a530c7, https://de.indeed.com/viewjob?jk=04f5a757aeb46b73, https://de.indeed.com/viewjob?jk=05b881cc95ba7742, https://de.indeed.com/viewjob?jk=05d72b73f839a22e, https://de.indeed.com/viewjob?jk=061e5335094f000d, https://de.indeed.com/viewjob?jk=06bcdaa94e593625, https://de.indeed.com/viewjob?jk=06d86295f509f9c4, https://de.indeed.com/viewjob?jk=070c93d347cce60a, https://de.indeed.com/viewjob?jk=075c14b740eaec73, https://de.indeed.com/viewjob?jk=0774dc88f424905e, https://de.indeed.com/viewjob?jk=0793c90aa063abbb, https://de.indeed.com/viewjob?jk=07d22057967b8582, https://de.indeed.com/viewjob?jk=085d9996433fac93, https://de.indeed.com/viewjob?jk=08be975f1f5ff41e, https://de.indeed.com/viewjob?jk=08cafc0a446acc82, https://de.indeed.com/viewjob?jk=08d84374873500a4, https://de.indeed.com/viewjob?jk=094c31f3df3bd182, https://de.indeed.com/viewjob?jk=0995d50707a6ed2b, https://de.indeed.com/viewjob?jk=09a89538c2dfa570, https://de.indeed.com/viewjob?jk=09ab6c98256973fd, https://de.indeed.com/viewjob?jk=09f15a845955cfd5, https://de.indeed.com/viewjob?jk=0a11cac2389cf73a, https://de.indeed.com/viewjob?jk=0a27943e6c73e9c7, https://de.indeed.com/viewjob?jk=0a34c6921742a18d, https://de.indeed.com/viewjob?jk=0a37247c0c3d5b55, https://de.indeed.com/viewjob?jk=0a3a39bbbcd887d3, https://de.indeed.com/viewjob?jk=0a51baa9899c4adb, https://de.indeed.com/viewjob?jk=0a6a76f46f7f3fc3, https://de.indeed.com/viewjob?jk=0b2db6752c84460a, https://de.indeed.com/viewjob?jk=0bc950ba76cdc0b3, https://de.indeed.com/viewjob?jk=0c2354d5d6006c16, https://de.indeed.com/viewjob?jk=0c514823e340ef83, https://de.indeed.com/viewjob?jk=0df9a5bd011b4e6e, https://de.indeed.com/viewjob?jk=0ea313757ebb0d44, https://de.indeed.com/viewjob?jk=0f9655cd6558486d, https://de.indeed.com/viewjob?jk=0f9cc893fba20fc8, https://de.indeed.com/viewjob?jk=0ff2c9cfb135e2cd, https://de.indeed.com/viewjob?jk=10260688ac0b40d5, https://de.indeed.com/viewjob?jk=10a2545f17b3c018, https://de.indeed.com/viewjob?jk=10e8d5766a146f00, https://de.indeed.com/viewjob?jk=119d7313f67aba23, https://de.indeed.com/viewjob?jk=11dd066dde271b4e, https://de.indeed.com/viewjob?jk=11ec4a8bf6c5137b, https://de.indeed.com/viewjob?jk=11f8e40fd38c773a, https://de.indeed.com/viewjob?jk=121a7bbf78a8940e, https://de.indeed.com/viewjob?jk=121e2eea36340373, https://de.indeed.com/viewjob?jk=126586c447f9e032, https://de.indeed.com/viewjob?jk=1285523f07dad6bc, https://de.indeed.com/viewjob?jk=12b830880cd695e8, https://de.indeed.com/viewjob?jk=12bd17ca05c89f5a, https://de.indeed.com/viewjob?jk=130ba38bff7ad892, https://de.indeed.com/viewjob?jk=134c1b4691b17615, https://de.indeed.com/viewjob?jk=13a74cec84db0006, https://de.indeed.com/viewjob?jk=13bcaba721606c7e, https://de.indeed.com/viewjob?jk=13fd345621f4c2d6, https://de.indeed.com/viewjob?jk=143b8121edfcc7e8, https://de.indeed.com/viewjob?jk=14bf27d3664574c5, https://de.indeed.com/viewjob?jk=14e6d90f6ad90cee, https://de.indeed.com/viewjob?jk=14f40fcfaa8c4caa, https://de.indeed.com/viewjob?jk=152534eb338e9b3b, https://de.indeed.com/viewjob?jk=1531bd3a98e8f51c, https://de.indeed.com/viewjob?jk=1537ed5497d5a5cb, https://de.indeed.com/viewjob?jk=15555fc81b3aa82f, https://de.indeed.com/viewjob?jk=15c2d0d9de58981d, https://de.indeed.com/viewjob?jk=16501610fe1c2893, https://de.indeed.com/viewjob?jk=1682020d3db455ff, https://de.indeed.com/viewjob?jk=16bed987683e652e, https://de.indeed.com/viewjob?jk=1714f4cd0eb8ec78, ...]\n\n[910 rows x 0 columns]",
      "text/html": "<div>\n<style scoped>\n    .dataframe tbody tr th:only-of-type {\n        vertical-align: middle;\n    }\n\n    .dataframe tbody tr th {\n        vertical-align: top;\n    }\n\n    .dataframe thead th {\n        text-align: right;\n    }\n</style>\n<table border=\"1\" class=\"dataframe\">\n  <thead>\n    <tr style=\"text-align: right;\">\n      <th></th>\n    </tr>\n    <tr>\n      <th>job_id</th>\n    </tr>\n  </thead>\n  <tbody>\n    <tr>\n      <th>0053e5f78b135d5a</th>\n    </tr>\n    <tr>\n      <th>00ef1c15bf5b5939</th>\n    </tr>\n    <tr>\n      <th>0176a1dc54841716</th>\n    </tr>\n    <tr>\n      <th>028876104a6b2d26</th>\n    </tr>\n    <tr>\n      <th>034b31000a95988c</th>\n    </tr>\n    <tr>\n      <th>...</th>\n    </tr>\n    <tr>\n      <th>https://de.indeed.com/viewjob?jk=fe322edbe2225eb6</th>\n    </tr>\n    <tr>\n      <th>https://de.indeed.com/viewjob?jk=fef5756de6cba848</th>\n    </tr>\n    <tr>\n      <th>https://de.indeed.com/viewjob?jk=fef83104f3acd912</th>\n    </tr>\n    <tr>\n      <th>https://de.indeed.com/viewjob?jk=ff0d468c9afc7eb4</th>\n    </tr>\n    <tr>\n      <th>https://de.indeed.com/viewjob?jk=ff6ccdbc95261d47</th>\n    </tr>\n  </tbody>\n</table>\n<p>910 rows × 0 columns</p>\n</div>"
     },
     "execution_count": 7,
     "metadata": {},
     "output_type": "execute_result"
    }
   ],
   "source": [
    "jobs_df[['job_id']].groupby('job_id').agg('count')"
   ],
   "metadata": {
    "collapsed": false,
    "pycharm": {
     "name": "#%%\n"
    }
   }
  },
  {
   "cell_type": "code",
   "execution_count": 10,
   "outputs": [
    {
     "data": {
      "text/plain": "                                                   job_id\njob_id                                                   \n0053e5f78b135d5a                                        6\n00ef1c15bf5b5939                                        6\n0176a1dc54841716                                        6\n028876104a6b2d26                                        6\n034b31000a95988c                                        6\n...                                                   ...\nhttps://de.indeed.com/viewjob?jk=fe322edbe2225eb6       1\nhttps://de.indeed.com/viewjob?jk=fef5756de6cba848       1\nhttps://de.indeed.com/viewjob?jk=fef83104f3acd912       1\nhttps://de.indeed.com/viewjob?jk=ff0d468c9afc7eb4       1\nhttps://de.indeed.com/viewjob?jk=ff6ccdbc95261d47       1\n\n[910 rows x 1 columns]",
      "text/html": "<div>\n<style scoped>\n    .dataframe tbody tr th:only-of-type {\n        vertical-align: middle;\n    }\n\n    .dataframe tbody tr th {\n        vertical-align: top;\n    }\n\n    .dataframe thead th {\n        text-align: right;\n    }\n</style>\n<table border=\"1\" class=\"dataframe\">\n  <thead>\n    <tr style=\"text-align: right;\">\n      <th></th>\n      <th>job_id</th>\n    </tr>\n    <tr>\n      <th>job_id</th>\n      <th></th>\n    </tr>\n  </thead>\n  <tbody>\n    <tr>\n      <th>0053e5f78b135d5a</th>\n      <td>6</td>\n    </tr>\n    <tr>\n      <th>00ef1c15bf5b5939</th>\n      <td>6</td>\n    </tr>\n    <tr>\n      <th>0176a1dc54841716</th>\n      <td>6</td>\n    </tr>\n    <tr>\n      <th>028876104a6b2d26</th>\n      <td>6</td>\n    </tr>\n    <tr>\n      <th>034b31000a95988c</th>\n      <td>6</td>\n    </tr>\n    <tr>\n      <th>...</th>\n      <td>...</td>\n    </tr>\n    <tr>\n      <th>https://de.indeed.com/viewjob?jk=fe322edbe2225eb6</th>\n      <td>1</td>\n    </tr>\n    <tr>\n      <th>https://de.indeed.com/viewjob?jk=fef5756de6cba848</th>\n      <td>1</td>\n    </tr>\n    <tr>\n      <th>https://de.indeed.com/viewjob?jk=fef83104f3acd912</th>\n      <td>1</td>\n    </tr>\n    <tr>\n      <th>https://de.indeed.com/viewjob?jk=ff0d468c9afc7eb4</th>\n      <td>1</td>\n    </tr>\n    <tr>\n      <th>https://de.indeed.com/viewjob?jk=ff6ccdbc95261d47</th>\n      <td>1</td>\n    </tr>\n  </tbody>\n</table>\n<p>910 rows × 1 columns</p>\n</div>"
     },
     "execution_count": 10,
     "metadata": {},
     "output_type": "execute_result"
    }
   ],
   "source": [
    "jobs_df[['job_id']].groupby('job_id').agg({'job_id': 'count'})"
   ],
   "metadata": {
    "collapsed": false,
    "pycharm": {
     "name": "#%%\n"
    }
   }
  },
  {
   "cell_type": "code",
   "execution_count": 12,
   "outputs": [
    {
     "data": {
      "text/plain": "              job_id              job_title  \\\n0   0053e5f78b135d5a  Web Developer (m/w/d)   \n10  0053e5f78b135d5a  Web Developer (m/w/d)   \n20  0053e5f78b135d5a  Web Developer (m/w/d)   \n30  0053e5f78b135d5a  Web Developer (m/w/d)   \n40  0053e5f78b135d5a  Web Developer (m/w/d)   \n50  0053e5f78b135d5a  Web Developer (m/w/d)   \n\n                                               titles  \\\n0   Web Developer (m/w/d) - Home Office - Indeed.c...   \n10  Web Developer (m/w/d) - Home Office - Indeed.c...   \n20  Web Developer (m/w/d) - Home Office - Indeed.c...   \n30  Web Developer (m/w/d) - Home Office - Indeed.c...   \n40  Web Developer (m/w/d) - Home Office - Indeed.c...   \n50  Web Developer (m/w/d) - Home Office - Indeed.c...   \n\n                                           descr_list                city  \\\n0   Mit einem Team von 25 Mitarbeiterinnen und Mit...  84347 Pfarrkirchen   \n10  Mit einem Team von 25 Mitarbeiterinnen und Mit...  84347 Pfarrkirchen   \n20  Mit einem Team von 25 Mitarbeiterinnen und Mit...  84347 Pfarrkirchen   \n30  Mit einem Team von 25 Mitarbeiterinnen und Mit...  84347 Pfarrkirchen   \n40  Mit einem Team von 25 Mitarbeiterinnen und Mit...  84347 Pfarrkirchen   \n50  Mit einem Team von 25 Mitarbeiterinnen und Mit...  84347 Pfarrkirchen   \n\n                                              Company  \n0   coreweb – Gesellschaft für consumer relevant w...  \n10  coreweb – Gesellschaft für consumer relevant w...  \n20  coreweb – Gesellschaft für consumer relevant w...  \n30  coreweb – Gesellschaft für consumer relevant w...  \n40  coreweb – Gesellschaft für consumer relevant w...  \n50  coreweb – Gesellschaft für consumer relevant w...  ",
      "text/html": "<div>\n<style scoped>\n    .dataframe tbody tr th:only-of-type {\n        vertical-align: middle;\n    }\n\n    .dataframe tbody tr th {\n        vertical-align: top;\n    }\n\n    .dataframe thead th {\n        text-align: right;\n    }\n</style>\n<table border=\"1\" class=\"dataframe\">\n  <thead>\n    <tr style=\"text-align: right;\">\n      <th></th>\n      <th>job_id</th>\n      <th>job_title</th>\n      <th>titles</th>\n      <th>descr_list</th>\n      <th>city</th>\n      <th>Company</th>\n    </tr>\n  </thead>\n  <tbody>\n    <tr>\n      <th>0</th>\n      <td>0053e5f78b135d5a</td>\n      <td>Web Developer (m/w/d)</td>\n      <td>Web Developer (m/w/d) - Home Office - Indeed.c...</td>\n      <td>Mit einem Team von 25 Mitarbeiterinnen und Mit...</td>\n      <td>84347 Pfarrkirchen</td>\n      <td>coreweb – Gesellschaft für consumer relevant w...</td>\n    </tr>\n    <tr>\n      <th>10</th>\n      <td>0053e5f78b135d5a</td>\n      <td>Web Developer (m/w/d)</td>\n      <td>Web Developer (m/w/d) - Home Office - Indeed.c...</td>\n      <td>Mit einem Team von 25 Mitarbeiterinnen und Mit...</td>\n      <td>84347 Pfarrkirchen</td>\n      <td>coreweb – Gesellschaft für consumer relevant w...</td>\n    </tr>\n    <tr>\n      <th>20</th>\n      <td>0053e5f78b135d5a</td>\n      <td>Web Developer (m/w/d)</td>\n      <td>Web Developer (m/w/d) - Home Office - Indeed.c...</td>\n      <td>Mit einem Team von 25 Mitarbeiterinnen und Mit...</td>\n      <td>84347 Pfarrkirchen</td>\n      <td>coreweb – Gesellschaft für consumer relevant w...</td>\n    </tr>\n    <tr>\n      <th>30</th>\n      <td>0053e5f78b135d5a</td>\n      <td>Web Developer (m/w/d)</td>\n      <td>Web Developer (m/w/d) - Home Office - Indeed.c...</td>\n      <td>Mit einem Team von 25 Mitarbeiterinnen und Mit...</td>\n      <td>84347 Pfarrkirchen</td>\n      <td>coreweb – Gesellschaft für consumer relevant w...</td>\n    </tr>\n    <tr>\n      <th>40</th>\n      <td>0053e5f78b135d5a</td>\n      <td>Web Developer (m/w/d)</td>\n      <td>Web Developer (m/w/d) - Home Office - Indeed.c...</td>\n      <td>Mit einem Team von 25 Mitarbeiterinnen und Mit...</td>\n      <td>84347 Pfarrkirchen</td>\n      <td>coreweb – Gesellschaft für consumer relevant w...</td>\n    </tr>\n    <tr>\n      <th>50</th>\n      <td>0053e5f78b135d5a</td>\n      <td>Web Developer (m/w/d)</td>\n      <td>Web Developer (m/w/d) - Home Office - Indeed.c...</td>\n      <td>Mit einem Team von 25 Mitarbeiterinnen und Mit...</td>\n      <td>84347 Pfarrkirchen</td>\n      <td>coreweb – Gesellschaft für consumer relevant w...</td>\n    </tr>\n  </tbody>\n</table>\n</div>"
     },
     "execution_count": 12,
     "metadata": {},
     "output_type": "execute_result"
    }
   ],
   "source": [
    "jobs_df.loc[jobs_df['job_id']=='0053e5f78b135d5a']  # да есть дубликаты"
   ],
   "metadata": {
    "collapsed": false,
    "pycharm": {
     "name": "#%%\n"
    }
   }
  },
  {
   "cell_type": "code",
   "execution_count": 15,
   "outputs": [],
   "source": [
    "jobs_df = jobs_df.drop_duplicates().copy()"
   ],
   "metadata": {
    "collapsed": false,
    "pycharm": {
     "name": "#%%\n"
    }
   }
  },
  {
   "cell_type": "code",
   "execution_count": 21,
   "outputs": [],
   "source": [
    "jobs_df.to_excel('de_python_jobs_cleaned.xlsx', index=False)"
   ],
   "metadata": {
    "collapsed": false,
    "pycharm": {
     "name": "#%%\n"
    }
   }
  },
  {
   "cell_type": "code",
   "execution_count": null,
   "outputs": [],
   "source": [],
   "metadata": {
    "collapsed": false,
    "pycharm": {
     "name": "#%%\n"
    }
   }
  },
  {
   "cell_type": "code",
   "execution_count": null,
   "outputs": [],
   "source": [],
   "metadata": {
    "collapsed": false,
    "pycharm": {
     "name": "#%%\n"
    }
   }
  },
  {
   "cell_type": "code",
   "execution_count": 4,
   "outputs": [],
   "source": [
    "report = ProfileReport(jobs_df)"
   ],
   "metadata": {
    "collapsed": false,
    "pycharm": {
     "name": "#%%\n"
    }
   }
  },
  {
   "cell_type": "code",
   "execution_count": 5,
   "outputs": [
    {
     "data": {
      "text/plain": "Summarize dataset:   0%|          | 0/5 [00:00<?, ?it/s]",
      "application/vnd.jupyter.widget-view+json": {
       "version_major": 2,
       "version_minor": 0,
       "model_id": "32dea266ca7c4be29a78bde9529f626a"
      }
     },
     "metadata": {},
     "output_type": "display_data"
    },
    {
     "data": {
      "text/plain": "Generate report structure:   0%|          | 0/1 [00:00<?, ?it/s]",
      "application/vnd.jupyter.widget-view+json": {
       "version_major": 2,
       "version_minor": 0,
       "model_id": "7f5d6eccf84b415e9b70136c11a295bb"
      }
     },
     "metadata": {},
     "output_type": "display_data"
    },
    {
     "data": {
      "text/plain": "Render HTML:   0%|          | 0/1 [00:00<?, ?it/s]",
      "application/vnd.jupyter.widget-view+json": {
       "version_major": 2,
       "version_minor": 0,
       "model_id": "ad77c423ad7040639f9f531d0ad1713d"
      }
     },
     "metadata": {},
     "output_type": "display_data"
    },
    {
     "data": {
      "text/plain": "Export report to file:   0%|          | 0/1 [00:00<?, ?it/s]",
      "application/vnd.jupyter.widget-view+json": {
       "version_major": 2,
       "version_minor": 0,
       "model_id": "8990b40b36b64b739e0f8a444190675d"
      }
     },
     "metadata": {},
     "output_type": "display_data"
    }
   ],
   "source": [
    "report.to_file('pd_report.html')"
   ],
   "metadata": {
    "collapsed": false,
    "pycharm": {
     "name": "#%%\n"
    }
   }
  },
  {
   "cell_type": "code",
   "execution_count": 5,
   "outputs": [],
   "source": [],
   "metadata": {
    "collapsed": false,
    "pycharm": {
     "name": "#%%\n"
    }
   }
  },
  {
   "cell_type": "code",
   "execution_count": 6,
   "outputs": [
    {
     "data": {
      "text/plain": "                                                job_id  \\\n0                                     0053e5f78b135d5a   \n1                                     00ef1c15bf5b5939   \n2                                     0176a1dc54841716   \n3                                     028876104a6b2d26   \n4                                     034b31000a95988c   \n..                                                 ...   \n910  https://de.indeed.com/viewjob?jk=fdd8d81f544bf511   \n911  https://de.indeed.com/viewjob?jk=fe322edbe2225eb6   \n912  https://de.indeed.com/viewjob?jk=fef83104f3acd912   \n913  https://de.indeed.com/viewjob?jk=ff0d468c9afc7eb4   \n914  https://de.indeed.com/viewjob?jk=ff6ccdbc95261d47   \n\n                                             job_title  \\\n0                                Web Developer (m/w/d)   \n1              (Junior) Data Engineer - Python (w/m/d)   \n2                                 BI Developer (w/m/d)   \n3        (Junior) Softwareentwickler*in Python (w/m/d)   \n4     Software Test Engineer (m/w/d) Python oder C/C++   \n..                                                 ...   \n910  Masterarbeit / Praxissemester im Bereich Entwi...   \n911  Mathematiker/Physiker Testing und Entwicklung ...   \n912                  Junior Software Developer (d/f/m)   \n913  Lead Analyst Monitoring &amp; Screening (d/m/w...   \n914                             Data Scientist (d/f/m)   \n\n                                                titles  \\\n0    Web Developer (m/w/d) - Home Office - Indeed.c...   \n1    (Junior) Data Engineer - Python (w/m/d) - 1040...   \n2    BI Developer (w/m/d) - Home Office - Indeed.co...   \n3    (Junior) Softwareentwickler*in Python (w/m/d) ...   \n4    Software Test Engineer (m/w/d) Python oder C/C...   \n..                                                 ...   \n910  Masterarbeit / Praxissemester im Bereich Entwi...   \n911  Mathematiker/Physiker Testing und Entwicklung ...   \n912  Junior Software Developer (d/f/m) - 85077 Manc...   \n913  Lead Analyst Monitoring & Screening (d/m/w) An...   \n914  Data Scientist (d/f/m) - Berlin - Indeed.com',...   \n\n                                            descr_list                city  \\\n0    Mit einem Team von 25 Mitarbeiterinnen und Mit...  84347 Pfarrkirchen   \n1    Location: Hamburg, Berlin, Köln, Düsseldorf, G...              255462   \n2    Wir, in der BI Domain Logistics Management, se...                 NaN   \n3     Bochum  Unbefristet Vollzeit  IT 5848Wir freu...           Not found   \n4     In diesem Video geben wir persönliche Einblic...           Not found   \n..                                                 ...                 ...   \n910  Wir verwenden Cookies, um Inhalte und Anzeigen...           Not found   \n911  Du suchst das Besondere, das Spezielle, das Wo...           Not found   \n912  Job Description: In order to take our Engineer...           Not found   \n913  ***English version below*** Die Deutsche Bank ...           Not found   \n914  Why Scout24? Scout24 is home of ImmoScout24, G...           Not found   \n\n                                               Company  \n0    coreweb – Gesellschaft für consumer relevant w...  \n1                                smartclip Europe GmbH  \n2                                  Otto (GmbH & Co KG)  \n3                                  TÜV Rheinland Group  \n4                        ROHDE & SCHWARZ GmbH & Co. KG  \n..                                                 ...  \n910                                        ZEISS Group  \n911                                          Accenture  \n912                                             Airbus  \n913                                      Deutsche Bank  \n914                                        ImmoScout24  \n\n[915 rows x 6 columns]",
      "text/html": "<div>\n<style scoped>\n    .dataframe tbody tr th:only-of-type {\n        vertical-align: middle;\n    }\n\n    .dataframe tbody tr th {\n        vertical-align: top;\n    }\n\n    .dataframe thead th {\n        text-align: right;\n    }\n</style>\n<table border=\"1\" class=\"dataframe\">\n  <thead>\n    <tr style=\"text-align: right;\">\n      <th></th>\n      <th>job_id</th>\n      <th>job_title</th>\n      <th>titles</th>\n      <th>descr_list</th>\n      <th>city</th>\n      <th>Company</th>\n    </tr>\n  </thead>\n  <tbody>\n    <tr>\n      <th>0</th>\n      <td>0053e5f78b135d5a</td>\n      <td>Web Developer (m/w/d)</td>\n      <td>Web Developer (m/w/d) - Home Office - Indeed.c...</td>\n      <td>Mit einem Team von 25 Mitarbeiterinnen und Mit...</td>\n      <td>84347 Pfarrkirchen</td>\n      <td>coreweb – Gesellschaft für consumer relevant w...</td>\n    </tr>\n    <tr>\n      <th>1</th>\n      <td>00ef1c15bf5b5939</td>\n      <td>(Junior) Data Engineer - Python (w/m/d)</td>\n      <td>(Junior) Data Engineer - Python (w/m/d) - 1040...</td>\n      <td>Location: Hamburg, Berlin, Köln, Düsseldorf, G...</td>\n      <td>255462</td>\n      <td>smartclip Europe GmbH</td>\n    </tr>\n    <tr>\n      <th>2</th>\n      <td>0176a1dc54841716</td>\n      <td>BI Developer (w/m/d)</td>\n      <td>BI Developer (w/m/d) - Home Office - Indeed.co...</td>\n      <td>Wir, in der BI Domain Logistics Management, se...</td>\n      <td>NaN</td>\n      <td>Otto (GmbH &amp; Co KG)</td>\n    </tr>\n    <tr>\n      <th>3</th>\n      <td>028876104a6b2d26</td>\n      <td>(Junior) Softwareentwickler*in Python (w/m/d)</td>\n      <td>(Junior) Softwareentwickler*in Python (w/m/d) ...</td>\n      <td>Bochum  Unbefristet Vollzeit  IT 5848Wir freu...</td>\n      <td>Not found</td>\n      <td>TÜV Rheinland Group</td>\n    </tr>\n    <tr>\n      <th>4</th>\n      <td>034b31000a95988c</td>\n      <td>Software Test Engineer (m/w/d) Python oder C/C++</td>\n      <td>Software Test Engineer (m/w/d) Python oder C/C...</td>\n      <td>In diesem Video geben wir persönliche Einblic...</td>\n      <td>Not found</td>\n      <td>ROHDE &amp; SCHWARZ GmbH &amp; Co. KG</td>\n    </tr>\n    <tr>\n      <th>...</th>\n      <td>...</td>\n      <td>...</td>\n      <td>...</td>\n      <td>...</td>\n      <td>...</td>\n      <td>...</td>\n    </tr>\n    <tr>\n      <th>910</th>\n      <td>https://de.indeed.com/viewjob?jk=fdd8d81f544bf511</td>\n      <td>Masterarbeit / Praxissemester im Bereich Entwi...</td>\n      <td>Masterarbeit / Praxissemester im Bereich Entwi...</td>\n      <td>Wir verwenden Cookies, um Inhalte und Anzeigen...</td>\n      <td>Not found</td>\n      <td>ZEISS Group</td>\n    </tr>\n    <tr>\n      <th>911</th>\n      <td>https://de.indeed.com/viewjob?jk=fe322edbe2225eb6</td>\n      <td>Mathematiker/Physiker Testing und Entwicklung ...</td>\n      <td>Mathematiker/Physiker Testing und Entwicklung ...</td>\n      <td>Du suchst das Besondere, das Spezielle, das Wo...</td>\n      <td>Not found</td>\n      <td>Accenture</td>\n    </tr>\n    <tr>\n      <th>912</th>\n      <td>https://de.indeed.com/viewjob?jk=fef83104f3acd912</td>\n      <td>Junior Software Developer (d/f/m)</td>\n      <td>Junior Software Developer (d/f/m) - 85077 Manc...</td>\n      <td>Job Description: In order to take our Engineer...</td>\n      <td>Not found</td>\n      <td>Airbus</td>\n    </tr>\n    <tr>\n      <th>913</th>\n      <td>https://de.indeed.com/viewjob?jk=ff0d468c9afc7eb4</td>\n      <td>Lead Analyst Monitoring &amp;amp; Screening (d/m/w...</td>\n      <td>Lead Analyst Monitoring &amp; Screening (d/m/w) An...</td>\n      <td>***English version below*** Die Deutsche Bank ...</td>\n      <td>Not found</td>\n      <td>Deutsche Bank</td>\n    </tr>\n    <tr>\n      <th>914</th>\n      <td>https://de.indeed.com/viewjob?jk=ff6ccdbc95261d47</td>\n      <td>Data Scientist (d/f/m)</td>\n      <td>Data Scientist (d/f/m) - Berlin - Indeed.com',...</td>\n      <td>Why Scout24? Scout24 is home of ImmoScout24, G...</td>\n      <td>Not found</td>\n      <td>ImmoScout24</td>\n    </tr>\n  </tbody>\n</table>\n<p>915 rows × 6 columns</p>\n</div>"
     },
     "execution_count": 6,
     "metadata": {},
     "output_type": "execute_result"
    }
   ],
   "source": [
    "jobs_df"
   ],
   "metadata": {
    "collapsed": false,
    "pycharm": {
     "name": "#%%\n"
    }
   }
  },
  {
   "cell_type": "code",
   "execution_count": 10,
   "outputs": [],
   "source": [
    "jobs_df[['city', 'job_id']].groupby('city').agg({'job_id': 'count'}).sort_values(by='job_id', ascending=False).to_csv('cities.csv')"
   ],
   "metadata": {
    "collapsed": false,
    "pycharm": {
     "name": "#%%\n"
    }
   }
  },
  {
   "cell_type": "code",
   "execution_count": null,
   "outputs": [],
   "source": [],
   "metadata": {
    "collapsed": false,
    "pycharm": {
     "name": "#%%\n",
     "is_executing": true
    }
   }
  },
  {
   "cell_type": "code",
   "execution_count": 14,
   "outputs": [],
   "source": [
    "jobs_df[['Company', 'job_id']].groupby('Company').agg({'job_id': 'count'}).sort_values(by='job_id', ascending=False).to_excel('companies.xlsx')"
   ],
   "metadata": {
    "collapsed": false,
    "pycharm": {
     "name": "#%%\n"
    }
   }
  },
  {
   "cell_type": "code",
   "execution_count": 15,
   "outputs": [],
   "source": [
    "# todo токенизация, кластеризация"
   ],
   "metadata": {
    "collapsed": false,
    "pycharm": {
     "name": "#%%\n"
    }
   }
  },
  {
   "cell_type": "code",
   "execution_count": null,
   "outputs": [],
   "source": [],
   "metadata": {
    "collapsed": false,
    "pycharm": {
     "name": "#%%\n",
     "is_executing": true
    }
   }
  },
  {
   "cell_type": "markdown",
   "source": [
    "# Text Preparation"
   ],
   "metadata": {
    "collapsed": false,
    "pycharm": {
     "name": "#%% md\n"
    }
   }
  },
  {
   "cell_type": "code",
   "execution_count": 4,
   "outputs": [
    {
     "data": {
      "text/plain": "Index(['job_id', 'job_title', 'titles', 'descr_list', 'city', 'Company'], dtype='object')"
     },
     "execution_count": 4,
     "metadata": {},
     "output_type": "execute_result"
    }
   ],
   "source": [
    "jobs_df.columns"
   ],
   "metadata": {
    "collapsed": false,
    "pycharm": {
     "name": "#%%\n"
    }
   }
  },
  {
   "cell_type": "code",
   "execution_count": 12,
   "outputs": [
    {
     "data": {
      "text/plain": "'Embedded Linux Developer (m/f/d)'"
     },
     "execution_count": 12,
     "metadata": {},
     "output_type": "execute_result"
    }
   ],
   "source": [
    "jobs_df['job_title'][567]"
   ],
   "metadata": {
    "collapsed": false,
    "pycharm": {
     "name": "#%%\n"
    }
   }
  },
  {
   "cell_type": "code",
   "execution_count": 37,
   "outputs": [],
   "source": [
    "text_columns = ['job_title', 'titles', 'descr_list']"
   ],
   "metadata": {
    "collapsed": false,
    "pycharm": {
     "name": "#%%\n"
    }
   }
  },
  {
   "cell_type": "code",
   "execution_count": null,
   "outputs": [],
   "source": [],
   "metadata": {
    "collapsed": false,
    "pycharm": {
     "name": "#%%\n"
    }
   }
  },
  {
   "cell_type": "code",
   "execution_count": 38,
   "outputs": [
    {
     "name": "stderr",
     "output_type": "stream",
     "text": [
      "100%|██████████| 3/3 [00:00<00:00, 60.90it/s]\n"
     ]
    }
   ],
   "source": [
    "for col in tqdm(text_columns):\n",
    "    jobs_df[col] = jobs_df[col].str.lower()\n",
    "    jobs_df[col] = jobs_df[col].str.replace('[','').replace(']', '')\n",
    "    jobs_df[col]  = jobs_df[col].str.replace('[^a-zA-Z ]', '', regex=True)  # replace all non Latin symbols"
   ],
   "metadata": {
    "collapsed": false,
    "pycharm": {
     "name": "#%%\n"
    }
   }
  },
  {
   "cell_type": "code",
   "execution_count": 6,
   "outputs": [
    {
     "data": {
      "text/plain": "                                                job_id  \\\n0                                     0053e5f78b135d5a   \n1                                     00ef1c15bf5b5939   \n2                                     0176a1dc54841716   \n3                                     028876104a6b2d26   \n4                                     034b31000a95988c   \n..                                                 ...   \n910  https://de.indeed.com/viewjob?jk=fdd8d81f544bf511   \n911  https://de.indeed.com/viewjob?jk=fe322edbe2225eb6   \n912  https://de.indeed.com/viewjob?jk=fef83104f3acd912   \n913  https://de.indeed.com/viewjob?jk=ff0d468c9afc7eb4   \n914  https://de.indeed.com/viewjob?jk=ff6ccdbc95261d47   \n\n                                             job_title  \\\n0                                    web developer mwd   \n1                     junior data engineer  python wmd   \n2                                     bi developer wmd   \n3               junior softwareentwicklerin python wmd   \n4            software test engineer mwd python oder cc   \n..                                                 ...   \n910  masterarbeit  praxissemester im bereich entwic...   \n911  mathematikerphysiker testing und entwicklung a...   \n912                      junior software developer dfm   \n913  lead analyst monitoring amp screening dmw anti...   \n914                                 data scientist dfm   \n\n                                                titles  \\\n0    web developer mwd  home office  indeedcom symb...   \n1    junior data engineer  python wmd   berlin  ind...   \n2    bi developer wmd  home office  indeedcom symbo...   \n3    junior softwareentwicklerin python wmd   bochu...   \n4    software test engineer mwd python oder cc   st...   \n..                                                 ...   \n910  masterarbeit  praxissemester im bereich entwic...   \n911  mathematikerphysiker testing und entwicklung a...   \n912  junior software developer dfm   manching  inde...   \n913  lead analyst monitoring  screening dmw antifin...   \n914  data scientist dfm  berlin  indeedcom symbol z...   \n\n                                            descr_list                city  \\\n0    mit einem team von  mitarbeiterinnen und mitar...  84347 Pfarrkirchen   \n1    location hamburg berlin kln dsseldorf gtersloh...              255462   \n2    wir in der bi domain logistics management setz...                 NaN   \n3     bochum  unbefristet vollzeit  it wir freuen u...           Not found   \n4     in diesem video geben wir persnliche einblick...           Not found   \n..                                                 ...                 ...   \n910  wir verwenden cookies um inhalte und anzeigen ...           Not found   \n911  du suchst das besondere das spezielle das wowd...           Not found   \n912  job description in order to take our engineeri...           Not found   \n913  english version below die deutsche bank db kan...           Not found   \n914  why scout scout is home of immoscout germanys ...           Not found   \n\n                                               Company  \n0    coreweb – Gesellschaft für consumer relevant w...  \n1                                smartclip Europe GmbH  \n2                                  Otto (GmbH & Co KG)  \n3                                  TÜV Rheinland Group  \n4                        ROHDE & SCHWARZ GmbH & Co. KG  \n..                                                 ...  \n910                                        ZEISS Group  \n911                                          Accenture  \n912                                             Airbus  \n913                                      Deutsche Bank  \n914                                        ImmoScout24  \n\n[915 rows x 6 columns]",
      "text/html": "<div>\n<style scoped>\n    .dataframe tbody tr th:only-of-type {\n        vertical-align: middle;\n    }\n\n    .dataframe tbody tr th {\n        vertical-align: top;\n    }\n\n    .dataframe thead th {\n        text-align: right;\n    }\n</style>\n<table border=\"1\" class=\"dataframe\">\n  <thead>\n    <tr style=\"text-align: right;\">\n      <th></th>\n      <th>job_id</th>\n      <th>job_title</th>\n      <th>titles</th>\n      <th>descr_list</th>\n      <th>city</th>\n      <th>Company</th>\n    </tr>\n  </thead>\n  <tbody>\n    <tr>\n      <th>0</th>\n      <td>0053e5f78b135d5a</td>\n      <td>web developer mwd</td>\n      <td>web developer mwd  home office  indeedcom symb...</td>\n      <td>mit einem team von  mitarbeiterinnen und mitar...</td>\n      <td>84347 Pfarrkirchen</td>\n      <td>coreweb – Gesellschaft für consumer relevant w...</td>\n    </tr>\n    <tr>\n      <th>1</th>\n      <td>00ef1c15bf5b5939</td>\n      <td>junior data engineer  python wmd</td>\n      <td>junior data engineer  python wmd   berlin  ind...</td>\n      <td>location hamburg berlin kln dsseldorf gtersloh...</td>\n      <td>255462</td>\n      <td>smartclip Europe GmbH</td>\n    </tr>\n    <tr>\n      <th>2</th>\n      <td>0176a1dc54841716</td>\n      <td>bi developer wmd</td>\n      <td>bi developer wmd  home office  indeedcom symbo...</td>\n      <td>wir in der bi domain logistics management setz...</td>\n      <td>NaN</td>\n      <td>Otto (GmbH &amp; Co KG)</td>\n    </tr>\n    <tr>\n      <th>3</th>\n      <td>028876104a6b2d26</td>\n      <td>junior softwareentwicklerin python wmd</td>\n      <td>junior softwareentwicklerin python wmd   bochu...</td>\n      <td>bochum  unbefristet vollzeit  it wir freuen u...</td>\n      <td>Not found</td>\n      <td>TÜV Rheinland Group</td>\n    </tr>\n    <tr>\n      <th>4</th>\n      <td>034b31000a95988c</td>\n      <td>software test engineer mwd python oder cc</td>\n      <td>software test engineer mwd python oder cc   st...</td>\n      <td>in diesem video geben wir persnliche einblick...</td>\n      <td>Not found</td>\n      <td>ROHDE &amp; SCHWARZ GmbH &amp; Co. KG</td>\n    </tr>\n    <tr>\n      <th>...</th>\n      <td>...</td>\n      <td>...</td>\n      <td>...</td>\n      <td>...</td>\n      <td>...</td>\n      <td>...</td>\n    </tr>\n    <tr>\n      <th>910</th>\n      <td>https://de.indeed.com/viewjob?jk=fdd8d81f544bf511</td>\n      <td>masterarbeit  praxissemester im bereich entwic...</td>\n      <td>masterarbeit  praxissemester im bereich entwic...</td>\n      <td>wir verwenden cookies um inhalte und anzeigen ...</td>\n      <td>Not found</td>\n      <td>ZEISS Group</td>\n    </tr>\n    <tr>\n      <th>911</th>\n      <td>https://de.indeed.com/viewjob?jk=fe322edbe2225eb6</td>\n      <td>mathematikerphysiker testing und entwicklung a...</td>\n      <td>mathematikerphysiker testing und entwicklung a...</td>\n      <td>du suchst das besondere das spezielle das wowd...</td>\n      <td>Not found</td>\n      <td>Accenture</td>\n    </tr>\n    <tr>\n      <th>912</th>\n      <td>https://de.indeed.com/viewjob?jk=fef83104f3acd912</td>\n      <td>junior software developer dfm</td>\n      <td>junior software developer dfm   manching  inde...</td>\n      <td>job description in order to take our engineeri...</td>\n      <td>Not found</td>\n      <td>Airbus</td>\n    </tr>\n    <tr>\n      <th>913</th>\n      <td>https://de.indeed.com/viewjob?jk=ff0d468c9afc7eb4</td>\n      <td>lead analyst monitoring amp screening dmw anti...</td>\n      <td>lead analyst monitoring  screening dmw antifin...</td>\n      <td>english version below die deutsche bank db kan...</td>\n      <td>Not found</td>\n      <td>Deutsche Bank</td>\n    </tr>\n    <tr>\n      <th>914</th>\n      <td>https://de.indeed.com/viewjob?jk=ff6ccdbc95261d47</td>\n      <td>data scientist dfm</td>\n      <td>data scientist dfm  berlin  indeedcom symbol z...</td>\n      <td>why scout scout is home of immoscout germanys ...</td>\n      <td>Not found</td>\n      <td>ImmoScout24</td>\n    </tr>\n  </tbody>\n</table>\n<p>915 rows × 6 columns</p>\n</div>"
     },
     "execution_count": 6,
     "metadata": {},
     "output_type": "execute_result"
    }
   ],
   "source": [
    "jobs_df"
   ],
   "metadata": {
    "collapsed": false,
    "pycharm": {
     "name": "#%%\n"
    }
   }
  },
  {
   "cell_type": "code",
   "execution_count": null,
   "outputs": [],
   "source": [],
   "metadata": {
    "collapsed": false,
    "pycharm": {
     "name": "#%%\n",
     "is_executing": true
    }
   }
  },
  {
   "cell_type": "markdown",
   "source": [
    "# Make a split:\n",
    "## For job_title will use bag of words\n",
    "## For titles TF-IDF\n",
    "## For descr_list - words embeddings"
   ],
   "metadata": {
    "collapsed": false,
    "pycharm": {
     "name": "#%% md\n"
    }
   }
  },
  {
   "cell_type": "code",
   "execution_count": null,
   "outputs": [],
   "source": [],
   "metadata": {
    "collapsed": false,
    "pycharm": {
     "name": "#%%\n",
     "is_executing": true
    }
   }
  },
  {
   "cell_type": "code",
   "execution_count": null,
   "outputs": [],
   "source": [],
   "metadata": {
    "collapsed": false,
    "pycharm": {
     "name": "#%%\n",
     "is_executing": true
    }
   }
  },
  {
   "cell_type": "markdown",
   "source": [
    "# Bag of Words for job_title"
   ],
   "metadata": {
    "collapsed": false,
    "pycharm": {
     "name": "#%% md\n"
    }
   }
  },
  {
   "cell_type": "code",
   "execution_count": 39,
   "outputs": [],
   "source": [
    "from sklearn.feature_extraction.text import CountVectorizer"
   ],
   "metadata": {
    "collapsed": false,
    "pycharm": {
     "name": "#%%\n"
    }
   }
  },
  {
   "cell_type": "code",
   "execution_count": 40,
   "outputs": [],
   "source": [
    "import numpy as np\n",
    "from nltk.corpus import stopwords"
   ],
   "metadata": {
    "collapsed": false,
    "pycharm": {
     "name": "#%%\n"
    }
   }
  },
  {
   "cell_type": "code",
   "execution_count": 41,
   "outputs": [],
   "source": [
    "from string import punctuation"
   ],
   "metadata": {
    "collapsed": false,
    "pycharm": {
     "name": "#%%\n"
    }
   }
  },
  {
   "cell_type": "code",
   "execution_count": 42,
   "outputs": [],
   "source": [
    "from nltk.stem.snowball import SnowballStemmer\n",
    "stemmer = SnowballStemmer('german', ignore_stopwords=True)"
   ],
   "metadata": {
    "collapsed": false,
    "pycharm": {
     "name": "#%%\n"
    }
   }
  },
  {
   "cell_type": "code",
   "execution_count": 43,
   "outputs": [],
   "source": [
    "german_stop_words = stopwords.words('german')\n",
    "vect = CountVectorizer(stop_words = german_stop_words)"
   ],
   "metadata": {
    "collapsed": false,
    "pycharm": {
     "name": "#%%\n"
    }
   }
  },
  {
   "cell_type": "code",
   "execution_count": 44,
   "outputs": [],
   "source": [
    "def token_processing(text):\n",
    "    tokens = text.split()\n",
    "    tokens = [token for token in tokens if token not in german_stop_words\\\n",
    "              and token != \" \" \\\n",
    "              and token.strip() not in punctuation\n",
    "              and token not in gender_labels\n",
    "              ]\n",
    "\n",
    "    text = \" \".join(tokens)\n",
    "    return text"
   ],
   "metadata": {
    "collapsed": false,
    "pycharm": {
     "name": "#%%\n"
    }
   }
  },
  {
   "cell_type": "code",
   "execution_count": 46,
   "outputs": [],
   "source": [
    "job_title_df = jobs_df[['job_id', 'job_title']]"
   ],
   "metadata": {
    "collapsed": false,
    "pycharm": {
     "name": "#%%\n"
    }
   }
  },
  {
   "cell_type": "code",
   "execution_count": 47,
   "outputs": [],
   "source": [
    "job_title_df.to_excel('job_title_de.xlsx', index=False)"
   ],
   "metadata": {
    "collapsed": false,
    "pycharm": {
     "name": "#%%\n"
    }
   }
  },
  {
   "cell_type": "code",
   "execution_count": null,
   "outputs": [],
   "source": [
    "job_title_df = pd.read_excel('job_title_de.xlsx')"
   ],
   "metadata": {
    "collapsed": false,
    "pycharm": {
     "name": "#%%\n"
    }
   }
  },
  {
   "cell_type": "code",
   "execution_count": 32,
   "outputs": [],
   "source": [
    "gender_labels = ['mfx', 'mfd', 'wmd', 'mwd', 'fmd', 'fmx', 'dfm']"
   ],
   "metadata": {
    "collapsed": false,
    "pycharm": {
     "name": "#%%\n"
    }
   }
  },
  {
   "cell_type": "code",
   "execution_count": 48,
   "outputs": [
    {
     "name": "stderr",
     "output_type": "stream",
     "text": [
      "/var/folders/0d/nn90v_dn4y56s_xnhsv23lf00000gn/T/ipykernel_52127/1877707901.py:1: SettingWithCopyWarning: \n",
      "A value is trying to be set on a copy of a slice from a DataFrame.\n",
      "Try using .loc[row_indexer,col_indexer] = value instead\n",
      "\n",
      "See the caveats in the documentation: https://pandas.pydata.org/pandas-docs/stable/user_guide/indexing.html#returning-a-view-versus-a-copy\n",
      "  job_title_df['cleaned_text'] = job_title_df['job_title'].apply(token_processing)  # 15:00\n"
     ]
    }
   ],
   "source": [
    "job_title_df['cleaned_text'] = job_title_df['job_title'].apply(token_processing)  # 15:00"
   ],
   "metadata": {
    "collapsed": false,
    "pycharm": {
     "name": "#%%\n"
    }
   }
  },
  {
   "cell_type": "code",
   "execution_count": 62,
   "outputs": [
    {
     "data": {
      "text/plain": "                                            job_title  \\\n54                      data analyst for robotics dfm   \n91                               backend engineer fmx   \n600                          java developer sales mfd   \n387                    junior fullstack developer mfd   \n841  data engineer  data warehouse wmd  remote mglich   \n\n                                   cleaned_text  \n54                    data analyst for robotics  \n91                             backend engineer  \n600                        java developer sales  \n387                  junior fullstack developer  \n841  data engineer data warehouse remote mglich  ",
      "text/html": "<div>\n<style scoped>\n    .dataframe tbody tr th:only-of-type {\n        vertical-align: middle;\n    }\n\n    .dataframe tbody tr th {\n        vertical-align: top;\n    }\n\n    .dataframe thead th {\n        text-align: right;\n    }\n</style>\n<table border=\"1\" class=\"dataframe\">\n  <thead>\n    <tr style=\"text-align: right;\">\n      <th></th>\n      <th>job_title</th>\n      <th>cleaned_text</th>\n    </tr>\n  </thead>\n  <tbody>\n    <tr>\n      <th>54</th>\n      <td>data analyst for robotics dfm</td>\n      <td>data analyst for robotics</td>\n    </tr>\n    <tr>\n      <th>91</th>\n      <td>backend engineer fmx</td>\n      <td>backend engineer</td>\n    </tr>\n    <tr>\n      <th>600</th>\n      <td>java developer sales mfd</td>\n      <td>java developer sales</td>\n    </tr>\n    <tr>\n      <th>387</th>\n      <td>junior fullstack developer mfd</td>\n      <td>junior fullstack developer</td>\n    </tr>\n    <tr>\n      <th>841</th>\n      <td>data engineer  data warehouse wmd  remote mglich</td>\n      <td>data engineer data warehouse remote mglich</td>\n    </tr>\n  </tbody>\n</table>\n</div>"
     },
     "execution_count": 62,
     "metadata": {},
     "output_type": "execute_result"
    }
   ],
   "source": [
    "job_title_df[['job_title', 'cleaned_text']].sample(5)"
   ],
   "metadata": {
    "collapsed": false,
    "pycharm": {
     "name": "#%%\n"
    }
   }
  },
  {
   "cell_type": "code",
   "execution_count": 124,
   "outputs": [
    {
     "data": {
      "text/plain": "                                                job_id  \\\n0                                     0053e5f78b135d5a   \n1                                     00ef1c15bf5b5939   \n2                                     0176a1dc54841716   \n3                                     028876104a6b2d26   \n4                                     034b31000a95988c   \n..                                                 ...   \n910  https://de.indeed.com/viewjob?jk=fdd8d81f544bf511   \n911  https://de.indeed.com/viewjob?jk=fe322edbe2225eb6   \n912  https://de.indeed.com/viewjob?jk=fef83104f3acd912   \n913  https://de.indeed.com/viewjob?jk=ff0d468c9afc7eb4   \n914  https://de.indeed.com/viewjob?jk=ff6ccdbc95261d47   \n\n                                             job_title  \\\n0                                    web developer mwd   \n1                     junior data engineer  python wmd   \n2                                     bi developer wmd   \n3               junior softwareentwicklerin python wmd   \n4            software test engineer mwd python oder cc   \n..                                                 ...   \n910  masterarbeit  praxissemester im bereich entwic...   \n911  mathematikerphysiker testing und entwicklung a...   \n912                      junior software developer dfm   \n913  lead analyst monitoring amp screening dmw anti...   \n914                                 data scientist dfm   \n\n                                          cleaned_text  \n0                                        web developer  \n1                          junior data engineer python  \n2                                         bi developer  \n3                   junior softwareentwicklerin python  \n4                     software test engineer python cc  \n..                                                 ...  \n910  masterarbeit praxissemester bereich entwicklun...  \n911  mathematikerphysiker testing entwicklung autom...  \n912                          junior software developer  \n913  lead analyst monitoring amp screening dmw anti...  \n914                                     data scientist  \n\n[915 rows x 3 columns]",
      "text/html": "<div>\n<style scoped>\n    .dataframe tbody tr th:only-of-type {\n        vertical-align: middle;\n    }\n\n    .dataframe tbody tr th {\n        vertical-align: top;\n    }\n\n    .dataframe thead th {\n        text-align: right;\n    }\n</style>\n<table border=\"1\" class=\"dataframe\">\n  <thead>\n    <tr style=\"text-align: right;\">\n      <th></th>\n      <th>job_id</th>\n      <th>job_title</th>\n      <th>cleaned_text</th>\n    </tr>\n  </thead>\n  <tbody>\n    <tr>\n      <th>0</th>\n      <td>0053e5f78b135d5a</td>\n      <td>web developer mwd</td>\n      <td>web developer</td>\n    </tr>\n    <tr>\n      <th>1</th>\n      <td>00ef1c15bf5b5939</td>\n      <td>junior data engineer  python wmd</td>\n      <td>junior data engineer python</td>\n    </tr>\n    <tr>\n      <th>2</th>\n      <td>0176a1dc54841716</td>\n      <td>bi developer wmd</td>\n      <td>bi developer</td>\n    </tr>\n    <tr>\n      <th>3</th>\n      <td>028876104a6b2d26</td>\n      <td>junior softwareentwicklerin python wmd</td>\n      <td>junior softwareentwicklerin python</td>\n    </tr>\n    <tr>\n      <th>4</th>\n      <td>034b31000a95988c</td>\n      <td>software test engineer mwd python oder cc</td>\n      <td>software test engineer python cc</td>\n    </tr>\n    <tr>\n      <th>...</th>\n      <td>...</td>\n      <td>...</td>\n      <td>...</td>\n    </tr>\n    <tr>\n      <th>910</th>\n      <td>https://de.indeed.com/viewjob?jk=fdd8d81f544bf511</td>\n      <td>masterarbeit  praxissemester im bereich entwic...</td>\n      <td>masterarbeit praxissemester bereich entwicklun...</td>\n    </tr>\n    <tr>\n      <th>911</th>\n      <td>https://de.indeed.com/viewjob?jk=fe322edbe2225eb6</td>\n      <td>mathematikerphysiker testing und entwicklung a...</td>\n      <td>mathematikerphysiker testing entwicklung autom...</td>\n    </tr>\n    <tr>\n      <th>912</th>\n      <td>https://de.indeed.com/viewjob?jk=fef83104f3acd912</td>\n      <td>junior software developer dfm</td>\n      <td>junior software developer</td>\n    </tr>\n    <tr>\n      <th>913</th>\n      <td>https://de.indeed.com/viewjob?jk=ff0d468c9afc7eb4</td>\n      <td>lead analyst monitoring amp screening dmw anti...</td>\n      <td>lead analyst monitoring amp screening dmw anti...</td>\n    </tr>\n    <tr>\n      <th>914</th>\n      <td>https://de.indeed.com/viewjob?jk=ff6ccdbc95261d47</td>\n      <td>data scientist dfm</td>\n      <td>data scientist</td>\n    </tr>\n  </tbody>\n</table>\n<p>915 rows × 3 columns</p>\n</div>"
     },
     "execution_count": 124,
     "metadata": {},
     "output_type": "execute_result"
    }
   ],
   "source": [
    "job_title_df"
   ],
   "metadata": {
    "collapsed": false,
    "pycharm": {
     "name": "#%%\n"
    }
   }
  },
  {
   "cell_type": "code",
   "execution_count": null,
   "outputs": [],
   "source": [],
   "metadata": {
    "collapsed": false,
    "pycharm": {
     "name": "#%%\n"
    }
   }
  },
  {
   "cell_type": "code",
   "execution_count": 63,
   "outputs": [],
   "source": [
    "X = vect.fit_transform(job_title_df['cleaned_text'])"
   ],
   "metadata": {
    "collapsed": false,
    "pycharm": {
     "name": "#%%\n"
    }
   }
  },
  {
   "cell_type": "code",
   "execution_count": 67,
   "outputs": [],
   "source": [
    "X?"
   ],
   "metadata": {
    "collapsed": false,
    "pycharm": {
     "name": "#%%\n"
    }
   }
  },
  {
   "cell_type": "code",
   "execution_count": 76,
   "outputs": [],
   "source": [
    "#list(vect.vocabulary_.keys())"
   ],
   "metadata": {
    "collapsed": false,
    "pycharm": {
     "name": "#%%\n"
    }
   }
  },
  {
   "cell_type": "code",
   "execution_count": 73,
   "outputs": [
    {
     "data": {
      "text/plain": "array([[0, 0, 0, ..., 0, 0, 0],\n       [0, 0, 0, ..., 0, 0, 0],\n       [0, 0, 0, ..., 0, 0, 0],\n       ...,\n       [0, 0, 0, ..., 0, 0, 0],\n       [0, 0, 0, ..., 0, 0, 0],\n       [0, 0, 0, ..., 0, 0, 0]])"
     },
     "execution_count": 73,
     "metadata": {},
     "output_type": "execute_result"
    }
   ],
   "source": [
    "X.toarray()"
   ],
   "metadata": {
    "collapsed": false,
    "pycharm": {
     "name": "#%%\n"
    }
   }
  },
  {
   "cell_type": "code",
   "execution_count": 125,
   "outputs": [],
   "source": [
    "bow_df = pd.DataFrame(data=X.toarray(), columns=vect.get_feature_names_out())"
   ],
   "metadata": {
    "collapsed": false,
    "pycharm": {
     "name": "#%%\n"
    }
   }
  },
  {
   "cell_type": "code",
   "execution_count": 126,
   "outputs": [],
   "source": [
    "bow_df['job_id'] = job_title_df['job_id']"
   ],
   "metadata": {
    "collapsed": false,
    "pycharm": {
     "name": "#%%\n"
    }
   }
  },
  {
   "cell_type": "code",
   "execution_count": 128,
   "outputs": [
    {
     "data": {
      "text/plain": "     ab  about  abschlussarbeit  abschlussarbeiten  abstraction  academic  \\\n0     0      0                0                  0            0         0   \n1     0      0                0                  0            0         0   \n2     0      0                0                  0            0         0   \n3     0      0                0                  0            0         0   \n4     0      0                0                  0            0         0   \n..   ..    ...              ...                ...          ...       ...   \n910   0      0                0                  0            0         0   \n911   0      0                0                  0            0         0   \n912   0      0                0                  0            0         0   \n913   0      0                0                  0            0         0   \n914   0      0                0                  0            0         0   \n\n     accounts  activenoisecontrol  actuary  adas  ...  worker  working  \\\n0           0                   0        0     0  ...       0        0   \n1           0                   0        0     0  ...       0        0   \n2           0                   0        0     0  ...       0        0   \n3           0                   0        0     0  ...       0        0   \n4           0                   0        0     0  ...       0        0   \n..        ...                 ...      ...   ...  ...     ...      ...   \n910         0                   0        0     0  ...       0        0   \n911         0                   0        0     0  ...       0        0   \n912         0                   0        0     0  ...       0        0   \n913         0                   0        0     0  ...       0        0   \n914         0                   0        0     0  ...       0        0   \n\n     worlds  wrmenetzen  xcting  xfm  years  zb  zeit  \\\n0         0           0       0    0      0   0     0   \n1         0           0       0    0      0   0     0   \n2         0           0       0    0      0   0     0   \n3         0           0       0    0      0   0     0   \n4         0           0       0    0      0   0     0   \n..      ...         ...     ...  ...    ...  ..   ...   \n910       0           0       0    0      0   0     0   \n911       0           0       0    0      0   0     0   \n912       0           0       0    0      0   0     0   \n913       0           0       0    0      0   0     0   \n914       0           0       0    0      0   0     0   \n\n                                                job_id  \n0                                     0053e5f78b135d5a  \n1                                     00ef1c15bf5b5939  \n2                                     0176a1dc54841716  \n3                                     028876104a6b2d26  \n4                                     034b31000a95988c  \n..                                                 ...  \n910  https://de.indeed.com/viewjob?jk=fdd8d81f544bf511  \n911  https://de.indeed.com/viewjob?jk=fe322edbe2225eb6  \n912  https://de.indeed.com/viewjob?jk=fef83104f3acd912  \n913  https://de.indeed.com/viewjob?jk=ff0d468c9afc7eb4  \n914  https://de.indeed.com/viewjob?jk=ff6ccdbc95261d47  \n\n[915 rows x 1032 columns]",
      "text/html": "<div>\n<style scoped>\n    .dataframe tbody tr th:only-of-type {\n        vertical-align: middle;\n    }\n\n    .dataframe tbody tr th {\n        vertical-align: top;\n    }\n\n    .dataframe thead th {\n        text-align: right;\n    }\n</style>\n<table border=\"1\" class=\"dataframe\">\n  <thead>\n    <tr style=\"text-align: right;\">\n      <th></th>\n      <th>ab</th>\n      <th>about</th>\n      <th>abschlussarbeit</th>\n      <th>abschlussarbeiten</th>\n      <th>abstraction</th>\n      <th>academic</th>\n      <th>accounts</th>\n      <th>activenoisecontrol</th>\n      <th>actuary</th>\n      <th>adas</th>\n      <th>...</th>\n      <th>worker</th>\n      <th>working</th>\n      <th>worlds</th>\n      <th>wrmenetzen</th>\n      <th>xcting</th>\n      <th>xfm</th>\n      <th>years</th>\n      <th>zb</th>\n      <th>zeit</th>\n      <th>job_id</th>\n    </tr>\n  </thead>\n  <tbody>\n    <tr>\n      <th>0</th>\n      <td>0</td>\n      <td>0</td>\n      <td>0</td>\n      <td>0</td>\n      <td>0</td>\n      <td>0</td>\n      <td>0</td>\n      <td>0</td>\n      <td>0</td>\n      <td>0</td>\n      <td>...</td>\n      <td>0</td>\n      <td>0</td>\n      <td>0</td>\n      <td>0</td>\n      <td>0</td>\n      <td>0</td>\n      <td>0</td>\n      <td>0</td>\n      <td>0</td>\n      <td>0053e5f78b135d5a</td>\n    </tr>\n    <tr>\n      <th>1</th>\n      <td>0</td>\n      <td>0</td>\n      <td>0</td>\n      <td>0</td>\n      <td>0</td>\n      <td>0</td>\n      <td>0</td>\n      <td>0</td>\n      <td>0</td>\n      <td>0</td>\n      <td>...</td>\n      <td>0</td>\n      <td>0</td>\n      <td>0</td>\n      <td>0</td>\n      <td>0</td>\n      <td>0</td>\n      <td>0</td>\n      <td>0</td>\n      <td>0</td>\n      <td>00ef1c15bf5b5939</td>\n    </tr>\n    <tr>\n      <th>2</th>\n      <td>0</td>\n      <td>0</td>\n      <td>0</td>\n      <td>0</td>\n      <td>0</td>\n      <td>0</td>\n      <td>0</td>\n      <td>0</td>\n      <td>0</td>\n      <td>0</td>\n      <td>...</td>\n      <td>0</td>\n      <td>0</td>\n      <td>0</td>\n      <td>0</td>\n      <td>0</td>\n      <td>0</td>\n      <td>0</td>\n      <td>0</td>\n      <td>0</td>\n      <td>0176a1dc54841716</td>\n    </tr>\n    <tr>\n      <th>3</th>\n      <td>0</td>\n      <td>0</td>\n      <td>0</td>\n      <td>0</td>\n      <td>0</td>\n      <td>0</td>\n      <td>0</td>\n      <td>0</td>\n      <td>0</td>\n      <td>0</td>\n      <td>...</td>\n      <td>0</td>\n      <td>0</td>\n      <td>0</td>\n      <td>0</td>\n      <td>0</td>\n      <td>0</td>\n      <td>0</td>\n      <td>0</td>\n      <td>0</td>\n      <td>028876104a6b2d26</td>\n    </tr>\n    <tr>\n      <th>4</th>\n      <td>0</td>\n      <td>0</td>\n      <td>0</td>\n      <td>0</td>\n      <td>0</td>\n      <td>0</td>\n      <td>0</td>\n      <td>0</td>\n      <td>0</td>\n      <td>0</td>\n      <td>...</td>\n      <td>0</td>\n      <td>0</td>\n      <td>0</td>\n      <td>0</td>\n      <td>0</td>\n      <td>0</td>\n      <td>0</td>\n      <td>0</td>\n      <td>0</td>\n      <td>034b31000a95988c</td>\n    </tr>\n    <tr>\n      <th>...</th>\n      <td>...</td>\n      <td>...</td>\n      <td>...</td>\n      <td>...</td>\n      <td>...</td>\n      <td>...</td>\n      <td>...</td>\n      <td>...</td>\n      <td>...</td>\n      <td>...</td>\n      <td>...</td>\n      <td>...</td>\n      <td>...</td>\n      <td>...</td>\n      <td>...</td>\n      <td>...</td>\n      <td>...</td>\n      <td>...</td>\n      <td>...</td>\n      <td>...</td>\n      <td>...</td>\n    </tr>\n    <tr>\n      <th>910</th>\n      <td>0</td>\n      <td>0</td>\n      <td>0</td>\n      <td>0</td>\n      <td>0</td>\n      <td>0</td>\n      <td>0</td>\n      <td>0</td>\n      <td>0</td>\n      <td>0</td>\n      <td>...</td>\n      <td>0</td>\n      <td>0</td>\n      <td>0</td>\n      <td>0</td>\n      <td>0</td>\n      <td>0</td>\n      <td>0</td>\n      <td>0</td>\n      <td>0</td>\n      <td>https://de.indeed.com/viewjob?jk=fdd8d81f544bf511</td>\n    </tr>\n    <tr>\n      <th>911</th>\n      <td>0</td>\n      <td>0</td>\n      <td>0</td>\n      <td>0</td>\n      <td>0</td>\n      <td>0</td>\n      <td>0</td>\n      <td>0</td>\n      <td>0</td>\n      <td>0</td>\n      <td>...</td>\n      <td>0</td>\n      <td>0</td>\n      <td>0</td>\n      <td>0</td>\n      <td>0</td>\n      <td>0</td>\n      <td>0</td>\n      <td>0</td>\n      <td>0</td>\n      <td>https://de.indeed.com/viewjob?jk=fe322edbe2225eb6</td>\n    </tr>\n    <tr>\n      <th>912</th>\n      <td>0</td>\n      <td>0</td>\n      <td>0</td>\n      <td>0</td>\n      <td>0</td>\n      <td>0</td>\n      <td>0</td>\n      <td>0</td>\n      <td>0</td>\n      <td>0</td>\n      <td>...</td>\n      <td>0</td>\n      <td>0</td>\n      <td>0</td>\n      <td>0</td>\n      <td>0</td>\n      <td>0</td>\n      <td>0</td>\n      <td>0</td>\n      <td>0</td>\n      <td>https://de.indeed.com/viewjob?jk=fef83104f3acd912</td>\n    </tr>\n    <tr>\n      <th>913</th>\n      <td>0</td>\n      <td>0</td>\n      <td>0</td>\n      <td>0</td>\n      <td>0</td>\n      <td>0</td>\n      <td>0</td>\n      <td>0</td>\n      <td>0</td>\n      <td>0</td>\n      <td>...</td>\n      <td>0</td>\n      <td>0</td>\n      <td>0</td>\n      <td>0</td>\n      <td>0</td>\n      <td>0</td>\n      <td>0</td>\n      <td>0</td>\n      <td>0</td>\n      <td>https://de.indeed.com/viewjob?jk=ff0d468c9afc7eb4</td>\n    </tr>\n    <tr>\n      <th>914</th>\n      <td>0</td>\n      <td>0</td>\n      <td>0</td>\n      <td>0</td>\n      <td>0</td>\n      <td>0</td>\n      <td>0</td>\n      <td>0</td>\n      <td>0</td>\n      <td>0</td>\n      <td>...</td>\n      <td>0</td>\n      <td>0</td>\n      <td>0</td>\n      <td>0</td>\n      <td>0</td>\n      <td>0</td>\n      <td>0</td>\n      <td>0</td>\n      <td>0</td>\n      <td>https://de.indeed.com/viewjob?jk=ff6ccdbc95261d47</td>\n    </tr>\n  </tbody>\n</table>\n<p>915 rows × 1032 columns</p>\n</div>"
     },
     "execution_count": 128,
     "metadata": {},
     "output_type": "execute_result"
    }
   ],
   "source": [
    "bow_df"
   ],
   "metadata": {
    "collapsed": false,
    "pycharm": {
     "name": "#%%\n"
    }
   }
  },
  {
   "cell_type": "code",
   "execution_count": null,
   "outputs": [],
   "source": [],
   "metadata": {
    "collapsed": false,
    "pycharm": {
     "name": "#%%\n"
    }
   }
  },
  {
   "cell_type": "code",
   "execution_count": 119,
   "outputs": [],
   "source": [
    "bow_df.to_excel('bow_df.xlsx')"
   ],
   "metadata": {
    "collapsed": false,
    "pycharm": {
     "name": "#%%\n"
    }
   }
  },
  {
   "cell_type": "code",
   "execution_count": 134,
   "outputs": [
    {
     "data": {
      "text/plain": "data                             250\nengineer                         200\nsoftware                         138\npython                           131\ndeveloper                        119\n                                ... \nindustrieumfeld                    1\ninformatiker                       1\ninfotainment                       1\ningenieurnaturwissenschaftler      1\nzeit                               1\nLength: 1031, dtype: int64"
     },
     "execution_count": 134,
     "metadata": {},
     "output_type": "execute_result"
    }
   ],
   "source": [
    "bow_df[list(bow_df.columns)[:-1]].sum().sort_values(ascending=False)"
   ],
   "metadata": {
    "collapsed": false,
    "pycharm": {
     "name": "#%%\n"
    }
   }
  },
  {
   "cell_type": "code",
   "execution_count": 140,
   "outputs": [
    {
     "data": {
      "text/plain": "     developer  software                                             job_id\n109          1         1  https://de.indeed.com/viewjob?jk=af0d3c856e897067",
      "text/html": "<div>\n<style scoped>\n    .dataframe tbody tr th:only-of-type {\n        vertical-align: middle;\n    }\n\n    .dataframe tbody tr th {\n        vertical-align: top;\n    }\n\n    .dataframe thead th {\n        text-align: right;\n    }\n</style>\n<table border=\"1\" class=\"dataframe\">\n  <thead>\n    <tr style=\"text-align: right;\">\n      <th></th>\n      <th>developer</th>\n      <th>software</th>\n      <th>job_id</th>\n    </tr>\n  </thead>\n  <tbody>\n    <tr>\n      <th>109</th>\n      <td>1</td>\n      <td>1</td>\n      <td>https://de.indeed.com/viewjob?jk=af0d3c856e897067</td>\n    </tr>\n  </tbody>\n</table>\n</div>"
     },
     "execution_count": 140,
     "metadata": {},
     "output_type": "execute_result"
    }
   ],
   "source": [
    "bow_df.loc[bow_df['job_id'] == 'https://de.indeed.com/viewjob?jk=af0d3c856e897067',\n",
    "           bow_df.loc[bow_df['job_id'] == 'https://de.indeed.com/viewjob?jk=af0d3c856e897067'].\\\n",
    "          loc[:, bow_df.loc[bow_df['job_id'] == 'https://de.indeed.com/viewjob?jk=af0d3c856e897067'].ne(0).any()].columns]"
   ],
   "metadata": {
    "collapsed": false,
    "pycharm": {
     "name": "#%%\n"
    }
   }
  },
  {
   "cell_type": "code",
   "execution_count": 139,
   "outputs": [
    {
     "data": {
      "text/plain": "                                                job_id  \\\n109  https://de.indeed.com/viewjob?jk=af0d3c856e897067   \n\n                  job_title        cleaned_text  \n109  software developer mfd  software developer  ",
      "text/html": "<div>\n<style scoped>\n    .dataframe tbody tr th:only-of-type {\n        vertical-align: middle;\n    }\n\n    .dataframe tbody tr th {\n        vertical-align: top;\n    }\n\n    .dataframe thead th {\n        text-align: right;\n    }\n</style>\n<table border=\"1\" class=\"dataframe\">\n  <thead>\n    <tr style=\"text-align: right;\">\n      <th></th>\n      <th>job_id</th>\n      <th>job_title</th>\n      <th>cleaned_text</th>\n    </tr>\n  </thead>\n  <tbody>\n    <tr>\n      <th>109</th>\n      <td>https://de.indeed.com/viewjob?jk=af0d3c856e897067</td>\n      <td>software developer mfd</td>\n      <td>software developer</td>\n    </tr>\n  </tbody>\n</table>\n</div>"
     },
     "execution_count": 139,
     "metadata": {},
     "output_type": "execute_result"
    }
   ],
   "source": [
    "job_title_df.loc[job_title_df['job_id']=='https://de.indeed.com/viewjob?jk=af0d3c856e897067']"
   ],
   "metadata": {
    "collapsed": false,
    "pycharm": {
     "name": "#%%\n"
    }
   }
  },
  {
   "cell_type": "code",
   "execution_count": 138,
   "outputs": [
    {
     "data": {
      "text/plain": "     ab  about  abschlussarbeit  abschlussarbeiten  abstraction  academic  \\\n309   0      0                0                  0            0         1   \n587   0      0                0                  0            0         0   \n109   0      0                0                  0            0         0   \n413   0      0                0                  0            0         0   \n353   0      0                0                  0            0         0   \n\n     accounts  activenoisecontrol  actuary  adas  ...  worker  working  \\\n309         0                   0        0     0  ...       0        0   \n587         0                   0        0     0  ...       0        0   \n109         0                   0        0     0  ...       0        0   \n413         0                   0        0     0  ...       0        0   \n353         0                   0        0     0  ...       0        0   \n\n     worlds  wrmenetzen  xcting  xfm  years  zb  zeit  \\\n309       0           0       0    0      0   0     0   \n587       0           0       0    0      0   0     0   \n109       0           0       0    0      0   0     0   \n413       0           0       0    0      0   0     0   \n353       0           0       0    0      0   0     0   \n\n                                                job_id  \n309  https://de.indeed.com/viewjob?jk=2b660ec1a37fe100  \n587  https://de.indeed.com/viewjob?jk=90eb60b0f0dd4b7c  \n109  https://de.indeed.com/viewjob?jk=af0d3c856e897067  \n413  https://de.indeed.com/viewjob?jk=50d321fdd9cc1a25  \n353  https://de.indeed.com/viewjob?jk=38f9763fc8cd1576  \n\n[5 rows x 1032 columns]",
      "text/html": "<div>\n<style scoped>\n    .dataframe tbody tr th:only-of-type {\n        vertical-align: middle;\n    }\n\n    .dataframe tbody tr th {\n        vertical-align: top;\n    }\n\n    .dataframe thead th {\n        text-align: right;\n    }\n</style>\n<table border=\"1\" class=\"dataframe\">\n  <thead>\n    <tr style=\"text-align: right;\">\n      <th></th>\n      <th>ab</th>\n      <th>about</th>\n      <th>abschlussarbeit</th>\n      <th>abschlussarbeiten</th>\n      <th>abstraction</th>\n      <th>academic</th>\n      <th>accounts</th>\n      <th>activenoisecontrol</th>\n      <th>actuary</th>\n      <th>adas</th>\n      <th>...</th>\n      <th>worker</th>\n      <th>working</th>\n      <th>worlds</th>\n      <th>wrmenetzen</th>\n      <th>xcting</th>\n      <th>xfm</th>\n      <th>years</th>\n      <th>zb</th>\n      <th>zeit</th>\n      <th>job_id</th>\n    </tr>\n  </thead>\n  <tbody>\n    <tr>\n      <th>309</th>\n      <td>0</td>\n      <td>0</td>\n      <td>0</td>\n      <td>0</td>\n      <td>0</td>\n      <td>1</td>\n      <td>0</td>\n      <td>0</td>\n      <td>0</td>\n      <td>0</td>\n      <td>...</td>\n      <td>0</td>\n      <td>0</td>\n      <td>0</td>\n      <td>0</td>\n      <td>0</td>\n      <td>0</td>\n      <td>0</td>\n      <td>0</td>\n      <td>0</td>\n      <td>https://de.indeed.com/viewjob?jk=2b660ec1a37fe100</td>\n    </tr>\n    <tr>\n      <th>587</th>\n      <td>0</td>\n      <td>0</td>\n      <td>0</td>\n      <td>0</td>\n      <td>0</td>\n      <td>0</td>\n      <td>0</td>\n      <td>0</td>\n      <td>0</td>\n      <td>0</td>\n      <td>...</td>\n      <td>0</td>\n      <td>0</td>\n      <td>0</td>\n      <td>0</td>\n      <td>0</td>\n      <td>0</td>\n      <td>0</td>\n      <td>0</td>\n      <td>0</td>\n      <td>https://de.indeed.com/viewjob?jk=90eb60b0f0dd4b7c</td>\n    </tr>\n    <tr>\n      <th>109</th>\n      <td>0</td>\n      <td>0</td>\n      <td>0</td>\n      <td>0</td>\n      <td>0</td>\n      <td>0</td>\n      <td>0</td>\n      <td>0</td>\n      <td>0</td>\n      <td>0</td>\n      <td>...</td>\n      <td>0</td>\n      <td>0</td>\n      <td>0</td>\n      <td>0</td>\n      <td>0</td>\n      <td>0</td>\n      <td>0</td>\n      <td>0</td>\n      <td>0</td>\n      <td>https://de.indeed.com/viewjob?jk=af0d3c856e897067</td>\n    </tr>\n    <tr>\n      <th>413</th>\n      <td>0</td>\n      <td>0</td>\n      <td>0</td>\n      <td>0</td>\n      <td>0</td>\n      <td>0</td>\n      <td>0</td>\n      <td>0</td>\n      <td>0</td>\n      <td>0</td>\n      <td>...</td>\n      <td>0</td>\n      <td>0</td>\n      <td>0</td>\n      <td>0</td>\n      <td>0</td>\n      <td>0</td>\n      <td>0</td>\n      <td>0</td>\n      <td>0</td>\n      <td>https://de.indeed.com/viewjob?jk=50d321fdd9cc1a25</td>\n    </tr>\n    <tr>\n      <th>353</th>\n      <td>0</td>\n      <td>0</td>\n      <td>0</td>\n      <td>0</td>\n      <td>0</td>\n      <td>0</td>\n      <td>0</td>\n      <td>0</td>\n      <td>0</td>\n      <td>0</td>\n      <td>...</td>\n      <td>0</td>\n      <td>0</td>\n      <td>0</td>\n      <td>0</td>\n      <td>0</td>\n      <td>0</td>\n      <td>0</td>\n      <td>0</td>\n      <td>0</td>\n      <td>https://de.indeed.com/viewjob?jk=38f9763fc8cd1576</td>\n    </tr>\n  </tbody>\n</table>\n<p>5 rows × 1032 columns</p>\n</div>"
     },
     "execution_count": 138,
     "metadata": {},
     "output_type": "execute_result"
    }
   ],
   "source": [
    "bow_df.sample(5)  # encoding is good"
   ],
   "metadata": {
    "collapsed": false,
    "pycharm": {
     "name": "#%%\n"
    }
   }
  },
  {
   "cell_type": "code",
   "execution_count": 141,
   "outputs": [],
   "source": [
    "bow_df.to_excel('de_bag_of_words.xlsx', index=False)"
   ],
   "metadata": {
    "collapsed": false,
    "pycharm": {
     "name": "#%%\n"
    }
   }
  },
  {
   "cell_type": "code",
   "execution_count": null,
   "outputs": [],
   "source": [],
   "metadata": {
    "collapsed": false,
    "pycharm": {
     "name": "#%%\n",
     "is_executing": true
    }
   }
  },
  {
   "cell_type": "code",
   "execution_count": 145,
   "outputs": [],
   "source": [
    "corr_df = bow_df[bow_df.columns[:-1]].corr()"
   ],
   "metadata": {
    "collapsed": false,
    "pycharm": {
     "name": "#%%\n"
    }
   }
  },
  {
   "cell_type": "code",
   "execution_count": null,
   "outputs": [],
   "source": [],
   "metadata": {
    "collapsed": false,
    "pycharm": {
     "name": "#%%\n",
     "is_executing": true
    }
   }
  },
  {
   "cell_type": "code",
   "execution_count": 147,
   "outputs": [],
   "source": [
    "# Create an empty list to store the correlations\n",
    "corr_list = []\n",
    "\n",
    "# Iterate over the upper triangle of the correlation matrix\n",
    "for i in range(corr_df.shape[0]):\n",
    "    for j in range(i+1, corr_df.shape[1]):\n",
    "        corr_list.append({'first_val': corr_df.columns[i],\n",
    "                          'second_val': corr_df.columns[j],\n",
    "                          'correlation': corr_df.iloc[i, j]})\n",
    "\n",
    "# Convert the list of dictionaries to a DataFrame\n",
    "corr_df_corr = pd.DataFrame(corr_list)\n",
    "\n",
    "# Sort the DataFrame by the 'correlation' column in ascending order\n",
    "corr_df_corr = corr_df_corr.sort_values(by='correlation')"
   ],
   "metadata": {
    "collapsed": false,
    "pycharm": {
     "name": "#%%\n"
    }
   }
  },
  {
   "cell_type": "code",
   "execution_count": 150,
   "outputs": [
    {
     "data": {
      "text/plain": "                                    first_val      second_val  correlation\n179192                                 demand       satellite     1.000000\n249810                               exchange           quant     1.000000\n223282                         elektromotoren  experimentelle     1.000000\n258874  fachinformatikeranwendungsentwicklung       stuttgart     1.000000\n308706                               gisbased           straw     1.000000\n...                                       ...             ...          ...\n230043                               engineer       scientist    -0.155370\n185323                              developer        engineer    -0.187573\n172389                                   data          python    -0.188574\n171852                                   data       developer    -0.201276\n172502                                   data        software    -0.218752\n\n[530965 rows x 3 columns]",
      "text/html": "<div>\n<style scoped>\n    .dataframe tbody tr th:only-of-type {\n        vertical-align: middle;\n    }\n\n    .dataframe tbody tr th {\n        vertical-align: top;\n    }\n\n    .dataframe thead th {\n        text-align: right;\n    }\n</style>\n<table border=\"1\" class=\"dataframe\">\n  <thead>\n    <tr style=\"text-align: right;\">\n      <th></th>\n      <th>first_val</th>\n      <th>second_val</th>\n      <th>correlation</th>\n    </tr>\n  </thead>\n  <tbody>\n    <tr>\n      <th>179192</th>\n      <td>demand</td>\n      <td>satellite</td>\n      <td>1.000000</td>\n    </tr>\n    <tr>\n      <th>249810</th>\n      <td>exchange</td>\n      <td>quant</td>\n      <td>1.000000</td>\n    </tr>\n    <tr>\n      <th>223282</th>\n      <td>elektromotoren</td>\n      <td>experimentelle</td>\n      <td>1.000000</td>\n    </tr>\n    <tr>\n      <th>258874</th>\n      <td>fachinformatikeranwendungsentwicklung</td>\n      <td>stuttgart</td>\n      <td>1.000000</td>\n    </tr>\n    <tr>\n      <th>308706</th>\n      <td>gisbased</td>\n      <td>straw</td>\n      <td>1.000000</td>\n    </tr>\n    <tr>\n      <th>...</th>\n      <td>...</td>\n      <td>...</td>\n      <td>...</td>\n    </tr>\n    <tr>\n      <th>230043</th>\n      <td>engineer</td>\n      <td>scientist</td>\n      <td>-0.155370</td>\n    </tr>\n    <tr>\n      <th>185323</th>\n      <td>developer</td>\n      <td>engineer</td>\n      <td>-0.187573</td>\n    </tr>\n    <tr>\n      <th>172389</th>\n      <td>data</td>\n      <td>python</td>\n      <td>-0.188574</td>\n    </tr>\n    <tr>\n      <th>171852</th>\n      <td>data</td>\n      <td>developer</td>\n      <td>-0.201276</td>\n    </tr>\n    <tr>\n      <th>172502</th>\n      <td>data</td>\n      <td>software</td>\n      <td>-0.218752</td>\n    </tr>\n  </tbody>\n</table>\n<p>530965 rows × 3 columns</p>\n</div>"
     },
     "execution_count": 150,
     "metadata": {},
     "output_type": "execute_result"
    }
   ],
   "source": [
    "corr_df_corr.sort_values(by='correlation', ascending=False)"
   ],
   "metadata": {
    "collapsed": false,
    "pycharm": {
     "name": "#%%\n"
    }
   }
  },
  {
   "cell_type": "code",
   "execution_count": 151,
   "outputs": [
    {
     "data": {
      "text/plain": "                                    first_val      second_val  correlation\n172502                                   data        software    -0.218752\n171852                                   data       developer    -0.201276\n172389                                   data          python    -0.188574\n185323                              developer        engineer    -0.187573\n230043                               engineer       scientist    -0.155370\n...                                       ...             ...          ...\n258874  fachinformatikeranwendungsentwicklung       stuttgart     1.000000\n223282                         elektromotoren  experimentelle     1.000000\n488477                         pythoncwrapper              zb     1.000000\n249810                               exchange           quant     1.000000\n179192                                 demand       satellite     1.000000\n\n[530965 rows x 3 columns]",
      "text/html": "<div>\n<style scoped>\n    .dataframe tbody tr th:only-of-type {\n        vertical-align: middle;\n    }\n\n    .dataframe tbody tr th {\n        vertical-align: top;\n    }\n\n    .dataframe thead th {\n        text-align: right;\n    }\n</style>\n<table border=\"1\" class=\"dataframe\">\n  <thead>\n    <tr style=\"text-align: right;\">\n      <th></th>\n      <th>first_val</th>\n      <th>second_val</th>\n      <th>correlation</th>\n    </tr>\n  </thead>\n  <tbody>\n    <tr>\n      <th>172502</th>\n      <td>data</td>\n      <td>software</td>\n      <td>-0.218752</td>\n    </tr>\n    <tr>\n      <th>171852</th>\n      <td>data</td>\n      <td>developer</td>\n      <td>-0.201276</td>\n    </tr>\n    <tr>\n      <th>172389</th>\n      <td>data</td>\n      <td>python</td>\n      <td>-0.188574</td>\n    </tr>\n    <tr>\n      <th>185323</th>\n      <td>developer</td>\n      <td>engineer</td>\n      <td>-0.187573</td>\n    </tr>\n    <tr>\n      <th>230043</th>\n      <td>engineer</td>\n      <td>scientist</td>\n      <td>-0.155370</td>\n    </tr>\n    <tr>\n      <th>...</th>\n      <td>...</td>\n      <td>...</td>\n      <td>...</td>\n    </tr>\n    <tr>\n      <th>258874</th>\n      <td>fachinformatikeranwendungsentwicklung</td>\n      <td>stuttgart</td>\n      <td>1.000000</td>\n    </tr>\n    <tr>\n      <th>223282</th>\n      <td>elektromotoren</td>\n      <td>experimentelle</td>\n      <td>1.000000</td>\n    </tr>\n    <tr>\n      <th>488477</th>\n      <td>pythoncwrapper</td>\n      <td>zb</td>\n      <td>1.000000</td>\n    </tr>\n    <tr>\n      <th>249810</th>\n      <td>exchange</td>\n      <td>quant</td>\n      <td>1.000000</td>\n    </tr>\n    <tr>\n      <th>179192</th>\n      <td>demand</td>\n      <td>satellite</td>\n      <td>1.000000</td>\n    </tr>\n  </tbody>\n</table>\n<p>530965 rows × 3 columns</p>\n</div>"
     },
     "execution_count": 151,
     "metadata": {},
     "output_type": "execute_result"
    }
   ],
   "source": [
    "corr_df_corr.sort_values(by='correlation', ascending=True)"
   ],
   "metadata": {
    "collapsed": false,
    "pycharm": {
     "name": "#%%\n"
    }
   }
  },
  {
   "cell_type": "code",
   "execution_count": null,
   "outputs": [],
   "source": [],
   "metadata": {
    "collapsed": false,
    "pycharm": {
     "name": "#%%\n",
     "is_executing": true
    }
   }
  },
  {
   "cell_type": "code",
   "execution_count": 155,
   "outputs": [
    {
     "data": {
      "text/plain": "ab                   1\nabout                1\nabschlussarbeit      3\nabschlussarbeiten    1\nabstraction          1\n                    ..\nxcting               2\nxfm                  1\nyears                1\nzb                   1\nzeit                 1\nLength: 1031, dtype: int64"
     },
     "execution_count": 155,
     "metadata": {},
     "output_type": "execute_result"
    }
   ],
   "source": [
    "bow_df[bow_df.columns[:-1]].sum()"
   ],
   "metadata": {
    "collapsed": false,
    "pycharm": {
     "name": "#%%\n"
    }
   }
  },
  {
   "cell_type": "code",
   "execution_count": null,
   "outputs": [],
   "source": [],
   "metadata": {
    "collapsed": false,
    "pycharm": {
     "name": "#%%\n",
     "is_executing": true
    }
   }
  },
  {
   "cell_type": "markdown",
   "source": [
    "# Plotting distributions to cut off data"
   ],
   "metadata": {
    "collapsed": false,
    "pycharm": {
     "name": "#%% md\n"
    }
   }
  },
  {
   "cell_type": "code",
   "execution_count": 156,
   "outputs": [],
   "source": [
    "import seaborn as sns"
   ],
   "metadata": {
    "collapsed": false,
    "pycharm": {
     "name": "#%%\n"
    }
   }
  },
  {
   "cell_type": "code",
   "execution_count": 160,
   "outputs": [],
   "source": [
    "from matplotlib import pyplot as plt"
   ],
   "metadata": {
    "collapsed": false,
    "pycharm": {
     "name": "#%%\n"
    }
   }
  },
  {
   "cell_type": "code",
   "execution_count": 162,
   "outputs": [
    {
     "data": {
      "text/plain": "<Figure size 640x480 with 1 Axes>",
      "image/png": "[encoded data removed]"
     },
     "metadata": {},
     "output_type": "display_data"
    }
   ],
   "source": [
    "token_freq = pd.DataFrame(bow_df[bow_df.columns[:-1]].sum(), columns=['freq'])\n",
    "\n",
    "# Plot the histogram and kernel density plot\n",
    "sns.histplot(token_freq, kde=True)\n",
    "\n",
    "# Set the title and labels\n",
    "plt.title('Distribution of Token Frequency')\n",
    "plt.xlabel('token count')\n",
    "plt.ylabel('Frequency')\n",
    "\n",
    "# Show the plot\n",
    "#plt.savefig('distr_of_target.png')\n",
    "plt.show()"
   ],
   "metadata": {
    "collapsed": false,
    "pycharm": {
     "name": "#%%\n"
    }
   }
  },
  {
   "cell_type": "code",
   "execution_count": 163,
   "outputs": [
    {
     "name": "stdout",
     "output_type": "stream",
     "text": [
      "25th percentile (Q1): 1.0\n",
      "50th percentile (Q2, Median): 1.0\n",
      "75th percentile (Q3): 2.0\n"
     ]
    }
   ],
   "source": [
    "q1 = token_freq['freq'].quantile(0.25)\n",
    "q2 = token_freq['freq'].quantile(0.5)\n",
    "q3 = token_freq['freq'].quantile(0.75)\n",
    "\n",
    "# Print quantiles\n",
    "print(f\"25th percentile (Q1): {q1}\")\n",
    "print(f\"50th percentile (Q2, Median): {q2}\")\n",
    "print(f\"75th percentile (Q3): {q3}\")"
   ],
   "metadata": {
    "collapsed": false,
    "pycharm": {
     "name": "#%%\n"
    }
   }
  },
  {
   "cell_type": "code",
   "execution_count": 169,
   "outputs": [
    {
     "data": {
      "text/plain": "6.0"
     },
     "execution_count": 169,
     "metadata": {},
     "output_type": "execute_result"
    }
   ],
   "source": [
    "token_freq['freq'].quantile(0.9)"
   ],
   "metadata": {
    "collapsed": false,
    "pycharm": {
     "name": "#%%\n"
    }
   }
  },
  {
   "cell_type": "code",
   "execution_count": 176,
   "outputs": [
    {
     "data": {
      "text/plain": "<Figure size 640x480 with 1 Axes>",
      "image/png": "[encoded data removed]"
     },
     "metadata": {},
     "output_type": "display_data"
    }
   ],
   "source": [
    "token_freq = pd.DataFrame(bow_df[bow_df.columns[:-1]].sum(), columns=['freq'])\n",
    "token_freq1 = token_freq.loc[(token_freq['freq']>token_freq['freq'].quantile(0.75)) &\n",
    "                             (token_freq['freq']<token_freq['freq'].quantile(0.99))]\n",
    "# Plot the histogram and kernel density plot\n",
    "sns.histplot(token_freq1, kde=True)\n",
    "\n",
    "# Set the title and labels\n",
    "plt.title('Distribution of Token Frequency')\n",
    "plt.xlabel('token count')\n",
    "plt.ylabel('Frequency')\n",
    "\n",
    "# Show the plot\n",
    "#plt.savefig('distr_of_target.png')\n",
    "plt.show()"
   ],
   "metadata": {
    "collapsed": false,
    "pycharm": {
     "name": "#%%\n"
    }
   }
  },
  {
   "cell_type": "code",
   "execution_count": 177,
   "outputs": [
    {
     "data": {
      "text/plain": "<Figure size 1200x600 with 1 Axes>",
      "image/png": "[encoded data removed]"
     },
     "metadata": {},
     "output_type": "display_data"
    }
   ],
   "source": [
    "sns.set(style=\"whitegrid\")\n",
    "plt.figure(figsize=(12, 6))\n",
    "\n",
    "# Create a box plot for the 'freq' column\n",
    "sns.boxplot(x=token_freq1['freq'])\n",
    "\n",
    "# Add title and labels\n",
    "plt.title(\"Distribution of Frequencies\")\n",
    "plt.xlabel(\"Frequency\")\n",
    "\n",
    "# Display the plot\n",
    "plt.show()"
   ],
   "metadata": {
    "collapsed": false,
    "pycharm": {
     "name": "#%%\n"
    }
   }
  },
  {
   "cell_type": "markdown",
   "source": [
    "## Resume => cut of tokens less than 0.75 quantile"
   ],
   "metadata": {
    "collapsed": false,
    "pycharm": {
     "name": "#%% md\n"
    }
   }
  },
  {
   "cell_type": "code",
   "execution_count": 178,
   "outputs": [
    {
     "data": {
      "text/plain": "     ab  about  abschlussarbeit  abschlussarbeiten  abstraction  academic  \\\n0     0      0                0                  0            0         0   \n1     0      0                0                  0            0         0   \n2     0      0                0                  0            0         0   \n3     0      0                0                  0            0         0   \n4     0      0                0                  0            0         0   \n..   ..    ...              ...                ...          ...       ...   \n910   0      0                0                  0            0         0   \n911   0      0                0                  0            0         0   \n912   0      0                0                  0            0         0   \n913   0      0                0                  0            0         0   \n914   0      0                0                  0            0         0   \n\n     accounts  activenoisecontrol  actuary  adas  ...  worker  working  \\\n0           0                   0        0     0  ...       0        0   \n1           0                   0        0     0  ...       0        0   \n2           0                   0        0     0  ...       0        0   \n3           0                   0        0     0  ...       0        0   \n4           0                   0        0     0  ...       0        0   \n..        ...                 ...      ...   ...  ...     ...      ...   \n910         0                   0        0     0  ...       0        0   \n911         0                   0        0     0  ...       0        0   \n912         0                   0        0     0  ...       0        0   \n913         0                   0        0     0  ...       0        0   \n914         0                   0        0     0  ...       0        0   \n\n     worlds  wrmenetzen  xcting  xfm  years  zb  zeit  \\\n0         0           0       0    0      0   0     0   \n1         0           0       0    0      0   0     0   \n2         0           0       0    0      0   0     0   \n3         0           0       0    0      0   0     0   \n4         0           0       0    0      0   0     0   \n..      ...         ...     ...  ...    ...  ..   ...   \n910       0           0       0    0      0   0     0   \n911       0           0       0    0      0   0     0   \n912       0           0       0    0      0   0     0   \n913       0           0       0    0      0   0     0   \n914       0           0       0    0      0   0     0   \n\n                                                job_id  \n0                                     0053e5f78b135d5a  \n1                                     00ef1c15bf5b5939  \n2                                     0176a1dc54841716  \n3                                     028876104a6b2d26  \n4                                     034b31000a95988c  \n..                                                 ...  \n910  https://de.indeed.com/viewjob?jk=fdd8d81f544bf511  \n911  https://de.indeed.com/viewjob?jk=fe322edbe2225eb6  \n912  https://de.indeed.com/viewjob?jk=fef83104f3acd912  \n913  https://de.indeed.com/viewjob?jk=ff0d468c9afc7eb4  \n914  https://de.indeed.com/viewjob?jk=ff6ccdbc95261d47  \n\n[915 rows x 1032 columns]",
      "text/html": "<div>\n<style scoped>\n    .dataframe tbody tr th:only-of-type {\n        vertical-align: middle;\n    }\n\n    .dataframe tbody tr th {\n        vertical-align: top;\n    }\n\n    .dataframe thead th {\n        text-align: right;\n    }\n</style>\n<table border=\"1\" class=\"dataframe\">\n  <thead>\n    <tr style=\"text-align: right;\">\n      <th></th>\n      <th>ab</th>\n      <th>about</th>\n      <th>abschlussarbeit</th>\n      <th>abschlussarbeiten</th>\n      <th>abstraction</th>\n      <th>academic</th>\n      <th>accounts</th>\n      <th>activenoisecontrol</th>\n      <th>actuary</th>\n      <th>adas</th>\n      <th>...</th>\n      <th>worker</th>\n      <th>working</th>\n      <th>worlds</th>\n      <th>wrmenetzen</th>\n      <th>xcting</th>\n      <th>xfm</th>\n      <th>years</th>\n      <th>zb</th>\n      <th>zeit</th>\n      <th>job_id</th>\n    </tr>\n  </thead>\n  <tbody>\n    <tr>\n      <th>0</th>\n      <td>0</td>\n      <td>0</td>\n      <td>0</td>\n      <td>0</td>\n      <td>0</td>\n      <td>0</td>\n      <td>0</td>\n      <td>0</td>\n      <td>0</td>\n      <td>0</td>\n      <td>...</td>\n      <td>0</td>\n      <td>0</td>\n      <td>0</td>\n      <td>0</td>\n      <td>0</td>\n      <td>0</td>\n      <td>0</td>\n      <td>0</td>\n      <td>0</td>\n      <td>0053e5f78b135d5a</td>\n    </tr>\n    <tr>\n      <th>1</th>\n      <td>0</td>\n      <td>0</td>\n      <td>0</td>\n      <td>0</td>\n      <td>0</td>\n      <td>0</td>\n      <td>0</td>\n      <td>0</td>\n      <td>0</td>\n      <td>0</td>\n      <td>...</td>\n      <td>0</td>\n      <td>0</td>\n      <td>0</td>\n      <td>0</td>\n      <td>0</td>\n      <td>0</td>\n      <td>0</td>\n      <td>0</td>\n      <td>0</td>\n      <td>00ef1c15bf5b5939</td>\n    </tr>\n    <tr>\n      <th>2</th>\n      <td>0</td>\n      <td>0</td>\n      <td>0</td>\n      <td>0</td>\n      <td>0</td>\n      <td>0</td>\n      <td>0</td>\n      <td>0</td>\n      <td>0</td>\n      <td>0</td>\n      <td>...</td>\n      <td>0</td>\n      <td>0</td>\n      <td>0</td>\n      <td>0</td>\n      <td>0</td>\n      <td>0</td>\n      <td>0</td>\n      <td>0</td>\n      <td>0</td>\n      <td>0176a1dc54841716</td>\n    </tr>\n    <tr>\n      <th>3</th>\n      <td>0</td>\n      <td>0</td>\n      <td>0</td>\n      <td>0</td>\n      <td>0</td>\n      <td>0</td>\n      <td>0</td>\n      <td>0</td>\n      <td>0</td>\n      <td>0</td>\n      <td>...</td>\n      <td>0</td>\n      <td>0</td>\n      <td>0</td>\n      <td>0</td>\n      <td>0</td>\n      <td>0</td>\n      <td>0</td>\n      <td>0</td>\n      <td>0</td>\n      <td>028876104a6b2d26</td>\n    </tr>\n    <tr>\n      <th>4</th>\n      <td>0</td>\n      <td>0</td>\n      <td>0</td>\n      <td>0</td>\n      <td>0</td>\n      <td>0</td>\n      <td>0</td>\n      <td>0</td>\n      <td>0</td>\n      <td>0</td>\n      <td>...</td>\n      <td>0</td>\n      <td>0</td>\n      <td>0</td>\n      <td>0</td>\n      <td>0</td>\n      <td>0</td>\n      <td>0</td>\n      <td>0</td>\n      <td>0</td>\n      <td>034b31000a95988c</td>\n    </tr>\n    <tr>\n      <th>...</th>\n      <td>...</td>\n      <td>...</td>\n      <td>...</td>\n      <td>...</td>\n      <td>...</td>\n      <td>...</td>\n      <td>...</td>\n      <td>...</td>\n      <td>...</td>\n      <td>...</td>\n      <td>...</td>\n      <td>...</td>\n      <td>...</td>\n      <td>...</td>\n      <td>...</td>\n      <td>...</td>\n      <td>...</td>\n      <td>...</td>\n      <td>...</td>\n      <td>...</td>\n      <td>...</td>\n    </tr>\n    <tr>\n      <th>910</th>\n      <td>0</td>\n      <td>0</td>\n      <td>0</td>\n      <td>0</td>\n      <td>0</td>\n      <td>0</td>\n      <td>0</td>\n      <td>0</td>\n      <td>0</td>\n      <td>0</td>\n      <td>...</td>\n      <td>0</td>\n      <td>0</td>\n      <td>0</td>\n      <td>0</td>\n      <td>0</td>\n      <td>0</td>\n      <td>0</td>\n      <td>0</td>\n      <td>0</td>\n      <td>https://de.indeed.com/viewjob?jk=fdd8d81f544bf511</td>\n    </tr>\n    <tr>\n      <th>911</th>\n      <td>0</td>\n      <td>0</td>\n      <td>0</td>\n      <td>0</td>\n      <td>0</td>\n      <td>0</td>\n      <td>0</td>\n      <td>0</td>\n      <td>0</td>\n      <td>0</td>\n      <td>...</td>\n      <td>0</td>\n      <td>0</td>\n      <td>0</td>\n      <td>0</td>\n      <td>0</td>\n      <td>0</td>\n      <td>0</td>\n      <td>0</td>\n      <td>0</td>\n      <td>https://de.indeed.com/viewjob?jk=fe322edbe2225eb6</td>\n    </tr>\n    <tr>\n      <th>912</th>\n      <td>0</td>\n      <td>0</td>\n      <td>0</td>\n      <td>0</td>\n      <td>0</td>\n      <td>0</td>\n      <td>0</td>\n      <td>0</td>\n      <td>0</td>\n      <td>0</td>\n      <td>...</td>\n      <td>0</td>\n      <td>0</td>\n      <td>0</td>\n      <td>0</td>\n      <td>0</td>\n      <td>0</td>\n      <td>0</td>\n      <td>0</td>\n      <td>0</td>\n      <td>https://de.indeed.com/viewjob?jk=fef83104f3acd912</td>\n    </tr>\n    <tr>\n      <th>913</th>\n      <td>0</td>\n      <td>0</td>\n      <td>0</td>\n      <td>0</td>\n      <td>0</td>\n      <td>0</td>\n      <td>0</td>\n      <td>0</td>\n      <td>0</td>\n      <td>0</td>\n      <td>...</td>\n      <td>0</td>\n      <td>0</td>\n      <td>0</td>\n      <td>0</td>\n      <td>0</td>\n      <td>0</td>\n      <td>0</td>\n      <td>0</td>\n      <td>0</td>\n      <td>https://de.indeed.com/viewjob?jk=ff0d468c9afc7eb4</td>\n    </tr>\n    <tr>\n      <th>914</th>\n      <td>0</td>\n      <td>0</td>\n      <td>0</td>\n      <td>0</td>\n      <td>0</td>\n      <td>0</td>\n      <td>0</td>\n      <td>0</td>\n      <td>0</td>\n      <td>0</td>\n      <td>...</td>\n      <td>0</td>\n      <td>0</td>\n      <td>0</td>\n      <td>0</td>\n      <td>0</td>\n      <td>0</td>\n      <td>0</td>\n      <td>0</td>\n      <td>0</td>\n      <td>https://de.indeed.com/viewjob?jk=ff6ccdbc95261d47</td>\n    </tr>\n  </tbody>\n</table>\n<p>915 rows × 1032 columns</p>\n</div>"
     },
     "execution_count": 178,
     "metadata": {},
     "output_type": "execute_result"
    }
   ],
   "source": [
    "bow_df"
   ],
   "metadata": {
    "collapsed": false,
    "pycharm": {
     "name": "#%%\n"
    }
   }
  },
  {
   "cell_type": "code",
   "execution_count": 184,
   "outputs": [],
   "source": [
    "selected_tokens = token_freq.loc[(token_freq['freq']>token_freq['freq'].quantile(0.75))].reset_index()['index'].to_list()"
   ],
   "metadata": {
    "collapsed": false,
    "pycharm": {
     "name": "#%%\n"
    }
   }
  },
  {
   "cell_type": "code",
   "execution_count": null,
   "outputs": [],
   "source": [],
   "metadata": {
    "collapsed": false,
    "pycharm": {
     "name": "#%%\n",
     "is_executing": true
    }
   }
  },
  {
   "cell_type": "code",
   "execution_count": 190,
   "outputs": [],
   "source": [
    "bow_df1 = bow_df[selected_tokens + ['job_id']].copy()"
   ],
   "metadata": {
    "collapsed": false,
    "pycharm": {
     "name": "#%%\n"
    }
   }
  },
  {
   "cell_type": "code",
   "execution_count": 192,
   "outputs": [
    {
     "data": {
      "text/plain": "     abschlussarbeit  administrator  advanced  ai  aircraft  algorithm  all  \\\n0                  0              0         0   0         0          0    0   \n1                  0              0         0   0         0          0    0   \n2                  0              0         0   0         0          0    0   \n3                  0              0         0   0         0          0    0   \n4                  0              0         0   0         0          0    0   \n..               ...            ...       ...  ..       ...        ...  ...   \n910                0              0         0   0         0          0    0   \n911                0              0         0   0         0          0    1   \n912                0              0         0   0         0          0    0   \n913                0              0         0   0         0          0    0   \n914                0              0         0   0         0          0    0   \n\n     amp  analysis  analyst  ...  wireless  wiss  wissenschaftler  \\\n0      0         0        0  ...         0     0                0   \n1      0         0        0  ...         0     0                0   \n2      0         0        0  ...         0     0                0   \n3      0         0        0  ...         0     0                0   \n4      0         0        0  ...         0     0                0   \n..   ...       ...      ...  ...       ...   ...              ...   \n910    0         0        0  ...         0     0                0   \n911    0         0        0  ...         0     0                0   \n912    0         0        0  ...         0     0                0   \n913    1         0        1  ...         0     0                0   \n914    0         0        0  ...         0     0                0   \n\n     wissenschaftliche  wissenschaftlicher  with  within  wmx  working  \\\n0                    0                   0     0       0    0        0   \n1                    0                   0     0       0    0        0   \n2                    0                   0     0       0    0        0   \n3                    0                   0     0       0    0        0   \n4                    0                   0     0       0    0        0   \n..                 ...                 ...   ...     ...  ...      ...   \n910                  0                   0     0       0    0        0   \n911                  0                   0     0       0    0        0   \n912                  0                   0     0       0    0        0   \n913                  0                   0     0       0    0        0   \n914                  0                   0     0       0    0        0   \n\n                                                job_id  \n0                                     0053e5f78b135d5a  \n1                                     00ef1c15bf5b5939  \n2                                     0176a1dc54841716  \n3                                     028876104a6b2d26  \n4                                     034b31000a95988c  \n..                                                 ...  \n910  https://de.indeed.com/viewjob?jk=fdd8d81f544bf511  \n911  https://de.indeed.com/viewjob?jk=fe322edbe2225eb6  \n912  https://de.indeed.com/viewjob?jk=fef83104f3acd912  \n913  https://de.indeed.com/viewjob?jk=ff0d468c9afc7eb4  \n914  https://de.indeed.com/viewjob?jk=ff6ccdbc95261d47  \n\n[915 rows x 229 columns]",
      "text/html": "<div>\n<style scoped>\n    .dataframe tbody tr th:only-of-type {\n        vertical-align: middle;\n    }\n\n    .dataframe tbody tr th {\n        vertical-align: top;\n    }\n\n    .dataframe thead th {\n        text-align: right;\n    }\n</style>\n<table border=\"1\" class=\"dataframe\">\n  <thead>\n    <tr style=\"text-align: right;\">\n      <th></th>\n      <th>abschlussarbeit</th>\n      <th>administrator</th>\n      <th>advanced</th>\n      <th>ai</th>\n      <th>aircraft</th>\n      <th>algorithm</th>\n      <th>all</th>\n      <th>amp</th>\n      <th>analysis</th>\n      <th>analyst</th>\n      <th>...</th>\n      <th>wireless</th>\n      <th>wiss</th>\n      <th>wissenschaftler</th>\n      <th>wissenschaftliche</th>\n      <th>wissenschaftlicher</th>\n      <th>with</th>\n      <th>within</th>\n      <th>wmx</th>\n      <th>working</th>\n      <th>job_id</th>\n    </tr>\n  </thead>\n  <tbody>\n    <tr>\n      <th>0</th>\n      <td>0</td>\n      <td>0</td>\n      <td>0</td>\n      <td>0</td>\n      <td>0</td>\n      <td>0</td>\n      <td>0</td>\n      <td>0</td>\n      <td>0</td>\n      <td>0</td>\n      <td>...</td>\n      <td>0</td>\n      <td>0</td>\n      <td>0</td>\n      <td>0</td>\n      <td>0</td>\n      <td>0</td>\n      <td>0</td>\n      <td>0</td>\n      <td>0</td>\n      <td>0053e5f78b135d5a</td>\n    </tr>\n    <tr>\n      <th>1</th>\n      <td>0</td>\n      <td>0</td>\n      <td>0</td>\n      <td>0</td>\n      <td>0</td>\n      <td>0</td>\n      <td>0</td>\n      <td>0</td>\n      <td>0</td>\n      <td>0</td>\n      <td>...</td>\n      <td>0</td>\n      <td>0</td>\n      <td>0</td>\n      <td>0</td>\n      <td>0</td>\n      <td>0</td>\n      <td>0</td>\n      <td>0</td>\n      <td>0</td>\n      <td>00ef1c15bf5b5939</td>\n    </tr>\n    <tr>\n      <th>2</th>\n      <td>0</td>\n      <td>0</td>\n      <td>0</td>\n      <td>0</td>\n      <td>0</td>\n      <td>0</td>\n      <td>0</td>\n      <td>0</td>\n      <td>0</td>\n      <td>0</td>\n      <td>...</td>\n      <td>0</td>\n      <td>0</td>\n      <td>0</td>\n      <td>0</td>\n      <td>0</td>\n      <td>0</td>\n      <td>0</td>\n      <td>0</td>\n      <td>0</td>\n      <td>0176a1dc54841716</td>\n    </tr>\n    <tr>\n      <th>3</th>\n      <td>0</td>\n      <td>0</td>\n      <td>0</td>\n      <td>0</td>\n      <td>0</td>\n      <td>0</td>\n      <td>0</td>\n      <td>0</td>\n      <td>0</td>\n      <td>0</td>\n      <td>...</td>\n      <td>0</td>\n      <td>0</td>\n      <td>0</td>\n      <td>0</td>\n      <td>0</td>\n      <td>0</td>\n      <td>0</td>\n      <td>0</td>\n      <td>0</td>\n      <td>028876104a6b2d26</td>\n    </tr>\n    <tr>\n      <th>4</th>\n      <td>0</td>\n      <td>0</td>\n      <td>0</td>\n      <td>0</td>\n      <td>0</td>\n      <td>0</td>\n      <td>0</td>\n      <td>0</td>\n      <td>0</td>\n      <td>0</td>\n      <td>...</td>\n      <td>0</td>\n      <td>0</td>\n      <td>0</td>\n      <td>0</td>\n      <td>0</td>\n      <td>0</td>\n      <td>0</td>\n      <td>0</td>\n      <td>0</td>\n      <td>034b31000a95988c</td>\n    </tr>\n    <tr>\n      <th>...</th>\n      <td>...</td>\n      <td>...</td>\n      <td>...</td>\n      <td>...</td>\n      <td>...</td>\n      <td>...</td>\n      <td>...</td>\n      <td>...</td>\n      <td>...</td>\n      <td>...</td>\n      <td>...</td>\n      <td>...</td>\n      <td>...</td>\n      <td>...</td>\n      <td>...</td>\n      <td>...</td>\n      <td>...</td>\n      <td>...</td>\n      <td>...</td>\n      <td>...</td>\n      <td>...</td>\n    </tr>\n    <tr>\n      <th>910</th>\n      <td>0</td>\n      <td>0</td>\n      <td>0</td>\n      <td>0</td>\n      <td>0</td>\n      <td>0</td>\n      <td>0</td>\n      <td>0</td>\n      <td>0</td>\n      <td>0</td>\n      <td>...</td>\n      <td>0</td>\n      <td>0</td>\n      <td>0</td>\n      <td>0</td>\n      <td>0</td>\n      <td>0</td>\n      <td>0</td>\n      <td>0</td>\n      <td>0</td>\n      <td>https://de.indeed.com/viewjob?jk=fdd8d81f544bf511</td>\n    </tr>\n    <tr>\n      <th>911</th>\n      <td>0</td>\n      <td>0</td>\n      <td>0</td>\n      <td>0</td>\n      <td>0</td>\n      <td>0</td>\n      <td>1</td>\n      <td>0</td>\n      <td>0</td>\n      <td>0</td>\n      <td>...</td>\n      <td>0</td>\n      <td>0</td>\n      <td>0</td>\n      <td>0</td>\n      <td>0</td>\n      <td>0</td>\n      <td>0</td>\n      <td>0</td>\n      <td>0</td>\n      <td>https://de.indeed.com/viewjob?jk=fe322edbe2225eb6</td>\n    </tr>\n    <tr>\n      <th>912</th>\n      <td>0</td>\n      <td>0</td>\n      <td>0</td>\n      <td>0</td>\n      <td>0</td>\n      <td>0</td>\n      <td>0</td>\n      <td>0</td>\n      <td>0</td>\n      <td>0</td>\n      <td>...</td>\n      <td>0</td>\n      <td>0</td>\n      <td>0</td>\n      <td>0</td>\n      <td>0</td>\n      <td>0</td>\n      <td>0</td>\n      <td>0</td>\n      <td>0</td>\n      <td>https://de.indeed.com/viewjob?jk=fef83104f3acd912</td>\n    </tr>\n    <tr>\n      <th>913</th>\n      <td>0</td>\n      <td>0</td>\n      <td>0</td>\n      <td>0</td>\n      <td>0</td>\n      <td>0</td>\n      <td>0</td>\n      <td>1</td>\n      <td>0</td>\n      <td>1</td>\n      <td>...</td>\n      <td>0</td>\n      <td>0</td>\n      <td>0</td>\n      <td>0</td>\n      <td>0</td>\n      <td>0</td>\n      <td>0</td>\n      <td>0</td>\n      <td>0</td>\n      <td>https://de.indeed.com/viewjob?jk=ff0d468c9afc7eb4</td>\n    </tr>\n    <tr>\n      <th>914</th>\n      <td>0</td>\n      <td>0</td>\n      <td>0</td>\n      <td>0</td>\n      <td>0</td>\n      <td>0</td>\n      <td>0</td>\n      <td>0</td>\n      <td>0</td>\n      <td>0</td>\n      <td>...</td>\n      <td>0</td>\n      <td>0</td>\n      <td>0</td>\n      <td>0</td>\n      <td>0</td>\n      <td>0</td>\n      <td>0</td>\n      <td>0</td>\n      <td>0</td>\n      <td>https://de.indeed.com/viewjob?jk=ff6ccdbc95261d47</td>\n    </tr>\n  </tbody>\n</table>\n<p>915 rows × 229 columns</p>\n</div>"
     },
     "execution_count": 192,
     "metadata": {},
     "output_type": "execute_result"
    }
   ],
   "source": [
    "bow_df1"
   ],
   "metadata": {
    "collapsed": false,
    "pycharm": {
     "name": "#%%\n"
    }
   }
  },
  {
   "cell_type": "code",
   "execution_count": 195,
   "outputs": [],
   "source": [
    "selected_tokens1 = [token for token in selected_tokens if token not in ['all', 'and', 'area', 'at', 'august',\n",
    "                                            'bachelorand', 'cc', 'dmw', 'for', 'fr', 'gn', 'mwx', 'of', 'or',\n",
    "                                            'the', 'to', 'with', 'wmx']]"
   ],
   "metadata": {
    "collapsed": false,
    "pycharm": {
     "name": "#%%\n"
    }
   }
  },
  {
   "cell_type": "code",
   "execution_count": 196,
   "outputs": [
    {
     "data": {
      "text/plain": "210"
     },
     "execution_count": 196,
     "metadata": {},
     "output_type": "execute_result"
    }
   ],
   "source": [
    "len(selected_tokens1)"
   ],
   "metadata": {
    "collapsed": false,
    "pycharm": {
     "name": "#%%\n"
    }
   }
  },
  {
   "cell_type": "code",
   "execution_count": 197,
   "outputs": [
    {
     "data": {
      "text/plain": "['abschlussarbeit',\n 'administrator',\n 'advanced',\n 'ai',\n 'aircraft',\n 'algorithm',\n 'amp',\n 'analysis',\n 'analyst',\n 'analytics',\n 'application',\n 'applied',\n 'architect',\n 'artificial',\n 'assistant',\n 'associate',\n 'automated',\n 'automation',\n 'automotive',\n 'autonomes',\n 'autonomous',\n 'backend',\n 'bereich',\n 'berlin',\n 'berlinbrandenburg',\n 'bi',\n 'bioinformatics',\n 'biology',\n 'business',\n 'candidate',\n 'cellular',\n 'chain',\n 'cloud',\n 'communication',\n 'computational',\n 'computer',\n 'consultant',\n 'control',\n 'customer',\n 'data',\n 'datenanalyse',\n 'deep',\n 'design',\n 'developer',\n 'developers',\n 'development',\n 'devops',\n 'digital',\n 'doktorand',\n 'doktorandin',\n 'driving',\n 'dwm',\n 'early',\n 'einsatz',\n 'embedded',\n 'engineer',\n 'engineerin',\n 'engineering',\n 'engineers',\n 'entwickler',\n 'entwicklerin',\n 'entwicklung',\n 'evosoft',\n 'experience',\n 'expert',\n 'exploration',\n 'fahren',\n 'field',\n 'fmdiverse',\n 'focus',\n 'forschung',\n 'frontend',\n 'full',\n 'fullstack',\n 'genders',\n 'germany',\n 'gigafactory',\n 'gis',\n 'global',\n 'gmbh',\n 'hilfskrfte',\n 'image',\n 'imaging',\n 'industrial',\n 'innovation',\n 'integration',\n 'intelligence',\n 'intelligenz',\n 'intern',\n 'internship',\n 'it',\n 'java',\n 'javascript',\n 'junior',\n 'ki',\n 'knstliche',\n 'language',\n 'lead',\n 'learning',\n 'linux',\n 'machine',\n 'management',\n 'manager',\n 'manufacturing',\n 'market',\n 'marketing',\n 'master',\n 'masterand',\n 'masterarbeit',\n 'masterthesis',\n 'materials',\n 'metrology',\n 'mglich',\n 'mitarbeiter',\n 'mitarbeiterin',\n 'mittels',\n 'model',\n 'modelling',\n 'nlp',\n 'odoo',\n 'office',\n 'on',\n 'open',\n 'operations',\n 'phd',\n 'php',\n 'physicist',\n 'physiker',\n 'planning',\n 'platform',\n 'position',\n 'positions',\n 'power',\n 'praktikant',\n 'praktikum',\n 'praxissemester',\n 'predictive',\n 'process',\n 'processing',\n 'product',\n 'programming',\n 'project',\n 'python',\n 'qa',\n 'quality',\n 'quantitative',\n 'quantum',\n 'radar',\n 'rampd',\n 'remote',\n 'research',\n 'researcher',\n 'risk',\n 'robotics',\n 'rpa',\n 'schwerpunkt',\n 'science',\n 'scientist',\n 'scientists',\n 'security',\n 'senior',\n 'services',\n 'simulation',\n 'software',\n 'softwareentwickler',\n 'softwareentwicklerin',\n 'softwareentwicklung',\n 'softwaretester',\n 'solutions',\n 'specialist',\n 'stack',\n 'starting',\n 'strategist',\n 'student',\n 'studentische',\n 'supply',\n 'support',\n 'sustainable',\n 'system',\n 'systems',\n 'team',\n 'tech',\n 'technical',\n 'technologies',\n 'technology',\n 'teilzeit',\n 'test',\n 'testautomatisierung',\n 'tester',\n 'testing',\n 'testingenieur',\n 'thema',\n 'thesis',\n 'trading',\n 'trainee',\n 'transformation',\n 'user',\n 'vehicle',\n 'vision',\n 'vollzeit',\n 'web',\n 'werkstudent',\n 'werkstudentin',\n 'wireless',\n 'wiss',\n 'wissenschaftler',\n 'wissenschaftliche',\n 'wissenschaftlicher',\n 'within',\n 'working']"
     },
     "execution_count": 197,
     "metadata": {},
     "output_type": "execute_result"
    }
   ],
   "source": [
    "selected_tokens1"
   ],
   "metadata": {
    "collapsed": false,
    "pycharm": {
     "name": "#%%\n"
    }
   }
  },
  {
   "cell_type": "code",
   "execution_count": null,
   "outputs": [],
   "source": [],
   "metadata": {
    "collapsed": false,
    "pycharm": {
     "name": "#%%\n"
    }
   }
  },
  {
   "cell_type": "markdown",
   "source": [
    "### Additional lemmatizing of tokens"
   ],
   "metadata": {
    "collapsed": false,
    "pycharm": {
     "name": "#%% md\n"
    }
   }
  },
  {
   "cell_type": "code",
   "execution_count": 199,
   "outputs": [],
   "source": [
    "import spacy"
   ],
   "metadata": {
    "collapsed": false,
    "pycharm": {
     "name": "#%%\n"
    }
   }
  },
  {
   "cell_type": "code",
   "execution_count": null,
   "outputs": [],
   "source": [
    "nlp = spacy.load('en_core_web_sm')"
   ],
   "metadata": {
    "collapsed": false,
    "pycharm": {
     "name": "#%%\n"
    }
   }
  },
  {
   "cell_type": "code",
   "execution_count": 230,
   "outputs": [],
   "source": [
    "# Assuming 'tokens' is your list of tokens\n",
    "lemmatized_tokens = [nlp(token)[0].lemma_ for token in selected_tokens1]  # not bad"
   ],
   "metadata": {
    "collapsed": false,
    "pycharm": {
     "name": "#%%\n"
    }
   }
  },
  {
   "cell_type": "code",
   "execution_count": 215,
   "outputs": [
    {
     "data": {
      "text/plain": "210"
     },
     "execution_count": 215,
     "metadata": {},
     "output_type": "execute_result"
    }
   ],
   "source": [
    "len(lemmatized_tokens)"
   ],
   "metadata": {
    "collapsed": false,
    "pycharm": {
     "name": "#%%\n"
    }
   }
  },
  {
   "cell_type": "code",
   "execution_count": 203,
   "outputs": [
    {
     "data": {
      "text/plain": "210"
     },
     "execution_count": 203,
     "metadata": {},
     "output_type": "execute_result"
    }
   ],
   "source": [
    "len(selected_tokens1)"
   ],
   "metadata": {
    "collapsed": false,
    "pycharm": {
     "name": "#%%\n"
    }
   }
  },
  {
   "cell_type": "markdown",
   "source": [
    "### Lemmatizer for German language"
   ],
   "metadata": {
    "collapsed": false,
    "pycharm": {
     "name": "#%% md\n"
    }
   }
  },
  {
   "cell_type": "code",
   "execution_count": 231,
   "outputs": [],
   "source": [
    "nlp = spacy.load('de_core_news_sm')\n",
    "lemmatized_tokens1 = [nlp(token)[0].lemma_ for token in lemmatized_tokens]"
   ],
   "metadata": {
    "collapsed": false,
    "pycharm": {
     "name": "#%%\n"
    }
   }
  },
  {
   "cell_type": "code",
   "execution_count": 233,
   "outputs": [
    {
     "data": {
      "text/plain": "207"
     },
     "execution_count": 233,
     "metadata": {},
     "output_type": "execute_result"
    }
   ],
   "source": [
    "len(set(lemmatized_tokens1))  # неплохо"
   ],
   "metadata": {
    "collapsed": false,
    "pycharm": {
     "name": "#%%\n"
    }
   }
  },
  {
   "cell_type": "code",
   "execution_count": 236,
   "outputs": [],
   "source": [
    "lemmatized_tokens1 = [token.lower() for token in lemmatized_tokens1]"
   ],
   "metadata": {
    "collapsed": false,
    "pycharm": {
     "name": "#%%\n"
    }
   }
  },
  {
   "cell_type": "code",
   "execution_count": 238,
   "outputs": [
    {
     "data": {
      "text/plain": "205"
     },
     "execution_count": 238,
     "metadata": {},
     "output_type": "execute_result"
    }
   ],
   "source": [
    "len(set(lemmatized_tokens1))"
   ],
   "metadata": {
    "collapsed": false,
    "pycharm": {
     "name": "#%%\n"
    }
   }
  },
  {
   "cell_type": "code",
   "execution_count": 239,
   "outputs": [],
   "source": [
    "rename_dict = dict(zip(selected_tokens1, lemmatized_tokens1))"
   ],
   "metadata": {
    "collapsed": false,
    "pycharm": {
     "name": "#%%\n"
    }
   }
  },
  {
   "cell_type": "code",
   "execution_count": 241,
   "outputs": [],
   "source": [
    "bow_df3 = bow_df2.rename(columns=rename_dict).copy()"
   ],
   "metadata": {
    "collapsed": false,
    "pycharm": {
     "name": "#%%\n"
    }
   }
  },
  {
   "cell_type": "code",
   "execution_count": 246,
   "outputs": [
    {
     "ename": "ValueError",
     "evalue": "Grouper for 'developer' not 1-dimensional",
     "output_type": "error",
     "traceback": [
      "\u001B[0;31m---------------------------------------------------------------------------\u001B[0m",
      "\u001B[0;31mValueError\u001B[0m                                Traceback (most recent call last)",
      "Cell \u001B[0;32mIn[246], line 1\u001B[0m\n\u001B[0;32m----> 1\u001B[0m \u001B[43mbow_df3\u001B[49m\u001B[38;5;241;43m.\u001B[39;49m\u001B[43mgroupby\u001B[49m\u001B[43m(\u001B[49m\u001B[43mlemmatized_tokens1\u001B[49m\u001B[43m,\u001B[49m\u001B[43m \u001B[49m\u001B[43maxis\u001B[49m\u001B[38;5;241;43m=\u001B[39;49m\u001B[38;5;241;43m1\u001B[39;49m\u001B[43m)\u001B[49m\u001B[38;5;241m.\u001B[39msum()\n",
      "File \u001B[0;32m~/PycharmProjects/arbeite_parser/venv/lib/python3.11/site-packages/pandas/core/frame.py:8252\u001B[0m, in \u001B[0;36mDataFrame.groupby\u001B[0;34m(self, by, axis, level, as_index, sort, group_keys, observed, dropna)\u001B[0m\n\u001B[1;32m   8249\u001B[0m     \u001B[38;5;28;01mraise\u001B[39;00m \u001B[38;5;167;01mTypeError\u001B[39;00m(\u001B[38;5;124m\"\u001B[39m\u001B[38;5;124mYou have to supply one of \u001B[39m\u001B[38;5;124m'\u001B[39m\u001B[38;5;124mby\u001B[39m\u001B[38;5;124m'\u001B[39m\u001B[38;5;124m and \u001B[39m\u001B[38;5;124m'\u001B[39m\u001B[38;5;124mlevel\u001B[39m\u001B[38;5;124m'\u001B[39m\u001B[38;5;124m\"\u001B[39m)\n\u001B[1;32m   8250\u001B[0m axis \u001B[38;5;241m=\u001B[39m \u001B[38;5;28mself\u001B[39m\u001B[38;5;241m.\u001B[39m_get_axis_number(axis)\n\u001B[0;32m-> 8252\u001B[0m \u001B[38;5;28;01mreturn\u001B[39;00m \u001B[43mDataFrameGroupBy\u001B[49m\u001B[43m(\u001B[49m\n\u001B[1;32m   8253\u001B[0m \u001B[43m    \u001B[49m\u001B[43mobj\u001B[49m\u001B[38;5;241;43m=\u001B[39;49m\u001B[38;5;28;43mself\u001B[39;49m\u001B[43m,\u001B[49m\n\u001B[1;32m   8254\u001B[0m \u001B[43m    \u001B[49m\u001B[43mkeys\u001B[49m\u001B[38;5;241;43m=\u001B[39;49m\u001B[43mby\u001B[49m\u001B[43m,\u001B[49m\n\u001B[1;32m   8255\u001B[0m \u001B[43m    \u001B[49m\u001B[43maxis\u001B[49m\u001B[38;5;241;43m=\u001B[39;49m\u001B[43maxis\u001B[49m\u001B[43m,\u001B[49m\n\u001B[1;32m   8256\u001B[0m \u001B[43m    \u001B[49m\u001B[43mlevel\u001B[49m\u001B[38;5;241;43m=\u001B[39;49m\u001B[43mlevel\u001B[49m\u001B[43m,\u001B[49m\n\u001B[1;32m   8257\u001B[0m \u001B[43m    \u001B[49m\u001B[43mas_index\u001B[49m\u001B[38;5;241;43m=\u001B[39;49m\u001B[43mas_index\u001B[49m\u001B[43m,\u001B[49m\n\u001B[1;32m   8258\u001B[0m \u001B[43m    \u001B[49m\u001B[43msort\u001B[49m\u001B[38;5;241;43m=\u001B[39;49m\u001B[43msort\u001B[49m\u001B[43m,\u001B[49m\n\u001B[1;32m   8259\u001B[0m \u001B[43m    \u001B[49m\u001B[43mgroup_keys\u001B[49m\u001B[38;5;241;43m=\u001B[39;49m\u001B[43mgroup_keys\u001B[49m\u001B[43m,\u001B[49m\n\u001B[1;32m   8260\u001B[0m \u001B[43m    \u001B[49m\u001B[43mobserved\u001B[49m\u001B[38;5;241;43m=\u001B[39;49m\u001B[43mobserved\u001B[49m\u001B[43m,\u001B[49m\n\u001B[1;32m   8261\u001B[0m \u001B[43m    \u001B[49m\u001B[43mdropna\u001B[49m\u001B[38;5;241;43m=\u001B[39;49m\u001B[43mdropna\u001B[49m\u001B[43m,\u001B[49m\n\u001B[1;32m   8262\u001B[0m \u001B[43m\u001B[49m\u001B[43m)\u001B[49m\n",
      "File \u001B[0;32m~/PycharmProjects/arbeite_parser/venv/lib/python3.11/site-packages/pandas/core/groupby/groupby.py:931\u001B[0m, in \u001B[0;36mGroupBy.__init__\u001B[0;34m(self, obj, keys, axis, level, grouper, exclusions, selection, as_index, sort, group_keys, observed, dropna)\u001B[0m\n\u001B[1;32m    928\u001B[0m \u001B[38;5;28mself\u001B[39m\u001B[38;5;241m.\u001B[39mdropna \u001B[38;5;241m=\u001B[39m dropna\n\u001B[1;32m    930\u001B[0m \u001B[38;5;28;01mif\u001B[39;00m grouper \u001B[38;5;129;01mis\u001B[39;00m \u001B[38;5;28;01mNone\u001B[39;00m:\n\u001B[0;32m--> 931\u001B[0m     grouper, exclusions, obj \u001B[38;5;241m=\u001B[39m \u001B[43mget_grouper\u001B[49m\u001B[43m(\u001B[49m\n\u001B[1;32m    932\u001B[0m \u001B[43m        \u001B[49m\u001B[43mobj\u001B[49m\u001B[43m,\u001B[49m\n\u001B[1;32m    933\u001B[0m \u001B[43m        \u001B[49m\u001B[43mkeys\u001B[49m\u001B[43m,\u001B[49m\n\u001B[1;32m    934\u001B[0m \u001B[43m        \u001B[49m\u001B[43maxis\u001B[49m\u001B[38;5;241;43m=\u001B[39;49m\u001B[43maxis\u001B[49m\u001B[43m,\u001B[49m\n\u001B[1;32m    935\u001B[0m \u001B[43m        \u001B[49m\u001B[43mlevel\u001B[49m\u001B[38;5;241;43m=\u001B[39;49m\u001B[43mlevel\u001B[49m\u001B[43m,\u001B[49m\n\u001B[1;32m    936\u001B[0m \u001B[43m        \u001B[49m\u001B[43msort\u001B[49m\u001B[38;5;241;43m=\u001B[39;49m\u001B[43msort\u001B[49m\u001B[43m,\u001B[49m\n\u001B[1;32m    937\u001B[0m \u001B[43m        \u001B[49m\u001B[43mobserved\u001B[49m\u001B[38;5;241;43m=\u001B[39;49m\u001B[43mobserved\u001B[49m\u001B[43m,\u001B[49m\n\u001B[1;32m    938\u001B[0m \u001B[43m        \u001B[49m\u001B[43mdropna\u001B[49m\u001B[38;5;241;43m=\u001B[39;49m\u001B[38;5;28;43mself\u001B[39;49m\u001B[38;5;241;43m.\u001B[39;49m\u001B[43mdropna\u001B[49m\u001B[43m,\u001B[49m\n\u001B[1;32m    939\u001B[0m \u001B[43m    \u001B[49m\u001B[43m)\u001B[49m\n\u001B[1;32m    941\u001B[0m \u001B[38;5;28mself\u001B[39m\u001B[38;5;241m.\u001B[39mobj \u001B[38;5;241m=\u001B[39m obj\n\u001B[1;32m    942\u001B[0m \u001B[38;5;28mself\u001B[39m\u001B[38;5;241m.\u001B[39maxis \u001B[38;5;241m=\u001B[39m obj\u001B[38;5;241m.\u001B[39m_get_axis_number(axis)\n",
      "File \u001B[0;32m~/PycharmProjects/arbeite_parser/venv/lib/python3.11/site-packages/pandas/core/groupby/grouper.py:980\u001B[0m, in \u001B[0;36mget_grouper\u001B[0;34m(obj, key, axis, level, sort, observed, validate, dropna)\u001B[0m\n\u001B[1;32m    976\u001B[0m     in_axis, name, gpr \u001B[38;5;241m=\u001B[39m \u001B[38;5;28;01mTrue\u001B[39;00m, gpr, obj[gpr]\n\u001B[1;32m    977\u001B[0m     \u001B[38;5;28;01mif\u001B[39;00m gpr\u001B[38;5;241m.\u001B[39mndim \u001B[38;5;241m!=\u001B[39m \u001B[38;5;241m1\u001B[39m:\n\u001B[1;32m    978\u001B[0m         \u001B[38;5;66;03m# non-unique columns; raise here to get the name in the\u001B[39;00m\n\u001B[1;32m    979\u001B[0m         \u001B[38;5;66;03m# exception message\u001B[39;00m\n\u001B[0;32m--> 980\u001B[0m         \u001B[38;5;28;01mraise\u001B[39;00m \u001B[38;5;167;01mValueError\u001B[39;00m(\u001B[38;5;124mf\u001B[39m\u001B[38;5;124m\"\u001B[39m\u001B[38;5;124mGrouper for \u001B[39m\u001B[38;5;124m'\u001B[39m\u001B[38;5;132;01m{\u001B[39;00mname\u001B[38;5;132;01m}\u001B[39;00m\u001B[38;5;124m'\u001B[39m\u001B[38;5;124m not 1-dimensional\u001B[39m\u001B[38;5;124m\"\u001B[39m)\n\u001B[1;32m    981\u001B[0m     exclusions\u001B[38;5;241m.\u001B[39madd(name)\n\u001B[1;32m    982\u001B[0m \u001B[38;5;28;01melif\u001B[39;00m obj\u001B[38;5;241m.\u001B[39m_is_level_reference(gpr, axis\u001B[38;5;241m=\u001B[39maxis):\n",
      "\u001B[0;31mValueError\u001B[0m: Grouper for 'developer' not 1-dimensional"
     ]
    }
   ],
   "source": [
    "bow_df3.groupby(lemmatized_tokens1, axis=1).sum()"
   ],
   "metadata": {
    "collapsed": false,
    "pycharm": {
     "name": "#%%\n"
    }
   }
  },
  {
   "cell_type": "code",
   "execution_count": 253,
   "outputs": [],
   "source": [
    "bow_df4 = bow_df3[bow_df3.columns[:-1]].T.reset_index().groupby('index').sum().copy()"
   ],
   "metadata": {
    "collapsed": false,
    "pycharm": {
     "name": "#%%\n"
    }
   }
  },
  {
   "cell_type": "code",
   "execution_count": 260,
   "outputs": [],
   "source": [
    "bow_df5 = bow_df4.T.copy()"
   ],
   "metadata": {
    "collapsed": false,
    "pycharm": {
     "name": "#%%\n"
    }
   }
  },
  {
   "cell_type": "code",
   "execution_count": 264,
   "outputs": [],
   "source": [
    "del bow_df5['--']\n",
    "del bow_df5['dwm']\n",
    "del bow_df5['on']"
   ],
   "metadata": {
    "collapsed": false,
    "pycharm": {
     "name": "#%%\n"
    }
   }
  },
  {
   "cell_type": "code",
   "execution_count": 267,
   "outputs": [
    {
     "data": {
      "text/plain": "(915, 200)"
     },
     "execution_count": 267,
     "metadata": {},
     "output_type": "execute_result"
    }
   ],
   "source": [
    "bow_df5.shape"
   ],
   "metadata": {
    "collapsed": false,
    "pycharm": {
     "name": "#%%\n"
    }
   }
  },
  {
   "cell_type": "code",
   "execution_count": 266,
   "outputs": [],
   "source": [
    "bow_df5['wissenschaftler'] = bow_df5['wissenschaftler'] + bow_df5['wissenschaftlich'] + bow_df5['wissenschaftlicher']\n",
    "del bow_df5['wissenschaftlich']\n",
    "del bow_df5['wissenschaftlicher']"
   ],
   "metadata": {
    "collapsed": false,
    "pycharm": {
     "name": "#%%\n"
    }
   }
  },
  {
   "cell_type": "code",
   "execution_count": 271,
   "outputs": [
    {
     "name": "stderr",
     "output_type": "stream",
     "text": [
      "/var/folders/0d/nn90v_dn4y56s_xnhsv23lf00000gn/T/ipykernel_52127/3333590183.py:1: PerformanceWarning: DataFrame is highly fragmented.  This is usually the result of calling `frame.insert` many times, which has poor performance.  Consider joining all columns at once using pd.concat(axis=1) instead. To get a de-fragmented frame, use `newframe = frame.copy()`\n",
      "  bow_df5['job_id'] = bow_df['job_id']\n"
     ]
    }
   ],
   "source": [
    "bow_df5['job_id'] = bow_df['job_id']"
   ],
   "metadata": {
    "collapsed": false,
    "pycharm": {
     "name": "#%%\n"
    }
   }
  },
  {
   "cell_type": "code",
   "execution_count": 273,
   "outputs": [],
   "source": [
    "bow_df5.to_excel('bow_df5_final.xlsx', index=False)"
   ],
   "metadata": {
    "collapsed": false,
    "pycharm": {
     "name": "#%%\n"
    }
   }
  },
  {
   "cell_type": "code",
   "execution_count": 274,
   "outputs": [
    {
     "data": {
      "text/plain": "index  abschlussarbeit  administrator  advanced  ai  aircraft  algorithm  amp  \\\n0                    0              0         0   0         0          0    0   \n1                    0              0         0   0         0          0    0   \n2                    0              0         0   0         0          0    0   \n3                    0              0         0   0         0          0    0   \n4                    0              0         0   0         0          0    0   \n..                 ...            ...       ...  ..       ...        ...  ...   \n910                  0              0         0   0         0          0    0   \n911                  0              0         0   0         0          0    0   \n912                  0              0         0   0         0          0    0   \n913                  0              0         0   0         0          0    1   \n914                  0              0         0   0         0          0    0   \n\nindex  analysis  analyst  analytics  ...  vollzeit  web  werkstudent  \\\n0             0        0          0  ...         0    1            0   \n1             0        0          0  ...         0    0            0   \n2             0        0          0  ...         0    0            0   \n3             0        0          0  ...         0    0            0   \n4             0        0          0  ...         0    0            0   \n..          ...      ...        ...  ...       ...  ...          ...   \n910           0        0          0  ...         0    0            0   \n911           0        0          0  ...         0    0            0   \n912           0        0          0  ...         0    0            0   \n913           0        1          0  ...         0    0            0   \n914           0        0          0  ...         0    0            0   \n\nindex  werkstudentin  wireless  wiss  wissenschaftler  within  working  \\\n0                  0         0     0                0       0        0   \n1                  0         0     0                0       0        0   \n2                  0         0     0                0       0        0   \n3                  0         0     0                0       0        0   \n4                  0         0     0                0       0        0   \n..               ...       ...   ...              ...     ...      ...   \n910                0         0     0                0       0        0   \n911                0         0     0                0       0        0   \n912                0         0     0                0       0        0   \n913                0         0     0                0       0        0   \n914                0         0     0                0       0        0   \n\nindex                                             job_id  \n0                                       0053e5f78b135d5a  \n1                                       00ef1c15bf5b5939  \n2                                       0176a1dc54841716  \n3                                       028876104a6b2d26  \n4                                       034b31000a95988c  \n..                                                   ...  \n910    https://de.indeed.com/viewjob?jk=fdd8d81f544bf511  \n911    https://de.indeed.com/viewjob?jk=fe322edbe2225eb6  \n912    https://de.indeed.com/viewjob?jk=fef83104f3acd912  \n913    https://de.indeed.com/viewjob?jk=ff0d468c9afc7eb4  \n914    https://de.indeed.com/viewjob?jk=ff6ccdbc95261d47  \n\n[915 rows x 201 columns]",
      "text/html": "<div>\n<style scoped>\n    .dataframe tbody tr th:only-of-type {\n        vertical-align: middle;\n    }\n\n    .dataframe tbody tr th {\n        vertical-align: top;\n    }\n\n    .dataframe thead th {\n        text-align: right;\n    }\n</style>\n<table border=\"1\" class=\"dataframe\">\n  <thead>\n    <tr style=\"text-align: right;\">\n      <th>index</th>\n      <th>abschlussarbeit</th>\n      <th>administrator</th>\n      <th>advanced</th>\n      <th>ai</th>\n      <th>aircraft</th>\n      <th>algorithm</th>\n      <th>amp</th>\n      <th>analysis</th>\n      <th>analyst</th>\n      <th>analytics</th>\n      <th>...</th>\n      <th>vollzeit</th>\n      <th>web</th>\n      <th>werkstudent</th>\n      <th>werkstudentin</th>\n      <th>wireless</th>\n      <th>wiss</th>\n      <th>wissenschaftler</th>\n      <th>within</th>\n      <th>working</th>\n      <th>job_id</th>\n    </tr>\n  </thead>\n  <tbody>\n    <tr>\n      <th>0</th>\n      <td>0</td>\n      <td>0</td>\n      <td>0</td>\n      <td>0</td>\n      <td>0</td>\n      <td>0</td>\n      <td>0</td>\n      <td>0</td>\n      <td>0</td>\n      <td>0</td>\n      <td>...</td>\n      <td>0</td>\n      <td>1</td>\n      <td>0</td>\n      <td>0</td>\n      <td>0</td>\n      <td>0</td>\n      <td>0</td>\n      <td>0</td>\n      <td>0</td>\n      <td>0053e5f78b135d5a</td>\n    </tr>\n    <tr>\n      <th>1</th>\n      <td>0</td>\n      <td>0</td>\n      <td>0</td>\n      <td>0</td>\n      <td>0</td>\n      <td>0</td>\n      <td>0</td>\n      <td>0</td>\n      <td>0</td>\n      <td>0</td>\n      <td>...</td>\n      <td>0</td>\n      <td>0</td>\n      <td>0</td>\n      <td>0</td>\n      <td>0</td>\n      <td>0</td>\n      <td>0</td>\n      <td>0</td>\n      <td>0</td>\n      <td>00ef1c15bf5b5939</td>\n    </tr>\n    <tr>\n      <th>2</th>\n      <td>0</td>\n      <td>0</td>\n      <td>0</td>\n      <td>0</td>\n      <td>0</td>\n      <td>0</td>\n      <td>0</td>\n      <td>0</td>\n      <td>0</td>\n      <td>0</td>\n      <td>...</td>\n      <td>0</td>\n      <td>0</td>\n      <td>0</td>\n      <td>0</td>\n      <td>0</td>\n      <td>0</td>\n      <td>0</td>\n      <td>0</td>\n      <td>0</td>\n      <td>0176a1dc54841716</td>\n    </tr>\n    <tr>\n      <th>3</th>\n      <td>0</td>\n      <td>0</td>\n      <td>0</td>\n      <td>0</td>\n      <td>0</td>\n      <td>0</td>\n      <td>0</td>\n      <td>0</td>\n      <td>0</td>\n      <td>0</td>\n      <td>...</td>\n      <td>0</td>\n      <td>0</td>\n      <td>0</td>\n      <td>0</td>\n      <td>0</td>\n      <td>0</td>\n      <td>0</td>\n      <td>0</td>\n      <td>0</td>\n      <td>028876104a6b2d26</td>\n    </tr>\n    <tr>\n      <th>4</th>\n      <td>0</td>\n      <td>0</td>\n      <td>0</td>\n      <td>0</td>\n      <td>0</td>\n      <td>0</td>\n      <td>0</td>\n      <td>0</td>\n      <td>0</td>\n      <td>0</td>\n      <td>...</td>\n      <td>0</td>\n      <td>0</td>\n      <td>0</td>\n      <td>0</td>\n      <td>0</td>\n      <td>0</td>\n      <td>0</td>\n      <td>0</td>\n      <td>0</td>\n      <td>034b31000a95988c</td>\n    </tr>\n    <tr>\n      <th>...</th>\n      <td>...</td>\n      <td>...</td>\n      <td>...</td>\n      <td>...</td>\n      <td>...</td>\n      <td>...</td>\n      <td>...</td>\n      <td>...</td>\n      <td>...</td>\n      <td>...</td>\n      <td>...</td>\n      <td>...</td>\n      <td>...</td>\n      <td>...</td>\n      <td>...</td>\n      <td>...</td>\n      <td>...</td>\n      <td>...</td>\n      <td>...</td>\n      <td>...</td>\n      <td>...</td>\n    </tr>\n    <tr>\n      <th>910</th>\n      <td>0</td>\n      <td>0</td>\n      <td>0</td>\n      <td>0</td>\n      <td>0</td>\n      <td>0</td>\n      <td>0</td>\n      <td>0</td>\n      <td>0</td>\n      <td>0</td>\n      <td>...</td>\n      <td>0</td>\n      <td>0</td>\n      <td>0</td>\n      <td>0</td>\n      <td>0</td>\n      <td>0</td>\n      <td>0</td>\n      <td>0</td>\n      <td>0</td>\n      <td>https://de.indeed.com/viewjob?jk=fdd8d81f544bf511</td>\n    </tr>\n    <tr>\n      <th>911</th>\n      <td>0</td>\n      <td>0</td>\n      <td>0</td>\n      <td>0</td>\n      <td>0</td>\n      <td>0</td>\n      <td>0</td>\n      <td>0</td>\n      <td>0</td>\n      <td>0</td>\n      <td>...</td>\n      <td>0</td>\n      <td>0</td>\n      <td>0</td>\n      <td>0</td>\n      <td>0</td>\n      <td>0</td>\n      <td>0</td>\n      <td>0</td>\n      <td>0</td>\n      <td>https://de.indeed.com/viewjob?jk=fe322edbe2225eb6</td>\n    </tr>\n    <tr>\n      <th>912</th>\n      <td>0</td>\n      <td>0</td>\n      <td>0</td>\n      <td>0</td>\n      <td>0</td>\n      <td>0</td>\n      <td>0</td>\n      <td>0</td>\n      <td>0</td>\n      <td>0</td>\n      <td>...</td>\n      <td>0</td>\n      <td>0</td>\n      <td>0</td>\n      <td>0</td>\n      <td>0</td>\n      <td>0</td>\n      <td>0</td>\n      <td>0</td>\n      <td>0</td>\n      <td>https://de.indeed.com/viewjob?jk=fef83104f3acd912</td>\n    </tr>\n    <tr>\n      <th>913</th>\n      <td>0</td>\n      <td>0</td>\n      <td>0</td>\n      <td>0</td>\n      <td>0</td>\n      <td>0</td>\n      <td>1</td>\n      <td>0</td>\n      <td>1</td>\n      <td>0</td>\n      <td>...</td>\n      <td>0</td>\n      <td>0</td>\n      <td>0</td>\n      <td>0</td>\n      <td>0</td>\n      <td>0</td>\n      <td>0</td>\n      <td>0</td>\n      <td>0</td>\n      <td>https://de.indeed.com/viewjob?jk=ff0d468c9afc7eb4</td>\n    </tr>\n    <tr>\n      <th>914</th>\n      <td>0</td>\n      <td>0</td>\n      <td>0</td>\n      <td>0</td>\n      <td>0</td>\n      <td>0</td>\n      <td>0</td>\n      <td>0</td>\n      <td>0</td>\n      <td>0</td>\n      <td>...</td>\n      <td>0</td>\n      <td>0</td>\n      <td>0</td>\n      <td>0</td>\n      <td>0</td>\n      <td>0</td>\n      <td>0</td>\n      <td>0</td>\n      <td>0</td>\n      <td>https://de.indeed.com/viewjob?jk=ff6ccdbc95261d47</td>\n    </tr>\n  </tbody>\n</table>\n<p>915 rows × 201 columns</p>\n</div>"
     },
     "execution_count": 274,
     "metadata": {},
     "output_type": "execute_result"
    }
   ],
   "source": [
    "bow_df5"
   ],
   "metadata": {
    "collapsed": false,
    "pycharm": {
     "name": "#%%\n"
    }
   }
  },
  {
   "cell_type": "code",
   "execution_count": null,
   "outputs": [],
   "source": [],
   "metadata": {
    "collapsed": false,
    "pycharm": {
     "name": "#%%\n"
    }
   }
  },
  {
   "cell_type": "code",
   "execution_count": null,
   "outputs": [],
   "source": [],
   "metadata": {
    "collapsed": false,
    "pycharm": {
     "name": "#%%\n"
    }
   }
  },
  {
   "cell_type": "code",
   "execution_count": 207,
   "outputs": [
    {
     "data": {
      "text/plain": "['senior',\n 'simulation',\n 'marketing',\n 'material',\n 'praktikum',\n 'gender',\n 'dwm',\n 'office',\n 'management',\n 'tester',\n 'full',\n 'junior',\n 'internship',\n 'on',\n 'plan',\n 'vehicle',\n 'engineering',\n 'automotive',\n 'masterand',\n 'wissenschaftlicher',\n 'transformation',\n 'learn',\n 'php',\n 'deep',\n 'ai',\n 'testautomatisierung',\n 'market',\n 'intern',\n 'mitarbeiter',\n 'computer',\n 'germany',\n 'industrial',\n 'quality',\n 'gigafactory',\n 'trainee',\n 'operation',\n 'werkstudentin',\n 'apply',\n 'wissenschaftliche',\n 'support',\n 'bereich',\n 'trading',\n 'remote',\n 'sustainable',\n 'wireless',\n 'development',\n 'technical',\n 'language',\n 'studentische',\n 'exploration',\n 'gmbh',\n 'automation',\n 'open',\n 'position',\n 'linux',\n 'amp',\n 'autonomous',\n 'candidate',\n 'intelligence',\n 'start',\n 'design',\n 'vision',\n 'engineerin',\n 'it',\n 'doktorandin',\n 'vollzeit',\n 'softwareentwickler',\n 'datum',\n 'qa',\n 'thema',\n 'intelligenz',\n 'within',\n 'research',\n 'analysis',\n 'metrology',\n 'schwerpunkt',\n 'consultant',\n 'masterthesis',\n 'test',\n 'student',\n 'solution',\n 'security',\n 'service',\n 'thesis',\n 'architect',\n 'power',\n 'drive',\n 'hilfskrfte',\n 'masterarbeit',\n 'praktikant',\n 'communication',\n 'image',\n 'researcher',\n 'model',\n 'global',\n 'field',\n 'tech',\n 'odoo',\n 'advance',\n 'assistant',\n 'artificial',\n 'business',\n 'knstliche',\n 'specialist',\n 'user',\n 'rampd',\n 'python',\n 'stack',\n 'teilzeit',\n 'physiker',\n 'nlp',\n 'werkstudent',\n 'science',\n 'master',\n 'quantitative',\n 'predictive',\n 'berlinbrandenburg',\n 'entwicklerin',\n 'datenanalyse',\n 'focus',\n 'risk',\n 'wissenschaftler',\n 'forschung',\n 'control',\n 'softwareentwicklerin',\n 'quantum',\n 'praxissemester',\n 'autonome',\n 'lead',\n 'manager',\n 'evosoft',\n 'expert',\n 'process',\n 'administrator',\n 'associate',\n 'mitarbeiterin',\n 'berlin',\n 'testingenieur',\n 'work',\n 'algorithm',\n 'cellular',\n 'chain',\n 'scientist',\n 'system',\n 'team',\n 'software',\n 'fmdiverse',\n 'einsatz',\n 'integration',\n 'project',\n 'backend',\n 'aircraft',\n 'analytic',\n 'javascript',\n 'robotic',\n 'analyst',\n 'automate',\n 'bi',\n 'machine',\n 'softwareentwicklung',\n 'developer',\n 'product',\n 'digital',\n 'programming',\n 'doktorand',\n 'platform',\n 'computational',\n 'wiss',\n 'customer',\n 'bioinformatic',\n 'rpa',\n 'gi',\n 'experience',\n 'entwicklung',\n 'mittel',\n 'fullstack',\n 'mglich',\n 'strategist',\n 'frontend',\n 'entwickler',\n 'java',\n 'devop',\n 'cloud',\n 'embed',\n 'early',\n 'engineer',\n 'fahren',\n 'phd',\n 'biology',\n 'physicist',\n 'manufacture',\n 'technology',\n 'softwaretester',\n 'abschlussarbeit',\n 'supply',\n 'web',\n 'application',\n 'ki',\n 'radar',\n 'innovation']"
     },
     "execution_count": 207,
     "metadata": {},
     "output_type": "execute_result"
    }
   ],
   "source": [
    "lemmatized_tokens"
   ],
   "metadata": {
    "collapsed": false,
    "pycharm": {
     "name": "#%%\n"
    }
   }
  },
  {
   "cell_type": "code",
   "execution_count": 213,
   "outputs": [],
   "source": [
    "bow_df2 = bow_df1[selected_tokens1 + ['job_id']].copy()"
   ],
   "metadata": {
    "collapsed": false,
    "pycharm": {
     "name": "#%%\n"
    }
   }
  },
  {
   "cell_type": "code",
   "execution_count": null,
   "outputs": [],
   "source": [],
   "metadata": {
    "collapsed": false,
    "pycharm": {
     "name": "#%%\n",
     "is_executing": true
    }
   }
  },
  {
   "cell_type": "markdown",
   "source": [
    "# Clustering"
   ],
   "metadata": {
    "collapsed": false,
    "pycharm": {
     "name": "#%% md\n"
    }
   }
  },
  {
   "cell_type": "code",
   "execution_count": 275,
   "outputs": [],
   "source": [
    "from sklearn.cluster import KMeans"
   ],
   "metadata": {
    "collapsed": false,
    "pycharm": {
     "name": "#%%\n"
    }
   }
  },
  {
   "cell_type": "code",
   "execution_count": 276,
   "outputs": [
    {
     "name": "stderr",
     "output_type": "stream",
     "text": [
      "/Users/dp_user/PycharmProjects/arbeite_parser/venv/lib/python3.11/site-packages/sklearn/cluster/_kmeans.py:1412: FutureWarning: The default value of `n_init` will change from 10 to 'auto' in 1.4. Set the value of `n_init` explicitly to suppress the warning\n",
      "  super()._check_params_vs_input(X, default_n_init=10)\n",
      "/var/folders/0d/nn90v_dn4y56s_xnhsv23lf00000gn/T/ipykernel_52127/895730503.py:10: PerformanceWarning: DataFrame is highly fragmented.  This is usually the result of calling `frame.insert` many times, which has poor performance.  Consider joining all columns at once using pd.concat(axis=1) instead. To get a de-fragmented frame, use `newframe = frame.copy()`\n",
      "  bow_df5['cluster'] = kmeans.fit_predict(X)\n"
     ]
    }
   ],
   "source": [
    "n_clusters = 5  # replace with the number of clusters you want\n",
    "\n",
    "# Prepare the data for clustering\n",
    "X = bow_df5.drop('job_id', axis=1)\n",
    "\n",
    "# Initialize the KMeans object\n",
    "kmeans = KMeans(n_clusters=n_clusters, random_state=0)\n",
    "\n",
    "# Perform clustering\n",
    "bow_df5['cluster'] = kmeans.fit_predict(X)"
   ],
   "metadata": {
    "collapsed": false,
    "pycharm": {
     "name": "#%%\n"
    }
   }
  },
  {
   "cell_type": "code",
   "execution_count": 278,
   "outputs": [
    {
     "data": {
      "text/plain": "index    job_id\ncluster        \n0            39\n1           204\n2           365\n3           186\n4           121",
      "text/html": "<div>\n<style scoped>\n    .dataframe tbody tr th:only-of-type {\n        vertical-align: middle;\n    }\n\n    .dataframe tbody tr th {\n        vertical-align: top;\n    }\n\n    .dataframe thead th {\n        text-align: right;\n    }\n</style>\n<table border=\"1\" class=\"dataframe\">\n  <thead>\n    <tr style=\"text-align: right;\">\n      <th>index</th>\n      <th>job_id</th>\n    </tr>\n    <tr>\n      <th>cluster</th>\n      <th></th>\n    </tr>\n  </thead>\n  <tbody>\n    <tr>\n      <th>0</th>\n      <td>39</td>\n    </tr>\n    <tr>\n      <th>1</th>\n      <td>204</td>\n    </tr>\n    <tr>\n      <th>2</th>\n      <td>365</td>\n    </tr>\n    <tr>\n      <th>3</th>\n      <td>186</td>\n    </tr>\n    <tr>\n      <th>4</th>\n      <td>121</td>\n    </tr>\n  </tbody>\n</table>\n</div>"
     },
     "execution_count": 278,
     "metadata": {},
     "output_type": "execute_result"
    }
   ],
   "source": [
    "bow_df5[['cluster', 'job_id']].groupby('cluster').count()  # there's mess in second cluster"
   ],
   "metadata": {
    "collapsed": false,
    "pycharm": {
     "name": "#%%\n"
    }
   }
  },
  {
   "cell_type": "markdown",
   "source": [
    "### Clusters:\n",
    "\n",
    "#### 0. Researchers\n",
    "#### 1. Engineers\n",
    "#### 2. Other\n",
    "#### 3. Data Scientists\n",
    "#### 4. Developers"
   ],
   "metadata": {
    "collapsed": false,
    "pycharm": {
     "name": "#%% md\n"
    }
   }
  },
  {
   "cell_type": "markdown",
   "source": [
    "# TODO: highlight top skills in all clusters\n",
    "# TODO: work out on Others"
   ],
   "metadata": {
    "collapsed": false,
    "pycharm": {
     "name": "#%% md\n"
    }
   }
  },
  {
   "cell_type": "code",
   "execution_count": null,
   "outputs": [],
   "source": [],
   "metadata": {
    "collapsed": false,
    "pycharm": {
     "name": "#%%\n"
    }
   }
  },
  {
   "cell_type": "code",
   "execution_count": 283,
   "outputs": [],
   "source": [
    "bow_df6 = bow_df5[['cluster', 'job_id']].copy()"
   ],
   "metadata": {
    "collapsed": false,
    "pycharm": {
     "name": "#%%\n"
    }
   }
  },
  {
   "cell_type": "code",
   "execution_count": 285,
   "outputs": [],
   "source": [
    "bow_df6 = bow_df6.merge(job_title_df[['job_id', 'job_title']], how='left', on='job_id')"
   ],
   "metadata": {
    "collapsed": false,
    "pycharm": {
     "name": "#%%\n"
    }
   }
  },
  {
   "cell_type": "code",
   "execution_count": 287,
   "outputs": [
    {
     "data": {
      "text/plain": "     cluster                                             job_id  \\\n190        0  https://de.indeed.com/viewjob?jk=03a67d5bf9834ed2   \n234        0  https://de.indeed.com/viewjob?jk=134c1b4691b17615   \n241        0  https://de.indeed.com/viewjob?jk=1537ed5497d5a5cb   \n254        0  https://de.indeed.com/viewjob?jk=1892e6e506370caa   \n276        0  https://de.indeed.com/viewjob?jk=1fdc12a43f341744   \n294        0  https://de.indeed.com/viewjob?jk=23efda3a902e08d2   \n303        0  https://de.indeed.com/viewjob?jk=267e11e2962b739c   \n304        0  https://de.indeed.com/viewjob?jk=2688260640ca7af9   \n319        0  https://de.indeed.com/viewjob?jk=2b660ec1a37fe100   \n350        0  https://de.indeed.com/viewjob?jk=34474a4dd3290b82   \n351        0  https://de.indeed.com/viewjob?jk=34f9f585eea2dae7   \n358        0  https://de.indeed.com/viewjob?jk=375ee339acf8ccdd   \n426        0  https://de.indeed.com/viewjob?jk=51e4cc176f467c2a   \n447        0  https://de.indeed.com/viewjob?jk=5ac9e3d35e930ee6   \n500        0  https://de.indeed.com/viewjob?jk=6c3aa223c565729e   \n532        0  https://de.indeed.com/viewjob?jk=74cadbda2ce9976a   \n563        0  https://de.indeed.com/viewjob?jk=8148743338453788   \n581        0  https://de.indeed.com/viewjob?jk=8bbc7457ca728961   \n617        0  https://de.indeed.com/viewjob?jk=98395fa758338029   \n628        0  https://de.indeed.com/viewjob?jk=9eccf9bfa4f958ed   \n643        0  https://de.indeed.com/viewjob?jk=a270926d5a303e8d   \n655        0  https://de.indeed.com/viewjob?jk=a71650e3a5d761b3   \n667        0  https://de.indeed.com/viewjob?jk=a9da412c30b65b3e   \n677        0  https://de.indeed.com/viewjob?jk=ae7b279472a29a59   \n691        0  https://de.indeed.com/viewjob?jk=b365cef3439d5c52   \n698        0  https://de.indeed.com/viewjob?jk=b5e75f7cfdcf1aa9   \n714        0  https://de.indeed.com/viewjob?jk=ba4c7512b54ddcb2   \n716        0  https://de.indeed.com/viewjob?jk=bad92f5ea892c9a0   \n728        0  https://de.indeed.com/viewjob?jk=bd0b895e46319930   \n754        0  https://de.indeed.com/viewjob?jk=c5307dc46079a440   \n782        0  https://de.indeed.com/viewjob?jk=ce3c0547c0fb6034   \n795        0  https://de.indeed.com/viewjob?jk=d57fa6f02140cdec   \n811        0  https://de.indeed.com/viewjob?jk=dc5e1fcf2b773a5b   \n827        0  https://de.indeed.com/viewjob?jk=e176352e0b0c92b7   \n854        0  https://de.indeed.com/viewjob?jk=e9321800593f5536   \n856        0  https://de.indeed.com/viewjob?jk=e956df54f6ea7f04   \n874        0  https://de.indeed.com/viewjob?jk=f066d9f620f39ae8   \n885        0  https://de.indeed.com/viewjob?jk=f2a46f4888e60e93   \n910        0  https://de.indeed.com/viewjob?jk=fb3abb841abfef15   \n\n                                             job_title  \n190        research associate all genders data science  \n234  research scientists mfd on technologies and sy...  \n241            data scientist research amp development  \n254  two research assistant e positions in geoai bi...  \n276  neuromorphic algorithms researcher phd positio...  \n294  research  phd position posture detection algor...  \n303               student research amp development mfd  \n304                            glider research manager  \n319                    academic research assistant mfx  \n350                             research scientist fmd  \n351        research associate electrochemical analysis  \n358  research assistantassociate fmd  esr fellow wi...  \n426  research assistantassociate fmd  esr fellow wi...  \n447                  researcher post doc  data science  \n500                          nlp amp ml researcher mfd  \n532  research associate mfd  wissenschaftlicher mit...  \n563              research scientist bioinformatics mfd  \n581  research assistant with bachelors degree fmd f...  \n617  research assistantasscociate fmd control and p...  \n628                         hpc research scientist fmd  \n643                    researcher  impact analysis fmx  \n655                             research associate mfx  \n667                             research associate fmx  \n677            internship in machine learning research  \n691               research working student all genders  \n698  research assistant in nlp for the gemtex proje...  \n714                             research scientist fmd  \n716            research associate for the project epoc  \n728                          ml research scientist mwd  \n754  intern  working student  thesis student fmd  r...  \n782  intern  working student  thesis student fmd  s...  \n795            working student process mining research  \n811  student research assistant  authoritarian secu...  \n827                         user experience researcher  \n854      research scientist wmd applied data scientist  \n856  quantitative researcher mwd im bereich trading...  \n874                             research scientist fmd  \n885                   research assistantasscociate fmd  \n910  hiwistudent researcher in bioinformatics singl...  ",
      "text/html": "<div>\n<style scoped>\n    .dataframe tbody tr th:only-of-type {\n        vertical-align: middle;\n    }\n\n    .dataframe tbody tr th {\n        vertical-align: top;\n    }\n\n    .dataframe thead th {\n        text-align: right;\n    }\n</style>\n<table border=\"1\" class=\"dataframe\">\n  <thead>\n    <tr style=\"text-align: right;\">\n      <th></th>\n      <th>cluster</th>\n      <th>job_id</th>\n      <th>job_title</th>\n    </tr>\n  </thead>\n  <tbody>\n    <tr>\n      <th>190</th>\n      <td>0</td>\n      <td>https://de.indeed.com/viewjob?jk=03a67d5bf9834ed2</td>\n      <td>research associate all genders data science</td>\n    </tr>\n    <tr>\n      <th>234</th>\n      <td>0</td>\n      <td>https://de.indeed.com/viewjob?jk=134c1b4691b17615</td>\n      <td>research scientists mfd on technologies and sy...</td>\n    </tr>\n    <tr>\n      <th>241</th>\n      <td>0</td>\n      <td>https://de.indeed.com/viewjob?jk=1537ed5497d5a5cb</td>\n      <td>data scientist research amp development</td>\n    </tr>\n    <tr>\n      <th>254</th>\n      <td>0</td>\n      <td>https://de.indeed.com/viewjob?jk=1892e6e506370caa</td>\n      <td>two research assistant e positions in geoai bi...</td>\n    </tr>\n    <tr>\n      <th>276</th>\n      <td>0</td>\n      <td>https://de.indeed.com/viewjob?jk=1fdc12a43f341744</td>\n      <td>neuromorphic algorithms researcher phd positio...</td>\n    </tr>\n    <tr>\n      <th>294</th>\n      <td>0</td>\n      <td>https://de.indeed.com/viewjob?jk=23efda3a902e08d2</td>\n      <td>research  phd position posture detection algor...</td>\n    </tr>\n    <tr>\n      <th>303</th>\n      <td>0</td>\n      <td>https://de.indeed.com/viewjob?jk=267e11e2962b739c</td>\n      <td>student research amp development mfd</td>\n    </tr>\n    <tr>\n      <th>304</th>\n      <td>0</td>\n      <td>https://de.indeed.com/viewjob?jk=2688260640ca7af9</td>\n      <td>glider research manager</td>\n    </tr>\n    <tr>\n      <th>319</th>\n      <td>0</td>\n      <td>https://de.indeed.com/viewjob?jk=2b660ec1a37fe100</td>\n      <td>academic research assistant mfx</td>\n    </tr>\n    <tr>\n      <th>350</th>\n      <td>0</td>\n      <td>https://de.indeed.com/viewjob?jk=34474a4dd3290b82</td>\n      <td>research scientist fmd</td>\n    </tr>\n    <tr>\n      <th>351</th>\n      <td>0</td>\n      <td>https://de.indeed.com/viewjob?jk=34f9f585eea2dae7</td>\n      <td>research associate electrochemical analysis</td>\n    </tr>\n    <tr>\n      <th>358</th>\n      <td>0</td>\n      <td>https://de.indeed.com/viewjob?jk=375ee339acf8ccdd</td>\n      <td>research assistantassociate fmd  esr fellow wi...</td>\n    </tr>\n    <tr>\n      <th>426</th>\n      <td>0</td>\n      <td>https://de.indeed.com/viewjob?jk=51e4cc176f467c2a</td>\n      <td>research assistantassociate fmd  esr fellow wi...</td>\n    </tr>\n    <tr>\n      <th>447</th>\n      <td>0</td>\n      <td>https://de.indeed.com/viewjob?jk=5ac9e3d35e930ee6</td>\n      <td>researcher post doc  data science</td>\n    </tr>\n    <tr>\n      <th>500</th>\n      <td>0</td>\n      <td>https://de.indeed.com/viewjob?jk=6c3aa223c565729e</td>\n      <td>nlp amp ml researcher mfd</td>\n    </tr>\n    <tr>\n      <th>532</th>\n      <td>0</td>\n      <td>https://de.indeed.com/viewjob?jk=74cadbda2ce9976a</td>\n      <td>research associate mfd  wissenschaftlicher mit...</td>\n    </tr>\n    <tr>\n      <th>563</th>\n      <td>0</td>\n      <td>https://de.indeed.com/viewjob?jk=8148743338453788</td>\n      <td>research scientist bioinformatics mfd</td>\n    </tr>\n    <tr>\n      <th>581</th>\n      <td>0</td>\n      <td>https://de.indeed.com/viewjob?jk=8bbc7457ca728961</td>\n      <td>research assistant with bachelors degree fmd f...</td>\n    </tr>\n    <tr>\n      <th>617</th>\n      <td>0</td>\n      <td>https://de.indeed.com/viewjob?jk=98395fa758338029</td>\n      <td>research assistantasscociate fmd control and p...</td>\n    </tr>\n    <tr>\n      <th>628</th>\n      <td>0</td>\n      <td>https://de.indeed.com/viewjob?jk=9eccf9bfa4f958ed</td>\n      <td>hpc research scientist fmd</td>\n    </tr>\n    <tr>\n      <th>643</th>\n      <td>0</td>\n      <td>https://de.indeed.com/viewjob?jk=a270926d5a303e8d</td>\n      <td>researcher  impact analysis fmx</td>\n    </tr>\n    <tr>\n      <th>655</th>\n      <td>0</td>\n      <td>https://de.indeed.com/viewjob?jk=a71650e3a5d761b3</td>\n      <td>research associate mfx</td>\n    </tr>\n    <tr>\n      <th>667</th>\n      <td>0</td>\n      <td>https://de.indeed.com/viewjob?jk=a9da412c30b65b3e</td>\n      <td>research associate fmx</td>\n    </tr>\n    <tr>\n      <th>677</th>\n      <td>0</td>\n      <td>https://de.indeed.com/viewjob?jk=ae7b279472a29a59</td>\n      <td>internship in machine learning research</td>\n    </tr>\n    <tr>\n      <th>691</th>\n      <td>0</td>\n      <td>https://de.indeed.com/viewjob?jk=b365cef3439d5c52</td>\n      <td>research working student all genders</td>\n    </tr>\n    <tr>\n      <th>698</th>\n      <td>0</td>\n      <td>https://de.indeed.com/viewjob?jk=b5e75f7cfdcf1aa9</td>\n      <td>research assistant in nlp for the gemtex proje...</td>\n    </tr>\n    <tr>\n      <th>714</th>\n      <td>0</td>\n      <td>https://de.indeed.com/viewjob?jk=ba4c7512b54ddcb2</td>\n      <td>research scientist fmd</td>\n    </tr>\n    <tr>\n      <th>716</th>\n      <td>0</td>\n      <td>https://de.indeed.com/viewjob?jk=bad92f5ea892c9a0</td>\n      <td>research associate for the project epoc</td>\n    </tr>\n    <tr>\n      <th>728</th>\n      <td>0</td>\n      <td>https://de.indeed.com/viewjob?jk=bd0b895e46319930</td>\n      <td>ml research scientist mwd</td>\n    </tr>\n    <tr>\n      <th>754</th>\n      <td>0</td>\n      <td>https://de.indeed.com/viewjob?jk=c5307dc46079a440</td>\n      <td>intern  working student  thesis student fmd  r...</td>\n    </tr>\n    <tr>\n      <th>782</th>\n      <td>0</td>\n      <td>https://de.indeed.com/viewjob?jk=ce3c0547c0fb6034</td>\n      <td>intern  working student  thesis student fmd  s...</td>\n    </tr>\n    <tr>\n      <th>795</th>\n      <td>0</td>\n      <td>https://de.indeed.com/viewjob?jk=d57fa6f02140cdec</td>\n      <td>working student process mining research</td>\n    </tr>\n    <tr>\n      <th>811</th>\n      <td>0</td>\n      <td>https://de.indeed.com/viewjob?jk=dc5e1fcf2b773a5b</td>\n      <td>student research assistant  authoritarian secu...</td>\n    </tr>\n    <tr>\n      <th>827</th>\n      <td>0</td>\n      <td>https://de.indeed.com/viewjob?jk=e176352e0b0c92b7</td>\n      <td>user experience researcher</td>\n    </tr>\n    <tr>\n      <th>854</th>\n      <td>0</td>\n      <td>https://de.indeed.com/viewjob?jk=e9321800593f5536</td>\n      <td>research scientist wmd applied data scientist</td>\n    </tr>\n    <tr>\n      <th>856</th>\n      <td>0</td>\n      <td>https://de.indeed.com/viewjob?jk=e956df54f6ea7f04</td>\n      <td>quantitative researcher mwd im bereich trading...</td>\n    </tr>\n    <tr>\n      <th>874</th>\n      <td>0</td>\n      <td>https://de.indeed.com/viewjob?jk=f066d9f620f39ae8</td>\n      <td>research scientist fmd</td>\n    </tr>\n    <tr>\n      <th>885</th>\n      <td>0</td>\n      <td>https://de.indeed.com/viewjob?jk=f2a46f4888e60e93</td>\n      <td>research assistantasscociate fmd</td>\n    </tr>\n    <tr>\n      <th>910</th>\n      <td>0</td>\n      <td>https://de.indeed.com/viewjob?jk=fb3abb841abfef15</td>\n      <td>hiwistudent researcher in bioinformatics singl...</td>\n    </tr>\n  </tbody>\n</table>\n</div>"
     },
     "execution_count": 287,
     "metadata": {},
     "output_type": "execute_result"
    }
   ],
   "source": [
    "bow_df6.loc[bow_df6['cluster']==0]"
   ],
   "metadata": {
    "collapsed": false,
    "pycharm": {
     "name": "#%%\n"
    }
   }
  },
  {
   "cell_type": "code",
   "execution_count": 288,
   "outputs": [],
   "source": [
    "bow_df6.to_excel('clustered_vacancies.xlsx', index=False)"
   ],
   "metadata": {
    "collapsed": false,
    "pycharm": {
     "name": "#%%\n"
    }
   }
  },
  {
   "cell_type": "code",
   "execution_count": null,
   "outputs": [],
   "source": [],
   "metadata": {
    "collapsed": false,
    "pycharm": {
     "name": "#%%\n"
    }
   }
  },
  {
   "cell_type": "code",
   "execution_count": 295,
   "outputs": [
    {
     "data": {
      "text/plain": "                                                job_id  \\\n0                                     0053e5f78b135d5a   \n1                                     00ef1c15bf5b5939   \n2                                     0176a1dc54841716   \n3                                     028876104a6b2d26   \n4                                     034b31000a95988c   \n..                                                 ...   \n940  https://de.indeed.com/viewjob?jk=fdd8d81f544bf511   \n941  https://de.indeed.com/viewjob?jk=fe322edbe2225eb6   \n942  https://de.indeed.com/viewjob?jk=fef83104f3acd912   \n943  https://de.indeed.com/viewjob?jk=ff0d468c9afc7eb4   \n944  https://de.indeed.com/viewjob?jk=ff6ccdbc95261d47   \n\n                                             job_title  \\\n0                                    web developer mwd   \n1                     junior data engineer  python wmd   \n2                                     bi developer wmd   \n3               junior softwareentwicklerin python wmd   \n4            software test engineer mwd python oder cc   \n..                                                 ...   \n940  masterarbeit  praxissemester im bereich entwic...   \n941  mathematikerphysiker testing und entwicklung a...   \n942                      junior software developer dfm   \n943  lead analyst monitoring amp screening dmw anti...   \n944                                 data scientist dfm   \n\n                                                titles  \\\n0    web developer mwd  home office  indeedcom symb...   \n1    junior data engineer  python wmd   berlin  ind...   \n2    bi developer wmd  home office  indeedcom symbo...   \n3    junior softwareentwicklerin python wmd   bochu...   \n4    software test engineer mwd python oder cc   st...   \n..                                                 ...   \n940  masterarbeit  praxissemester im bereich entwic...   \n941  mathematikerphysiker testing und entwicklung a...   \n942  junior software developer dfm   manching  inde...   \n943  lead analyst monitoring  screening dmw antifin...   \n944  data scientist dfm  berlin  indeedcom symbol z...   \n\n                                            descr_list                city  \\\n0    mit einem team von  mitarbeiterinnen und mitar...  84347 Pfarrkirchen   \n1    location hamburg berlin kln dsseldorf gtersloh...              255462   \n2    wir in der bi domain logistics management setz...                 NaN   \n3     bochum  unbefristet vollzeit  it wir freuen u...           Not found   \n4     in diesem video geben wir persnliche einblick...           Not found   \n..                                                 ...                 ...   \n940  wir verwenden cookies um inhalte und anzeigen ...           Not found   \n941  du suchst das besondere das spezielle das wowd...           Not found   \n942  job description in order to take our engineeri...           Not found   \n943  english version below die deutsche bank db kan...           Not found   \n944  why scout scout is home of immoscout germanys ...           Not found   \n\n                                               Company  cluster  \n0    coreweb – Gesellschaft für consumer relevant w...        4  \n1                                smartclip Europe GmbH        1  \n2                                  Otto (GmbH & Co KG)        4  \n3                                  TÜV Rheinland Group        2  \n4                        ROHDE & SCHWARZ GmbH & Co. KG        1  \n..                                                 ...      ...  \n940                                        ZEISS Group        2  \n941                                          Accenture        2  \n942                                             Airbus        4  \n943                                      Deutsche Bank        2  \n944                                        ImmoScout24        3  \n\n[945 rows x 7 columns]",
      "text/html": "<div>\n<style scoped>\n    .dataframe tbody tr th:only-of-type {\n        vertical-align: middle;\n    }\n\n    .dataframe tbody tr th {\n        vertical-align: top;\n    }\n\n    .dataframe thead th {\n        text-align: right;\n    }\n</style>\n<table border=\"1\" class=\"dataframe\">\n  <thead>\n    <tr style=\"text-align: right;\">\n      <th></th>\n      <th>job_id</th>\n      <th>job_title</th>\n      <th>titles</th>\n      <th>descr_list</th>\n      <th>city</th>\n      <th>Company</th>\n      <th>cluster</th>\n    </tr>\n  </thead>\n  <tbody>\n    <tr>\n      <th>0</th>\n      <td>0053e5f78b135d5a</td>\n      <td>web developer mwd</td>\n      <td>web developer mwd  home office  indeedcom symb...</td>\n      <td>mit einem team von  mitarbeiterinnen und mitar...</td>\n      <td>84347 Pfarrkirchen</td>\n      <td>coreweb – Gesellschaft für consumer relevant w...</td>\n      <td>4</td>\n    </tr>\n    <tr>\n      <th>1</th>\n      <td>00ef1c15bf5b5939</td>\n      <td>junior data engineer  python wmd</td>\n      <td>junior data engineer  python wmd   berlin  ind...</td>\n      <td>location hamburg berlin kln dsseldorf gtersloh...</td>\n      <td>255462</td>\n      <td>smartclip Europe GmbH</td>\n      <td>1</td>\n    </tr>\n    <tr>\n      <th>2</th>\n      <td>0176a1dc54841716</td>\n      <td>bi developer wmd</td>\n      <td>bi developer wmd  home office  indeedcom symbo...</td>\n      <td>wir in der bi domain logistics management setz...</td>\n      <td>NaN</td>\n      <td>Otto (GmbH &amp; Co KG)</td>\n      <td>4</td>\n    </tr>\n    <tr>\n      <th>3</th>\n      <td>028876104a6b2d26</td>\n      <td>junior softwareentwicklerin python wmd</td>\n      <td>junior softwareentwicklerin python wmd   bochu...</td>\n      <td>bochum  unbefristet vollzeit  it wir freuen u...</td>\n      <td>Not found</td>\n      <td>TÜV Rheinland Group</td>\n      <td>2</td>\n    </tr>\n    <tr>\n      <th>4</th>\n      <td>034b31000a95988c</td>\n      <td>software test engineer mwd python oder cc</td>\n      <td>software test engineer mwd python oder cc   st...</td>\n      <td>in diesem video geben wir persnliche einblick...</td>\n      <td>Not found</td>\n      <td>ROHDE &amp; SCHWARZ GmbH &amp; Co. KG</td>\n      <td>1</td>\n    </tr>\n    <tr>\n      <th>...</th>\n      <td>...</td>\n      <td>...</td>\n      <td>...</td>\n      <td>...</td>\n      <td>...</td>\n      <td>...</td>\n      <td>...</td>\n    </tr>\n    <tr>\n      <th>940</th>\n      <td>https://de.indeed.com/viewjob?jk=fdd8d81f544bf511</td>\n      <td>masterarbeit  praxissemester im bereich entwic...</td>\n      <td>masterarbeit  praxissemester im bereich entwic...</td>\n      <td>wir verwenden cookies um inhalte und anzeigen ...</td>\n      <td>Not found</td>\n      <td>ZEISS Group</td>\n      <td>2</td>\n    </tr>\n    <tr>\n      <th>941</th>\n      <td>https://de.indeed.com/viewjob?jk=fe322edbe2225eb6</td>\n      <td>mathematikerphysiker testing und entwicklung a...</td>\n      <td>mathematikerphysiker testing und entwicklung a...</td>\n      <td>du suchst das besondere das spezielle das wowd...</td>\n      <td>Not found</td>\n      <td>Accenture</td>\n      <td>2</td>\n    </tr>\n    <tr>\n      <th>942</th>\n      <td>https://de.indeed.com/viewjob?jk=fef83104f3acd912</td>\n      <td>junior software developer dfm</td>\n      <td>junior software developer dfm   manching  inde...</td>\n      <td>job description in order to take our engineeri...</td>\n      <td>Not found</td>\n      <td>Airbus</td>\n      <td>4</td>\n    </tr>\n    <tr>\n      <th>943</th>\n      <td>https://de.indeed.com/viewjob?jk=ff0d468c9afc7eb4</td>\n      <td>lead analyst monitoring amp screening dmw anti...</td>\n      <td>lead analyst monitoring  screening dmw antifin...</td>\n      <td>english version below die deutsche bank db kan...</td>\n      <td>Not found</td>\n      <td>Deutsche Bank</td>\n      <td>2</td>\n    </tr>\n    <tr>\n      <th>944</th>\n      <td>https://de.indeed.com/viewjob?jk=ff6ccdbc95261d47</td>\n      <td>data scientist dfm</td>\n      <td>data scientist dfm  berlin  indeedcom symbol z...</td>\n      <td>why scout scout is home of immoscout germanys ...</td>\n      <td>Not found</td>\n      <td>ImmoScout24</td>\n      <td>3</td>\n    </tr>\n  </tbody>\n</table>\n<p>945 rows × 7 columns</p>\n</div>"
     },
     "execution_count": 295,
     "metadata": {},
     "output_type": "execute_result"
    }
   ],
   "source": [
    "jobs_df"
   ],
   "metadata": {
    "collapsed": false,
    "pycharm": {
     "name": "#%%\n"
    }
   }
  },
  {
   "cell_type": "markdown",
   "source": [
    "# todo tf-idf on vacancy description"
   ],
   "metadata": {
    "collapsed": false,
    "pycharm": {
     "name": "#%% md\n"
    }
   }
  },
  {
   "cell_type": "code",
   "execution_count": 292,
   "outputs": [],
   "source": [
    "jobs_df = jobs_df.merge(bow_df6[['job_id', 'cluster']], how='left', on='job_id')"
   ],
   "metadata": {
    "collapsed": false,
    "pycharm": {
     "name": "#%%\n"
    }
   }
  },
  {
   "cell_type": "code",
   "execution_count": 294,
   "outputs": [],
   "source": [
    "jobs_df.to_excel('de_jobs_with_clusters.xlsx', index=False)"
   ],
   "metadata": {
    "collapsed": false,
    "pycharm": {
     "name": "#%%\n"
    }
   }
  },
  {
   "cell_type": "code",
   "execution_count": null,
   "outputs": [],
   "source": [],
   "metadata": {
    "collapsed": false,
    "pycharm": {
     "name": "#%%\n"
    }
   }
  }
 ],
 "metadata": {
  "kernelspec": {
   "name": "arbeite_parser",
   "language": "python",
   "display_name": "arbeite_parser"
  },
  "language_info": {
   "codemirror_mode": {
    "name": "ipython",
    "version": 2
   },
   "file_extension": ".py",
   "mimetype": "text/x-python",
   "name": "python",
   "nbconvert_exporter": "python",
   "pygments_lexer": "ipython2",
   "version": "2.7.6"
  }
 },
 "nbformat": 4,
 "nbformat_minor": 0
}