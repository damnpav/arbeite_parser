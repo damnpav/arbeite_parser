{
 "cells": [
  {
   "cell_type": "code",
   "execution_count": 1,
   "metadata": {
    "collapsed": true,
    "pycharm": {
     "name": "#%%\n"
    }
   },
   "outputs": [],
   "source": [
    "import pandas as pd"
   ]
  },
  {
   "cell_type": "code",
   "execution_count": 14,
   "outputs": [],
   "source": [
    "from tqdm import tqdm"
   ],
   "metadata": {
    "collapsed": false,
    "pycharm": {
     "name": "#%%\n"
    }
   }
  },
  {
   "cell_type": "code",
   "execution_count": 2,
   "outputs": [],
   "source": [
    "from ydata_profiling import ProfileReport"
   ],
   "metadata": {
    "collapsed": false,
    "pycharm": {
     "name": "#%%\n"
    }
   }
  },
  {
   "cell_type": "code",
   "execution_count": 17,
   "outputs": [],
   "source": [
    "jobs_df = pd.read_excel('de_python_jobs_cleaned.xlsx')"
   ],
   "metadata": {
    "collapsed": false,
    "pycharm": {
     "name": "#%%\n"
    }
   }
  },
  {
   "cell_type": "code",
   "execution_count": 4,
   "outputs": [
    {
     "data": {
      "text/plain": "                                                job_id  \\\n0                                     0053e5f78b135d5a   \n1                                     00ef1c15bf5b5939   \n2                                     0176a1dc54841716   \n3                                     028876104a6b2d26   \n4                                     034b31000a95988c   \n..                                                 ...   \n955  https://de.indeed.com/viewjob?jk=fdd8d81f544bf511   \n956  https://de.indeed.com/viewjob?jk=fe322edbe2225eb6   \n957  https://de.indeed.com/viewjob?jk=fef83104f3acd912   \n958  https://de.indeed.com/viewjob?jk=ff0d468c9afc7eb4   \n959  https://de.indeed.com/viewjob?jk=ff6ccdbc95261d47   \n\n                                             job_title  \\\n0                                Web Developer (m/w/d)   \n1              (Junior) Data Engineer - Python (w/m/d)   \n2                                 BI Developer (w/m/d)   \n3        (Junior) Softwareentwickler*in Python (w/m/d)   \n4     Software Test Engineer (m/w/d) Python oder C/C++   \n..                                                 ...   \n955  Masterarbeit / Praxissemester im Bereich Entwi...   \n956  Mathematiker/Physiker Testing und Entwicklung ...   \n957                  Junior Software Developer (d/f/m)   \n958  Lead Analyst Monitoring &amp; Screening (d/m/w...   \n959                             Data Scientist (d/f/m)   \n\n                                                titles  \\\n0    Web Developer (m/w/d) - Home Office - Indeed.c...   \n1    (Junior) Data Engineer - Python (w/m/d) - 1040...   \n2    BI Developer (w/m/d) - Home Office - Indeed.co...   \n3    (Junior) Softwareentwickler*in Python (w/m/d) ...   \n4    Software Test Engineer (m/w/d) Python oder C/C...   \n..                                                 ...   \n955  Masterarbeit / Praxissemester im Bereich Entwi...   \n956  Mathematiker/Physiker Testing und Entwicklung ...   \n957  Junior Software Developer (d/f/m) - 85077 Manc...   \n958  Lead Analyst Monitoring & Screening (d/m/w) An...   \n959  Data Scientist (d/f/m) - Berlin - Indeed.com',...   \n\n                                            descr_list                city  \\\n0    Mit einem Team von 25 Mitarbeiterinnen und Mit...  84347 Pfarrkirchen   \n1    Location: Hamburg, Berlin, Köln, Düsseldorf, G...              255462   \n2    Wir, in der BI Domain Logistics Management, se...                 NaN   \n3     Bochum  Unbefristet Vollzeit  IT 5848Wir freu...           Not found   \n4     In diesem Video geben wir persönliche Einblic...           Not found   \n..                                                 ...                 ...   \n955  Wir verwenden Cookies, um Inhalte und Anzeigen...           Not found   \n956  Du suchst das Besondere, das Spezielle, das Wo...           Not found   \n957  Job Description: In order to take our Engineer...           Not found   \n958  ***English version below*** Die Deutsche Bank ...           Not found   \n959  Why Scout24? Scout24 is home of ImmoScout24, G...           Not found   \n\n                                               Company  \n0    coreweb – Gesellschaft für consumer relevant w...  \n1                                smartclip Europe GmbH  \n2                                  Otto (GmbH & Co KG)  \n3                                  TÜV Rheinland Group  \n4                        ROHDE & SCHWARZ GmbH & Co. KG  \n..                                                 ...  \n955                                        ZEISS Group  \n956                                          Accenture  \n957                                             Airbus  \n958                                      Deutsche Bank  \n959                                        ImmoScout24  \n\n[960 rows x 6 columns]",
      "text/html": "<div>\n<style scoped>\n    .dataframe tbody tr th:only-of-type {\n        vertical-align: middle;\n    }\n\n    .dataframe tbody tr th {\n        vertical-align: top;\n    }\n\n    .dataframe thead th {\n        text-align: right;\n    }\n</style>\n<table border=\"1\" class=\"dataframe\">\n  <thead>\n    <tr style=\"text-align: right;\">\n      <th></th>\n      <th>job_id</th>\n      <th>job_title</th>\n      <th>titles</th>\n      <th>descr_list</th>\n      <th>city</th>\n      <th>Company</th>\n    </tr>\n  </thead>\n  <tbody>\n    <tr>\n      <th>0</th>\n      <td>0053e5f78b135d5a</td>\n      <td>Web Developer (m/w/d)</td>\n      <td>Web Developer (m/w/d) - Home Office - Indeed.c...</td>\n      <td>Mit einem Team von 25 Mitarbeiterinnen und Mit...</td>\n      <td>84347 Pfarrkirchen</td>\n      <td>coreweb – Gesellschaft für consumer relevant w...</td>\n    </tr>\n    <tr>\n      <th>1</th>\n      <td>00ef1c15bf5b5939</td>\n      <td>(Junior) Data Engineer - Python (w/m/d)</td>\n      <td>(Junior) Data Engineer - Python (w/m/d) - 1040...</td>\n      <td>Location: Hamburg, Berlin, Köln, Düsseldorf, G...</td>\n      <td>255462</td>\n      <td>smartclip Europe GmbH</td>\n    </tr>\n    <tr>\n      <th>2</th>\n      <td>0176a1dc54841716</td>\n      <td>BI Developer (w/m/d)</td>\n      <td>BI Developer (w/m/d) - Home Office - Indeed.co...</td>\n      <td>Wir, in der BI Domain Logistics Management, se...</td>\n      <td>NaN</td>\n      <td>Otto (GmbH &amp; Co KG)</td>\n    </tr>\n    <tr>\n      <th>3</th>\n      <td>028876104a6b2d26</td>\n      <td>(Junior) Softwareentwickler*in Python (w/m/d)</td>\n      <td>(Junior) Softwareentwickler*in Python (w/m/d) ...</td>\n      <td>Bochum  Unbefristet Vollzeit  IT 5848Wir freu...</td>\n      <td>Not found</td>\n      <td>TÜV Rheinland Group</td>\n    </tr>\n    <tr>\n      <th>4</th>\n      <td>034b31000a95988c</td>\n      <td>Software Test Engineer (m/w/d) Python oder C/C++</td>\n      <td>Software Test Engineer (m/w/d) Python oder C/C...</td>\n      <td>In diesem Video geben wir persönliche Einblic...</td>\n      <td>Not found</td>\n      <td>ROHDE &amp; SCHWARZ GmbH &amp; Co. KG</td>\n    </tr>\n    <tr>\n      <th>...</th>\n      <td>...</td>\n      <td>...</td>\n      <td>...</td>\n      <td>...</td>\n      <td>...</td>\n      <td>...</td>\n    </tr>\n    <tr>\n      <th>955</th>\n      <td>https://de.indeed.com/viewjob?jk=fdd8d81f544bf511</td>\n      <td>Masterarbeit / Praxissemester im Bereich Entwi...</td>\n      <td>Masterarbeit / Praxissemester im Bereich Entwi...</td>\n      <td>Wir verwenden Cookies, um Inhalte und Anzeigen...</td>\n      <td>Not found</td>\n      <td>ZEISS Group</td>\n    </tr>\n    <tr>\n      <th>956</th>\n      <td>https://de.indeed.com/viewjob?jk=fe322edbe2225eb6</td>\n      <td>Mathematiker/Physiker Testing und Entwicklung ...</td>\n      <td>Mathematiker/Physiker Testing und Entwicklung ...</td>\n      <td>Du suchst das Besondere, das Spezielle, das Wo...</td>\n      <td>Not found</td>\n      <td>Accenture</td>\n    </tr>\n    <tr>\n      <th>957</th>\n      <td>https://de.indeed.com/viewjob?jk=fef83104f3acd912</td>\n      <td>Junior Software Developer (d/f/m)</td>\n      <td>Junior Software Developer (d/f/m) - 85077 Manc...</td>\n      <td>Job Description: In order to take our Engineer...</td>\n      <td>Not found</td>\n      <td>Airbus</td>\n    </tr>\n    <tr>\n      <th>958</th>\n      <td>https://de.indeed.com/viewjob?jk=ff0d468c9afc7eb4</td>\n      <td>Lead Analyst Monitoring &amp;amp; Screening (d/m/w...</td>\n      <td>Lead Analyst Monitoring &amp; Screening (d/m/w) An...</td>\n      <td>***English version below*** Die Deutsche Bank ...</td>\n      <td>Not found</td>\n      <td>Deutsche Bank</td>\n    </tr>\n    <tr>\n      <th>959</th>\n      <td>https://de.indeed.com/viewjob?jk=ff6ccdbc95261d47</td>\n      <td>Data Scientist (d/f/m)</td>\n      <td>Data Scientist (d/f/m) - Berlin - Indeed.com',...</td>\n      <td>Why Scout24? Scout24 is home of ImmoScout24, G...</td>\n      <td>Not found</td>\n      <td>ImmoScout24</td>\n    </tr>\n  </tbody>\n</table>\n<p>960 rows × 6 columns</p>\n</div>"
     },
     "execution_count": 4,
     "metadata": {},
     "output_type": "execute_result"
    }
   ],
   "source": [
    "jobs_df['job_id']"
   ],
   "metadata": {
    "collapsed": false,
    "pycharm": {
     "name": "#%%\n"
    }
   }
  },
  {
   "cell_type": "code",
   "execution_count": 5,
   "outputs": [
    {
     "data": {
      "text/plain": "910"
     },
     "execution_count": 5,
     "metadata": {},
     "output_type": "execute_result"
    }
   ],
   "source": [
    "jobs_df['job_id'].nunique()  # есть дубликаты"
   ],
   "metadata": {
    "collapsed": false,
    "pycharm": {
     "name": "#%%\n"
    }
   }
  },
  {
   "cell_type": "code",
   "execution_count": 7,
   "outputs": [
    {
     "data": {
      "text/plain": "Empty DataFrame\nColumns: []\nIndex: [0053e5f78b135d5a, 00ef1c15bf5b5939, 0176a1dc54841716, 028876104a6b2d26, 034b31000a95988c, 061e5335094f000d, 0995d50707a6ed2b, 0a27943e6c73e9c7, 0a34c6921742a18d, 0b2db6752c84460a, https://de.indeed.com/viewjob?jk=0007e563ee6b7554, https://de.indeed.com/viewjob?jk=00113912ed755fed, https://de.indeed.com/viewjob?jk=0053e5f78b135d5a, https://de.indeed.com/viewjob?jk=00a2d82c2102d54c, https://de.indeed.com/viewjob?jk=00ef1c15bf5b5939, https://de.indeed.com/viewjob?jk=00f6541c28cdfa86, https://de.indeed.com/viewjob?jk=01244dbd10076268, https://de.indeed.com/viewjob?jk=0176a1dc54841716, https://de.indeed.com/viewjob?jk=019bd8ff3f87bb4a, https://de.indeed.com/viewjob?jk=01aa72a90a444468, https://de.indeed.com/viewjob?jk=0265a7c5faa8a099, https://de.indeed.com/viewjob?jk=0278b944002a3984, https://de.indeed.com/viewjob?jk=028876104a6b2d26, https://de.indeed.com/viewjob?jk=0313220d009eb400, https://de.indeed.com/viewjob?jk=031eb7571509115e, https://de.indeed.com/viewjob?jk=032c86130bb62cfa, https://de.indeed.com/viewjob?jk=034b31000a95988c, https://de.indeed.com/viewjob?jk=0380d05ad0935b31, https://de.indeed.com/viewjob?jk=0386edf89d26c36e, https://de.indeed.com/viewjob?jk=039280ada5f00ce5, https://de.indeed.com/viewjob?jk=03a67d5bf9834ed2, https://de.indeed.com/viewjob?jk=04069f2c32fefe19, https://de.indeed.com/viewjob?jk=04ee157117a530c7, https://de.indeed.com/viewjob?jk=04f5a757aeb46b73, https://de.indeed.com/viewjob?jk=05b881cc95ba7742, https://de.indeed.com/viewjob?jk=05d72b73f839a22e, https://de.indeed.com/viewjob?jk=061e5335094f000d, https://de.indeed.com/viewjob?jk=06bcdaa94e593625, https://de.indeed.com/viewjob?jk=06d86295f509f9c4, https://de.indeed.com/viewjob?jk=070c93d347cce60a, https://de.indeed.com/viewjob?jk=075c14b740eaec73, https://de.indeed.com/viewjob?jk=0774dc88f424905e, https://de.indeed.com/viewjob?jk=0793c90aa063abbb, https://de.indeed.com/viewjob?jk=07d22057967b8582, https://de.indeed.com/viewjob?jk=085d9996433fac93, https://de.indeed.com/viewjob?jk=08be975f1f5ff41e, https://de.indeed.com/viewjob?jk=08cafc0a446acc82, https://de.indeed.com/viewjob?jk=08d84374873500a4, https://de.indeed.com/viewjob?jk=094c31f3df3bd182, https://de.indeed.com/viewjob?jk=0995d50707a6ed2b, https://de.indeed.com/viewjob?jk=09a89538c2dfa570, https://de.indeed.com/viewjob?jk=09ab6c98256973fd, https://de.indeed.com/viewjob?jk=09f15a845955cfd5, https://de.indeed.com/viewjob?jk=0a11cac2389cf73a, https://de.indeed.com/viewjob?jk=0a27943e6c73e9c7, https://de.indeed.com/viewjob?jk=0a34c6921742a18d, https://de.indeed.com/viewjob?jk=0a37247c0c3d5b55, https://de.indeed.com/viewjob?jk=0a3a39bbbcd887d3, https://de.indeed.com/viewjob?jk=0a51baa9899c4adb, https://de.indeed.com/viewjob?jk=0a6a76f46f7f3fc3, https://de.indeed.com/viewjob?jk=0b2db6752c84460a, https://de.indeed.com/viewjob?jk=0bc950ba76cdc0b3, https://de.indeed.com/viewjob?jk=0c2354d5d6006c16, https://de.indeed.com/viewjob?jk=0c514823e340ef83, https://de.indeed.com/viewjob?jk=0df9a5bd011b4e6e, https://de.indeed.com/viewjob?jk=0ea313757ebb0d44, https://de.indeed.com/viewjob?jk=0f9655cd6558486d, https://de.indeed.com/viewjob?jk=0f9cc893fba20fc8, https://de.indeed.com/viewjob?jk=0ff2c9cfb135e2cd, https://de.indeed.com/viewjob?jk=10260688ac0b40d5, https://de.indeed.com/viewjob?jk=10a2545f17b3c018, https://de.indeed.com/viewjob?jk=10e8d5766a146f00, https://de.indeed.com/viewjob?jk=119d7313f67aba23, https://de.indeed.com/viewjob?jk=11dd066dde271b4e, https://de.indeed.com/viewjob?jk=11ec4a8bf6c5137b, https://de.indeed.com/viewjob?jk=11f8e40fd38c773a, https://de.indeed.com/viewjob?jk=121a7bbf78a8940e, https://de.indeed.com/viewjob?jk=121e2eea36340373, https://de.indeed.com/viewjob?jk=126586c447f9e032, https://de.indeed.com/viewjob?jk=1285523f07dad6bc, https://de.indeed.com/viewjob?jk=12b830880cd695e8, https://de.indeed.com/viewjob?jk=12bd17ca05c89f5a, https://de.indeed.com/viewjob?jk=130ba38bff7ad892, https://de.indeed.com/viewjob?jk=134c1b4691b17615, https://de.indeed.com/viewjob?jk=13a74cec84db0006, https://de.indeed.com/viewjob?jk=13bcaba721606c7e, https://de.indeed.com/viewjob?jk=13fd345621f4c2d6, https://de.indeed.com/viewjob?jk=143b8121edfcc7e8, https://de.indeed.com/viewjob?jk=14bf27d3664574c5, https://de.indeed.com/viewjob?jk=14e6d90f6ad90cee, https://de.indeed.com/viewjob?jk=14f40fcfaa8c4caa, https://de.indeed.com/viewjob?jk=152534eb338e9b3b, https://de.indeed.com/viewjob?jk=1531bd3a98e8f51c, https://de.indeed.com/viewjob?jk=1537ed5497d5a5cb, https://de.indeed.com/viewjob?jk=15555fc81b3aa82f, https://de.indeed.com/viewjob?jk=15c2d0d9de58981d, https://de.indeed.com/viewjob?jk=16501610fe1c2893, https://de.indeed.com/viewjob?jk=1682020d3db455ff, https://de.indeed.com/viewjob?jk=16bed987683e652e, https://de.indeed.com/viewjob?jk=1714f4cd0eb8ec78, ...]\n\n[910 rows x 0 columns]",
      "text/html": "<div>\n<style scoped>\n    .dataframe tbody tr th:only-of-type {\n        vertical-align: middle;\n    }\n\n    .dataframe tbody tr th {\n        vertical-align: top;\n    }\n\n    .dataframe thead th {\n        text-align: right;\n    }\n</style>\n<table border=\"1\" class=\"dataframe\">\n  <thead>\n    <tr style=\"text-align: right;\">\n      <th></th>\n    </tr>\n    <tr>\n      <th>job_id</th>\n    </tr>\n  </thead>\n  <tbody>\n    <tr>\n      <th>0053e5f78b135d5a</th>\n    </tr>\n    <tr>\n      <th>00ef1c15bf5b5939</th>\n    </tr>\n    <tr>\n      <th>0176a1dc54841716</th>\n    </tr>\n    <tr>\n      <th>028876104a6b2d26</th>\n    </tr>\n    <tr>\n      <th>034b31000a95988c</th>\n    </tr>\n    <tr>\n      <th>...</th>\n    </tr>\n    <tr>\n      <th>https://de.indeed.com/viewjob?jk=fe322edbe2225eb6</th>\n    </tr>\n    <tr>\n      <th>https://de.indeed.com/viewjob?jk=fef5756de6cba848</th>\n    </tr>\n    <tr>\n      <th>https://de.indeed.com/viewjob?jk=fef83104f3acd912</th>\n    </tr>\n    <tr>\n      <th>https://de.indeed.com/viewjob?jk=ff0d468c9afc7eb4</th>\n    </tr>\n    <tr>\n      <th>https://de.indeed.com/viewjob?jk=ff6ccdbc95261d47</th>\n    </tr>\n  </tbody>\n</table>\n<p>910 rows × 0 columns</p>\n</div>"
     },
     "execution_count": 7,
     "metadata": {},
     "output_type": "execute_result"
    }
   ],
   "source": [
    "jobs_df[['job_id']].groupby('job_id').agg('count')"
   ],
   "metadata": {
    "collapsed": false,
    "pycharm": {
     "name": "#%%\n"
    }
   }
  },
  {
   "cell_type": "code",
   "execution_count": 10,
   "outputs": [
    {
     "data": {
      "text/plain": "                                                   job_id\njob_id                                                   \n0053e5f78b135d5a                                        6\n00ef1c15bf5b5939                                        6\n0176a1dc54841716                                        6\n028876104a6b2d26                                        6\n034b31000a95988c                                        6\n...                                                   ...\nhttps://de.indeed.com/viewjob?jk=fe322edbe2225eb6       1\nhttps://de.indeed.com/viewjob?jk=fef5756de6cba848       1\nhttps://de.indeed.com/viewjob?jk=fef83104f3acd912       1\nhttps://de.indeed.com/viewjob?jk=ff0d468c9afc7eb4       1\nhttps://de.indeed.com/viewjob?jk=ff6ccdbc95261d47       1\n\n[910 rows x 1 columns]",
      "text/html": "<div>\n<style scoped>\n    .dataframe tbody tr th:only-of-type {\n        vertical-align: middle;\n    }\n\n    .dataframe tbody tr th {\n        vertical-align: top;\n    }\n\n    .dataframe thead th {\n        text-align: right;\n    }\n</style>\n<table border=\"1\" class=\"dataframe\">\n  <thead>\n    <tr style=\"text-align: right;\">\n      <th></th>\n      <th>job_id</th>\n    </tr>\n    <tr>\n      <th>job_id</th>\n      <th></th>\n    </tr>\n  </thead>\n  <tbody>\n    <tr>\n      <th>0053e5f78b135d5a</th>\n      <td>6</td>\n    </tr>\n    <tr>\n      <th>00ef1c15bf5b5939</th>\n      <td>6</td>\n    </tr>\n    <tr>\n      <th>0176a1dc54841716</th>\n      <td>6</td>\n    </tr>\n    <tr>\n      <th>028876104a6b2d26</th>\n      <td>6</td>\n    </tr>\n    <tr>\n      <th>034b31000a95988c</th>\n      <td>6</td>\n    </tr>\n    <tr>\n      <th>...</th>\n      <td>...</td>\n    </tr>\n    <tr>\n      <th>https://de.indeed.com/viewjob?jk=fe322edbe2225eb6</th>\n      <td>1</td>\n    </tr>\n    <tr>\n      <th>https://de.indeed.com/viewjob?jk=fef5756de6cba848</th>\n      <td>1</td>\n    </tr>\n    <tr>\n      <th>https://de.indeed.com/viewjob?jk=fef83104f3acd912</th>\n      <td>1</td>\n    </tr>\n    <tr>\n      <th>https://de.indeed.com/viewjob?jk=ff0d468c9afc7eb4</th>\n      <td>1</td>\n    </tr>\n    <tr>\n      <th>https://de.indeed.com/viewjob?jk=ff6ccdbc95261d47</th>\n      <td>1</td>\n    </tr>\n  </tbody>\n</table>\n<p>910 rows × 1 columns</p>\n</div>"
     },
     "execution_count": 10,
     "metadata": {},
     "output_type": "execute_result"
    }
   ],
   "source": [
    "jobs_df[['job_id']].groupby('job_id').agg({'job_id': 'count'})"
   ],
   "metadata": {
    "collapsed": false,
    "pycharm": {
     "name": "#%%\n"
    }
   }
  },
  {
   "cell_type": "code",
   "execution_count": 12,
   "outputs": [
    {
     "data": {
      "text/plain": "              job_id              job_title  \\\n0   0053e5f78b135d5a  Web Developer (m/w/d)   \n10  0053e5f78b135d5a  Web Developer (m/w/d)   \n20  0053e5f78b135d5a  Web Developer (m/w/d)   \n30  0053e5f78b135d5a  Web Developer (m/w/d)   \n40  0053e5f78b135d5a  Web Developer (m/w/d)   \n50  0053e5f78b135d5a  Web Developer (m/w/d)   \n\n                                               titles  \\\n0   Web Developer (m/w/d) - Home Office - Indeed.c...   \n10  Web Developer (m/w/d) - Home Office - Indeed.c...   \n20  Web Developer (m/w/d) - Home Office - Indeed.c...   \n30  Web Developer (m/w/d) - Home Office - Indeed.c...   \n40  Web Developer (m/w/d) - Home Office - Indeed.c...   \n50  Web Developer (m/w/d) - Home Office - Indeed.c...   \n\n                                           descr_list                city  \\\n0   Mit einem Team von 25 Mitarbeiterinnen und Mit...  84347 Pfarrkirchen   \n10  Mit einem Team von 25 Mitarbeiterinnen und Mit...  84347 Pfarrkirchen   \n20  Mit einem Team von 25 Mitarbeiterinnen und Mit...  84347 Pfarrkirchen   \n30  Mit einem Team von 25 Mitarbeiterinnen und Mit...  84347 Pfarrkirchen   \n40  Mit einem Team von 25 Mitarbeiterinnen und Mit...  84347 Pfarrkirchen   \n50  Mit einem Team von 25 Mitarbeiterinnen und Mit...  84347 Pfarrkirchen   \n\n                                              Company  \n0   coreweb – Gesellschaft für consumer relevant w...  \n10  coreweb – Gesellschaft für consumer relevant w...  \n20  coreweb – Gesellschaft für consumer relevant w...  \n30  coreweb – Gesellschaft für consumer relevant w...  \n40  coreweb – Gesellschaft für consumer relevant w...  \n50  coreweb – Gesellschaft für consumer relevant w...  ",
      "text/html": "<div>\n<style scoped>\n    .dataframe tbody tr th:only-of-type {\n        vertical-align: middle;\n    }\n\n    .dataframe tbody tr th {\n        vertical-align: top;\n    }\n\n    .dataframe thead th {\n        text-align: right;\n    }\n</style>\n<table border=\"1\" class=\"dataframe\">\n  <thead>\n    <tr style=\"text-align: right;\">\n      <th></th>\n      <th>job_id</th>\n      <th>job_title</th>\n      <th>titles</th>\n      <th>descr_list</th>\n      <th>city</th>\n      <th>Company</th>\n    </tr>\n  </thead>\n  <tbody>\n    <tr>\n      <th>0</th>\n      <td>0053e5f78b135d5a</td>\n      <td>Web Developer (m/w/d)</td>\n      <td>Web Developer (m/w/d) - Home Office - Indeed.c...</td>\n      <td>Mit einem Team von 25 Mitarbeiterinnen und Mit...</td>\n      <td>84347 Pfarrkirchen</td>\n      <td>coreweb – Gesellschaft für consumer relevant w...</td>\n    </tr>\n    <tr>\n      <th>10</th>\n      <td>0053e5f78b135d5a</td>\n      <td>Web Developer (m/w/d)</td>\n      <td>Web Developer (m/w/d) - Home Office - Indeed.c...</td>\n      <td>Mit einem Team von 25 Mitarbeiterinnen und Mit...</td>\n      <td>84347 Pfarrkirchen</td>\n      <td>coreweb – Gesellschaft für consumer relevant w...</td>\n    </tr>\n    <tr>\n      <th>20</th>\n      <td>0053e5f78b135d5a</td>\n      <td>Web Developer (m/w/d)</td>\n      <td>Web Developer (m/w/d) - Home Office - Indeed.c...</td>\n      <td>Mit einem Team von 25 Mitarbeiterinnen und Mit...</td>\n      <td>84347 Pfarrkirchen</td>\n      <td>coreweb – Gesellschaft für consumer relevant w...</td>\n    </tr>\n    <tr>\n      <th>30</th>\n      <td>0053e5f78b135d5a</td>\n      <td>Web Developer (m/w/d)</td>\n      <td>Web Developer (m/w/d) - Home Office - Indeed.c...</td>\n      <td>Mit einem Team von 25 Mitarbeiterinnen und Mit...</td>\n      <td>84347 Pfarrkirchen</td>\n      <td>coreweb – Gesellschaft für consumer relevant w...</td>\n    </tr>\n    <tr>\n      <th>40</th>\n      <td>0053e5f78b135d5a</td>\n      <td>Web Developer (m/w/d)</td>\n      <td>Web Developer (m/w/d) - Home Office - Indeed.c...</td>\n      <td>Mit einem Team von 25 Mitarbeiterinnen und Mit...</td>\n      <td>84347 Pfarrkirchen</td>\n      <td>coreweb – Gesellschaft für consumer relevant w...</td>\n    </tr>\n    <tr>\n      <th>50</th>\n      <td>0053e5f78b135d5a</td>\n      <td>Web Developer (m/w/d)</td>\n      <td>Web Developer (m/w/d) - Home Office - Indeed.c...</td>\n      <td>Mit einem Team von 25 Mitarbeiterinnen und Mit...</td>\n      <td>84347 Pfarrkirchen</td>\n      <td>coreweb – Gesellschaft für consumer relevant w...</td>\n    </tr>\n  </tbody>\n</table>\n</div>"
     },
     "execution_count": 12,
     "metadata": {},
     "output_type": "execute_result"
    }
   ],
   "source": [
    "jobs_df.loc[jobs_df['job_id']=='0053e5f78b135d5a']  # да есть дубликаты"
   ],
   "metadata": {
    "collapsed": false,
    "pycharm": {
     "name": "#%%\n"
    }
   }
  },
  {
   "cell_type": "code",
   "execution_count": 15,
   "outputs": [],
   "source": [
    "jobs_df = jobs_df.drop_duplicates().copy()"
   ],
   "metadata": {
    "collapsed": false,
    "pycharm": {
     "name": "#%%\n"
    }
   }
  },
  {
   "cell_type": "code",
   "execution_count": 21,
   "outputs": [],
   "source": [
    "jobs_df.to_excel('de_python_jobs_cleaned.xlsx', index=False)"
   ],
   "metadata": {
    "collapsed": false,
    "pycharm": {
     "name": "#%%\n"
    }
   }
  },
  {
   "cell_type": "code",
   "execution_count": null,
   "outputs": [],
   "source": [],
   "metadata": {
    "collapsed": false,
    "pycharm": {
     "name": "#%%\n"
    }
   }
  },
  {
   "cell_type": "code",
   "execution_count": null,
   "outputs": [],
   "source": [],
   "metadata": {
    "collapsed": false,
    "pycharm": {
     "name": "#%%\n"
    }
   }
  },
  {
   "cell_type": "code",
   "execution_count": 4,
   "outputs": [],
   "source": [
    "report = ProfileReport(jobs_df)"
   ],
   "metadata": {
    "collapsed": false,
    "pycharm": {
     "name": "#%%\n"
    }
   }
  },
  {
   "cell_type": "code",
   "execution_count": 5,
   "outputs": [
    {
     "data": {
      "text/plain": "Summarize dataset:   0%|          | 0/5 [00:00<?, ?it/s]",
      "application/vnd.jupyter.widget-view+json": {
       "version_major": 2,
       "version_minor": 0,
       "model_id": "32dea266ca7c4be29a78bde9529f626a"
      }
     },
     "metadata": {},
     "output_type": "display_data"
    },
    {
     "data": {
      "text/plain": "Generate report structure:   0%|          | 0/1 [00:00<?, ?it/s]",
      "application/vnd.jupyter.widget-view+json": {
       "version_major": 2,
       "version_minor": 0,
       "model_id": "7f5d6eccf84b415e9b70136c11a295bb"
      }
     },
     "metadata": {},
     "output_type": "display_data"
    },
    {
     "data": {
      "text/plain": "Render HTML:   0%|          | 0/1 [00:00<?, ?it/s]",
      "application/vnd.jupyter.widget-view+json": {
       "version_major": 2,
       "version_minor": 0,
       "model_id": "ad77c423ad7040639f9f531d0ad1713d"
      }
     },
     "metadata": {},
     "output_type": "display_data"
    },
    {
     "data": {
      "text/plain": "Export report to file:   0%|          | 0/1 [00:00<?, ?it/s]",
      "application/vnd.jupyter.widget-view+json": {
       "version_major": 2,
       "version_minor": 0,
       "model_id": "8990b40b36b64b739e0f8a444190675d"
      }
     },
     "metadata": {},
     "output_type": "display_data"
    }
   ],
   "source": [
    "report.to_file('pd_report.html')"
   ],
   "metadata": {
    "collapsed": false,
    "pycharm": {
     "name": "#%%\n"
    }
   }
  },
  {
   "cell_type": "code",
   "execution_count": 5,
   "outputs": [],
   "source": [],
   "metadata": {
    "collapsed": false,
    "pycharm": {
     "name": "#%%\n"
    }
   }
  },
  {
   "cell_type": "code",
   "execution_count": 6,
   "outputs": [
    {
     "data": {
      "text/plain": "                                                job_id  \\\n0                                     0053e5f78b135d5a   \n1                                     00ef1c15bf5b5939   \n2                                     0176a1dc54841716   \n3                                     028876104a6b2d26   \n4                                     034b31000a95988c   \n..                                                 ...   \n910  https://de.indeed.com/viewjob?jk=fdd8d81f544bf511   \n911  https://de.indeed.com/viewjob?jk=fe322edbe2225eb6   \n912  https://de.indeed.com/viewjob?jk=fef83104f3acd912   \n913  https://de.indeed.com/viewjob?jk=ff0d468c9afc7eb4   \n914  https://de.indeed.com/viewjob?jk=ff6ccdbc95261d47   \n\n                                             job_title  \\\n0                                Web Developer (m/w/d)   \n1              (Junior) Data Engineer - Python (w/m/d)   \n2                                 BI Developer (w/m/d)   \n3        (Junior) Softwareentwickler*in Python (w/m/d)   \n4     Software Test Engineer (m/w/d) Python oder C/C++   \n..                                                 ...   \n910  Masterarbeit / Praxissemester im Bereich Entwi...   \n911  Mathematiker/Physiker Testing und Entwicklung ...   \n912                  Junior Software Developer (d/f/m)   \n913  Lead Analyst Monitoring &amp; Screening (d/m/w...   \n914                             Data Scientist (d/f/m)   \n\n                                                titles  \\\n0    Web Developer (m/w/d) - Home Office - Indeed.c...   \n1    (Junior) Data Engineer - Python (w/m/d) - 1040...   \n2    BI Developer (w/m/d) - Home Office - Indeed.co...   \n3    (Junior) Softwareentwickler*in Python (w/m/d) ...   \n4    Software Test Engineer (m/w/d) Python oder C/C...   \n..                                                 ...   \n910  Masterarbeit / Praxissemester im Bereich Entwi...   \n911  Mathematiker/Physiker Testing und Entwicklung ...   \n912  Junior Software Developer (d/f/m) - 85077 Manc...   \n913  Lead Analyst Monitoring & Screening (d/m/w) An...   \n914  Data Scientist (d/f/m) - Berlin - Indeed.com',...   \n\n                                            descr_list                city  \\\n0    Mit einem Team von 25 Mitarbeiterinnen und Mit...  84347 Pfarrkirchen   \n1    Location: Hamburg, Berlin, Köln, Düsseldorf, G...              255462   \n2    Wir, in der BI Domain Logistics Management, se...                 NaN   \n3     Bochum  Unbefristet Vollzeit  IT 5848Wir freu...           Not found   \n4     In diesem Video geben wir persönliche Einblic...           Not found   \n..                                                 ...                 ...   \n910  Wir verwenden Cookies, um Inhalte und Anzeigen...           Not found   \n911  Du suchst das Besondere, das Spezielle, das Wo...           Not found   \n912  Job Description: In order to take our Engineer...           Not found   \n913  ***English version below*** Die Deutsche Bank ...           Not found   \n914  Why Scout24? Scout24 is home of ImmoScout24, G...           Not found   \n\n                                               Company  \n0    coreweb – Gesellschaft für consumer relevant w...  \n1                                smartclip Europe GmbH  \n2                                  Otto (GmbH & Co KG)  \n3                                  TÜV Rheinland Group  \n4                        ROHDE & SCHWARZ GmbH & Co. KG  \n..                                                 ...  \n910                                        ZEISS Group  \n911                                          Accenture  \n912                                             Airbus  \n913                                      Deutsche Bank  \n914                                        ImmoScout24  \n\n[915 rows x 6 columns]",
      "text/html": "<div>\n<style scoped>\n    .dataframe tbody tr th:only-of-type {\n        vertical-align: middle;\n    }\n\n    .dataframe tbody tr th {\n        vertical-align: top;\n    }\n\n    .dataframe thead th {\n        text-align: right;\n    }\n</style>\n<table border=\"1\" class=\"dataframe\">\n  <thead>\n    <tr style=\"text-align: right;\">\n      <th></th>\n      <th>job_id</th>\n      <th>job_title</th>\n      <th>titles</th>\n      <th>descr_list</th>\n      <th>city</th>\n      <th>Company</th>\n    </tr>\n  </thead>\n  <tbody>\n    <tr>\n      <th>0</th>\n      <td>0053e5f78b135d5a</td>\n      <td>Web Developer (m/w/d)</td>\n      <td>Web Developer (m/w/d) - Home Office - Indeed.c...</td>\n      <td>Mit einem Team von 25 Mitarbeiterinnen und Mit...</td>\n      <td>84347 Pfarrkirchen</td>\n      <td>coreweb – Gesellschaft für consumer relevant w...</td>\n    </tr>\n    <tr>\n      <th>1</th>\n      <td>00ef1c15bf5b5939</td>\n      <td>(Junior) Data Engineer - Python (w/m/d)</td>\n      <td>(Junior) Data Engineer - Python (w/m/d) - 1040...</td>\n      <td>Location: Hamburg, Berlin, Köln, Düsseldorf, G...</td>\n      <td>255462</td>\n      <td>smartclip Europe GmbH</td>\n    </tr>\n    <tr>\n      <th>2</th>\n      <td>0176a1dc54841716</td>\n      <td>BI Developer (w/m/d)</td>\n      <td>BI Developer (w/m/d) - Home Office - Indeed.co...</td>\n      <td>Wir, in der BI Domain Logistics Management, se...</td>\n      <td>NaN</td>\n      <td>Otto (GmbH &amp; Co KG)</td>\n    </tr>\n    <tr>\n      <th>3</th>\n      <td>028876104a6b2d26</td>\n      <td>(Junior) Softwareentwickler*in Python (w/m/d)</td>\n      <td>(Junior) Softwareentwickler*in Python (w/m/d) ...</td>\n      <td>Bochum  Unbefristet Vollzeit  IT 5848Wir freu...</td>\n      <td>Not found</td>\n      <td>TÜV Rheinland Group</td>\n    </tr>\n    <tr>\n      <th>4</th>\n      <td>034b31000a95988c</td>\n      <td>Software Test Engineer (m/w/d) Python oder C/C++</td>\n      <td>Software Test Engineer (m/w/d) Python oder C/C...</td>\n      <td>In diesem Video geben wir persönliche Einblic...</td>\n      <td>Not found</td>\n      <td>ROHDE &amp; SCHWARZ GmbH &amp; Co. KG</td>\n    </tr>\n    <tr>\n      <th>...</th>\n      <td>...</td>\n      <td>...</td>\n      <td>...</td>\n      <td>...</td>\n      <td>...</td>\n      <td>...</td>\n    </tr>\n    <tr>\n      <th>910</th>\n      <td>https://de.indeed.com/viewjob?jk=fdd8d81f544bf511</td>\n      <td>Masterarbeit / Praxissemester im Bereich Entwi...</td>\n      <td>Masterarbeit / Praxissemester im Bereich Entwi...</td>\n      <td>Wir verwenden Cookies, um Inhalte und Anzeigen...</td>\n      <td>Not found</td>\n      <td>ZEISS Group</td>\n    </tr>\n    <tr>\n      <th>911</th>\n      <td>https://de.indeed.com/viewjob?jk=fe322edbe2225eb6</td>\n      <td>Mathematiker/Physiker Testing und Entwicklung ...</td>\n      <td>Mathematiker/Physiker Testing und Entwicklung ...</td>\n      <td>Du suchst das Besondere, das Spezielle, das Wo...</td>\n      <td>Not found</td>\n      <td>Accenture</td>\n    </tr>\n    <tr>\n      <th>912</th>\n      <td>https://de.indeed.com/viewjob?jk=fef83104f3acd912</td>\n      <td>Junior Software Developer (d/f/m)</td>\n      <td>Junior Software Developer (d/f/m) - 85077 Manc...</td>\n      <td>Job Description: In order to take our Engineer...</td>\n      <td>Not found</td>\n      <td>Airbus</td>\n    </tr>\n    <tr>\n      <th>913</th>\n      <td>https://de.indeed.com/viewjob?jk=ff0d468c9afc7eb4</td>\n      <td>Lead Analyst Monitoring &amp;amp; Screening (d/m/w...</td>\n      <td>Lead Analyst Monitoring &amp; Screening (d/m/w) An...</td>\n      <td>***English version below*** Die Deutsche Bank ...</td>\n      <td>Not found</td>\n      <td>Deutsche Bank</td>\n    </tr>\n    <tr>\n      <th>914</th>\n      <td>https://de.indeed.com/viewjob?jk=ff6ccdbc95261d47</td>\n      <td>Data Scientist (d/f/m)</td>\n      <td>Data Scientist (d/f/m) - Berlin - Indeed.com',...</td>\n      <td>Why Scout24? Scout24 is home of ImmoScout24, G...</td>\n      <td>Not found</td>\n      <td>ImmoScout24</td>\n    </tr>\n  </tbody>\n</table>\n<p>915 rows × 6 columns</p>\n</div>"
     },
     "execution_count": 6,
     "metadata": {},
     "output_type": "execute_result"
    }
   ],
   "source": [
    "jobs_df"
   ],
   "metadata": {
    "collapsed": false,
    "pycharm": {
     "name": "#%%\n"
    }
   }
  },
  {
   "cell_type": "code",
   "execution_count": 10,
   "outputs": [],
   "source": [
    "jobs_df[['city', 'job_id']].groupby('city').agg({'job_id': 'count'}).sort_values(by='job_id', ascending=False).to_csv('cities.csv')"
   ],
   "metadata": {
    "collapsed": false,
    "pycharm": {
     "name": "#%%\n"
    }
   }
  },
  {
   "cell_type": "code",
   "execution_count": null,
   "outputs": [],
   "source": [],
   "metadata": {
    "collapsed": false,
    "pycharm": {
     "name": "#%%\n",
     "is_executing": true
    }
   }
  },
  {
   "cell_type": "code",
   "execution_count": 14,
   "outputs": [],
   "source": [
    "jobs_df[['Company', 'job_id']].groupby('Company').agg({'job_id': 'count'}).sort_values(by='job_id', ascending=False).to_excel('companies.xlsx')"
   ],
   "metadata": {
    "collapsed": false,
    "pycharm": {
     "name": "#%%\n"
    }
   }
  },
  {
   "cell_type": "code",
   "execution_count": 15,
   "outputs": [],
   "source": [
    "# todo токенизация, кластеризация"
   ],
   "metadata": {
    "collapsed": false,
    "pycharm": {
     "name": "#%%\n"
    }
   }
  },
  {
   "cell_type": "code",
   "execution_count": null,
   "outputs": [],
   "source": [],
   "metadata": {
    "collapsed": false,
    "pycharm": {
     "name": "#%%\n",
     "is_executing": true
    }
   }
  },
  {
   "cell_type": "markdown",
   "source": [
    "# Text Preparation"
   ],
   "metadata": {
    "collapsed": false,
    "pycharm": {
     "name": "#%% md\n"
    }
   }
  },
  {
   "cell_type": "code",
   "execution_count": 4,
   "outputs": [
    {
     "data": {
      "text/plain": "Index(['job_id', 'job_title', 'titles', 'descr_list', 'city', 'Company'], dtype='object')"
     },
     "execution_count": 4,
     "metadata": {},
     "output_type": "execute_result"
    }
   ],
   "source": [
    "jobs_df.columns"
   ],
   "metadata": {
    "collapsed": false,
    "pycharm": {
     "name": "#%%\n"
    }
   }
  },
  {
   "cell_type": "code",
   "execution_count": 12,
   "outputs": [
    {
     "data": {
      "text/plain": "'Embedded Linux Developer (m/f/d)'"
     },
     "execution_count": 12,
     "metadata": {},
     "output_type": "execute_result"
    }
   ],
   "source": [
    "jobs_df['job_title'][567]"
   ],
   "metadata": {
    "collapsed": false,
    "pycharm": {
     "name": "#%%\n"
    }
   }
  },
  {
   "cell_type": "code",
   "execution_count": 13,
   "outputs": [],
   "source": [
    "text_columns = ['job_title', 'titles', 'descr_list']"
   ],
   "metadata": {
    "collapsed": false,
    "pycharm": {
     "name": "#%%\n"
    }
   }
  },
  {
   "cell_type": "code",
   "execution_count": null,
   "outputs": [],
   "source": [],
   "metadata": {
    "collapsed": false,
    "pycharm": {
     "name": "#%%\n"
    }
   }
  },
  {
   "cell_type": "code",
   "execution_count": 18,
   "outputs": [
    {
     "name": "stderr",
     "output_type": "stream",
     "text": [
      "100%|██████████| 3/3 [00:00<00:00, 98.09it/s]\n"
     ]
    }
   ],
   "source": [
    "for col in tqdm(text_columns):\n",
    "    jobs_df[col] = jobs_df[col].str.lower()\n",
    "    jobs_df[col] = jobs_df[col].str.replace('[','').replace(']', '')\n",
    "    jobs_df[col]  = jobs_df[col].str.replace('[^a-zA-Z ]', '', regex=True)  # replace all non Latin symbols"
   ],
   "metadata": {
    "collapsed": false,
    "pycharm": {
     "name": "#%%\n"
    }
   }
  },
  {
   "cell_type": "code",
   "execution_count": 19,
   "outputs": [
    {
     "data": {
      "text/plain": "                                                job_id  \\\n0                                     0053e5f78b135d5a   \n1                                     00ef1c15bf5b5939   \n2                                     0176a1dc54841716   \n3                                     028876104a6b2d26   \n4                                     034b31000a95988c   \n..                                                 ...   \n910  https://de.indeed.com/viewjob?jk=fdd8d81f544bf511   \n911  https://de.indeed.com/viewjob?jk=fe322edbe2225eb6   \n912  https://de.indeed.com/viewjob?jk=fef83104f3acd912   \n913  https://de.indeed.com/viewjob?jk=ff0d468c9afc7eb4   \n914  https://de.indeed.com/viewjob?jk=ff6ccdbc95261d47   \n\n                                             job_title  \\\n0                                    web developer mwd   \n1                     junior data engineer  python wmd   \n2                                     bi developer wmd   \n3               junior softwareentwicklerin python wmd   \n4            software test engineer mwd python oder cc   \n..                                                 ...   \n910  masterarbeit  praxissemester im bereich entwic...   \n911  mathematikerphysiker testing und entwicklung a...   \n912                      junior software developer dfm   \n913  lead analyst monitoring amp screening dmw anti...   \n914                                 data scientist dfm   \n\n                                                titles  \\\n0    web developer mwd  home office  indeedcom symb...   \n1    junior data engineer  python wmd   berlin  ind...   \n2    bi developer wmd  home office  indeedcom symbo...   \n3    junior softwareentwicklerin python wmd   bochu...   \n4    software test engineer mwd python oder cc   st...   \n..                                                 ...   \n910  masterarbeit  praxissemester im bereich entwic...   \n911  mathematikerphysiker testing und entwicklung a...   \n912  junior software developer dfm   manching  inde...   \n913  lead analyst monitoring  screening dmw antifin...   \n914  data scientist dfm  berlin  indeedcom symbol z...   \n\n                                            descr_list                city  \\\n0    mit einem team von  mitarbeiterinnen und mitar...  84347 Pfarrkirchen   \n1    location hamburg berlin kln dsseldorf gtersloh...              255462   \n2    wir in der bi domain logistics management setz...                 NaN   \n3     bochum  unbefristet vollzeit  it wir freuen u...           Not found   \n4     in diesem video geben wir persnliche einblick...           Not found   \n..                                                 ...                 ...   \n910  wir verwenden cookies um inhalte und anzeigen ...           Not found   \n911  du suchst das besondere das spezielle das wowd...           Not found   \n912  job description in order to take our engineeri...           Not found   \n913  english version below die deutsche bank db kan...           Not found   \n914  why scout scout is home of immoscout germanys ...           Not found   \n\n                                               Company  \n0    coreweb – Gesellschaft für consumer relevant w...  \n1                                smartclip Europe GmbH  \n2                                  Otto (GmbH & Co KG)  \n3                                  TÜV Rheinland Group  \n4                        ROHDE & SCHWARZ GmbH & Co. KG  \n..                                                 ...  \n910                                        ZEISS Group  \n911                                          Accenture  \n912                                             Airbus  \n913                                      Deutsche Bank  \n914                                        ImmoScout24  \n\n[915 rows x 6 columns]",
      "text/html": "<div>\n<style scoped>\n    .dataframe tbody tr th:only-of-type {\n        vertical-align: middle;\n    }\n\n    .dataframe tbody tr th {\n        vertical-align: top;\n    }\n\n    .dataframe thead th {\n        text-align: right;\n    }\n</style>\n<table border=\"1\" class=\"dataframe\">\n  <thead>\n    <tr style=\"text-align: right;\">\n      <th></th>\n      <th>job_id</th>\n      <th>job_title</th>\n      <th>titles</th>\n      <th>descr_list</th>\n      <th>city</th>\n      <th>Company</th>\n    </tr>\n  </thead>\n  <tbody>\n    <tr>\n      <th>0</th>\n      <td>0053e5f78b135d5a</td>\n      <td>web developer mwd</td>\n      <td>web developer mwd  home office  indeedcom symb...</td>\n      <td>mit einem team von  mitarbeiterinnen und mitar...</td>\n      <td>84347 Pfarrkirchen</td>\n      <td>coreweb – Gesellschaft für consumer relevant w...</td>\n    </tr>\n    <tr>\n      <th>1</th>\n      <td>00ef1c15bf5b5939</td>\n      <td>junior data engineer  python wmd</td>\n      <td>junior data engineer  python wmd   berlin  ind...</td>\n      <td>location hamburg berlin kln dsseldorf gtersloh...</td>\n      <td>255462</td>\n      <td>smartclip Europe GmbH</td>\n    </tr>\n    <tr>\n      <th>2</th>\n      <td>0176a1dc54841716</td>\n      <td>bi developer wmd</td>\n      <td>bi developer wmd  home office  indeedcom symbo...</td>\n      <td>wir in der bi domain logistics management setz...</td>\n      <td>NaN</td>\n      <td>Otto (GmbH &amp; Co KG)</td>\n    </tr>\n    <tr>\n      <th>3</th>\n      <td>028876104a6b2d26</td>\n      <td>junior softwareentwicklerin python wmd</td>\n      <td>junior softwareentwicklerin python wmd   bochu...</td>\n      <td>bochum  unbefristet vollzeit  it wir freuen u...</td>\n      <td>Not found</td>\n      <td>TÜV Rheinland Group</td>\n    </tr>\n    <tr>\n      <th>4</th>\n      <td>034b31000a95988c</td>\n      <td>software test engineer mwd python oder cc</td>\n      <td>software test engineer mwd python oder cc   st...</td>\n      <td>in diesem video geben wir persnliche einblick...</td>\n      <td>Not found</td>\n      <td>ROHDE &amp; SCHWARZ GmbH &amp; Co. KG</td>\n    </tr>\n    <tr>\n      <th>...</th>\n      <td>...</td>\n      <td>...</td>\n      <td>...</td>\n      <td>...</td>\n      <td>...</td>\n      <td>...</td>\n    </tr>\n    <tr>\n      <th>910</th>\n      <td>https://de.indeed.com/viewjob?jk=fdd8d81f544bf511</td>\n      <td>masterarbeit  praxissemester im bereich entwic...</td>\n      <td>masterarbeit  praxissemester im bereich entwic...</td>\n      <td>wir verwenden cookies um inhalte und anzeigen ...</td>\n      <td>Not found</td>\n      <td>ZEISS Group</td>\n    </tr>\n    <tr>\n      <th>911</th>\n      <td>https://de.indeed.com/viewjob?jk=fe322edbe2225eb6</td>\n      <td>mathematikerphysiker testing und entwicklung a...</td>\n      <td>mathematikerphysiker testing und entwicklung a...</td>\n      <td>du suchst das besondere das spezielle das wowd...</td>\n      <td>Not found</td>\n      <td>Accenture</td>\n    </tr>\n    <tr>\n      <th>912</th>\n      <td>https://de.indeed.com/viewjob?jk=fef83104f3acd912</td>\n      <td>junior software developer dfm</td>\n      <td>junior software developer dfm   manching  inde...</td>\n      <td>job description in order to take our engineeri...</td>\n      <td>Not found</td>\n      <td>Airbus</td>\n    </tr>\n    <tr>\n      <th>913</th>\n      <td>https://de.indeed.com/viewjob?jk=ff0d468c9afc7eb4</td>\n      <td>lead analyst monitoring amp screening dmw anti...</td>\n      <td>lead analyst monitoring  screening dmw antifin...</td>\n      <td>english version below die deutsche bank db kan...</td>\n      <td>Not found</td>\n      <td>Deutsche Bank</td>\n    </tr>\n    <tr>\n      <th>914</th>\n      <td>https://de.indeed.com/viewjob?jk=ff6ccdbc95261d47</td>\n      <td>data scientist dfm</td>\n      <td>data scientist dfm  berlin  indeedcom symbol z...</td>\n      <td>why scout scout is home of immoscout germanys ...</td>\n      <td>Not found</td>\n      <td>ImmoScout24</td>\n    </tr>\n  </tbody>\n</table>\n<p>915 rows × 6 columns</p>\n</div>"
     },
     "execution_count": 19,
     "metadata": {},
     "output_type": "execute_result"
    }
   ],
   "source": [
    "jobs_df"
   ],
   "metadata": {
    "collapsed": false,
    "pycharm": {
     "name": "#%%\n"
    }
   }
  },
  {
   "cell_type": "code",
   "execution_count": null,
   "outputs": [],
   "source": [],
   "metadata": {
    "collapsed": false,
    "pycharm": {
     "name": "#%%\n",
     "is_executing": true
    }
   }
  },
  {
   "cell_type": "markdown",
   "source": [
    "# Make a split:\n",
    "## For job_title will use bag of words\n",
    "## For titles TF-IDF\n",
    "## For descr_list - words embeddings"
   ],
   "metadata": {
    "collapsed": false,
    "pycharm": {
     "name": "#%% md\n"
    }
   }
  },
  {
   "cell_type": "code",
   "execution_count": null,
   "outputs": [],
   "source": [],
   "metadata": {
    "collapsed": false,
    "pycharm": {
     "name": "#%%\n",
     "is_executing": true
    }
   }
  },
  {
   "cell_type": "code",
   "execution_count": null,
   "outputs": [],
   "source": [],
   "metadata": {
    "collapsed": false,
    "pycharm": {
     "name": "#%%\n",
     "is_executing": true
    }
   }
  },
  {
   "cell_type": "markdown",
   "source": [
    "# Bag of Words for job_title"
   ],
   "metadata": {
    "collapsed": false,
    "pycharm": {
     "name": "#%% md\n"
    }
   }
  },
  {
   "cell_type": "code",
   "execution_count": 23,
   "outputs": [],
   "source": [
    "from sklearn.feature_extraction.text import CountVectorizer"
   ],
   "metadata": {
    "collapsed": false,
    "pycharm": {
     "name": "#%%\n"
    }
   }
  },
  {
   "cell_type": "code",
   "execution_count": 26,
   "outputs": [],
   "source": [
    "import numpy as np\n",
    "from nltk.corpus import stopwords"
   ],
   "metadata": {
    "collapsed": false,
    "pycharm": {
     "name": "#%%\n"
    }
   }
  },
  {
   "cell_type": "code",
   "execution_count": 30,
   "outputs": [],
   "source": [
    "from string import punctuation"
   ],
   "metadata": {
    "collapsed": false,
    "pycharm": {
     "name": "#%%\n"
    }
   }
  },
  {
   "cell_type": "code",
   "execution_count": 29,
   "outputs": [],
   "source": [
    "from nltk.stem.snowball import SnowballStemmer\n",
    "stemmer = SnowballStemmer('german', ignore_stopwords=True)"
   ],
   "metadata": {
    "collapsed": false,
    "pycharm": {
     "name": "#%%\n"
    }
   }
  },
  {
   "cell_type": "code",
   "execution_count": 27,
   "outputs": [],
   "source": [
    "german_stop_words = stopwords.words('german')\n",
    "vect = CountVectorizer(stop_words = german_stop_words)"
   ],
   "metadata": {
    "collapsed": false,
    "pycharm": {
     "name": "#%%\n"
    }
   }
  },
  {
   "cell_type": "code",
   "execution_count": 31,
   "outputs": [],
   "source": [
    "def token_processing(text):\n",
    "    tokens = stemmer.lemmatize(text.lower())\n",
    "    tokens = [token for token in tokens if token not in german_stop_words\\\n",
    "              and token != \" \" \\\n",
    "              and token.strip() not in punctuation]\n",
    "\n",
    "    text = \" \".join(tokens)\n",
    "    return text"
   ],
   "metadata": {
    "collapsed": false,
    "pycharm": {
     "name": "#%%\n"
    }
   }
  },
  {
   "cell_type": "code",
   "execution_count": 32,
   "outputs": [],
   "source": [
    "job_title_df = jobs_df['job_title'].to_frame()"
   ],
   "metadata": {
    "collapsed": false,
    "pycharm": {
     "name": "#%%\n"
    }
   }
  },
  {
   "cell_type": "code",
   "execution_count": 34,
   "outputs": [
    {
     "ename": "AttributeError",
     "evalue": "'SnowballStemmer' object has no attribute 'lemmatize'",
     "output_type": "error",
     "traceback": [
      "\u001B[0;31m---------------------------------------------------------------------------\u001B[0m",
      "\u001B[0;31mAttributeError\u001B[0m                            Traceback (most recent call last)",
      "Cell \u001B[0;32mIn[34], line 1\u001B[0m\n\u001B[0;32m----> 1\u001B[0m job_title_df[\u001B[38;5;124m'\u001B[39m\u001B[38;5;124mcleaned_text\u001B[39m\u001B[38;5;124m'\u001B[39m] \u001B[38;5;241m=\u001B[39m \u001B[43mjob_title_df\u001B[49m\u001B[43m[\u001B[49m\u001B[38;5;124;43m'\u001B[39;49m\u001B[38;5;124;43mjob_title\u001B[39;49m\u001B[38;5;124;43m'\u001B[39;49m\u001B[43m]\u001B[49m\u001B[38;5;241;43m.\u001B[39;49m\u001B[43mapply\u001B[49m\u001B[43m(\u001B[49m\u001B[43mtoken_processing\u001B[49m\u001B[43m)\u001B[49m  \u001B[38;5;66;03m# 15:00\u001B[39;00m\n",
      "File \u001B[0;32m~/PycharmProjects/arbeite_parser/venv/lib/python3.11/site-packages/pandas/core/series.py:4630\u001B[0m, in \u001B[0;36mSeries.apply\u001B[0;34m(self, func, convert_dtype, args, **kwargs)\u001B[0m\n\u001B[1;32m   4520\u001B[0m \u001B[38;5;28;01mdef\u001B[39;00m \u001B[38;5;21mapply\u001B[39m(\n\u001B[1;32m   4521\u001B[0m     \u001B[38;5;28mself\u001B[39m,\n\u001B[1;32m   4522\u001B[0m     func: AggFuncType,\n\u001B[0;32m   (...)\u001B[0m\n\u001B[1;32m   4525\u001B[0m     \u001B[38;5;241m*\u001B[39m\u001B[38;5;241m*\u001B[39mkwargs,\n\u001B[1;32m   4526\u001B[0m ) \u001B[38;5;241m-\u001B[39m\u001B[38;5;241m>\u001B[39m DataFrame \u001B[38;5;241m|\u001B[39m Series:\n\u001B[1;32m   4527\u001B[0m \u001B[38;5;250m    \u001B[39m\u001B[38;5;124;03m\"\"\"\u001B[39;00m\n\u001B[1;32m   4528\u001B[0m \u001B[38;5;124;03m    Invoke function on values of Series.\u001B[39;00m\n\u001B[1;32m   4529\u001B[0m \n\u001B[0;32m   (...)\u001B[0m\n\u001B[1;32m   4628\u001B[0m \u001B[38;5;124;03m    dtype: float64\u001B[39;00m\n\u001B[1;32m   4629\u001B[0m \u001B[38;5;124;03m    \"\"\"\u001B[39;00m\n\u001B[0;32m-> 4630\u001B[0m     \u001B[38;5;28;01mreturn\u001B[39;00m \u001B[43mSeriesApply\u001B[49m\u001B[43m(\u001B[49m\u001B[38;5;28;43mself\u001B[39;49m\u001B[43m,\u001B[49m\u001B[43m \u001B[49m\u001B[43mfunc\u001B[49m\u001B[43m,\u001B[49m\u001B[43m \u001B[49m\u001B[43mconvert_dtype\u001B[49m\u001B[43m,\u001B[49m\u001B[43m \u001B[49m\u001B[43margs\u001B[49m\u001B[43m,\u001B[49m\u001B[43m \u001B[49m\u001B[43mkwargs\u001B[49m\u001B[43m)\u001B[49m\u001B[38;5;241;43m.\u001B[39;49m\u001B[43mapply\u001B[49m\u001B[43m(\u001B[49m\u001B[43m)\u001B[49m\n",
      "File \u001B[0;32m~/PycharmProjects/arbeite_parser/venv/lib/python3.11/site-packages/pandas/core/apply.py:1025\u001B[0m, in \u001B[0;36mSeriesApply.apply\u001B[0;34m(self)\u001B[0m\n\u001B[1;32m   1022\u001B[0m     \u001B[38;5;28;01mreturn\u001B[39;00m \u001B[38;5;28mself\u001B[39m\u001B[38;5;241m.\u001B[39mapply_str()\n\u001B[1;32m   1024\u001B[0m \u001B[38;5;66;03m# self.f is Callable\u001B[39;00m\n\u001B[0;32m-> 1025\u001B[0m \u001B[38;5;28;01mreturn\u001B[39;00m \u001B[38;5;28;43mself\u001B[39;49m\u001B[38;5;241;43m.\u001B[39;49m\u001B[43mapply_standard\u001B[49m\u001B[43m(\u001B[49m\u001B[43m)\u001B[49m\n",
      "File \u001B[0;32m~/PycharmProjects/arbeite_parser/venv/lib/python3.11/site-packages/pandas/core/apply.py:1076\u001B[0m, in \u001B[0;36mSeriesApply.apply_standard\u001B[0;34m(self)\u001B[0m\n\u001B[1;32m   1074\u001B[0m     \u001B[38;5;28;01melse\u001B[39;00m:\n\u001B[1;32m   1075\u001B[0m         values \u001B[38;5;241m=\u001B[39m obj\u001B[38;5;241m.\u001B[39mastype(\u001B[38;5;28mobject\u001B[39m)\u001B[38;5;241m.\u001B[39m_values\n\u001B[0;32m-> 1076\u001B[0m         mapped \u001B[38;5;241m=\u001B[39m \u001B[43mlib\u001B[49m\u001B[38;5;241;43m.\u001B[39;49m\u001B[43mmap_infer\u001B[49m\u001B[43m(\u001B[49m\n\u001B[1;32m   1077\u001B[0m \u001B[43m            \u001B[49m\u001B[43mvalues\u001B[49m\u001B[43m,\u001B[49m\n\u001B[1;32m   1078\u001B[0m \u001B[43m            \u001B[49m\u001B[43mf\u001B[49m\u001B[43m,\u001B[49m\n\u001B[1;32m   1079\u001B[0m \u001B[43m            \u001B[49m\u001B[43mconvert\u001B[49m\u001B[38;5;241;43m=\u001B[39;49m\u001B[38;5;28;43mself\u001B[39;49m\u001B[38;5;241;43m.\u001B[39;49m\u001B[43mconvert_dtype\u001B[49m\u001B[43m,\u001B[49m\n\u001B[1;32m   1080\u001B[0m \u001B[43m        \u001B[49m\u001B[43m)\u001B[49m\n\u001B[1;32m   1082\u001B[0m \u001B[38;5;28;01mif\u001B[39;00m \u001B[38;5;28mlen\u001B[39m(mapped) \u001B[38;5;129;01mand\u001B[39;00m \u001B[38;5;28misinstance\u001B[39m(mapped[\u001B[38;5;241m0\u001B[39m], ABCSeries):\n\u001B[1;32m   1083\u001B[0m     \u001B[38;5;66;03m# GH#43986 Need to do list(mapped) in order to get treated as nested\u001B[39;00m\n\u001B[1;32m   1084\u001B[0m     \u001B[38;5;66;03m#  See also GH#25959 regarding EA support\u001B[39;00m\n\u001B[1;32m   1085\u001B[0m     \u001B[38;5;28;01mreturn\u001B[39;00m obj\u001B[38;5;241m.\u001B[39m_constructor_expanddim(\u001B[38;5;28mlist\u001B[39m(mapped), index\u001B[38;5;241m=\u001B[39mobj\u001B[38;5;241m.\u001B[39mindex)\n",
      "File \u001B[0;32m~/PycharmProjects/arbeite_parser/venv/lib/python3.11/site-packages/pandas/_libs/lib.pyx:2834\u001B[0m, in \u001B[0;36mpandas._libs.lib.map_infer\u001B[0;34m()\u001B[0m\n",
      "Cell \u001B[0;32mIn[31], line 2\u001B[0m, in \u001B[0;36mtoken_processing\u001B[0;34m(text)\u001B[0m\n\u001B[1;32m      1\u001B[0m \u001B[38;5;28;01mdef\u001B[39;00m \u001B[38;5;21mtoken_processing\u001B[39m(text):\n\u001B[0;32m----> 2\u001B[0m     tokens \u001B[38;5;241m=\u001B[39m \u001B[43mstemmer\u001B[49m\u001B[38;5;241;43m.\u001B[39;49m\u001B[43mlemmatize\u001B[49m(text\u001B[38;5;241m.\u001B[39mlower())\n\u001B[1;32m      3\u001B[0m     tokens \u001B[38;5;241m=\u001B[39m [token \u001B[38;5;28;01mfor\u001B[39;00m token \u001B[38;5;129;01min\u001B[39;00m tokens \u001B[38;5;28;01mif\u001B[39;00m token \u001B[38;5;129;01mnot\u001B[39;00m \u001B[38;5;129;01min\u001B[39;00m german_stop_words\\\n\u001B[1;32m      4\u001B[0m               \u001B[38;5;129;01mand\u001B[39;00m token \u001B[38;5;241m!=\u001B[39m \u001B[38;5;124m\"\u001B[39m\u001B[38;5;124m \u001B[39m\u001B[38;5;124m\"\u001B[39m \\\n\u001B[1;32m      5\u001B[0m               \u001B[38;5;129;01mand\u001B[39;00m token\u001B[38;5;241m.\u001B[39mstrip() \u001B[38;5;129;01mnot\u001B[39;00m \u001B[38;5;129;01min\u001B[39;00m punctuation]\n\u001B[1;32m      7\u001B[0m     text \u001B[38;5;241m=\u001B[39m \u001B[38;5;124m\"\u001B[39m\u001B[38;5;124m \u001B[39m\u001B[38;5;124m\"\u001B[39m\u001B[38;5;241m.\u001B[39mjoin(tokens)\n",
      "\u001B[0;31mAttributeError\u001B[0m: 'SnowballStemmer' object has no attribute 'lemmatize'"
     ]
    }
   ],
   "source": [
    "job_title_df['cleaned_text'] = job_title_df['job_title'].apply(token_processing)  # 15:00"
   ],
   "metadata": {
    "collapsed": false,
    "pycharm": {
     "name": "#%%\n"
    }
   }
  },
  {
   "cell_type": "code",
   "execution_count": 33,
   "outputs": [
    {
     "data": {
      "text/plain": "                                             job_title\n0                                    web developer mwd\n1                     junior data engineer  python wmd\n2                                     bi developer wmd\n3               junior softwareentwicklerin python wmd\n4            software test engineer mwd python oder cc\n..                                                 ...\n910  masterarbeit  praxissemester im bereich entwic...\n911  mathematikerphysiker testing und entwicklung a...\n912                      junior software developer dfm\n913  lead analyst monitoring amp screening dmw anti...\n914                                 data scientist dfm\n\n[915 rows x 1 columns]",
      "text/html": "<div>\n<style scoped>\n    .dataframe tbody tr th:only-of-type {\n        vertical-align: middle;\n    }\n\n    .dataframe tbody tr th {\n        vertical-align: top;\n    }\n\n    .dataframe thead th {\n        text-align: right;\n    }\n</style>\n<table border=\"1\" class=\"dataframe\">\n  <thead>\n    <tr style=\"text-align: right;\">\n      <th></th>\n      <th>job_title</th>\n    </tr>\n  </thead>\n  <tbody>\n    <tr>\n      <th>0</th>\n      <td>web developer mwd</td>\n    </tr>\n    <tr>\n      <th>1</th>\n      <td>junior data engineer  python wmd</td>\n    </tr>\n    <tr>\n      <th>2</th>\n      <td>bi developer wmd</td>\n    </tr>\n    <tr>\n      <th>3</th>\n      <td>junior softwareentwicklerin python wmd</td>\n    </tr>\n    <tr>\n      <th>4</th>\n      <td>software test engineer mwd python oder cc</td>\n    </tr>\n    <tr>\n      <th>...</th>\n      <td>...</td>\n    </tr>\n    <tr>\n      <th>910</th>\n      <td>masterarbeit  praxissemester im bereich entwic...</td>\n    </tr>\n    <tr>\n      <th>911</th>\n      <td>mathematikerphysiker testing und entwicklung a...</td>\n    </tr>\n    <tr>\n      <th>912</th>\n      <td>junior software developer dfm</td>\n    </tr>\n    <tr>\n      <th>913</th>\n      <td>lead analyst monitoring amp screening dmw anti...</td>\n    </tr>\n    <tr>\n      <th>914</th>\n      <td>data scientist dfm</td>\n    </tr>\n  </tbody>\n</table>\n<p>915 rows × 1 columns</p>\n</div>"
     },
     "execution_count": 33,
     "metadata": {},
     "output_type": "execute_result"
    }
   ],
   "source": [
    "stemmer.stem()  # todo: mwd, mfd need all to clean"
   ],
   "metadata": {
    "collapsed": false,
    "pycharm": {
     "name": "#%%\n"
    }
   }
  },
  {
   "cell_type": "code",
   "execution_count": 37,
   "outputs": [
    {
     "data": {
      "text/plain": "'entwickler pythonjava  hauptschlich remote mwd home offic'"
     },
     "execution_count": 37,
     "metadata": {},
     "output_type": "execute_result"
    }
   ],
   "source": [
    "stemmer.stem('entwickler pythonjava  hauptschlich remote mwd home office')"
   ],
   "metadata": {
    "collapsed": false,
    "pycharm": {
     "name": "#%%\n"
    }
   }
  },
  {
   "cell_type": "code",
   "execution_count": null,
   "outputs": [],
   "source": [],
   "metadata": {
    "collapsed": false,
    "pycharm": {
     "name": "#%%\n"
    }
   }
  },
  {
   "cell_type": "code",
   "execution_count": null,
   "outputs": [],
   "source": [],
   "metadata": {
    "collapsed": false,
    "pycharm": {
     "name": "#%%\n"
    }
   }
  },
  {
   "cell_type": "code",
   "execution_count": 27,
   "outputs": [],
   "source": [],
   "metadata": {
    "collapsed": false,
    "pycharm": {
     "name": "#%%\n"
    }
   }
  }
 ],
 "metadata": {
  "kernelspec": {
   "name": "arbeite_parser",
   "language": "python",
   "display_name": "arbeite_parser"
  },
  "language_info": {
   "codemirror_mode": {
    "name": "ipython",
    "version": 2
   },
   "file_extension": ".py",
   "mimetype": "text/x-python",
   "name": "python",
   "nbconvert_exporter": "python",
   "pygments_lexer": "ipython2",
   "version": "2.7.6"
  }
 },
 "nbformat": 4,
 "nbformat_minor": 0
}