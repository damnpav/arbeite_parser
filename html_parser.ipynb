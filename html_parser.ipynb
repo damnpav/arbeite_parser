{
 "cells": [
  {
   "cell_type": "code",
   "execution_count": 8,
   "metadata": {
    "collapsed": true,
    "pycharm": {
     "name": "#%%\n"
    }
   },
   "outputs": [],
   "source": [
    "import pandas as pd"
   ]
  },
  {
   "cell_type": "code",
   "execution_count": 14,
   "outputs": [],
   "source": [
    "import re"
   ],
   "metadata": {
    "collapsed": false,
    "pycharm": {
     "name": "#%%\n"
    }
   }
  },
  {
   "cell_type": "code",
   "execution_count": 9,
   "outputs": [],
   "source": [
    "from bs4 import BeautifulSoup as bs"
   ],
   "metadata": {
    "collapsed": false,
    "pycharm": {
     "name": "#%%\n"
    }
   }
  },
  {
   "cell_type": "code",
   "execution_count": 10,
   "outputs": [],
   "source": [
    "my_html = open('exmpl.html', 'r').read()"
   ],
   "metadata": {
    "collapsed": false,
    "pycharm": {
     "name": "#%%\n"
    }
   }
  },
  {
   "cell_type": "code",
   "execution_count": 11,
   "outputs": [],
   "source": [
    "soup = bs(my_html, 'html.parser')"
   ],
   "metadata": {
    "collapsed": false,
    "pycharm": {
     "name": "#%%\n"
    }
   }
  },
  {
   "cell_type": "code",
   "execution_count": 11,
   "outputs": [],
   "source": [
    "job_titles = soup.find(class_='jobTitle').get_text()"
   ],
   "metadata": {
    "collapsed": false,
    "pycharm": {
     "name": "#%%\n"
    }
   }
  },
  {
   "cell_type": "code",
   "execution_count": 12,
   "outputs": [],
   "source": [
    "span_tags = soup.find_all('span', attrs={'title': True})"
   ],
   "metadata": {
    "collapsed": false,
    "pycharm": {
     "name": "#%%\n"
    }
   }
  },
  {
   "cell_type": "code",
   "execution_count": 17,
   "outputs": [
    {
     "data": {
      "text/plain": "15"
     },
     "execution_count": 17,
     "metadata": {},
     "output_type": "execute_result"
    }
   ],
   "source": [
    "len(span_tags)"
   ],
   "metadata": {
    "collapsed": false,
    "pycharm": {
     "name": "#%%\n"
    }
   }
  },
  {
   "cell_type": "code",
   "execution_count": 19,
   "outputs": [
    {
     "data": {
      "text/plain": "[<span id=\"jobTitle-edaf02cf812fe6cc\" title=\"Python Developer (f/m/x)\">Python Developer (f/m/x)</span>,\n <span id=\"jobTitle-415cab0c9afd537a\" title=\"AI Engineer | Python, Artificial Intelligence, Machine Learning | Germany\">AI Engineer | Python, Artificial Intelligence, Machine Learning | Germany</span>,\n <span id=\"jobTitle-2e19bae197c2be8c\" title=\"Junior Data Scientist (f/m/x)\">Junior Data Scientist (f/m/x)</span>,\n <span id=\"jobTitle-29750f51f3cb98e0\" title=\"Python Developer\">Python Developer</span>,\n <span id=\"jobTitle-d8ca60daac65850a\" title=\"Backend Developer Python (m/f/d)\">Backend Developer Python (m/f/d)</span>,\n <span id=\"jobTitle-e23e7240564a1393\" title=\"Python Test Framework Developer (m/f/d) for AUTOSAR\">Python Test Framework Developer (m/f/d) for AUTOSAR</span>,\n <span id=\"jobTitle-d3da21c6ff866355\" title=\"Senior Software Engineer (Python) (m/w/d)\">Senior Software Engineer (Python) (m/w/d)</span>,\n <span id=\"jobTitle-aca287aee3fc5e2f\" title=\"Python Developers\">Python Developers</span>,\n <span id=\"jobTitle-26fc0d6087130486\" title=\"Software Developer (m/w/d) Python\">Software Developer (m/w/d) Python</span>,\n <span id=\"jobTitle-432cc44aebade2be\" title=\"Python Software Engineer (M/F/D)\">Python Software Engineer (M/F/D)</span>,\n <span id=\"jobTitle-381b5368d0dd2b53\" title=\"Senior Software Developer Python (m/w/d)\">Senior Software Developer Python (m/w/d)</span>,\n <span id=\"jobTitle-1cd9b4552e56b70a\" title=\"Odoo Python Developer\">Odoo Python Developer</span>,\n <span id=\"jobTitle-f4c10163058edb55\" title=\"Software developers\">Software developers</span>,\n <span id=\"jobTitle-a2842ea7a0e69937\" title=\"Odoo Developer / Python Spezialist (m/w/d)\">Odoo Developer / Python Spezialist (m/w/d)</span>,\n <span id=\"jobTitle-7ec9ee15be99e0af\" title=\"Backend Engineer (f/m/x)\">Backend Engineer (f/m/x)</span>]"
     },
     "execution_count": 19,
     "metadata": {},
     "output_type": "execute_result"
    }
   ],
   "source": [
    "span_tags"
   ],
   "metadata": {
    "collapsed": false,
    "pycharm": {
     "name": "#%%\n"
    }
   }
  },
  {
   "cell_type": "code",
   "execution_count": 16,
   "outputs": [
    {
     "data": {
      "text/plain": "<span id=\"jobTitle-2e19bae197c2be8c\" title=\"Junior Data Scientist (f/m/x)\">Junior Data Scientist (f/m/x)</span>"
     },
     "execution_count": 16,
     "metadata": {},
     "output_type": "execute_result"
    }
   ],
   "source": [
    "span_tags[2]"
   ],
   "metadata": {
    "collapsed": false,
    "pycharm": {
     "name": "#%%\n"
    }
   }
  },
  {
   "cell_type": "code",
   "execution_count": 25,
   "outputs": [
    {
     "data": {
      "text/plain": "'2e19bae197c2be8c'"
     },
     "execution_count": 25,
     "metadata": {},
     "output_type": "execute_result"
    }
   ],
   "source": [
    "re.findall('jobTitle.*\" ', str(span_tags[2]))[0].replace('\"', \"\").replace('jobTitle-', '').replace(' ', '')"
   ],
   "metadata": {
    "collapsed": false,
    "pycharm": {
     "name": "#%%\n"
    }
   }
  },
  {
   "cell_type": "code",
   "execution_count": 27,
   "outputs": [
    {
     "data": {
      "text/plain": "'Junior Data Scientist (f/m/x)'"
     },
     "execution_count": 27,
     "metadata": {},
     "output_type": "execute_result"
    }
   ],
   "source": [
    "re.findall('title=\".*\">', str(span_tags[2]))[0].replace('title=', '').replace('\"', '').replace('>', '')"
   ],
   "metadata": {
    "collapsed": false,
    "pycharm": {
     "name": "#%%\n"
    }
   }
  },
  {
   "cell_type": "code",
   "execution_count": null,
   "outputs": [],
   "source": [],
   "metadata": {
    "collapsed": false,
    "pycharm": {
     "name": "#%%\n"
    }
   }
  },
  {
   "cell_type": "code",
   "execution_count": null,
   "outputs": [],
   "source": [],
   "metadata": {
    "collapsed": false,
    "pycharm": {
     "name": "#%%\n"
    }
   }
  },
  {
   "cell_type": "code",
   "execution_count": null,
   "outputs": [],
   "source": [
    "# https://de.indeed.com/viewjob?jk=415cab0c9afd537a  - in this form you need to"
   ],
   "metadata": {
    "collapsed": false,
    "pycharm": {
     "name": "#%%\n",
     "is_executing": true
    }
   }
  },
  {
   "cell_type": "code",
   "execution_count": 21,
   "outputs": [
    {
     "data": {
      "text/plain": "15"
     },
     "execution_count": 21,
     "metadata": {},
     "output_type": "execute_result"
    }
   ],
   "source": [
    "my_html = open('page.html', 'r').read()\n",
    "soup = bs(my_html, 'html.parser')\n",
    "job_titles = soup.find(class_='jobTitle').get_text()\n",
    "span_tags = soup.find_all('span', attrs={'title': True})\n",
    "len(span_tags)"
   ],
   "metadata": {
    "collapsed": false,
    "pycharm": {
     "name": "#%%\n"
    }
   }
  },
  {
   "cell_type": "code",
   "execution_count": null,
   "outputs": [],
   "source": [],
   "metadata": {
    "collapsed": false,
    "pycharm": {
     "name": "#%%\n",
     "is_executing": true
    }
   }
  },
  {
   "cell_type": "code",
   "execution_count": null,
   "outputs": [],
   "source": [],
   "metadata": {
    "collapsed": false,
    "pycharm": {
     "name": "#%%\n",
     "is_executing": true
    }
   }
  },
  {
   "cell_type": "code",
   "execution_count": 2,
   "outputs": [],
   "source": [
    "# create db"
   ],
   "metadata": {
    "collapsed": false,
    "pycharm": {
     "name": "#%%\n"
    }
   }
  },
  {
   "cell_type": "code",
   "execution_count": 3,
   "outputs": [],
   "source": [
    "import sqlite3\n",
    "from sqlite3 import Error"
   ],
   "metadata": {
    "collapsed": false,
    "pycharm": {
     "name": "#%%\n"
    }
   }
  },
  {
   "cell_type": "code",
   "execution_count": 5,
   "outputs": [],
   "source": [
    "def create_connection():\n",
    "    conn = None\n",
    "    try:\n",
    "        # This line actually creates the database file.\n",
    "        # The connect() function will create the .db file if it does not exist\n",
    "        conn = sqlite3.connect('mydatabase.db')\n",
    "        print(f'successful connection with sqlite version {sqlite3.version}')\n",
    "    except Error as e:\n",
    "        print(f'The error {e} occurred')\n",
    "    return conn\n",
    "\n",
    "def create_table(conn):\n",
    "    try:\n",
    "        # Create table\n",
    "        query = '''CREATE TABLE Jobs (\n",
    "                    ID VARCHAR(255) PRIMARY KEY,\n",
    "                    JobTitle VARCHAR(255),\n",
    "                    date TIMESTAMP);'''\n",
    "        conn.execute(query)\n",
    "        print('The table was created successfully')\n",
    "    except Error as e:\n",
    "        print(f'The error {e} occurred')"
   ],
   "metadata": {
    "collapsed": false,
    "pycharm": {
     "name": "#%%\n"
    }
   }
  },
  {
   "cell_type": "code",
   "execution_count": 6,
   "outputs": [],
   "source": [
    "def main():\n",
    "    # Create a database connection\n",
    "    conn = create_connection()\n",
    "\n",
    "    # Create table\n",
    "    if conn is not None:\n",
    "        create_table(conn)\n",
    "    else:\n",
    "        print('Error: cannot create the database connection.')"
   ],
   "metadata": {
    "collapsed": false,
    "pycharm": {
     "name": "#%%\n"
    }
   }
  },
  {
   "cell_type": "code",
   "execution_count": 7,
   "outputs": [
    {
     "name": "stdout",
     "output_type": "stream",
     "text": [
      "successful connection with sqlite version 2.6.0\n",
      "The table was created successfully\n"
     ]
    }
   ],
   "source": [
    "main()"
   ],
   "metadata": {
    "collapsed": false,
    "pycharm": {
     "name": "#%%\n"
    }
   }
  },
  {
   "cell_type": "code",
   "execution_count": null,
   "outputs": [],
   "source": [],
   "metadata": {
    "collapsed": false,
    "pycharm": {
     "name": "#%%\n",
     "is_executing": true
    }
   }
  },
  {
   "cell_type": "code",
   "execution_count": 4,
   "outputs": [],
   "source": [],
   "metadata": {
    "collapsed": false,
    "pycharm": {
     "name": "#%%\n"
    }
   }
  }
 ],
 "metadata": {
  "kernelspec": {
   "name": "arbeite_parser",
   "language": "python",
   "display_name": "arbeite_parser"
  },
  "language_info": {
   "codemirror_mode": {
    "name": "ipython",
    "version": 2
   },
   "file_extension": ".py",
   "mimetype": "text/x-python",
   "name": "python",
   "nbconvert_exporter": "python",
   "pygments_lexer": "ipython2",
   "version": "2.7.6"
  }
 },
 "nbformat": 4,
 "nbformat_minor": 0
}